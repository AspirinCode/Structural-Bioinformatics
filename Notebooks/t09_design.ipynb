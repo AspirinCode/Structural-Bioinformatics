{
  "nbformat": 4,
  "nbformat_minor": 0,
  "metadata": {
    "colab": {
      "provenance": [],
      "authorship_tag": "ABX9TyMtm+RgWx24GuZgHTZiTarT",
      "include_colab_link": true
    },
    "kernelspec": {
      "name": "python3",
      "display_name": "Python 3"
    },
    "language_info": {
      "name": "python"
    }
  },
  "cells": [
    {
      "cell_type": "markdown",
      "metadata": {
        "id": "view-in-github",
        "colab_type": "text"
      },
      "source": [
        "<a href=\"https://colab.research.google.com/github/carlocamilloni/Structural-Bioinformatics/blob/main/Notebooks/t09_design.ipynb\" target=\"_parent\"><img src=\"https://colab.research.google.com/assets/colab-badge.svg\" alt=\"Open In Colab\"/></a>"
      ]
    },
    {
      "cell_type": "markdown",
      "source": [
        "# PROTEIN DESIGN"
      ],
      "metadata": {
        "id": "mVRXfEzV_m6p"
      }
    },
    {
      "cell_type": "markdown",
      "source": [
        "In this task you will try some of the protein design tools available on the web. When talking about protein design you should think to at least three possible different problems:\n",
        "\n",
        "1) From a structure getting a sequence that will fold into that structure. This is the so called \"Invert Folding\" problem.\n",
        "\n",
        "2) Given a function, that could mean given a binding partner or a predetermined active site, build a protein scaffold that can host that function. This is the so called \"Scaffolding\" problem.\n",
        "\n",
        "3) Given a function getting a sequence. This is the combination of the two problems above.\n",
        "\n",
        "There are other options, for example one may like to generate new protein folds to explore what a protein polymer can do, for example to check wheter nature is exploiting all the availble option that are available from the chemistry of protein polymers."
      ],
      "metadata": {
        "id": "kh-kBDhKB3tk"
      }
    },
    {
      "cell_type": "markdown",
      "source": [
        "## Exercise 1: Design a new protein at random"
      ],
      "metadata": {
        "id": "WrGX8PmCCLKN"
      }
    },
    {
      "cell_type": "markdown",
      "source": [
        "Here you will use a diffusion based model based on RosettaFold to generate one fold at random given a sequence length:\n",
        "\n",
        "https://colab.research.google.com/github/sokrypton/ColabDesign/blob/main/rf/examples/diffusion.ipynb#scrollTo=pZQnHLuDCsZm\n",
        "\n",
        "Next it uses ProteinMPNN to get an optimal sequence. In the end it puts the sequence in AlphaFold to check if the sequence/structure matches at least in theory. Be carefull that if the design and the prediction do not match the design is failed.\n",
        "\n",
        "For this first exercise you can first use the default options and run the notebook until the end. Then you can modify what you want. Once you are satisfied with your protien use it for the report (keep note of the options you used).\n",
        "\n"
      ],
      "metadata": {
        "id": "O9ToXITiCYGQ"
      }
    },
    {
      "cell_type": "markdown",
      "source": [
        "## Exercise 2: Design a protein that can scaffold an active site"
      ],
      "metadata": {
        "id": "_oueIGzTEmUe"
      }
    },
    {
      "cell_type": "markdown",
      "source": [
        "Here we want to try to design the active site of the HIV-1 protease, that is encoded in a homodimeric protein (pdb: 1hiv), into a single protein chain.\n",
        "\n",
        "In the notebook above we need to provide some indications, for example in the \"contigues\" and \"pdb\" fields:\n",
        "```\n",
        "contigs: 35/A25-27/15/B25-27/35\n",
        "pdb: 1hiv\n",
        "```\n",
        "The above line means start your protein with 35 AA, then add the region 25-27 from chain A of the 1HIV model, then 15 more AA, then the region 25-27 from chain B of the 1HIV model. Finally add 35 more AA. The selected region from 1HIV is the one of the catalytic aspartic acids.\n",
        "\n",
        "Select also the \"beta-model\" and increase the number of designs to 4.\n",
        "\n",
        "If you do not get anything good, try to either generate more designs or to modify the length of the different segments. Do not make them too long to avoid the program to become too slow."
      ],
      "metadata": {
        "id": "Ltg08I7vR05q"
      }
    },
    {
      "cell_type": "markdown",
      "source": [
        "## Exercise 3: Design a protein binder to b2-microglobulin"
      ],
      "metadata": {
        "id": "txcSlJxSMAho"
      }
    },
    {
      "cell_type": "markdown",
      "source": [
        "In the third exercise you take the peptide resulting from the previous one and try to get a full scaffold around it. You can find all you need in the same notebook from above, in the section **partial hallucination + custom Radius of Gyration (rg) loss**. To give your peptide in input you need to substitute to 6MRR in the line **af_model.prep_inputs(pdb_filename=get_pdb(\"6MRR\"),** the path to your PDB structure in your google drive. In the same line of code you need also to set the correct chain for your peptide and the correct sequence range. For example\n",
        "\n",
        "                     chain=\"B\",\n",
        "                     pos=\"1-19\",\n",
        "                     length=100)      \n",
        "\n",
        "Keep the legth=100. And instead comment this line adding a # before it\n",
        "\n",
        "\\#af_model.rewire(loops=[36]) # set loop length between segments"
      ],
      "metadata": {
        "id": "uX3_4sC5MEsz"
      }
    },
    {
      "cell_type": "markdown",
      "source": [
        "Use VMD and show the structure of your protein complex\n"
      ],
      "metadata": {
        "id": "t3DiF5obM7H6"
      }
    },
    {
      "cell_type": "markdown",
      "source": [
        "ADD HERE YOUR RESULTS"
      ],
      "metadata": {
        "id": "gK0Tv2sRNAad"
      }
    },
    {
      "cell_type": "code",
      "source": [],
      "metadata": {
        "id": "MsJhgfagNEF-"
      },
      "execution_count": null,
      "outputs": []
    }
  ]
}