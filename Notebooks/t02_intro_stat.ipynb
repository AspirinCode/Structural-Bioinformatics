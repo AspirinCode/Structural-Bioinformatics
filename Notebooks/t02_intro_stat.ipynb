{
  "nbformat": 4,
  "nbformat_minor": 0,
  "metadata": {
    "colab": {
      "name": "t02_intro_stat.ipynb",
      "provenance": [],
      "collapsed_sections": [
        "UFymope2e12l",
        "15uaj6r3iMiS",
        "1TgGQL3K2RRE",
        "xpQtmCkOpq2_",
        "dPnY__n_n98v",
        "LW6uLL-Zn98w",
        "HoD4UmzRn98y",
        "iG0e--lNvLBQ",
        "Ge0mpLr0HI3o",
        "KjY0f0PZFPrQ",
        "_Twcsx45vjn1",
        "TYTtnqKykHoh",
        "mJ5N9k2Uh-Km",
        "Sngj5A18lXkc",
        "PuRyHnXVh-L1",
        "avMpCAihh-L1",
        "yDojx1I6h-L1",
        "Vx58xIUch-L2",
        "Bw7U08o5h-L2",
        "wCeZpa40h-L2",
        "O8pcyPz1h-L2",
        "4chLU4Uclr-F",
        "BDdkXICKh-LY",
        "JNQV86LYh-Kz",
        "sPInh2E_h-LB",
        "9SNVANvoh-LF",
        "00AvEQZch-LK",
        "XbKvjZF5h-LN",
        "zaOIoAzfh-LU",
        "kRcCCmnbh-LW",
        "AMRn-yH-h-LY",
        "O4h2Ne2th-LZ",
        "tybiSZtlh-Lc",
        "LW8dk0jqh-Lk",
        "H7QoSWk-h-Lf",
        "A-E1DJY9h-Kb"
      ],
      "include_colab_link": true
    },
    "kernelspec": {
      "name": "python3",
      "display_name": "Python 3"
    }
  },
  "cells": [
    {
      "cell_type": "markdown",
      "metadata": {
        "id": "view-in-github",
        "colab_type": "text"
      },
      "source": [
        "<a href=\"https://colab.research.google.com/github/carlocamilloni/Structural-Bioinformatics/blob/main/Notebooks/t02_intro_stat.ipynb\" target=\"_parent\"><img src=\"https://colab.research.google.com/assets/colab-badge.svg\" alt=\"Open In Colab\"/></a>"
      ]
    },
    {
      "cell_type": "markdown",
      "metadata": {
        "id": "chR3tGSn-Cev"
      },
      "source": [
        "#Lab.02 / Basic Statistical Analysis"
      ]
    },
    {
      "cell_type": "markdown",
      "source": [
        "## Part I. Introduction"
      ],
      "metadata": {
        "id": "plZ_3GIgUcfe"
      }
    },
    {
      "cell_type": "markdown",
      "metadata": {
        "id": "E4jk60i2sCI0"
      },
      "source": [
        "\n",
        "\n",
        "Colaboratory, or \"Colab\" for short, allows you to write and execute Python in your browser, with\n",
        "- Zero configuration required\n",
        "- Free access to GPUs\n",
        "- Easy sharing\n",
        "\n",
        "You can watch the [Introduction to Colab](https://www.youtube.com/watch?v=inN8seMm7UI) video recommended by Google Colab to learn more, or just get started below!\n"
      ]
    },
    {
      "cell_type": "markdown",
      "metadata": {
        "id": "Y1Smc5Rluoii"
      },
      "source": [
        "Note that at your left you have three icons. The first one looks like this:\n",
        "\n",
        "><img src=\"https://upload.wikimedia.org/wikipedia/commons/b/bb/Summary_icon.svg\" width=\"100\">\n",
        "\n",
        "and corresponds to the Table of Contents of this tutorial.\n",
        "\n",
        "**The last folder icon corresponds to the File Explorer of the virtual machine hosted in Google Cloud assigned to your session.** This is very important because allows you to move files, make new folders, change files/folders names if needed and to copy the \"path\" by right clicking on a file/folder."
      ]
    },
    {
      "cell_type": "markdown",
      "metadata": {
        "id": "ctRJx3itzj6Y"
      },
      "source": [
        "### The central concept of Google Colab Notebook: Cells\n",
        "\n",
        "A notebook is a list of cells. Cells contain either explanatory text or executable code and its output. Click a cell to select it.\n",
        "\n"
      ]
    },
    {
      "cell_type": "markdown",
      "metadata": {
        "id": "HiEcQ-r02XO_"
      },
      "source": [
        "**Adding and moving cells**\n",
        "\n",
        "You can add new cells by using the **+ CODE** and **+ TEXT** buttons that show when you hover between cells. These buttons are also in the toolbar above the notebook, and they can be used to add a cell below the currently selected cell.\n",
        "\n",
        "You can move a cell by selecting it and clicking **Cell Up** or **Cell Down** in the top toolbar.\n",
        "\n",
        "Consecutive cells can be selected by \"lasso selection\", i.e. by dragging from outside one cell and through the group.  Non-adjacent cells can be selected concurrently by clicking one and then holding down **Ctrl** while clicking another.  Similarly, using **Shift** instead of Ctrl will select all cells between two non-adjacent selections."
      ]
    },
    {
      "cell_type": "markdown",
      "metadata": {
        "id": "EvuQ1OQO1ycx"
      },
      "source": [
        "### Text cells\n"
      ]
    },
    {
      "cell_type": "markdown",
      "metadata": {
        "id": "OkRTAVuqhFjB"
      },
      "source": [
        "Colaboratory has two types of cells: text and code. The text cells are formatted using a simple markup language called **markdown**, based on [the original](https://daringfireball.net/projects/markdown/syntax) markdown project.\n",
        "This is a **text cell**. You can **double-click** to edit this cell. Text cells\n",
        "use markdown syntax. To learn more, see the [markdown\n",
        "guide](/notebooks/markdown_guide.ipynb) recommended by Google Colab."
      ]
    },
    {
      "cell_type": "markdown",
      "metadata": {
        "id": "4kcegGIpe8lS"
      },
      "source": [
        "### Markdown ⌨️\n",
        "\n",
        "\n"
      ]
    },
    {
      "cell_type": "markdown",
      "metadata": {
        "id": "kI15tSdTfGWR"
      },
      "source": [
        "To see the markdown source, double-click a text cell, showing both the markdown source (left) and the rendered version (right). Above the markdown source there is a toolbar to assist editing.\n",
        "\n"
      ]
    },
    {
      "cell_type": "markdown",
      "metadata": {
        "id": "kZrt46FefdrP"
      },
      "source": [
        "You can also use tags to format your text. The following are examples of markdown text formats. Each word/phrase is shown in the desired format, and the tags around it are those required to achieve each specific format.\n",
        "\n",
        "**Text Formats:**\n",
        "\n",
        "\\**italics*\\* or \\__italics__\n",
        "\n",
        "**\\*\\*bold\\*\\***\n",
        "\n",
        "\\~\\~~~strikethrough~~\\~\\~\n",
        "\n",
        "\\``monospace`\\`\n",
        "\n",
        "**Indentations:**\n",
        "\n",
        "No indent\n",
        ">\\>One level of indentation\n",
        ">>\\>\\>Two levels of indentation\n",
        "\n",
        "**An ordered list:**\n",
        "1. 1\\. One\n",
        "1. 1\\. Two\n",
        "1. 1\\. Three\n",
        "\n",
        "**An unordered list:**\n",
        "* \\* One\n",
        "* \\* Two\n",
        "* \\* Three\n",
        "\n"
      ]
    },
    {
      "cell_type": "markdown",
      "metadata": {
        "id": "0TVB1lWFijmO"
      },
      "source": [
        "******If you are interested in learning more about markdown in Google Colab you can read this nice article which includes a cheat sheet [here](https://towardsdatascience.com/cheat-sheet-for-google-colab-63853778c093)**"
      ]
    },
    {
      "cell_type": "markdown",
      "metadata": {
        "id": "DlYcamFy0lTU"
      },
      "source": [
        "### Math 🧮 & Equations ✏️\n",
        "\n"
      ]
    },
    {
      "cell_type": "markdown",
      "metadata": {
        "id": "2aRIMDu4fCHq"
      },
      "source": [
        "You can also add math to text cells using [$\\LaTeX$](http://www.latex-project.org/)\n",
        "to be rendered by [MathJax](https://www.mathjax.org). Just place the statement\n",
        "within a pair of **`$`** signs. For example `$\\sqrt{3x-1}+(1+x)^2$` becomes\n",
        "$\\sqrt{3x-1}+(1+x)^2.$"
      ]
    },
    {
      "cell_type": "markdown",
      "metadata": {
        "id": "zswE9sBJfOTQ"
      },
      "source": [
        "Also, if you double the **`$`** tags in your $\\LaTeX$ equations, you can set the contents off on its own centered line. For example, `$$y = 0.1 x$$` renders the following equation: $$y = 0.1 x$$"
      ]
    },
    {
      "cell_type": "markdown",
      "metadata": {
        "id": "UFymope2e12l"
      },
      "source": [
        "### Tables 📍\n",
        "\n"
      ]
    },
    {
      "cell_type": "markdown",
      "metadata": {
        "id": "mYmHSFwJfWe6"
      },
      "source": [
        "Tables:\n",
        "```\n",
        "First column name | Second column name\n",
        "--- | ---\n",
        "Row 1, Col 1 | Row 1, Col 2\n",
        "Row 2, Col 1 | Row 2, Col 2\n",
        "```\n",
        "\n",
        "becomes:\n",
        "\n",
        ">First column name | Second column name\n",
        ">--- | ---\n",
        ">Row 1, Col 1 | Row 1, Col 2\n",
        ">Row 2, Col 1 | Row 2, Col 2\n",
        "\n",
        "Horizontal rule done with three dashes (\\-\\-\\-):\n",
        "\n",
        "---\n"
      ]
    },
    {
      "cell_type": "markdown",
      "metadata": {
        "id": "15uaj6r3iMiS"
      },
      "source": [
        "### Gifs 😱"
      ]
    },
    {
      "cell_type": "markdown",
      "metadata": {
        "id": "sgxS2B2XiO3s"
      },
      "source": [
        "YES! you can add animated gifs\n",
        "\n",
        "<img src='https://media.giphy.com/media/3o72F8t9TDi2xVnxOE/giphy.gif'/>\n"
      ]
    },
    {
      "cell_type": "markdown",
      "metadata": {
        "id": "1TgGQL3K2RRE"
      },
      "source": [
        "### Code cells\n",
        "\n",
        "\n",
        "Below is a **code cell**. To execute the contents of a code cell, you first must connect to a hosted runtime by clicking on the **Connect** button located in the toolbar menu.\n",
        "\n",
        " <img src='https://media.giphy.com/media/lRLBURv0hpcHqiraBI/giphy.gif'/>\n",
        "\n",
        "Once the toolbar button changes to **'Connected'**, click in the code cell below to select it and execute the contents in the following ways:\n"
      ]
    },
    {
      "cell_type": "markdown",
      "metadata": {
        "id": "0GPMDXfH0uDb"
      },
      "source": [
        "\n",
        "\n",
        "* Click the **Play icon** in the left gutter of the cell;\n",
        "* Type **Cmd/Ctrl+Enter** to run the cell in place;\n",
        "* Type **Shift+Enter** to run the cell and move focus to the next cell (adding one if none exists); or\n",
        "* Type **Alt+Enter** to run the cell and insert a new code cell immediately below it.\n",
        "\n",
        "There are additional options for running some or all cells in the **Runtime** menu.\n"
      ]
    },
    {
      "cell_type": "code",
      "metadata": {
        "id": "M0wncmN0q97L"
      },
      "source": [
        "W = 'Tryptophan'\n",
        "C = 'Cysteine'\n",
        "W,C"
      ],
      "execution_count": null,
      "outputs": []
    },
    {
      "cell_type": "markdown",
      "source": [
        "## Part II. Files and Folders"
      ],
      "metadata": {
        "id": "0wfzPeqOVeff"
      }
    },
    {
      "cell_type": "markdown",
      "metadata": {
        "id": "PvbV-LeUpHJS"
      },
      "source": [
        "### Mount your google drive disk\n",
        "By running the code in the next cell you will be able to access your google drive folders from colab, see the side bar"
      ]
    },
    {
      "cell_type": "code",
      "metadata": {
        "id": "QCC-s3vnDKlq"
      },
      "source": [
        "from google.colab import drive\n",
        "drive.mount('/content/drive')"
      ],
      "execution_count": null,
      "outputs": []
    },
    {
      "cell_type": "markdown",
      "source": [
        "Now you can **make a folder Structural_Bioinformatics** in your google drive by using the menu on the left side of the browser, into this folder make a folder **Task2**."
      ],
      "metadata": {
        "id": "9_5PxCrpVpLG"
      }
    },
    {
      "cell_type": "markdown",
      "source": [
        "### Set the working folder"
      ],
      "metadata": {
        "id": "MpP_76HkaGBt"
      }
    },
    {
      "cell_type": "markdown",
      "source": [
        "In general one problem of using Colab notebooks is that you do not know where they are run. If you open a notebook from one of your google drive folder, then this is the folder where everything happen. But if you are opening a notebook from the web then this is run on the google virtual machine. **To check the folder and change it you can use simple Linux shell commands**:"
      ],
      "metadata": {
        "id": "8J0pNRHLaL_u"
      }
    },
    {
      "cell_type": "code",
      "source": [
        "#check the local active folder:\n",
        "%pwd"
      ],
      "metadata": {
        "id": "agJrUUMiauDa"
      },
      "execution_count": null,
      "outputs": []
    },
    {
      "cell_type": "code",
      "source": [
        "#change the local active folder (paste in the following line that path to your Task2 folder)\n",
        "%cd \"/content/drive/MyDrive/Structural_Bioinformatics/Task2\""
      ],
      "metadata": {
        "id": "uQ8nDvehav4X"
      },
      "execution_count": null,
      "outputs": []
    },
    {
      "cell_type": "code",
      "source": [
        "#check the local active folder:\n",
        "%pwd"
      ],
      "metadata": {
        "id": "4cc_dnSIa79i"
      },
      "execution_count": null,
      "outputs": []
    },
    {
      "cell_type": "code",
      "source": [
        "#show the files in the local folder:\n",
        "%ls"
      ],
      "metadata": {
        "id": "HAEdsmzwbeW2"
      },
      "execution_count": null,
      "outputs": []
    },
    {
      "cell_type": "markdown",
      "source": [
        "### Simple data extraction from files"
      ],
      "metadata": {
        "id": "cEvXX2BSn9dN"
      }
    },
    {
      "cell_type": "code",
      "source": [
        "#Download a structure from the PDB:\n",
        "import urllib.request\n",
        "urllib.request.urlretrieve('http://files.rcsb.org/download/7tjh.pdb', '7tjh.txt')\n",
        "# here we change the extension of the file from .pdb to .txt so that the computer immediately understand that is a text file"
      ],
      "metadata": {
        "id": "AZjbJTlXbvOh"
      },
      "execution_count": null,
      "outputs": []
    },
    {
      "cell_type": "code",
      "source": [
        "#check again the files:\n",
        "%ls"
      ],
      "metadata": {
        "id": "_sENxk2IcIpr"
      },
      "execution_count": null,
      "outputs": []
    },
    {
      "cell_type": "code",
      "source": [
        "#show the file content here:\n",
        "%cat 7tjh.txt"
      ],
      "metadata": {
        "id": "FSc8usg8cPjE"
      },
      "execution_count": null,
      "outputs": []
    },
    {
      "cell_type": "markdown",
      "source": [
        "**To see a file you can actually double click on it from the menu on the left**\n",
        "\n"
      ],
      "metadata": {
        "id": "3i_o_4o2cbFl"
      }
    },
    {
      "cell_type": "markdown",
      "source": [
        "Now lets take some data from the PDB file using simple Linux commands, for example we would like to count all the different amino acids in the protein:"
      ],
      "metadata": {
        "id": "qPO_hZH2oHpi"
      }
    },
    {
      "cell_type": "code",
      "source": [
        "# show from the file the lines inlcuding ALA (all ALANINE atoms)\n",
        "%%bash\n",
        "grep ALA 7tjh.txt"
      ],
      "metadata": {
        "id": "rGSpgezSoNVn"
      },
      "execution_count": null,
      "outputs": []
    },
    {
      "cell_type": "code",
      "source": [
        "# now take one single atom, the safest choice is the CA carbon\n",
        "%%bash\n",
        "grep ALA 7tjh.txt | grep CA"
      ],
      "metadata": {
        "id": "k3gOBsOxpIz4"
      },
      "execution_count": null,
      "outputs": []
    },
    {
      "cell_type": "code",
      "source": [
        "# lets' count them:\n",
        "%%bash\n",
        "grep ALA 7tjh.txt | grep CA | wc -l"
      ],
      "metadata": {
        "id": "FfW081adpPOR"
      },
      "execution_count": null,
      "outputs": []
    },
    {
      "cell_type": "code",
      "source": [
        "# now we want to put this number in an array of size 20\n",
        "import numpy as np\n",
        "# we call this array 'aa_count', of size 20 initially set with all 0.\n",
        "aa_count=np.full(20, 0.)\n",
        "# we also set an array with amino acids names\n",
        "aa_names=np.empty(20, dtype=object)\n",
        "print(aa_names)\n",
        "print(aa_count)"
      ],
      "metadata": {
        "id": "l4JhHcyGpXSa"
      },
      "execution_count": null,
      "outputs": []
    },
    {
      "cell_type": "code",
      "source": [
        "tmp=!grep ALA 7tjh.txt | grep CA | wc -l\n",
        "aa_count[0]=tmp[0]\n",
        "aa_names[0]=\"ALA\"\n",
        "print(aa_names)\n",
        "print(aa_count)"
      ],
      "metadata": {
        "id": "orOzOXZjweM1"
      },
      "execution_count": null,
      "outputs": []
    },
    {
      "cell_type": "code",
      "source": [
        "#we can iterate this operation on some amino acids:\n",
        "k=0\n",
        "for i in 'ALA', 'CYS', 'GLY':\n",
        "  print(i)\n",
        "  !grep $i 7tjh.txt | grep CA | wc -l\n",
        "  tmp=!grep $i 7tjh.txt | grep CA | wc -l\n",
        "  aa_names[k]=i\n",
        "  aa_count[k]=tmp[0]\n",
        "  k+=1\n",
        "\n",
        "print(aa_names)\n",
        "print(aa_count)"
      ],
      "metadata": {
        "id": "MTr0NtkQwuhX"
      },
      "execution_count": null,
      "outputs": []
    },
    {
      "cell_type": "markdown",
      "source": [
        "Now add a bar plot to show the aminoacidic content of your complex, to get the number you need to complete the function below:"
      ],
      "metadata": {
        "id": "wOHWm1myx2SG"
      }
    },
    {
      "cell_type": "code",
      "source": [
        "import numpy as np\n",
        "# we call this array 'aa_count', of size 20 with all 0.\n",
        "aa_count=np.full((20,2), 0.)\n",
        "print(aa_count)\n",
        "# we also set an array with amino acids names\n",
        "aa_names=np.empty(20, dtype=object)"
      ],
      "metadata": {
        "id": "FxQd4_5DyFGi"
      },
      "execution_count": null,
      "outputs": []
    },
    {
      "cell_type": "code",
      "source": [
        "k=0\n",
        "# complete the following line and then remove the #\n",
        "#for i in 'ALA', 'CYS', 'GLY', ...:\n",
        "  tmp=!grep $i 7tjh.txt | grep CA | wc -l\n",
        "  aa_names[k]=i\n",
        "  aa_count[k]=(k,tmp[0])\n",
        "  k+=1\n",
        "\n",
        "print(aa_names)\n",
        "print(aa_count)"
      ],
      "metadata": {
        "id": "a2JX53oYyNBo"
      },
      "execution_count": null,
      "outputs": []
    },
    {
      "cell_type": "code",
      "source": [
        "import matplotlib.pyplot as plt\n",
        "plt.bar(aa_count[:,0],aa_count[:,1], width=0.8, tick_label=aa_names)"
      ],
      "metadata": {
        "id": "BdIuXH_ZySy2"
      },
      "execution_count": null,
      "outputs": []
    },
    {
      "cell_type": "markdown",
      "source": [
        "And now do it again for DNA bases, in the PDB file these are indentified as DA, DT, DC, DG:"
      ],
      "metadata": {
        "id": "slRiDIQQ0EVl"
      }
    },
    {
      "cell_type": "code",
      "source": [
        "!grep DA 7tjh.txt | grep OP1"
      ],
      "metadata": {
        "id": "eJTmKkliytUV"
      },
      "execution_count": null,
      "outputs": []
    },
    {
      "cell_type": "code",
      "source": [
        "# we call this array 'dna_count', of size 4 with all 0.\n",
        "dna_count=np.full((4,2), 0.)\n",
        "# we also set an array with amino acids names\n",
        "dna_names=np.empty(4, dtype=object)"
      ],
      "metadata": {
        "id": "pNJg-_jv0RMB"
      },
      "execution_count": null,
      "outputs": []
    },
    {
      "cell_type": "code",
      "source": [
        "# go on..."
      ],
      "metadata": {
        "id": "2_oxrPY_0mHI"
      },
      "execution_count": null,
      "outputs": []
    },
    {
      "cell_type": "code",
      "source": [],
      "metadata": {
        "id": "AUlmkUbz0qXk"
      },
      "execution_count": null,
      "outputs": []
    },
    {
      "cell_type": "markdown",
      "source": [
        "## Part III. Examples of Statistical Analysis"
      ],
      "metadata": {
        "id": "bv9pk2Kf_hN8"
      }
    },
    {
      "cell_type": "markdown",
      "source": [
        "### 1D dicrete data"
      ],
      "metadata": {
        "id": "To8EzViljz5z"
      }
    },
    {
      "cell_type": "code",
      "source": [
        "# Lets' begin by throwing a \"dice\"\n",
        "# This means to generate a random number between 1 and 6 extracted from a uniform probability distribution\n",
        "import random\n",
        "random.randint(1, 6)\n",
        "# you can see that by re-executing this cell you will always get a different number"
      ],
      "metadata": {
        "id": "06qVv1wy_mM7",
        "colab": {
          "base_uri": "https://localhost:8080/"
        },
        "outputId": "db467f6f-f6b5-4956-c3e5-23edbe0732cc"
      },
      "execution_count": null,
      "outputs": [
        {
          "output_type": "execute_result",
          "data": {
            "text/plain": [
              "2"
            ]
          },
          "metadata": {},
          "execution_count": 207
        }
      ]
    },
    {
      "cell_type": "code",
      "source": [
        "# now we can decide how many times to throw it and accumulate the statitics\n",
        "import numpy as np\n",
        "rng = np.random.Generator(np.random.PCG64())\n",
        "rng = np.random.default_rng()\n",
        "num_throw=10000\n",
        "# here the range is from low to high-1\n",
        "data = rng.integers(low=1, high=7, size=num_throw)\n",
        "# print the data and the number of data\n",
        "print(data, len(data))"
      ],
      "metadata": {
        "id": "3bNokDF7AGfi",
        "outputId": "1a40ca0e-0f03-486f-b156-d9528e61dfd2",
        "colab": {
          "base_uri": "https://localhost:8080/"
        }
      },
      "execution_count": null,
      "outputs": [
        {
          "output_type": "stream",
          "name": "stdout",
          "text": [
            "[2 6 6 ... 1 5 1] 10000\n"
          ]
        }
      ]
    },
    {
      "cell_type": "code",
      "source": [
        "# we can make an histogram of data\n",
        "# is not easy to get a good flat histogram\n",
        "# the uniform distribution is very difficult to sample\n",
        "import matplotlib.pyplot as plt\n",
        "counts, bin=np.histogram(data, bins=[1, 2, 3, 4, 5, 6, 7])\n",
        "print(counts, bin)\n",
        "plt.hist(bin[:-1], bin, weights=counts, align='left', rwidth=0.9)\n",
        "plt.title(\"Histogram of a dice throwing experiment\")\n",
        "plt.show()"
      ],
      "metadata": {
        "id": "i_LksEfRBLCh",
        "outputId": "b4ce8650-7769-4cef-a7c4-71657224763c",
        "colab": {
          "base_uri": "https://localhost:8080/",
          "height": 469
        }
      },
      "execution_count": null,
      "outputs": [
        {
          "output_type": "stream",
          "name": "stdout",
          "text": [
            "[1680 1632 1698 1644 1690 1656] [1 2 3 4 5 6 7]\n"
          ]
        },
        {
          "output_type": "display_data",
          "data": {
            "text/plain": [
              "<Figure size 640x480 with 1 Axes>"
            ],
            "image/png": "[encoded data removed]"
          },
          "metadata": {}
        }
      ]
    },
    {
      "cell_type": "code",
      "source": [
        "# if we are estimanting a probability then we can also normalize them:\n",
        "counts, bin=np.histogram(data, bins=[1, 2, 3, 4, 5, 6, 7], density=True)\n",
        "plt.hist(bin[:-1], bin, weights=counts, align='left', rwidth=0.9)\n",
        "plt.title(\"Probability density estimate of a dice throwing experiment\")\n",
        "plt.show()\n",
        "# the above is equivalent to\n",
        "bin_size=1\n",
        "counts, bin=np.histogram(data, bins=[1, 2, 3, 4, 5, 6, 7])\n",
        "plt.hist(bin[:-1], bin, weights=counts/(len(data)*bin_size), align='left', rwidth=0.9)\n",
        "plt.title(\"Probability density estimate of a dice throwing experiment\")\n",
        "plt.show()"
      ],
      "metadata": {
        "id": "9SfEjwBShs9H",
        "outputId": "71021a25-530d-4e15-bcfe-f7801797b048",
        "colab": {
          "base_uri": "https://localhost:8080/",
          "height": 887
        }
      },
      "execution_count": null,
      "outputs": [
        {
          "output_type": "display_data",
          "data": {
            "text/plain": [
              "<Figure size 640x480 with 1 Axes>"
            ],
            "image/png": "[encoded data removed]"
          },
          "metadata": {}
        },
        {
          "output_type": "display_data",
          "data": {
            "text/plain": [
              "<Figure size 640x480 with 1 Axes>"
            ],
            "image/png": "[encoded data removed]"
          },
          "metadata": {}
        }
      ]
    },
    {
      "cell_type": "code",
      "source": [
        "#calculate the average\n",
        "#this is the sum of all the elements divided by the number of elements\n",
        "average_def = data.sum()/len(data)\n",
        "average = np.average(data)\n",
        "print(average_def, average)"
      ],
      "metadata": {
        "id": "lwGNtoBeF8q_"
      },
      "execution_count": null,
      "outputs": []
    },
    {
      "cell_type": "code",
      "source": [
        "#calculate the standard deviaton, that is the width of the distribution of the data\n",
        "#this is the squared difference of the elements and the average\n",
        "data2 = np.power(data-average_def, 2.)\n",
        "#that is then summed, divided by the number of elements and under a square root\n",
        "deviation_def = np.sqrt((data2.sum()/len(data)))\n",
        "deviation = np.std(data)\n",
        "print(deviation_def, deviation)"
      ],
      "metadata": {
        "id": "Wo_uOLuJI8QH"
      },
      "execution_count": null,
      "outputs": []
    },
    {
      "cell_type": "code",
      "source": [
        "#calculate the standard error that is the width of the distribution of the average\n",
        "#that is the accuracy of the estimate of the average\n",
        "from scipy.stats import sem\n",
        "# this is the standard deviation divided by the square root of the number of data-1\n",
        "error_again = deviation_def/np.sqrt(len(data)-1)\n",
        "error = sem(data)\n",
        "print(error, error_again)"
      ],
      "metadata": {
        "id": "UYnba9YSJFS9"
      },
      "execution_count": null,
      "outputs": []
    },
    {
      "cell_type": "code",
      "source": [
        "# the error defined the number of meaningfull digits\n",
        "# as a rule of thumb do not use more than two digits from the first non-zero one"
      ],
      "metadata": {
        "id": "BBCcbxPmJeD3"
      },
      "execution_count": null,
      "outputs": []
    },
    {
      "cell_type": "code",
      "source": [
        "# what often happen in an experiment is that we observe a number that is already an average quantity\n",
        "# for example we can consider an experiment where multiple copies (10) of the same protein give a fluorescent signal\n",
        "# between 1 and 6 ;-) and in our setting\n",
        "num_throw=1000\n",
        "adata = np.array([np.average(rng.integers(low=1, high=7, size=num_throw))])\n",
        "# this is a cycle from 0 to 98 where an additional average is calculated and added in our dataset\n",
        "for i in range(0,99):\n",
        "  adata = np.append(adata, np.array([np.average(rng.integers(low=1, high=7, size=num_throw))]), axis=0)"
      ],
      "metadata": {
        "id": "90cnF9hAKiT-"
      },
      "execution_count": null,
      "outputs": []
    },
    {
      "cell_type": "code",
      "source": [
        "# this is the outcome of our 100 experiments\n",
        "print(len(adata))\n",
        "average_adata = np.average(adata)\n",
        "adata2 = np.power(adata-average_adata, 2.)\n",
        "#that is then summed, divided by the number of elements and under a square root\n",
        "deviation_def = np.sqrt(adata2.sum()/(len(adata)-1))\n",
        "print(average_adata, deviation_def)"
      ],
      "metadata": {
        "id": "ntuwVnkzRLhW"
      },
      "execution_count": null,
      "outputs": []
    },
    {
      "cell_type": "code",
      "source": [
        "# what is the probability distribution of these average quantities?\n",
        "# in this cases the number are not integers and are the results of\n",
        "# many random processes (ten dice throwings)\n",
        "counts, bin=np.histogram(adata, bins='auto')\n",
        "print(counts, bin)\n",
        "plt.hist(bin[:-1], bin, weights=counts, align='mid', rwidth=0.9)\n",
        "plt.title(\"Histogram of the averages over multiple dice throwing experiment\")\n",
        "plt.show()"
      ],
      "metadata": {
        "id": "40k5f4-kTWDo"
      },
      "execution_count": null,
      "outputs": []
    },
    {
      "cell_type": "code",
      "source": [
        "#"
      ],
      "metadata": {
        "id": "zF8eZWsuW7tk"
      },
      "execution_count": null,
      "outputs": []
    },
    {
      "cell_type": "markdown",
      "source": [
        "### 1D continuos data"
      ],
      "metadata": {
        "id": "7EBAtRCqj9pB"
      }
    },
    {
      "cell_type": "code",
      "source": [
        "import numpy as np\n",
        "rng = np.random.Generator(np.random.PCG64())\n",
        "rng = np.random.default_rng()\n",
        "num_throw=1000\n",
        "# here the range is from low to high-1\n",
        "data1 = rng.normal(70, 5, size=num_throw)\n",
        "data2 = rng.lognormal(2, 1, num_throw)\n",
        "datac = np.concatenate((data1, data2, rng.normal(10, 40, size=num_throw)), axis=0)\n",
        "# print the data and the number of data\n",
        "print(datac, len(datac))"
      ],
      "metadata": {
        "id": "PCYTW2xAlAH7",
        "outputId": "1fff2c89-3e85-44af-e21a-d81eee5d844d",
        "colab": {
          "base_uri": "https://localhost:8080/"
        }
      },
      "execution_count": 4,
      "outputs": [
        {
          "output_type": "stream",
          "name": "stdout",
          "text": [
            "[66.90848711 70.49266538 66.405057   ... 31.69906271  8.55614317\n",
            " -2.35181284] 3000\n"
          ]
        }
      ]
    },
    {
      "cell_type": "code",
      "source": [
        "import matplotlib.pyplot as plt\n",
        "counts, bin=np.histogram(datac, bins='auto', density=True)\n",
        "plt.hist(bin[:-1], bin, weights=counts, align='mid', rwidth=0.9)\n",
        "plt.title(\"Probability density estimate of a multimodal dataset\")\n",
        "plt.show()"
      ],
      "metadata": {
        "id": "suuY27kQtcdD",
        "outputId": "0376eb72-4612-49ef-b856-17f86458237e",
        "colab": {
          "base_uri": "https://localhost:8080/",
          "height": 452
        }
      },
      "execution_count": 5,
      "outputs": [
        {
          "output_type": "display_data",
          "data": {
            "text/plain": [
              "<Figure size 640x480 with 1 Axes>"
            ],
            "image/png": "[encoded data removed]"
          },
          "metadata": {}
        }
      ]
    },
    {
      "cell_type": "code",
      "source": [
        "from scipy.stats import sem\n",
        "aver=np.average(datac)\n",
        "dev=np.std(datac)\n",
        "error=sem(datac)\n",
        "print(aver, dev, error)"
      ],
      "metadata": {
        "id": "Rus0Q4ZXud68",
        "outputId": "77035bcf-92cc-48e7-e81d-16060ba38dd5",
        "colab": {
          "base_uri": "https://localhost:8080/"
        }
      },
      "execution_count": 7,
      "outputs": [
        {
          "output_type": "stream",
          "name": "stdout",
          "text": [
            "30.899542398454987 37.0099239910637 0.6758183198231412\n"
          ]
        }
      ]
    },
    {
      "cell_type": "code",
      "source": [
        "#cumulative distribution function\n",
        "X2 = np.sort(datac)\n",
        "F2 = np.array(range(len(datac)))/float(len(datac))\n",
        "plt.plot(X2, F2)\n",
        "plt.show()"
      ],
      "metadata": {
        "id": "m6arNJgWwmtQ",
        "outputId": "f681930a-9417-411b-be5d-d1384a5f63b8",
        "colab": {
          "base_uri": "https://localhost:8080/",
          "height": 430
        }
      },
      "execution_count": 18,
      "outputs": [
        {
          "output_type": "display_data",
          "data": {
            "text/plain": [
              "<Figure size 640x480 with 1 Axes>"
            ],
            "image/png": "[encoded data removed]"
          },
          "metadata": {}
        }
      ]
    },
    {
      "cell_type": "code",
      "source": [],
      "metadata": {
        "id": "DpmEJoZPz2Uh"
      },
      "execution_count": null,
      "outputs": []
    }
  ]
}