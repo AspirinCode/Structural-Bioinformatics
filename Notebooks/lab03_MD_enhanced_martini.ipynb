{
  "nbformat": 4,
  "nbformat_minor": 0,
  "metadata": {
    "colab": {
      "provenance": [],
      "collapsed_sections": [
        "f5iG-OO4HLGO"
      ],
      "mount_file_id": "1_XpgNm81GYaeu4I4W4k45-4l6TwHRxWb",
      "authorship_tag": "ABX9TyOzfI2e87u9ioHQJCtC/VKU",
      "include_colab_link": true
    },
    "kernelspec": {
      "name": "python3",
      "display_name": "Python 3"
    },
    "language_info": {
      "name": "python"
    }
  },
  "cells": [
    {
      "cell_type": "markdown",
      "metadata": {
        "id": "view-in-github",
        "colab_type": "text"
      },
      "source": [
        "<a href=\"https://colab.research.google.com/github/carlocamilloni/Structural-Bioinformatics/blob/main/Notebooks/lab03_MD_enhanced_martini.ipynb\" target=\"_parent\"><img src=\"https://colab.research.google.com/assets/colab-badge.svg\" alt=\"Open In Colab\"/></a>"
      ]
    },
    {
      "cell_type": "markdown",
      "source": [
        "#Enhanced Sampling and Simplified Models in MD\n"
      ],
      "metadata": {
        "id": "RxKzfua7D-0i"
      }
    },
    {
      "cell_type": "markdown",
      "source": [
        "In this lab experience you will perform two different simulations covering some more advanced topic. Namely:\n",
        "\n",
        "\n",
        "*   A metadynamics simulation of alanine dipeptide;\n",
        "*   A self-assembly and equilibration simulation of a lipid bilayer using the Martini force-field.\n",
        "\n",
        "\n"
      ],
      "metadata": {
        "id": "lGHUJShnEEl_"
      }
    },
    {
      "cell_type": "markdown",
      "source": [
        "## Preliminary Operations"
      ],
      "metadata": {
        "id": "f5iG-OO4HLGO"
      }
    },
    {
      "cell_type": "markdown",
      "source": [
        "To perform the above tasks you first need to install some software, this will require to reinitialise the system."
      ],
      "metadata": {
        "id": "EliFFo4pHN47"
      }
    },
    {
      "cell_type": "markdown",
      "source": [
        "The first step is to install the conda python package manager"
      ],
      "metadata": {
        "id": "ALvH5aBNHcNz"
      }
    },
    {
      "cell_type": "code",
      "source": [
        "!pip install -q condacolab\n",
        "import condacolab\n",
        "condacolab.install()"
      ],
      "metadata": {
        "colab": {
          "base_uri": "https://localhost:8080/"
        },
        "id": "YWvNlMfED33i",
        "outputId": "948d2698-51d0-4474-b728-73d331cd33d6"
      },
      "execution_count": 3,
      "outputs": [
        {
          "output_type": "stream",
          "name": "stdout",
          "text": [
            "⏬ Downloading https://github.com/jaimergp/miniforge/releases/latest/download/Mambaforge-colab-Linux-x86_64.sh...\n",
            "📦 Installing...\n",
            "📌 Adjusting configuration...\n",
            "🩹 Patching environment...\n",
            "⏲ Done in 0:00:30\n",
            "🔁 Restarting kernel...\n"
          ]
        }
      ]
    },
    {
      "cell_type": "markdown",
      "source": [
        "Now we can install GROMACS (a molecular dynamics package) and PLUMED, that is a library to perform enhanced sampling techniques in combination with multiple MD packages, including gromacs (www.plumed.org). Be patient, the next step can take 5 minutes."
      ],
      "metadata": {
        "id": "8Q3Fu5hPHiNI"
      }
    },
    {
      "cell_type": "code",
      "execution_count": 2,
      "metadata": {
        "colab": {
          "base_uri": "https://localhost:8080/"
        },
        "id": "T8WXE4C8COWZ",
        "outputId": "cbc08a6e-458e-4175-d83a-39a811dab148"
      },
      "outputs": [
        {
          "output_type": "stream",
          "name": "stdout",
          "text": [
            "Collecting package metadata (current_repodata.json): - \b\b\\ \b\b| \b\b/ \b\b- \b\b\\ \b\b| \b\b/ \b\b- \b\b\\ \b\b| \b\b/ \b\b- \b\b\\ \b\b| \b\b/ \b\b- \b\b\\ \b\b| \b\b/ \b\b- \b\b\\ \b\b| \b\b/ \b\b- \b\b\\ \b\b| \b\b/ \b\b- \b\b\\ \b\b| \b\b/ \b\b- \b\b\\ \b\b| \b\b/ \b\b- \b\b\\ \b\b| \b\b/ \b\b- \b\b\\ \b\b| \b\b/ \b\b- \b\b\\ \b\b| \b\b/ \b\b- \b\b\\ \b\b| \b\b/ \b\b- \b\b\\ \b\b| \b\b/ \b\b- \b\b\\ \b\b| \b\b/ \b\b- \b\b\\ \b\b| \b\b/ \b\b- \b\b\\ \b\b| \b\b/ \b\b- \b\b\\ \b\b| \b\b/ \b\b- \b\b\\ \b\b| \b\b/ \b\b- \b\b\\ \b\b| \b\b/ \b\b- \b\b\\ \b\b| \b\b/ \b\b- \b\b\\ \b\b| \b\b/ \b\b- \b\b\\ \b\b| \b\b/ \b\b- \b\b\\ \b\b| \b\b/ \b\b- \b\b\\ \b\b| \b\b/ \b\b- \b\b\\ \b\b| \b\b/ \b\b- \b\b\\ \b\b| \b\b/ \b\b- \b\b\\ \b\b| \b\b/ \b\b- \b\b\\ \b\b| \b\b/ \b\b- \b\b\\ \b\b| \b\b/ \b\b- \b\b\\ \b\b| \b\b/ \b\b- \b\b\\ \b\b| \b\b/ \b\b- \b\b\\ \b\b| \b\b/ \b\b- \b\b\\ \b\b| \b\b/ \b\b- \b\b\\ \b\b| \b\b/ \b\b- \b\b\\ \b\b| \b\b/ \b\b- \b\b\\ \b\b| \b\b/ \b\b- \b\b\\ \b\b| \b\b/ \b\b- \b\b\\ \b\b| \b\b/ \b\b- \b\b\\ \b\b| \b\b/ \b\b- \b\b\\ \b\b| \b\b/ \b\b- \b\b\\ \b\b| \b\b/ \b\b- \b\b\\ \b\b| \b\b/ \b\b- \b\b\\ \b\b| \b\b/ \b\b- \b\b\\ \b\bdone\n",
            "Solving environment: / \b\b- \b\b\\ \b\b| \b\b/ \b\b- \b\b\\ \b\b| \b\b/ \b\b- \b\b\\ \b\b| \b\b/ \b\b- \b\b\\ \b\b| \b\b/ \b\b- \b\b\\ \b\b| \b\b/ \b\b- \b\b\\ \b\b| \b\b/ \b\b- \b\b\\ \b\b| \b\b/ \b\b- \b\b\\ \b\b| \b\b/ \b\b- \b\b\\ \b\b| \b\b/ \b\b- \b\b\\ \b\b| \b\b/ \b\b- \b\b\\ \b\b| \b\b/ \b\b- \b\bfailed with initial frozen solve. Retrying with flexible solve.\n",
            "Collecting package metadata (repodata.json): | \b\b/ \b\b- \b\b\\ \b\b| \b\b/ \b\b- \b\b\\ \b\b| \b\b/ \b\b- \b\b\\ \b\b| \b\b/ \b\b- \b\b\\ \b\b| \b\b/ \b\b- \b\b\\ \b\b| \b\b/ \b\b- \b\b\\ \b\b| \b\b/ \b\b- \b\b\\ \b\b| \b\b/ \b\b- \b\b\\ \b\b| \b\b/ \b\b- \b\b\\ \b\b| \b\b/ \b\b- \b\b\\ \b\b| \b\b/ \b\b- \b\b\\ \b\b| \b\b/ \b\b- \b\b\\ \b\b| \b\b/ \b\b- \b\b\\ \b\b| \b\b/ \b\b- \b\b\\ \b\b| \b\b/ \b\b- \b\b\\ \b\b| \b\b/ \b\b- \b\b\\ \b\b| \b\b/ \b\b- \b\b\\ \b\b| \b\b/ \b\b- \b\b\\ \b\b| \b\b/ \b\b- \b\b\\ \b\b| \b\b/ \b\b- \b\b\\ \b\b| \b\b/ \b\b- \b\b\\ \b\b| \b\b/ \b\b- \b\b\\ \b\b| \b\b/ \b\b- \b\b\\ \b\b| \b\b/ \b\b- \b\b\\ \b\b| \b\b/ \b\b- \b\b\\ \b\b| \b\b/ \b\b- \b\b\\ \b\b| \b\b/ \b\b- \b\b\\ \b\b| \b\b/ \b\b- \b\b\\ \b\b| \b\b/ \b\b- \b\b\\ \b\b| \b\b/ \b\b- \b\b\\ \b\b| \b\b/ \b\b- \b\b\\ \b\b| \b\b/ \b\b- \b\b\\ \b\b| \b\b/ \b\b- \b\b\\ \b\b| \b\b/ \b\b- \b\b\\ \b\b| \b\b/ \b\b- \b\b\\ \b\b| \b\b/ \b\b- \b\b\\ \b\b| \b\b/ \b\b- \b\b\\ \b\b| \b\b/ \b\b- \b\b\\ \b\b| \b\b/ \b\b- \b\b\\ \b\b| \b\b/ \b\b- \b\b\\ \b\b| \b\b/ \b\b- \b\b\\ \b\b| \b\b/ \b\b- \b\b\\ \b\b| \b\b/ \b\b- \b\b\\ \b\b| \b\b/ \b\b- \b\b\\ \b\b| \b\b/ \b\b- \b\b\\ \b\b| \b\b/ \b\b- \b\b\\ \b\b| \b\b/ \b\b- \b\b\\ \b\b| \b\b/ \b\b- \b\b\\ \b\b| \b\b/ \b\b- \b\b\\ \b\b| \b\b/ \b\b- \b\b\\ \b\b| \b\b/ \b\b- \b\b\\ \b\b| \b\b/ \b\b- \b\b\\ \b\b| \b\b/ \b\b- \b\b\\ \b\b| \b\b/ \b\b- \b\b\\ \b\b| \b\b/ \b\b- \b\b\\ \b\b| \b\b/ \b\b- \b\b\\ \b\b| \b\b/ \b\b- \b\b\\ \b\b| \b\b/ \b\b- \b\b\\ \b\b| \b\b/ \b\b- \b\b\\ \b\b| \b\b/ \b\b- \b\b\\ \b\b| \b\b/ \b\b- \b\b\\ \b\b| \b\b/ \b\b- \b\b\\ \b\b| \b\b/ \b\b- \b\b\\ \b\b| \b\b/ \b\b- \b\b\\ \b\b| \b\b/ \b\b- \b\b\\ \b\b| \b\b/ \b\b- \b\b\\ \b\b| \b\b/ \b\b- \b\b\\ \b\b| \b\b/ \b\b- \b\b\\ \b\b| \b\b/ \b\b- \b\b\\ \b\b| \b\b/ \b\b- \b\b\\ \b\b| \b\b/ \b\b- \b\b\\ \b\b| \b\b/ \b\b- \b\b\\ \b\b| \b\b/ \b\b- \b\b\\ \b\b| \b\b/ \b\b- \b\b\\ \b\b| \b\b/ \b\b- \b\b\\ \b\b| \b\b/ \b\b- \b\b\\ \b\b| \b\b/ \b\b- \b\b\\ \b\b| \b\b/ \b\b- \b\b\\ \b\b| \b\b/ \b\b- \b\b\\ \b\b| \b\b/ \b\b- \b\b\\ \b\b| \b\b/ \b\b- \b\b\\ \b\b| \b\b/ \b\b- \b\b\\ \b\b| \b\b/ \b\b- \b\b\\ \b\b| \b\b/ \b\b- \b\b\\ \b\b| \b\b/ \b\b- \b\b\\ \b\b| \b\b/ \b\b- \b\b\\ \b\b| \b\b/ \b\b- \b\b\\ \b\b| \b\b/ \b\b- \b\b\\ \b\b| \b\b/ \b\b- \b\b\\ \b\b| \b\b/ \b\b- \b\b\\ \b\b| \b\b/ \b\b- \b\b\\ \b\b| \b\b/ \b\b- \b\b\\ \b\b| \b\b/ \b\b- \b\b\\ \b\b| \b\b/ \b\b- \b\b\\ \b\b| \b\b/ \b\b- \b\b\\ \b\b| \b\b/ \b\b- \b\b\\ \b\b| \b\b/ \b\b- \b\b\\ \b\b| \b\b/ \b\b- \b\b\\ \b\b| \b\b/ \b\b- \b\b\\ \b\b| \b\b/ \b\b- \b\b\\ \b\b| \b\b/ \b\b- \b\b\\ \b\b| \b\b/ \b\b- \b\b\\ \b\b| \b\b/ \b\b- \b\b\\ \b\b| \b\b/ \b\b- \b\b\\ \b\b| \b\b/ \b\b- \b\b\\ \b\b| \b\b/ \b\b- \b\b\\ \b\b| \b\b/ \b\b- \b\b\\ \b\b| \b\b/ \b\b- \b\b\\ \b\b| \b\b/ \b\b- \b\b\\ \b\b| \b\b/ \b\b- \b\b\\ \b\b| \b\b/ \b\b- \b\b\\ \b\b| \b\b/ \b\b- \b\b\\ \b\b| \b\b/ \b\b- \b\b\\ \b\b| \b\b/ \b\b- \b\b\\ \b\b| \b\b/ \b\b- \b\b\\ \b\b| \b\b/ \b\b- \b\b\\ \b\b| \b\b/ \b\b- \b\b\\ \b\b| \b\b/ \b\b- \b\b\\ \b\b| \b\b/ \b\b- \b\b\\ \b\b| \b\b/ \b\b- \b\b\\ \b\b| \b\b/ \b\b- \b\b\\ \b\b| \b\b/ \b\b- \b\b\\ \b\b| \b\b/ \b\b- \b\b\\ \b\b| \b\b/ \b\b- \b\b\\ \b\b| \b\b/ \b\b- \b\b\\ \b\b| \b\b/ \b\b- \b\b\\ \b\b| \b\b/ \b\b- \b\b\\ \b\b| \b\b/ \b\b- \b\b\\ \b\b| \b\b/ \b\b- \b\b\\ \b\b| \b\b/ \b\b- \b\b\\ \b\b| \b\b/ \b\b- \b\b\\ \b\b| \b\b/ \b\b- \b\b\\ \b\b| \b\b/ \b\b- \b\b\\ \b\b| \b\b/ \b\b- \b\b\\ \b\b| \b\b/ \b\b- \b\b\\ \b\b| \b\b/ \b\b- \b\b\\ \b\b| \b\b/ \b\b- \b\b\\ \b\b| \b\b/ \b\b- \b\b\\ \b\b| \b\b/ \b\b- \b\b\\ \b\b| \b\b/ \b\b- \b\b\\ \b\b| \b\b/ \b\b- \b\b\\ \b\b| \b\b/ \b\b- \b\b\\ \b\b| \b\b/ \b\b- \b\b\\ \b\b| \b\b/ \b\b- \b\b\\ \b\b| \b\b/ \b\b- \b\b\\ \b\b| \b\b/ \b\b- \b\b\\ \b\b| \b\b/ \b\b- \b\b\\ \b\b| \b\b/ \b\b- \b\b\\ \b\b| \b\b/ \b\b- \b\b\\ \b\b| \b\b/ \b\b- \b\b\\ \b\b| \b\b/ \b\b- \b\b\\ \b\b| \b\b/ \b\b- \b\b\\ \b\b| \b\b/ \b\b- \b\b\\ \b\b| \b\b/ \b\b- \b\b\\ \b\b| \b\b/ \b\b- \b\b\\ \b\b| \b\b/ \b\b- \b\b\\ \b\b| \b\b/ \b\b- \b\b\\ \b\b| \b\b/ \b\b- \b\b\\ \b\b| \b\b/ \b\b- \b\b\\ \b\b| \b\b/ \b\b- \b\b\\ \b\b| \b\b/ \b\b- \b\b\\ \b\b| \b\b/ \b\b- \b\b\\ \b\b| \b\b/ \b\b- \b\b\\ \b\b| \b\b/ \b\b- \b\b\\ \b\b| \b\b/ \b\b- \b\b\\ \b\b| \b\b/ \b\b- \b\b\\ \b\b| \b\b/ \b\b- \b\b\\ \b\b| \b\b/ \b\b- \b\b\\ \b\b| \b\b/ \b\b- \b\b\\ \b\b| \b\b/ \b\bdone\n",
            "Solving environment: \\ \b\b| \b\b/ \b\b- \b\b\\ \b\b| \b\b/ \b\b- \b\b\\ \b\b| \b\b/ \b\b- \b\b\\ \b\b| \b\b/ \b\b- \b\b\\ \b\b| \b\b/ \b\b- \b\b\\ \b\b| \b\b/ \b\b- \b\b\\ \b\b| \b\b/ \b\b- \b\b\\ \b\b| \b\b/ \b\b- \b\b\\ \b\b| \b\b/ \b\b- \b\b\\ \b\b| \b\b/ \b\b- \b\b\\ \b\b| \b\b/ \b\b- \b\b\\ \b\b| \b\b/ \b\b- \b\b\\ \b\b| \b\b/ \b\b- \b\b\\ \b\b| \b\b/ \b\b- \b\b\\ \b\b| \b\b/ \b\b- \b\b\\ \b\b| \b\b/ \b\b- \b\b\\ \b\b| \b\b/ \b\b- \b\b\\ \b\b| \b\b/ \b\b- \b\b\\ \b\b| \b\b/ \b\b- \b\b\\ \b\b| \b\b/ \b\b- \b\b\\ \b\b| \b\b/ \b\b- \b\b\\ \b\b| \b\b/ \b\b- \b\b\\ \b\b| \b\b/ \b\b- \b\b\\ \b\b| \b\b/ \b\b- \b\b\\ \b\b| \b\b/ \b\b- \b\b\\ \b\b| \b\b/ \b\b- \b\b\\ \b\b| \b\b/ \b\b- \b\b\\ \b\b| \b\b/ \b\b- \b\b\\ \b\b| \b\b/ \b\b- \b\b\\ \b\b| \b\b/ \b\b- \b\b\\ \b\b| \b\b/ \b\b- \b\b\\ \b\b| \b\b/ \b\bdone\n",
            "\n",
            "\n",
            "==> WARNING: A newer version of conda exists. <==\n",
            "  current version: 4.14.0\n",
            "  latest version: 22.9.0\n",
            "\n",
            "Please update conda by running\n",
            "\n",
            "    $ conda update -n base -c conda-forge conda\n",
            "\n",
            "\n",
            "\n",
            "## Package Plan ##\n",
            "\n",
            "  environment location: /usr/local\n",
            "\n",
            "  added / updated specs:\n",
            "    - gromacs\n",
            "\n",
            "\n",
            "The following packages will be downloaded:\n",
            "\n",
            "    package                    |            build\n",
            "    ---------------------------|-----------------\n",
            "    ca-certificates-2022.9.24  |       ha878542_0         150 KB  conda-forge\n",
            "    certifi-2022.9.24          |     pyhd8ed1ab_0         155 KB  conda-forge\n",
            "    cudatoolkit-11.2.2         |      hbe64b41_10       876.8 MB  conda-forge\n",
            "    fftw-3.3.10                |nompi_hf0379b8_105         2.2 MB  conda-forge\n",
            "    gawk-5.1.0                 |       h7f98852_0         1.4 MB  conda-forge\n",
            "    gromacs-2019.6             |       h3fd9d12_0         7.8 MB  plumed/label/masterclass\n",
            "    gsl-2.7                    |       he838d99_0         3.2 MB  conda-forge\n",
            "    libblas-3.9.0              |16_linux64_openblas          13 KB  conda-forge\n",
            "    libcblas-3.9.0             |16_linux64_openblas          13 KB  conda-forge\n",
            "    libgfortran-ng-12.2.0      |      h69a702a_19          22 KB  conda-forge\n",
            "    libgfortran5-12.2.0        |      h337968e_19         1.8 MB  conda-forge\n",
            "    libhwloc-1.11.13           |       h3c4fd83_0         2.1 MB  conda-forge\n",
            "    liblapack-3.9.0            |16_linux64_openblas          13 KB  conda-forge\n",
            "    libopenblas-0.3.21         |pthreads_h78a6416_3        10.1 MB  conda-forge\n",
            "    openssl-1.1.1s             |       h166bdaf_0         2.1 MB  conda-forge\n",
            "    plumed-2.8.0               |nompi_h3dbea63_100         3.9 MB  conda-forge\n",
            "    ------------------------------------------------------------\n",
            "                                           Total:       911.8 MB\n",
            "\n",
            "The following NEW packages will be INSTALLED:\n",
            "\n",
            "  cudatoolkit        conda-forge/linux-64::cudatoolkit-11.2.2-hbe64b41_10\n",
            "  fftw               conda-forge/linux-64::fftw-3.3.10-nompi_hf0379b8_105\n",
            "  gawk               conda-forge/linux-64::gawk-5.1.0-h7f98852_0\n",
            "  gromacs            plumed/label/masterclass/linux-64::gromacs-2019.6-h3fd9d12_0\n",
            "  gsl                conda-forge/linux-64::gsl-2.7-he838d99_0\n",
            "  libblas            conda-forge/linux-64::libblas-3.9.0-16_linux64_openblas\n",
            "  libcblas           conda-forge/linux-64::libcblas-3.9.0-16_linux64_openblas\n",
            "  libgfortran-ng     conda-forge/linux-64::libgfortran-ng-12.2.0-h69a702a_19\n",
            "  libgfortran5       conda-forge/linux-64::libgfortran5-12.2.0-h337968e_19\n",
            "  libhwloc           conda-forge/linux-64::libhwloc-1.11.13-h3c4fd83_0\n",
            "  liblapack          conda-forge/linux-64::liblapack-3.9.0-16_linux64_openblas\n",
            "  libopenblas        conda-forge/linux-64::libopenblas-0.3.21-pthreads_h78a6416_3\n",
            "  plumed             conda-forge/linux-64::plumed-2.8.0-nompi_h3dbea63_100\n",
            "\n",
            "The following packages will be UPDATED:\n",
            "\n",
            "  ca-certificates                      2022.6.15-ha878542_0 --> 2022.9.24-ha878542_0\n",
            "  certifi            conda-forge/linux-64::certifi-2022.6.~ --> conda-forge/noarch::certifi-2022.9.24-pyhd8ed1ab_0\n",
            "  openssl                                 1.1.1q-h166bdaf_0 --> 1.1.1s-h166bdaf_0\n",
            "\n",
            "\n",
            "\n",
            "Downloading and Extracting Packages\n",
            "ca-certificates-2022 | 150 KB    | : 100% 1.0/1 [00:00<00:00,  5.75it/s]                \n",
            "libgfortran5-12.2.0  | 1.8 MB    | : 100% 1.0/1 [00:00<00:00,  1.68it/s]\n",
            "gsl-2.7              | 3.2 MB    | : 100% 1.0/1 [00:01<00:00,  1.40s/it]\n",
            "fftw-3.3.10          | 2.2 MB    | : 100% 1.0/1 [00:00<00:00,  1.44it/s]\n",
            "libopenblas-0.3.21   | 10.1 MB   | : 100% 1.0/1 [00:03<00:00,  3.10s/it]\n",
            "liblapack-3.9.0      | 13 KB     | : 100% 1.0/1 [00:00<00:00, 23.02it/s]\n",
            "certifi-2022.9.24    | 155 KB    | : 100% 1.0/1 [00:00<00:00, 13.59it/s]\n",
            "gromacs-2019.6       | 7.8 MB    | : 100% 1.0/1 [00:02<00:00,  2.93s/it]\n",
            "gawk-5.1.0           | 1.4 MB    | : 100% 1.0/1 [00:00<00:00,  1.02it/s]\n",
            "libblas-3.9.0        | 13 KB     | : 100% 1.0/1 [00:00<00:00, 17.25it/s]\n",
            "libhwloc-1.11.13     | 2.1 MB    | : 100% 1.0/1 [00:00<00:00,  1.12it/s]\n",
            "plumed-2.8.0         | 3.9 MB    | : 100% 1.0/1 [00:01<00:00,  1.79s/it]\n",
            "libcblas-3.9.0       | 13 KB     | : 100% 1.0/1 [00:00<00:00, 19.70it/s]\n",
            "libgfortran-ng-12.2. | 22 KB     | : 100% 1.0/1 [00:00<00:00, 21.39it/s]\n",
            "openssl-1.1.1s       | 2.1 MB    | : 100% 1.0/1 [00:00<00:00,  2.03it/s]\n",
            "cudatoolkit-11.2.2   | 876.8 MB  | : 100% 1.0/1 [02:56<00:00, 176.70s/it] \n",
            "Preparing transaction: \\ \b\b| \b\bdone\n",
            "Verifying transaction: - \b\b\\ \b\b| \b\b/ \b\b- \b\b\\ \b\b| \b\b/ \b\b- \b\b\\ \b\b| \b\b/ \b\b- \b\b\\ \b\b| \b\bdone\n",
            "Executing transaction: - \b\b\\ \b\b| \b\b/ \b\b- \b\b\\ \b\b| \b\b/ \b\b- \b\b\\ \b\b| \b\b/ \b\b- \b\b\\ \b\b| \b\b/ \b\b- \b\b\\ \b\b| \b\b/ \b\b- \b\b\\ \b\b| By downloading and using the CUDA Toolkit conda packages, you accept the terms and conditions of the CUDA End User License Agreement (EULA): https://docs.nvidia.com/cuda/eula/index.html\n",
            "\n",
            "\b\b/ \b\b- \b\b\\ \b\b| \b\b/ \b\b- \b\b\\ \b\b| \b\b/ \b\b- \b\b\\ \b\b| \b\b/ \b\b- \b\b\\ \b\b| \b\b/ \b\b- \b\b\\ \b\b| \b\b/ \b\b- \b\b\\ \b\bdone\n",
            "Retrieving notices: ...working... done\n"
          ]
        }
      ],
      "source": [
        "!conda install --strict-channel-priority -c plumed/label/masterclass -c conda-forge gromacs"
      ]
    },
    {
      "cell_type": "markdown",
      "source": [
        "Now you are ready to start, so\n",
        "\n",
        "1.   Make a copy of this notebook (File -> Save a copy in Drive)\n",
        "2.   Mount your google drive\n",
        "3.   Make a new folder for this task using the menus on the left side, for example in /drive/MyDrive/Structural_Bioinformatics make a folder named Task3\n",
        "4.   In the Task3 folder make a folder named MTD\n",
        "\n",
        "\n"
      ],
      "metadata": {
        "id": "k9jleXtKH372"
      }
    },
    {
      "cell_type": "code",
      "source": [
        "# mount google drive  \n",
        "from google.colab import drive\n",
        "drive.mount('/content/drive')\n",
        "%cd /content/drive/MyDrive"
      ],
      "metadata": {
        "colab": {
          "base_uri": "https://localhost:8080/"
        },
        "id": "cWWH33ZhDmQL",
        "outputId": "e20bd869-9c2d-4aaf-febc-e0ca2c217af2"
      },
      "execution_count": 3,
      "outputs": [
        {
          "output_type": "stream",
          "name": "stdout",
          "text": [
            "Drive already mounted at /content/drive; to attempt to forcibly remount, call drive.mount(\"/content/drive\", force_remount=True).\n",
            "/content/drive/MyDrive\n"
          ]
        }
      ]
    },
    {
      "cell_type": "code",
      "source": [
        "# set the path to your local task folder\n",
        "mtd_path='/content/drive/MyDrive/Structural_Bioinformatics/Task3/MTD'\n",
        "%cd {mtd_path}"
      ],
      "metadata": {
        "colab": {
          "base_uri": "https://localhost:8080/"
        },
        "id": "CemhtLzPIQLt",
        "outputId": "12aba4ae-136a-47b5-e17e-43bbebe126e8"
      },
      "execution_count": 5,
      "outputs": [
        {
          "output_type": "stream",
          "name": "stdout",
          "text": [
            "/content/drive/MyDrive/Structural_Bioinformatics/Task3/MTD\n"
          ]
        }
      ]
    },
    {
      "cell_type": "code",
      "source": [
        "# test the gromacs executable\n",
        "!gmx mdrun -h"
      ],
      "metadata": {
        "colab": {
          "base_uri": "https://localhost:8080/"
        },
        "id": "XWoeG6fDJBmN",
        "outputId": "56fe4af8-138b-4148-a39a-cc53dff7d815"
      },
      "execution_count": 7,
      "outputs": [
        {
          "output_type": "stream",
          "name": "stdout",
          "text": [
            "                      :-) GROMACS - gmx mdrun, 2019.6 (-:\n",
            "\n",
            "                            GROMACS is written by:\n",
            "     Emile Apol      Rossen Apostolov      Paul Bauer     Herman J.C. Berendsen\n",
            "    Par Bjelkmar      Christian Blau   Viacheslav Bolnykh     Kevin Boyd    \n",
            " Aldert van Buuren   Rudi van Drunen     Anton Feenstra       Alan Gray     \n",
            "  Gerrit Groenhof     Anca Hamuraru    Vincent Hindriksen  M. Eric Irrgang  \n",
            "  Aleksei Iupinov   Christoph Junghans     Joe Jordan     Dimitrios Karkoulis\n",
            "    Peter Kasson        Jiri Kraus      Carsten Kutzner      Per Larsson    \n",
            "  Justin A. Lemkul    Viveca Lindahl    Magnus Lundborg     Erik Marklund   \n",
            "    Pascal Merz     Pieter Meulenhoff    Teemu Murtola       Szilard Pall   \n",
            "    Sander Pronk      Roland Schulz      Michael Shirts    Alexey Shvetsov  \n",
            "   Alfons Sijbers     Peter Tieleman      Jon Vincent      Teemu Virolainen \n",
            " Christian Wennberg    Maarten Wolf   \n",
            "                           and the project leaders:\n",
            "        Mark Abraham, Berk Hess, Erik Lindahl, and David van der Spoel\n",
            "\n",
            "Copyright (c) 1991-2000, University of Groningen, The Netherlands.\n",
            "Copyright (c) 2001-2018, The GROMACS development team at\n",
            "Uppsala University, Stockholm University and\n",
            "the Royal Institute of Technology, Sweden.\n",
            "check out http://www.gromacs.org for more information.\n",
            "\n",
            "GROMACS is free software; you can redistribute it and/or modify it\n",
            "under the terms of the GNU Lesser General Public License\n",
            "as published by the Free Software Foundation; either version 2.1\n",
            "of the License, or (at your option) any later version.\n",
            "\n",
            "GROMACS:      gmx mdrun, version 2019.6\n",
            "Executable:   /usr/local/bin/gmx\n",
            "Data prefix:  /usr/local\n",
            "Working dir:  /content/drive/MyDrive/Structural_Bioinformatics/Task3/MTD\n",
            "Command line:\n",
            "  gmx mdrun -h\n",
            "\n",
            "SYNOPSIS\n",
            "\n",
            "gmx mdrun [-s [<.tpr>]] [-cpi [<.cpt>]] [-table [<.xvg>]] [-tablep [<.xvg>]]\n",
            "          [-tableb [<.xvg> [...]]] [-rerun [<.xtc/.trr/...>]] [-ei [<.edi>]]\n",
            "          [-multidir [<dir> [...]]] [-awh [<.xvg>]] [-plumed [<.dat>]]\n",
            "          [-membed [<.dat>]] [-mp [<.top>]] [-mn [<.ndx>]]\n",
            "          [-o [<.trr/.cpt/...>]] [-x [<.xtc/.tng>]] [-cpo [<.cpt>]]\n",
            "          [-c [<.gro/.g96/...>]] [-e [<.edr>]] [-g [<.log>]] [-dhdl [<.xvg>]]\n",
            "          [-field [<.xvg>]] [-tpi [<.xvg>]] [-tpid [<.xvg>]] [-eo [<.xvg>]]\n",
            "          [-devout [<.xvg>]] [-runav [<.xvg>]] [-px [<.xvg>]] [-pf [<.xvg>]]\n",
            "          [-ro [<.xvg>]] [-ra [<.log>]] [-rs [<.log>]] [-rt [<.log>]]\n",
            "          [-mtx [<.mtx>]] [-if [<.xvg>]] [-swap [<.xvg>]] [-deffnm <string>]\n",
            "          [-xvg <enum>] [-dd <vector>] [-ddorder <enum>] [-npme <int>]\n",
            "          [-nt <int>] [-ntmpi <int>] [-ntomp <int>] [-ntomp_pme <int>]\n",
            "          [-pin <enum>] [-pinoffset <int>] [-pinstride <int>]\n",
            "          [-gpu_id <string>] [-gputasks <string>] [-[no]ddcheck]\n",
            "          [-rdd <real>] [-rcon <real>] [-dlb <enum>] [-dds <real>]\n",
            "          [-gcom <int>] [-nb <enum>] [-nstlist <int>] [-[no]tunepme]\n",
            "          [-pme <enum>] [-pmefft <enum>] [-bonded <enum>] [-[no]v]\n",
            "          [-pforce <real>] [-[no]reprod] [-cpt <real>] [-[no]cpnum]\n",
            "          [-[no]append] [-nsteps <int>] [-maxh <real>] [-replex <int>]\n",
            "          [-nex <int>] [-reseed <int>] [-[no]hrex]\n",
            "\n",
            "DESCRIPTION\n",
            "\n",
            "gmx mdrun is the main computational chemistry engine within GROMACS.\n",
            "Obviously, it performs Molecular Dynamics simulations, but it can also perform\n",
            "Stochastic Dynamics, Energy Minimization, test particle insertion or\n",
            "(re)calculation of energies. Normal mode analysis is another option. In this\n",
            "case mdrun builds a Hessian matrix from single conformation. For usual Normal\n",
            "Modes-like calculations, make sure that the structure provided is properly\n",
            "energy-minimized. The generated matrix can be diagonalized by gmx nmeig.\n",
            "\n",
            "The mdrun program reads the run input file (-s) and distributes the topology\n",
            "over ranks if needed. mdrun produces at least four output files. A single log\n",
            "file (-g) is written. The trajectory file (-o), contains coordinates,\n",
            "velocities and optionally forces. The structure file (-c) contains the\n",
            "coordinates and velocities of the last step. The energy file (-e) contains\n",
            "energies, the temperature, pressure, etc, a lot of these things are also\n",
            "printed in the log file. Optionally coordinates can be written to a compressed\n",
            "trajectory file (-x).\n",
            "\n",
            "The option -dhdl is only used when free energy calculation is turned on.\n",
            "\n",
            "Running mdrun efficiently in parallel is a complex topic topic, many aspects\n",
            "of which are covered in the online User Guide. You should look there for\n",
            "practical advice on using many of the options available in mdrun.\n",
            "\n",
            "ED (essential dynamics) sampling and/or additional flooding potentials are\n",
            "switched on by using the -ei flag followed by an .edi file. The .edi file can\n",
            "be produced with the make_edi tool or by using options in the essdyn menu of\n",
            "the WHAT IF program. mdrun produces a .xvg output file that contains\n",
            "projections of positions, velocities and forces onto selected eigenvectors.\n",
            "\n",
            "When user-defined potential functions have been selected in the .mdp file the\n",
            "-table option is used to pass mdrun a formatted table with potential\n",
            "functions. The file is read from either the current directory or from the\n",
            "GMXLIB directory. A number of pre-formatted tables are presented in the GMXLIB\n",
            "dir, for 6-8, 6-9, 6-10, 6-11, 6-12 Lennard-Jones potentials with normal\n",
            "Coulomb. When pair interactions are present, a separate table for pair\n",
            "interaction functions is read using the -tablep option.\n",
            "\n",
            "When tabulated bonded functions are present in the topology, interaction\n",
            "functions are read using the -tableb option. For each different tabulated\n",
            "interaction type used, a table file name must be given. For the topology to\n",
            "work, a file name given here must match a character sequence before the file\n",
            "extension. That sequence is: an underscore, then a 'b' for bonds, an 'a' for\n",
            "angles or a 'd' for dihedrals, and finally the matching table number index\n",
            "used in the topology. Note that, these options are deprecated, and in future\n",
            "will be available via grompp.\n",
            "\n",
            "The options -px and -pf are used for writing pull COM coordinates and forces\n",
            "when pulling is selected in the .mdp file.\n",
            "\n",
            "Finally some experimental algorithms can be tested when the appropriate\n",
            "options have been given. Currently under investigation are: polarizability.\n",
            "\n",
            "The option -membed does what used to be g_membed, i.e. embed a protein into a\n",
            "membrane. This module requires a number of settings that are provided in a\n",
            "data file that is the argument of this option. For more details in membrane\n",
            "embedding, see the documentation in the user guide. The options -mn and -mp\n",
            "are used to provide the index and topology files used for the embedding.\n",
            "\n",
            "The option -pforce is useful when you suspect a simulation crashes due to too\n",
            "large forces. With this option coordinates and forces of atoms with a force\n",
            "larger than a certain value will be printed to stderr. It will also terminate\n",
            "the run when non-finite forces are present.\n",
            "\n",
            "Checkpoints containing the complete state of the system are written at regular\n",
            "intervals (option -cpt) to the file -cpo, unless option -cpt is set to -1. The\n",
            "previous checkpoint is backed up to state_prev.cpt to make sure that a recent\n",
            "state of the system is always available, even when the simulation is\n",
            "terminated while writing a checkpoint. With -cpnum all checkpoint files are\n",
            "kept and appended with the step number. A simulation can be continued by\n",
            "reading the full state from file with option -cpi. This option is intelligent\n",
            "in the way that if no checkpoint file is found, GROMACS just assumes a normal\n",
            "run and starts from the first step of the .tpr file. By default the output\n",
            "will be appending to the existing output files. The checkpoint file contains\n",
            "checksums of all output files, such that you will never loose data when some\n",
            "output files are modified, corrupt or removed. There are three scenarios with\n",
            "-cpi:\n",
            "\n",
            "* no files with matching names are present: new output files are written\n",
            "\n",
            "* all files are present with names and checksums matching those stored in the\n",
            "checkpoint file: files are appended\n",
            "\n",
            "* otherwise no files are modified and a fatal error is generated\n",
            "\n",
            "With -noappend new output files are opened and the simulation part number is\n",
            "added to all output file names. Note that in all cases the checkpoint file\n",
            "itself is not renamed and will be overwritten, unless its name does not match\n",
            "the -cpo option.\n",
            "\n",
            "With checkpointing the output is appended to previously written output files,\n",
            "unless -noappend is used or none of the previous output files are present\n",
            "(except for the checkpoint file). The integrity of the files to be appended is\n",
            "verified using checksums which are stored in the checkpoint file. This ensures\n",
            "that output can not be mixed up or corrupted due to file appending. When only\n",
            "some of the previous output files are present, a fatal error is generated and\n",
            "no old output files are modified and no new output files are opened. The\n",
            "result with appending will be the same as from a single run. The contents will\n",
            "be binary identical, unless you use a different number of ranks or dynamic\n",
            "load balancing or the FFT library uses optimizations through timing.\n",
            "\n",
            "With option -maxh a simulation is terminated and a checkpoint file is written\n",
            "at the first neighbor search step where the run time exceeds -maxh*0.99 hours.\n",
            "This option is particularly useful in combination with setting nsteps to -1\n",
            "either in the mdp or using the similarly named command line option (although\n",
            "the latter is deprecated). This results in an infinite run, terminated only\n",
            "when the time limit set by -maxh is reached (if any) or upon receiving a\n",
            "signal.\n",
            "\n",
            "When mdrun receives a TERM or INT signal (e.g. when ctrl+C is pressed), it\n",
            "will stop at the next neighbor search step or at the second global\n",
            "communication step, whichever happens later. When mdrun receives a second TERM\n",
            "or INT signal and reproducibility is not requested, it will stop at the first\n",
            "global communication step. In both cases all the usual output will be written\n",
            "to file and a checkpoint file is written at the last step. When mdrun receives\n",
            "an ABRT signal or the third TERM or INT signal, it will abort directly without\n",
            "writing a new checkpoint file. When running with MPI, a signal to one of the\n",
            "mdrun ranks is sufficient, this signal should not be sent to mpirun or the\n",
            "mdrun process that is the parent of the others.\n",
            "\n",
            "Interactive molecular dynamics (IMD) can be activated by using at least one of\n",
            "the three IMD switches: The -imdterm switch allows one to terminate the\n",
            "simulation from the molecular viewer (e.g. VMD). With -imdwait, mdrun pauses\n",
            "whenever no IMD client is connected. Pulling from the IMD remote can be turned\n",
            "on by -imdpull. The port mdrun listens to can be altered by -imdport.The file\n",
            "pointed to by -if contains atom indices and forces if IMD pulling is used.\n",
            "\n",
            "When mdrun is started with MPI, it does not run niced by default.\n",
            "\n",
            "OPTIONS\n",
            "\n",
            "Options to specify input files:\n",
            "\n",
            " -s      [<.tpr>]           (topol.tpr)\n",
            "           Portable xdr run input file\n",
            " -cpi    [<.cpt>]           (state.cpt)      (Opt.)\n",
            "           Checkpoint file\n",
            " -table  [<.xvg>]           (table.xvg)      (Opt.)\n",
            "           xvgr/xmgr file\n",
            " -tablep [<.xvg>]           (tablep.xvg)     (Opt.)\n",
            "           xvgr/xmgr file\n",
            " -tableb [<.xvg> [...]]     (table.xvg)      (Opt.)\n",
            "           xvgr/xmgr file\n",
            " -rerun  [<.xtc/.trr/...>]  (rerun.xtc)      (Opt.)\n",
            "           Trajectory: xtc trr cpt gro g96 pdb tng\n",
            " -ei     [<.edi>]           (sam.edi)        (Opt.)\n",
            "           ED sampling input\n",
            " -multidir [<dir> [...]]    (rundir)         (Opt.)\n",
            "           Run directory\n",
            " -awh    [<.xvg>]           (awhinit.xvg)    (Opt.)\n",
            "           xvgr/xmgr file\n",
            " -plumed [<.dat>]           (plumed.dat)     (Opt.)\n",
            "           Generic data file\n",
            " -membed [<.dat>]           (membed.dat)     (Opt.)\n",
            "           Generic data file\n",
            " -mp     [<.top>]           (membed.top)     (Opt.)\n",
            "           Topology file\n",
            " -mn     [<.ndx>]           (membed.ndx)     (Opt.)\n",
            "           Index file\n",
            "\n",
            "Options to specify output files:\n",
            "\n",
            " -o      [<.trr/.cpt/...>]  (traj.trr)\n",
            "           Full precision trajectory: trr cpt tng\n",
            " -x      [<.xtc/.tng>]      (traj_comp.xtc)  (Opt.)\n",
            "           Compressed trajectory (tng format or portable xdr format)\n",
            " -cpo    [<.cpt>]           (state.cpt)      (Opt.)\n",
            "           Checkpoint file\n",
            " -c      [<.gro/.g96/...>]  (confout.gro)\n",
            "           Structure file: gro g96 pdb brk ent esp\n",
            " -e      [<.edr>]           (ener.edr)\n",
            "           Energy file\n",
            " -g      [<.log>]           (md.log)\n",
            "           Log file\n",
            " -dhdl   [<.xvg>]           (dhdl.xvg)       (Opt.)\n",
            "           xvgr/xmgr file\n",
            " -field  [<.xvg>]           (field.xvg)      (Opt.)\n",
            "           xvgr/xmgr file\n",
            " -tpi    [<.xvg>]           (tpi.xvg)        (Opt.)\n",
            "           xvgr/xmgr file\n",
            " -tpid   [<.xvg>]           (tpidist.xvg)    (Opt.)\n",
            "           xvgr/xmgr file\n",
            " -eo     [<.xvg>]           (edsam.xvg)      (Opt.)\n",
            "           xvgr/xmgr file\n",
            " -devout [<.xvg>]           (deviatie.xvg)   (Opt.)\n",
            "           xvgr/xmgr file\n",
            " -runav  [<.xvg>]           (runaver.xvg)    (Opt.)\n",
            "           xvgr/xmgr file\n",
            " -px     [<.xvg>]           (pullx.xvg)      (Opt.)\n",
            "           xvgr/xmgr file\n",
            " -pf     [<.xvg>]           (pullf.xvg)      (Opt.)\n",
            "           xvgr/xmgr file\n",
            " -ro     [<.xvg>]           (rotation.xvg)   (Opt.)\n",
            "           xvgr/xmgr file\n",
            " -ra     [<.log>]           (rotangles.log)  (Opt.)\n",
            "           Log file\n",
            " -rs     [<.log>]           (rotslabs.log)   (Opt.)\n",
            "           Log file\n",
            " -rt     [<.log>]           (rottorque.log)  (Opt.)\n",
            "           Log file\n",
            " -mtx    [<.mtx>]           (nm.mtx)         (Opt.)\n",
            "           Hessian matrix\n",
            " -if     [<.xvg>]           (imdforces.xvg)  (Opt.)\n",
            "           xvgr/xmgr file\n",
            " -swap   [<.xvg>]           (swapions.xvg)   (Opt.)\n",
            "           xvgr/xmgr file\n",
            "\n",
            "Other options:\n",
            "\n",
            " -deffnm <string>\n",
            "           Set the default filename for all file options\n",
            " -xvg    <enum>             (xmgrace)\n",
            "           xvg plot formatting: xmgrace, xmgr, none\n",
            " -dd     <vector>           (0 0 0)\n",
            "           Domain decomposition grid, 0 is optimize\n",
            " -ddorder <enum>            (interleave)\n",
            "           DD rank order: interleave, pp_pme, cartesian\n",
            " -npme   <int>              (-1)\n",
            "           Number of separate ranks to be used for PME, -1 is guess\n",
            " -nt     <int>              (0)\n",
            "           Total number of threads to start (0 is guess)\n",
            " -ntmpi  <int>              (0)\n",
            "           Number of thread-MPI ranks to start (0 is guess)\n",
            " -ntomp  <int>              (0)\n",
            "           Number of OpenMP threads per MPI rank to start (0 is guess)\n",
            " -ntomp_pme <int>           (0)\n",
            "           Number of OpenMP threads per MPI rank to start (0 is -ntomp)\n",
            " -pin    <enum>             (auto)\n",
            "           Whether mdrun should try to set thread affinities: auto, on, off\n",
            " -pinoffset <int>           (0)\n",
            "           The lowest logical core number to which mdrun should pin the first\n",
            "           thread\n",
            " -pinstride <int>           (0)\n",
            "           Pinning distance in logical cores for threads, use 0 to minimize\n",
            "           the number of threads per physical core\n",
            " -gpu_id <string>\n",
            "           List of unique GPU device IDs available to use\n",
            " -gputasks <string>\n",
            "           List of GPU device IDs, mapping each PP task on each node to a\n",
            "           device\n",
            " -[no]ddcheck               (yes)\n",
            "           Check for all bonded interactions with DD\n",
            " -rdd    <real>             (0)\n",
            "           The maximum distance for bonded interactions with DD (nm), 0 is\n",
            "           determine from initial coordinates\n",
            " -rcon   <real>             (0)\n",
            "           Maximum distance for P-LINCS (nm), 0 is estimate\n",
            " -dlb    <enum>             (auto)\n",
            "           Dynamic load balancing (with DD): auto, no, yes\n",
            " -dds    <real>             (0.8)\n",
            "           Fraction in (0,1) by whose reciprocal the initial DD cell size will\n",
            "           be increased in order to provide a margin in which dynamic load\n",
            "           balancing can act while preserving the minimum cell size.\n",
            " -gcom   <int>              (-1)\n",
            "           Global communication frequency\n",
            " -nb     <enum>             (auto)\n",
            "           Calculate non-bonded interactions on: auto, cpu, gpu\n",
            " -nstlist <int>             (0)\n",
            "           Set nstlist when using a Verlet buffer tolerance (0 is guess)\n",
            " -[no]tunepme               (yes)\n",
            "           Optimize PME load between PP/PME ranks or GPU/CPU (only with the\n",
            "           Verlet cut-off scheme)\n",
            " -pme    <enum>             (auto)\n",
            "           Perform PME calculations on: auto, cpu, gpu\n",
            " -pmefft <enum>             (auto)\n",
            "           Perform PME FFT calculations on: auto, cpu, gpu\n",
            " -bonded <enum>             (auto)\n",
            "           Perform bonded calculations on: auto, cpu, gpu\n",
            " -[no]v                     (no)\n",
            "           Be loud and noisy\n",
            " -pforce <real>             (-1)\n",
            "           Print all forces larger than this (kJ/mol nm)\n",
            " -[no]reprod                (no)\n",
            "           Try to avoid optimizations that affect binary reproducibility\n",
            " -cpt    <real>             (15)\n",
            "           Checkpoint interval (minutes)\n",
            " -[no]cpnum                 (no)\n",
            "           Keep and number checkpoint files\n",
            " -[no]append                (yes)\n",
            "           Append to previous output files when continuing from checkpoint\n",
            "           instead of adding the simulation part number to all file names\n",
            " -nsteps <int>              (-2)\n",
            "           Run this number of steps (-1 means infinite, -2 means use mdp\n",
            "           option, smaller is invalid)\n",
            " -maxh   <real>             (-1)\n",
            "           Terminate after 0.99 times this time (hours)\n",
            " -replex <int>              (0)\n",
            "           Attempt replica exchange periodically with this period (steps)\n",
            " -nex    <int>              (0)\n",
            "           Number of random exchanges to carry out each exchange interval (N^3\n",
            "           is one suggestion).  -nex zero or not specified gives neighbor\n",
            "           replica exchange.\n",
            " -reseed <int>              (-1)\n",
            "           Seed for replica exchange, -1 is generate a seed\n",
            " -[no]hrex                  (no)\n",
            "           Enable hamiltonian replica exchange\n",
            "\n",
            "GROMACS reminds you: \"If I Wanted You to Understand This, I Would Explain it Better\" (J. Cruijff)\n",
            "\n"
          ]
        }
      ]
    },
    {
      "cell_type": "code",
      "source": [
        "# make a copy of the GitHub structural bioinformatics repository\n",
        "# this containts usefull input files for runnign the simulatoins\n",
        "!git clone https://github.com/carlocamilloni/Structural-Bioinformatics.git ../sb --depth 1"
      ],
      "metadata": {
        "colab": {
          "base_uri": "https://localhost:8080/"
        },
        "id": "TqptC1NBJG9B",
        "outputId": "96d794fa-e7a1-4af9-d822-52429f3d4ba6"
      },
      "execution_count": 8,
      "outputs": [
        {
          "output_type": "stream",
          "name": "stdout",
          "text": [
            "Cloning into '../sb'...\n",
            "remote: Enumerating objects: 49, done.\u001b[K\n",
            "remote: Counting objects: 100% (49/49), done.\u001b[K\n",
            "remote: Compressing objects: 100% (44/44), done.\u001b[K\n",
            "remote: Total 49 (delta 6), reused 41 (delta 4), pack-reused 0\u001b[K\n",
            "Unpacking objects: 100% (49/49), done.\n",
            "Checking out files: 100% (38/38), done.\n"
          ]
        }
      ]
    },
    {
      "cell_type": "markdown",
      "source": [
        "##Metadynamics simulations on Alanine Dipetide in Vacuum"
      ],
      "metadata": {
        "id": "ebIk8qfTKdgP"
      }
    },
    {
      "cell_type": "markdown",
      "source": [
        "In https://github.com/carlocamilloni/Structural-Bioinformatics/blob/main/Notebooks/lab02_MD.ipynb you performed a conventional MD simulation of alanine dipeptide in vacuum. Now you can repeat the same simulation but using Metadynamics to enhance the sampling of conformational space with respect to some conformational parameters, in particular we will use the phi and psi angles."
      ],
      "metadata": {
        "id": "yywxuEUILQI5"
      }
    },
    {
      "cell_type": "markdown",
      "source": [
        "###System preparation"
      ],
      "metadata": {
        "id": "6cQHTJPgMAK3"
      }
    },
    {
      "cell_type": "markdown",
      "source": [
        "First of all let's prepare the system as you already done before:"
      ],
      "metadata": {
        "id": "cSBLCJg_Lw2I"
      }
    },
    {
      "cell_type": "code",
      "source": [
        "%cd {mtd_path}\n",
        "%cp ../sb/Data/md/inputs/aladp.pdb .\n",
        "%cp ../sb/Data/md/mdps/0-em-steep.mdp em.mdp\n",
        "%cp ../sb/Data/md/mdps/run.mdp ."
      ],
      "metadata": {
        "colab": {
          "base_uri": "https://localhost:8080/"
        },
        "id": "oDfZTGCDKh-1",
        "outputId": "cb976a83-610e-44e0-aa43-0027be88a363"
      },
      "execution_count": 13,
      "outputs": [
        {
          "output_type": "stream",
          "name": "stdout",
          "text": [
            "/content/drive/MyDrive/Structural_Bioinformatics/Task3/MTD\n"
          ]
        }
      ]
    },
    {
      "cell_type": "code",
      "source": [
        "# select force-field\n",
        "!gmx pdb2gmx -f aladp.pdb -water none -ff amber03\n",
        "# set the box\n",
        "!gmx editconf -f conf.gro -bt cubic -d 1 -o boxed.gro\n",
        "# energy minimisation\n",
        "!gmx grompp -f em.mdp -c boxed.gro -p topol.top -o em.tpr\n",
        "!gmx mdrun -deffnm em -v"
      ],
      "metadata": {
        "colab": {
          "base_uri": "https://localhost:8080/"
        },
        "id": "jXbl-UclL48f",
        "outputId": "71471e59-32cc-434a-a287-ef98493383fa"
      },
      "execution_count": 12,
      "outputs": [
        {
          "output_type": "stream",
          "name": "stdout",
          "text": [
            "                     :-) GROMACS - gmx pdb2gmx, 2019.6 (-:\n",
            "\n",
            "                            GROMACS is written by:\n",
            "     Emile Apol      Rossen Apostolov      Paul Bauer     Herman J.C. Berendsen\n",
            "    Par Bjelkmar      Christian Blau   Viacheslav Bolnykh     Kevin Boyd    \n",
            " Aldert van Buuren   Rudi van Drunen     Anton Feenstra       Alan Gray     \n",
            "  Gerrit Groenhof     Anca Hamuraru    Vincent Hindriksen  M. Eric Irrgang  \n",
            "  Aleksei Iupinov   Christoph Junghans     Joe Jordan     Dimitrios Karkoulis\n",
            "    Peter Kasson        Jiri Kraus      Carsten Kutzner      Per Larsson    \n",
            "  Justin A. Lemkul    Viveca Lindahl    Magnus Lundborg     Erik Marklund   \n",
            "    Pascal Merz     Pieter Meulenhoff    Teemu Murtola       Szilard Pall   \n",
            "    Sander Pronk      Roland Schulz      Michael Shirts    Alexey Shvetsov  \n",
            "   Alfons Sijbers     Peter Tieleman      Jon Vincent      Teemu Virolainen \n",
            " Christian Wennberg    Maarten Wolf   \n",
            "                           and the project leaders:\n",
            "        Mark Abraham, Berk Hess, Erik Lindahl, and David van der Spoel\n",
            "\n",
            "Copyright (c) 1991-2000, University of Groningen, The Netherlands.\n",
            "Copyright (c) 2001-2018, The GROMACS development team at\n",
            "Uppsala University, Stockholm University and\n",
            "the Royal Institute of Technology, Sweden.\n",
            "check out http://www.gromacs.org for more information.\n",
            "\n",
            "GROMACS is free software; you can redistribute it and/or modify it\n",
            "under the terms of the GNU Lesser General Public License\n",
            "as published by the Free Software Foundation; either version 2.1\n",
            "of the License, or (at your option) any later version.\n",
            "\n",
            "GROMACS:      gmx pdb2gmx, version 2019.6\n",
            "Executable:   /usr/local/bin/gmx\n",
            "Data prefix:  /usr/local\n",
            "Working dir:  /content/drive/MyDrive/Structural_Bioinformatics/Task3/MTD\n",
            "Command line:\n",
            "  gmx pdb2gmx -f aladp.pdb -water none -ff amber03\n",
            "\n",
            "\n",
            "Using the Amber03 force field in directory amber03.ff\n",
            "\n",
            "going to rename amber03.ff/aminoacids.r2b\n",
            "Opening force field file /usr/local/share/gromacs/top/amber03.ff/aminoacids.r2b\n",
            "going to rename amber03.ff/dna.r2b\n",
            "Opening force field file /usr/local/share/gromacs/top/amber03.ff/dna.r2b\n",
            "going to rename amber03.ff/rna.r2b\n",
            "Opening force field file /usr/local/share/gromacs/top/amber03.ff/rna.r2b\n",
            "Reading aladp.pdb...\n",
            "Read '', 22 atoms\n",
            "Analyzing pdb file\n",
            "Splitting chemical chains based on TER records or chain id changing.\n",
            "There are 1 chains and 0 blocks of water and 3 residues with 22 atoms\n",
            "\n",
            "  chain  #res #atoms\n",
            "  1 ' '     3     22  \n",
            "\n",
            "All occupancies are one\n",
            "Opening force field file /usr/local/share/gromacs/top/amber03.ff/atomtypes.atp\n",
            "\rAtomtype 1\rAtomtype 2\rAtomtype 3\rAtomtype 4\rAtomtype 5\rAtomtype 6\rAtomtype 7\rAtomtype 8\rAtomtype 9\rAtomtype 10\rAtomtype 11\rAtomtype 12\rAtomtype 13\rAtomtype 14\rAtomtype 15\rAtomtype 16\rAtomtype 17\rAtomtype 18\rAtomtype 19\rAtomtype 20\rAtomtype 21\rAtomtype 22\rAtomtype 23\rAtomtype 24\rAtomtype 25\rAtomtype 26\rAtomtype 27\rAtomtype 28\rAtomtype 29\rAtomtype 30\rAtomtype 31\rAtomtype 32\rAtomtype 33\rAtomtype 34\rAtomtype 35\rAtomtype 36\rAtomtype 37\rAtomtype 38\rAtomtype 39\rAtomtype 40\rAtomtype 41\rAtomtype 42\rAtomtype 43\rAtomtype 44\rAtomtype 45\rAtomtype 46\rAtomtype 47\rAtomtype 48\rAtomtype 49\rAtomtype 50\rAtomtype 51\rAtomtype 52\rAtomtype 53\rAtomtype 54\rAtomtype 55\rAtomtype 56\rAtomtype 57\rAtomtype 58\rAtomtype 59\rAtomtype 60\rAtomtype 61\rAtomtype 62\rAtomtype 63\rAtomtype 64\rAtomtype 65\rAtomtype 66\rAtomtype 67\rAtomtype 68\n",
            "Reading residue database... (Amber03)\n",
            "Opening force field file /usr/local/share/gromacs/top/amber03.ff/aminoacids.rtp\n",
            "\rResidue 1\rResidue 2\rResidue 3\rResidue 4\rResidue 5\rResidue 6\rResidue 7\rResidue 8\rResidue 9\rResidue 10\rResidue 11\rResidue 12\rResidue 13\rResidue 14\rResidue 15\rResidue 16\rResidue 17\rResidue 18\rResidue 19\rResidue 20\rResidue 21\rResidue 22\rResidue 23\rResidue 24\rResidue 25\rResidue 26\rResidue 27\rResidue 28\rResidue 29\rResidue 30\rResidue 31\rResidue 32\rResidue 33\rResidue 34\rResidue 35\rResidue 36\rResidue 37\rResidue 38\rResidue 39\rResidue 40\rResidue 41\rResidue 42\rResidue 43\rResidue 44\rResidue 45\rResidue 46\rResidue 47\rResidue 48\rResidue 49\rResidue 50\rResidue 51\rResidue 52\rResidue 53\rResidue 54\rResidue 55\rResidue 56\rResidue 57\rResidue 58\rResidue 59\rResidue 60\rResidue 61\rResidue 62\rResidue 63\rResidue 64\rResidue 65\rResidue 66\rResidue 67\rResidue 68\rResidue 69\rResidue 70\rResidue 71\rResidue 72\rResidue 73\rResidue 74\rResidue 75\rResidue 76\rResidue 77\rResidue 78\rResidue 79\rResidue 80\rResidue 81\rResidue 82\rResidue 83\rResidue 84\rResidue 85\rResidue 86\rResidue 87\rResidue 88\rResidue 89\rResidue 90\rResidue 91\rResidue 92\rResidue 93\n",
            "Sorting it all out...\n",
            "Opening force field file /usr/local/share/gromacs/top/amber03.ff/dna.rtp\n",
            "\rResidue 94\rResidue 95\rResidue 96\rResidue 97\rResidue 98\rResidue 99\rResidue 100\rResidue 101\rResidue 102\rResidue 103\rResidue 104\rResidue 105\rResidue 106\rResidue 107\rResidue 108\rResidue 109\n",
            "Sorting it all out...\n",
            "Opening force field file /usr/local/share/gromacs/top/amber03.ff/rna.rtp\n",
            "\rResidue 110\rResidue 111\rResidue 112\rResidue 113\rResidue 114\rResidue 115\rResidue 116\rResidue 117\rResidue 118\rResidue 119\rResidue 120\rResidue 121\rResidue 122\rResidue 123\rResidue 124\rResidue 125\n",
            "Sorting it all out...\n",
            "Opening force field file /usr/local/share/gromacs/top/amber03.ff/aminoacids.hdb\n",
            "Opening force field file /usr/local/share/gromacs/top/amber03.ff/dna.hdb\n",
            "Opening force field file /usr/local/share/gromacs/top/amber03.ff/rna.hdb\n",
            "Opening force field file /usr/local/share/gromacs/top/amber03.ff/aminoacids.n.tdb\n",
            "Opening force field file /usr/local/share/gromacs/top/amber03.ff/aminoacids.c.tdb\n",
            "\n",
            "Back Off! I just backed up topol.top to ./#topol.top.1#\n",
            "Processing chain 1 (22 atoms, 3 residues)\n",
            "Identified residue ACE1 as a starting terminus.\n",
            "Identified residue NME3 as a ending terminus.\n",
            "8 out of 8 lines of specbond.dat converted successfully\n",
            "Opening force field file /usr/local/share/gromacs/top/amber03.ff/aminoacids.arn\n",
            "Opening force field file /usr/local/share/gromacs/top/amber03.ff/dna.arn\n",
            "Opening force field file /usr/local/share/gromacs/top/amber03.ff/rna.arn\n",
            "Checking for duplicate atoms....\n",
            "Generating any missing hydrogen atoms and/or adding termini.\n",
            "Now there are 3 residues with 22 atoms\n",
            "Making bonds...\n",
            "Number of bonds was 21, now 21\n",
            "Generating angles, dihedrals and pairs...\n",
            "Before cleaning: 41 pairs\n",
            "Before cleaning: 41 dihedrals\n",
            "Keeping all generated dihedrals\n",
            "Making cmap torsions...\n",
            "There are   41 dihedrals,    4 impropers,   36 angles\n",
            "            41 pairs,       21 bonds and     0 virtual sites\n",
            "Total mass 144.176 a.m.u.\n",
            "Total charge 0.000 e\n",
            "Writing topology\n",
            "\n",
            "Back Off! I just backed up posre.itp to ./#posre.itp.1#\n",
            "\n",
            "Writing coordinate file...\n",
            "\n",
            "Back Off! I just backed up conf.gro to ./#conf.gro.1#\n",
            "\t\t--------- PLEASE NOTE ------------\n",
            "You have successfully generated a topology from: aladp.pdb.\n",
            "The Amber03 force field is used.\n",
            "\t\t--------- ETON ESAELP ------------\n",
            "\n",
            "GROMACS reminds you: \"I Have a Bad Case Of Purple Diarrhea\" (Urban Dance Squad)\n",
            "\n",
            "                     :-) GROMACS - gmx editconf, 2019.6 (-:\n",
            "\n",
            "                            GROMACS is written by:\n",
            "     Emile Apol      Rossen Apostolov      Paul Bauer     Herman J.C. Berendsen\n",
            "    Par Bjelkmar      Christian Blau   Viacheslav Bolnykh     Kevin Boyd    \n",
            " Aldert van Buuren   Rudi van Drunen     Anton Feenstra       Alan Gray     \n",
            "  Gerrit Groenhof     Anca Hamuraru    Vincent Hindriksen  M. Eric Irrgang  \n",
            "  Aleksei Iupinov   Christoph Junghans     Joe Jordan     Dimitrios Karkoulis\n",
            "    Peter Kasson        Jiri Kraus      Carsten Kutzner      Per Larsson    \n",
            "  Justin A. Lemkul    Viveca Lindahl    Magnus Lundborg     Erik Marklund   \n",
            "    Pascal Merz     Pieter Meulenhoff    Teemu Murtola       Szilard Pall   \n",
            "    Sander Pronk      Roland Schulz      Michael Shirts    Alexey Shvetsov  \n",
            "   Alfons Sijbers     Peter Tieleman      Jon Vincent      Teemu Virolainen \n",
            " Christian Wennberg    Maarten Wolf   \n",
            "                           and the project leaders:\n",
            "        Mark Abraham, Berk Hess, Erik Lindahl, and David van der Spoel\n",
            "\n",
            "Copyright (c) 1991-2000, University of Groningen, The Netherlands.\n",
            "Copyright (c) 2001-2018, The GROMACS development team at\n",
            "Uppsala University, Stockholm University and\n",
            "the Royal Institute of Technology, Sweden.\n",
            "check out http://www.gromacs.org for more information.\n",
            "\n",
            "GROMACS is free software; you can redistribute it and/or modify it\n",
            "under the terms of the GNU Lesser General Public License\n",
            "as published by the Free Software Foundation; either version 2.1\n",
            "of the License, or (at your option) any later version.\n",
            "\n",
            "GROMACS:      gmx editconf, version 2019.6\n",
            "Executable:   /usr/local/bin/gmx\n",
            "Data prefix:  /usr/local\n",
            "Working dir:  /content/drive/MyDrive/Structural_Bioinformatics/Task3/MTD\n",
            "Command line:\n",
            "  gmx editconf -f conf.gro -bt cubic -d 1 -o boxed.gro\n",
            "\n",
            "Note that major changes are planned in future for editconf, to improve usability and utility.Read 22 atoms\n",
            "Volume: 0.161536 nm^3, corresponds to roughly 0 electrons\n",
            "No velocities found\n",
            "    system size :  0.747  0.418  0.517 (nm)\n",
            "    diameter    :  0.839               (nm)\n",
            "    center      :  0.288  0.153  0.002 (nm)\n",
            "    box vectors :  0.746  0.419  0.517 (nm)\n",
            "    box angles  :  90.00  90.00  90.00 (degrees)\n",
            "    box volume  :   0.16               (nm^3)\n",
            "    shift       :  1.132  1.267  1.418 (nm)\n",
            "new center      :  1.420  1.420  1.420 (nm)\n",
            "new box vectors :  2.839  2.839  2.839 (nm)\n",
            "new box angles  :  90.00  90.00  90.00 (degrees)\n",
            "new box volume  :  22.89               (nm^3)\n",
            "\n",
            "Back Off! I just backed up boxed.gro to ./#boxed.gro.1#\n",
            "\n",
            "GROMACS reminds you: \"In the End Science Comes Down to Praying\" (P. v.d. Berg)\n",
            "\n",
            "                      :-) GROMACS - gmx grompp, 2019.6 (-:\n",
            "\n",
            "                            GROMACS is written by:\n",
            "     Emile Apol      Rossen Apostolov      Paul Bauer     Herman J.C. Berendsen\n",
            "    Par Bjelkmar      Christian Blau   Viacheslav Bolnykh     Kevin Boyd    \n",
            " Aldert van Buuren   Rudi van Drunen     Anton Feenstra       Alan Gray     \n",
            "  Gerrit Groenhof     Anca Hamuraru    Vincent Hindriksen  M. Eric Irrgang  \n",
            "  Aleksei Iupinov   Christoph Junghans     Joe Jordan     Dimitrios Karkoulis\n",
            "    Peter Kasson        Jiri Kraus      Carsten Kutzner      Per Larsson    \n",
            "  Justin A. Lemkul    Viveca Lindahl    Magnus Lundborg     Erik Marklund   \n",
            "    Pascal Merz     Pieter Meulenhoff    Teemu Murtola       Szilard Pall   \n",
            "    Sander Pronk      Roland Schulz      Michael Shirts    Alexey Shvetsov  \n",
            "   Alfons Sijbers     Peter Tieleman      Jon Vincent      Teemu Virolainen \n",
            " Christian Wennberg    Maarten Wolf   \n",
            "                           and the project leaders:\n",
            "        Mark Abraham, Berk Hess, Erik Lindahl, and David van der Spoel\n",
            "\n",
            "Copyright (c) 1991-2000, University of Groningen, The Netherlands.\n",
            "Copyright (c) 2001-2018, The GROMACS development team at\n",
            "Uppsala University, Stockholm University and\n",
            "the Royal Institute of Technology, Sweden.\n",
            "check out http://www.gromacs.org for more information.\n",
            "\n",
            "GROMACS is free software; you can redistribute it and/or modify it\n",
            "under the terms of the GNU Lesser General Public License\n",
            "as published by the Free Software Foundation; either version 2.1\n",
            "of the License, or (at your option) any later version.\n",
            "\n",
            "GROMACS:      gmx grompp, version 2019.6\n",
            "Executable:   /usr/local/bin/gmx\n",
            "Data prefix:  /usr/local\n",
            "Working dir:  /content/drive/MyDrive/Structural_Bioinformatics/Task3/MTD\n",
            "Command line:\n",
            "  gmx grompp -f em.mdp -c boxed.gro -p topol.top -o em.tpr\n",
            "\n",
            "\n",
            "NOTE 1 [file em.mdp]:\n",
            "  With Verlet lists the optimal nstlist is >= 10, with GPUs >= 20. Note\n",
            "  that with the Verlet scheme, nstlist has no effect on the accuracy of\n",
            "  your simulation.\n",
            "\n",
            "Setting the LD random seed to 18248975\n",
            "Generated 2211 of the 2211 non-bonded parameter combinations\n",
            "Generating 1-4 interactions: fudge = 0.5\n",
            "Generated 2211 of the 2211 1-4 parameter combinations\n",
            "Excluding 3 bonded neighbours molecule type 'Protein'\n",
            "Removing all charge groups because cutoff-scheme=Verlet\n",
            "Analysing residue names:\n",
            "There are:     3    Protein residues\n",
            "Analysing Protein...\n",
            "Number of degrees of freedom in T-Coupling group rest is 63.00\n",
            "Calculating fourier grid dimensions for X Y Z\n",
            "Using a fourier grid of 24x24x24, spacing 0.118 0.118 0.118\n",
            "Estimate for the relative computational load of the PME mesh part: 0.96\n",
            "\n",
            "NOTE 2 [file em.mdp]:\n",
            "  The optimal PME mesh load for parallel simulations is below 0.5\n",
            "  and for highly parallel simulations between 0.25 and 0.33,\n",
            "  for higher performance, increase the cut-off and the PME grid spacing.\n",
            "\n",
            "\n",
            "This run will generate roughly 0 Mb of data\n",
            "\n",
            "There were 2 notes\n",
            "\n",
            "GROMACS reminds you: \"The great tragedy of science - the slaying of a beautiful hypothesis by an ugly fact.\" (Thomas Henry Huxley)\n",
            "\n",
            "                      :-) GROMACS - gmx mdrun, 2019.6 (-:\n",
            "\n",
            "                            GROMACS is written by:\n",
            "     Emile Apol      Rossen Apostolov      Paul Bauer     Herman J.C. Berendsen\n",
            "    Par Bjelkmar      Christian Blau   Viacheslav Bolnykh     Kevin Boyd    \n",
            " Aldert van Buuren   Rudi van Drunen     Anton Feenstra       Alan Gray     \n",
            "  Gerrit Groenhof     Anca Hamuraru    Vincent Hindriksen  M. Eric Irrgang  \n",
            "  Aleksei Iupinov   Christoph Junghans     Joe Jordan     Dimitrios Karkoulis\n",
            "    Peter Kasson        Jiri Kraus      Carsten Kutzner      Per Larsson    \n",
            "  Justin A. Lemkul    Viveca Lindahl    Magnus Lundborg     Erik Marklund   \n",
            "    Pascal Merz     Pieter Meulenhoff    Teemu Murtola       Szilard Pall   \n",
            "    Sander Pronk      Roland Schulz      Michael Shirts    Alexey Shvetsov  \n",
            "   Alfons Sijbers     Peter Tieleman      Jon Vincent      Teemu Virolainen \n",
            " Christian Wennberg    Maarten Wolf   \n",
            "                           and the project leaders:\n",
            "        Mark Abraham, Berk Hess, Erik Lindahl, and David van der Spoel\n",
            "\n",
            "Copyright (c) 1991-2000, University of Groningen, The Netherlands.\n",
            "Copyright (c) 2001-2018, The GROMACS development team at\n",
            "Uppsala University, Stockholm University and\n",
            "the Royal Institute of Technology, Sweden.\n",
            "check out http://www.gromacs.org for more information.\n",
            "\n",
            "GROMACS is free software; you can redistribute it and/or modify it\n",
            "under the terms of the GNU Lesser General Public License\n",
            "as published by the Free Software Foundation; either version 2.1\n",
            "of the License, or (at your option) any later version.\n",
            "\n",
            "GROMACS:      gmx mdrun, version 2019.6\n",
            "Executable:   /usr/local/bin/gmx\n",
            "Data prefix:  /usr/local\n",
            "Working dir:  /content/drive/MyDrive/Structural_Bioinformatics/Task3/MTD\n",
            "Command line:\n",
            "  gmx mdrun -deffnm em -v\n",
            "\n",
            "Compiled SIMD: SSE2, but for this host/run AVX2_256 might be better (see log).\n",
            "The current CPU can measure timings more accurately than the code in\n",
            "gmx mdrun was configured to use. This might affect your simulation\n",
            "speed as accurate timings are needed for load-balancing.\n",
            "Please consider rebuilding gmx mdrun with the GMX_USE_RDTSCP=ON CMake option.\n",
            "Reading file em.tpr, VERSION 2019.6 (single precision)\n",
            "\n",
            "Using 2 OpenMP threads \n",
            "\n",
            "\n",
            "Steepest Descents:\n",
            "   Tolerance (Fmax)   =  1.00000e+03\n",
            "   Number of steps    =           -1\n",
            "Step=    0, Dmax= 1.0e-02 nm, Epot= -2.73304e+01 Fmax= 2.07899e+03, atom= 5\n",
            "Step=    3, Dmax= 2.5e-03 nm, Epot= -3.75611e+01 Fmax= 1.42424e+03, atom= 6\n",
            "Step=    4, Dmax= 3.0e-03 nm, Epot= -4.16026e+01 Fmax= 2.09295e+03, atom= 5\n",
            "Step=    6, Dmax= 1.8e-03 nm, Epot= -4.71775e+01 Fmax= 8.24477e+02, atom= 6\n",
            "\n",
            "writing lowest energy coordinates.\n",
            "\n",
            "Steepest Descents converged to Fmax < 1000 in 7 steps\n",
            "Potential Energy  = -4.7177490e+01\n",
            "Maximum force     =  8.2447742e+02 on atom 6\n",
            "Norm of force     =  2.9637354e+02\n",
            "\n",
            "GROMACS reminds you: \"I'd Be Water If I Could\" (Red Hot Chili Peppers)\n",
            "\n"
          ]
        }
      ]
    },
    {
      "cell_type": "code",
      "source": [
        "# From the energy minised file we also make a reference PDB structure that we can use later\n",
        "!gmx editconf -f em.gro -o reference.pdb"
      ],
      "metadata": {
        "colab": {
          "base_uri": "https://localhost:8080/"
        },
        "id": "TD2dKNkqQpkK",
        "outputId": "5a7750cc-312f-431e-9cd9-2d6f6c3b7cbf"
      },
      "execution_count": 17,
      "outputs": [
        {
          "output_type": "stream",
          "name": "stdout",
          "text": [
            "                     :-) GROMACS - gmx editconf, 2019.6 (-:\n",
            "\n",
            "                            GROMACS is written by:\n",
            "     Emile Apol      Rossen Apostolov      Paul Bauer     Herman J.C. Berendsen\n",
            "    Par Bjelkmar      Christian Blau   Viacheslav Bolnykh     Kevin Boyd    \n",
            " Aldert van Buuren   Rudi van Drunen     Anton Feenstra       Alan Gray     \n",
            "  Gerrit Groenhof     Anca Hamuraru    Vincent Hindriksen  M. Eric Irrgang  \n",
            "  Aleksei Iupinov   Christoph Junghans     Joe Jordan     Dimitrios Karkoulis\n",
            "    Peter Kasson        Jiri Kraus      Carsten Kutzner      Per Larsson    \n",
            "  Justin A. Lemkul    Viveca Lindahl    Magnus Lundborg     Erik Marklund   \n",
            "    Pascal Merz     Pieter Meulenhoff    Teemu Murtola       Szilard Pall   \n",
            "    Sander Pronk      Roland Schulz      Michael Shirts    Alexey Shvetsov  \n",
            "   Alfons Sijbers     Peter Tieleman      Jon Vincent      Teemu Virolainen \n",
            " Christian Wennberg    Maarten Wolf   \n",
            "                           and the project leaders:\n",
            "        Mark Abraham, Berk Hess, Erik Lindahl, and David van der Spoel\n",
            "\n",
            "Copyright (c) 1991-2000, University of Groningen, The Netherlands.\n",
            "Copyright (c) 2001-2018, The GROMACS development team at\n",
            "Uppsala University, Stockholm University and\n",
            "the Royal Institute of Technology, Sweden.\n",
            "check out http://www.gromacs.org for more information.\n",
            "\n",
            "GROMACS is free software; you can redistribute it and/or modify it\n",
            "under the terms of the GNU Lesser General Public License\n",
            "as published by the Free Software Foundation; either version 2.1\n",
            "of the License, or (at your option) any later version.\n",
            "\n",
            "GROMACS:      gmx editconf, version 2019.6\n",
            "Executable:   /usr/local/bin/gmx\n",
            "Data prefix:  /usr/local\n",
            "Working dir:  /content/drive/MyDrive/Structural_Bioinformatics/Task3/MTD\n",
            "Command line:\n",
            "  gmx editconf -f em.gro -o reference.pdb\n",
            "\n",
            "Note that major changes are planned in future for editconf, to improve usability and utility.Read 22 atoms\n",
            "Volume: 22.8908 nm^3, corresponds to roughly 10300 electrons\n",
            "No velocities found\n",
            "\n",
            "GROMACS reminds you: \"There are only two things wrong with C++:  The initial concept and the implementation.\" (Bertrand Meyer)\n",
            "\n"
          ]
        }
      ]
    },
    {
      "cell_type": "code",
      "source": [
        "#now perform a preliminary 10 ns MD simulation, this will last less than 2 minutes\n",
        "!gmx grompp -f run.mdp -c em.gro -p topol.top -o run.tpr\n",
        "!gmx mdrun -deffnm run -v -ntomp 1"
      ],
      "metadata": {
        "colab": {
          "base_uri": "https://localhost:8080/"
        },
        "id": "Fi0M_us2MQb1",
        "outputId": "db3e189d-5705-4a16-9da1-1538b9b59456"
      },
      "execution_count": 14,
      "outputs": [
        {
          "output_type": "stream",
          "name": "stdout",
          "text": [
            "                      :-) GROMACS - gmx grompp, 2019.6 (-:\n",
            "\n",
            "                            GROMACS is written by:\n",
            "     Emile Apol      Rossen Apostolov      Paul Bauer     Herman J.C. Berendsen\n",
            "    Par Bjelkmar      Christian Blau   Viacheslav Bolnykh     Kevin Boyd    \n",
            " Aldert van Buuren   Rudi van Drunen     Anton Feenstra       Alan Gray     \n",
            "  Gerrit Groenhof     Anca Hamuraru    Vincent Hindriksen  M. Eric Irrgang  \n",
            "  Aleksei Iupinov   Christoph Junghans     Joe Jordan     Dimitrios Karkoulis\n",
            "    Peter Kasson        Jiri Kraus      Carsten Kutzner      Per Larsson    \n",
            "  Justin A. Lemkul    Viveca Lindahl    Magnus Lundborg     Erik Marklund   \n",
            "    Pascal Merz     Pieter Meulenhoff    Teemu Murtola       Szilard Pall   \n",
            "    Sander Pronk      Roland Schulz      Michael Shirts    Alexey Shvetsov  \n",
            "   Alfons Sijbers     Peter Tieleman      Jon Vincent      Teemu Virolainen \n",
            " Christian Wennberg    Maarten Wolf   \n",
            "                           and the project leaders:\n",
            "        Mark Abraham, Berk Hess, Erik Lindahl, and David van der Spoel\n",
            "\n",
            "Copyright (c) 1991-2000, University of Groningen, The Netherlands.\n",
            "Copyright (c) 2001-2018, The GROMACS development team at\n",
            "Uppsala University, Stockholm University and\n",
            "the Royal Institute of Technology, Sweden.\n",
            "check out http://www.gromacs.org for more information.\n",
            "\n",
            "GROMACS is free software; you can redistribute it and/or modify it\n",
            "under the terms of the GNU Lesser General Public License\n",
            "as published by the Free Software Foundation; either version 2.1\n",
            "of the License, or (at your option) any later version.\n",
            "\n",
            "GROMACS:      gmx grompp, version 2019.6\n",
            "Executable:   /usr/local/bin/gmx\n",
            "Data prefix:  /usr/local\n",
            "Working dir:  /content/drive/MyDrive/Structural_Bioinformatics/Task3/MTD\n",
            "Command line:\n",
            "  gmx grompp -f run.mdp -c em.gro -p topol.top -o run.tpr\n",
            "\n",
            "Setting the LD random seed to 513437244\n",
            "Generated 2211 of the 2211 non-bonded parameter combinations\n",
            "Generating 1-4 interactions: fudge = 0.5\n",
            "Generated 2211 of the 2211 1-4 parameter combinations\n",
            "Excluding 3 bonded neighbours molecule type 'Protein'\n",
            "turning H bonds into constraints...\n",
            "Setting gen_seed to 962827908\n",
            "Velocities were taken from a Maxwell distribution at 300 K\n",
            "Removing all charge groups because cutoff-scheme=Verlet\n",
            "Analysing residue names:\n",
            "There are:     3    Protein residues\n",
            "Analysing Protein...\n",
            "Number of degrees of freedom in T-Coupling group System is 51.00\n",
            "Determining Verlet buffer for a tolerance of 0.001 kJ/mol/ps at 300 K\n",
            "Calculated rlist for 1x1 atom pair-list as 1.156 nm, buffer size 0.156 nm\n",
            "Set rlist, assuming 4x4 atom pair-list, to 1.127 nm, buffer size 0.127 nm\n",
            "Note that mdrun will redetermine rlist based on the actual pair-list setup\n",
            "\n",
            "NOTE 1 [file run.mdp]:\n",
            "  You are using a plain Coulomb cut-off, which might produce artifacts.\n",
            "  You might want to consider using PME electrostatics.\n",
            "\n",
            "\n",
            "This run will generate roughly 3 Mb of data\n",
            "\n",
            "There was 1 note\n",
            "\n",
            "GROMACS reminds you: \"Got Coffee, Got Donuts, Got Wasted\" (F. Black)\n",
            "\n",
            "                      :-) GROMACS - gmx mdrun, 2019.6 (-:\n",
            "\n",
            "                            GROMACS is written by:\n",
            "     Emile Apol      Rossen Apostolov      Paul Bauer     Herman J.C. Berendsen\n",
            "    Par Bjelkmar      Christian Blau   Viacheslav Bolnykh     Kevin Boyd    \n",
            " Aldert van Buuren   Rudi van Drunen     Anton Feenstra       Alan Gray     \n",
            "  Gerrit Groenhof     Anca Hamuraru    Vincent Hindriksen  M. Eric Irrgang  \n",
            "  Aleksei Iupinov   Christoph Junghans     Joe Jordan     Dimitrios Karkoulis\n",
            "    Peter Kasson        Jiri Kraus      Carsten Kutzner      Per Larsson    \n",
            "  Justin A. Lemkul    Viveca Lindahl    Magnus Lundborg     Erik Marklund   \n",
            "    Pascal Merz     Pieter Meulenhoff    Teemu Murtola       Szilard Pall   \n",
            "    Sander Pronk      Roland Schulz      Michael Shirts    Alexey Shvetsov  \n",
            "   Alfons Sijbers     Peter Tieleman      Jon Vincent      Teemu Virolainen \n",
            " Christian Wennberg    Maarten Wolf   \n",
            "                           and the project leaders:\n",
            "        Mark Abraham, Berk Hess, Erik Lindahl, and David van der Spoel\n",
            "\n",
            "Copyright (c) 1991-2000, University of Groningen, The Netherlands.\n",
            "Copyright (c) 2001-2018, The GROMACS development team at\n",
            "Uppsala University, Stockholm University and\n",
            "the Royal Institute of Technology, Sweden.\n",
            "check out http://www.gromacs.org for more information.\n",
            "\n",
            "GROMACS is free software; you can redistribute it and/or modify it\n",
            "under the terms of the GNU Lesser General Public License\n",
            "as published by the Free Software Foundation; either version 2.1\n",
            "of the License, or (at your option) any later version.\n",
            "\n",
            "GROMACS:      gmx mdrun, version 2019.6\n",
            "Executable:   /usr/local/bin/gmx\n",
            "Data prefix:  /usr/local\n",
            "Working dir:  /content/drive/MyDrive/Structural_Bioinformatics/Task3/MTD\n",
            "Command line:\n",
            "  gmx mdrun -deffnm run -v -ntomp 1\n",
            "\n",
            "Compiled SIMD: SSE2, but for this host/run AVX2_256 might be better (see log).\n",
            "The current CPU can measure timings more accurately than the code in\n",
            "gmx mdrun was configured to use. This might affect your simulation\n",
            "speed as accurate timings are needed for load-balancing.\n",
            "Please consider rebuilding gmx mdrun with the GMX_USE_RDTSCP=ON CMake option.\n",
            "Reading file run.tpr, VERSION 2019.6 (single precision)\n",
            "Changing nstlist from 20 to 40, rlist from 1.127 to 1.249\n",
            "\n",
            "\n",
            "Using 1 OpenMP thread \n",
            "\n",
            "\n",
            "NOTE: Thread affinity was not set.\n",
            "starting mdrun 'Protein'\n",
            "5000000 steps,  10000.0 ps.\n",
            "step 4999900, remaining wall clock time:     0 s          \n",
            "Writing final coordinates.\n",
            "step 5000000, remaining wall clock time:     0 s          \n",
            "               Core t (s)   Wall t (s)        (%)\n",
            "       Time:       84.918       84.920      100.0\n",
            "                 (ns/day)    (hour/ns)\n",
            "Performance:    10174.245        0.002\n",
            "\n",
            "GROMACS reminds you: \"That Was Really Cool\" (Butthead)\n",
            "\n"
          ]
        }
      ]
    },
    {
      "cell_type": "code",
      "source": [
        "#Now you should have multiple files, in particular run.gro and run.xtc that are \n",
        "#the last frame and the trajectory from the MD simulation, respectively.\n",
        "%ls"
      ],
      "metadata": {
        "colab": {
          "base_uri": "https://localhost:8080/"
        },
        "id": "5rkCSCj3MwnK",
        "outputId": "604e4734-e216-4c00-aca8-4e6eaeaf42e5"
      },
      "execution_count": 15,
      "outputs": [
        {
          "output_type": "stream",
          "name": "stdout",
          "text": [
            " aladp.pdb        em.edr   em.trr           run.edr   run.xtc\n",
            " boxed.gro        em.gro   mdout.mdp        run.gro   topol.top\n",
            "'#boxed.gro.1#'   em.log   posre.itp        run.log  '#topol.top.1#'\n",
            " conf.gro         em.mdp  '#posre.itp.1#'   run.mdp\n",
            "'#conf.gro.1#'    em.tpr   run.cpt          run.tpr\n"
          ]
        }
      ]
    },
    {
      "cell_type": "markdown",
      "source": [
        "### MTD preparation"
      ],
      "metadata": {
        "id": "r0vxEP_jNT-D"
      }
    },
    {
      "cell_type": "markdown",
      "source": [
        "PLUMED allows both to analyze simulations trajectories by defining collective variables as well as then use CV based enhanced sampling techniques like Umbrella Sampling and Metadynamics to enhance the sampling of your MD. You can learn more on PLUMED syntax and features here: https://www.plumed.org/masterclass\n",
        "\n",
        "Furthermore, you can find real-life simulations setups here: www.plumed-nest.org"
      ],
      "metadata": {
        "id": "YeaJ_6hdPUXX"
      }
    },
    {
      "cell_type": "markdown",
      "source": [
        "As a first example let's analyse your MD simulation using plumed. To do so you need to write a plumed input file, that is a text file, including the definition of the quantity and the operation you want to perform. \n",
        "\n",
        "You can now copy an example file and see its content:"
      ],
      "metadata": {
        "id": "OtRu8BYYQADA"
      }
    },
    {
      "cell_type": "code",
      "source": [
        "#copy the file in your mtd folder\n",
        "%cp ../sb/Data/advanced/metad/plumed-cv.dat .\n",
        "#print the file on screen\n",
        "%cat plumed-cv.dat"
      ],
      "metadata": {
        "colab": {
          "base_uri": "https://localhost:8080/"
        },
        "id": "g4Qrp2GpSjos",
        "outputId": "1ad5ae3b-4c2f-40f7-cdd1-f6365569c46d"
      },
      "execution_count": 24,
      "outputs": [
        {
          "output_type": "stream",
          "name": "stdout",
          "text": [
            "# Activate MOLINFO functionalities that allow using syntax shortcuts\n",
            "MOLINFO STRUCTURE=reference.pdb\n",
            "# Compute the backbone dihedral angle phi, defined by atoms C-N-CA-C\n",
            "phi: TORSION ATOMS=@phi-2\n",
            "# Compute the backbone dihedral angle psi, defined by atoms N-CA-C-N\n",
            "psi: TORSION ATOMS=@psi-2\n",
            "# Print the two collective variables on COLVAR file every STRIDE steps\n",
            "PRINT ARG=phi,psi FILE=COLVAR STRIDE=1\n"
          ]
        }
      ]
    },
    {
      "cell_type": "code",
      "source": [
        "#analyse your simulation using plumed executable and your input file\n",
        "!plumed driver --plumed plumed-cv.dat --mf_xtc run.xtc"
      ],
      "metadata": {
        "colab": {
          "base_uri": "https://localhost:8080/"
        },
        "id": "HGepLiASSsGX",
        "outputId": "ccea6753-0972-42fb-8241-632fc8301820"
      },
      "execution_count": 25,
      "outputs": [
        {
          "output_type": "stream",
          "name": "stdout",
          "text": [
            "\n",
            "DRIVER: Found molfile format trajectory xtc with name run.xtc\n",
            "PLUMED: PLUMED is starting\n",
            "PLUMED: Version: 2.8.0 (git: Unknown) compiled on Feb 23 2022 at 09:52:46\n",
            "PLUMED: Please cite these papers when using PLUMED [1][2]\n",
            "PLUMED: For further information see the PLUMED web page at http://www.plumed.org\n",
            "PLUMED: Root: /usr/local/lib/plumed\n",
            "PLUMED: For installed feature, see /usr/local/lib/plumed/src/config/config.txt\n",
            "PLUMED: Molecular dynamics engine: driver\n",
            "PLUMED: Precision of reals: 8\n",
            "PLUMED: Running over 1 node\n",
            "PLUMED: Number of threads: 1\n",
            "PLUMED: Cache line size: 512\n",
            "PLUMED: Number of atoms: 22\n",
            "PLUMED: File suffix: \n",
            "PLUMED: FILE: plumed-cv.dat\n",
            "PLUMED: Action MOLINFO\n",
            "PLUMED:   with label @0\n",
            "PLUMED:   pdb file named reference.pdb contains 1 chains \n",
            "PLUMED:   chain named   contains residues 1 to 3 and atoms 1 to 22 \n",
            "PLUMED: Action TORSION\n",
            "PLUMED:   with label phi\n",
            "PLUMED:   between atoms 5 7 9 15\n",
            "PLUMED:   using periodic boundary conditions\n",
            "PLUMED: Action TORSION\n",
            "PLUMED:   with label psi\n",
            "PLUMED:   between atoms 7 9 15 17\n",
            "PLUMED:   using periodic boundary conditions\n",
            "PLUMED: Action PRINT\n",
            "PLUMED:   with label @3\n",
            "PLUMED:   with stride 1\n",
            "PLUMED:   with arguments phi psi\n",
            "PLUMED:   on file COLVAR\n",
            "PLUMED:   with format  %f\n",
            "PLUMED: END FILE: plumed-cv.dat\n",
            "PLUMED: Timestep: 1.000000\n",
            "PLUMED: KbT has not been set by the MD engine\n",
            "PLUMED: It should be set by hand where needed\n",
            "PLUMED: Relevant bibliography:\n",
            "PLUMED:   [1] The PLUMED consortium, Nat. Methods 16, 670 (2019)\n",
            "PLUMED:   [2] Tribello, Bonomi, Branduardi, Camilloni, and Bussi, Comput. Phys. Commun. 185, 604 (2014)\n",
            "PLUMED: Please read and cite where appropriate!\n",
            "PLUMED: Finished setup\n",
            "PLUMED:                                               Cycles        Total      Average      Minimum      Maximum\n",
            "PLUMED:                                                    1     0.296864     0.296864     0.296864     0.296864\n",
            "PLUMED: 1 Prepare dependencies                         10001     0.006758     0.000001     0.000000     0.000565\n",
            "PLUMED: 2 Sharing data                                 10001     0.012758     0.000001     0.000001     0.000130\n",
            "PLUMED: 3 Waiting for data                             10001     0.004863     0.000000     0.000000     0.000033\n",
            "PLUMED: 4 Calculating (forward loop)                   10001     0.058363     0.000006     0.000004     0.005039\n",
            "PLUMED: 5 Applying (backward loop)                     10001     0.039205     0.000004     0.000003     0.000747\n",
            "PLUMED: 6 Update                                       10001     0.061751     0.000006     0.000003     0.002759\n"
          ]
        }
      ]
    },
    {
      "cell_type": "code",
      "source": [
        "# list files\n",
        "%ls\n",
        "# you should have a new COLVAR-CV.txt file"
      ],
      "metadata": {
        "colab": {
          "base_uri": "https://localhost:8080/"
        },
        "id": "fdmZIiifTAPa",
        "outputId": "98baa1c0-4f59-454c-a68c-320470f624b4"
      },
      "execution_count": 28,
      "outputs": [
        {
          "output_type": "stream",
          "name": "stdout",
          "text": [
            " aladp.pdb        em.edr   em.trr           run.cpt   run.xtc\n",
            " boxed.gro        em.gro   mdout.mdp        run.edr   topol.top\n",
            "'#boxed.gro.1#'   em.log   plumed-cv.dat    run.gro  '#topol.top.1#'\n",
            " COLVAR-CV.txt    em.mdp   posre.itp        run.log\n",
            " conf.gro         em.pdb  '#posre.itp.1#'   run.mdp\n",
            "'#conf.gro.1#'    em.tpr   reference.pdb    run.tpr\n"
          ]
        }
      ]
    },
    {
      "cell_type": "code",
      "source": [
        "#let's have a look at it:\n",
        "#this print on screen only the first tops lines\n",
        "!head COLVAR-CV.txt\n",
        "# the file has some header lines reporting the content of the file, in this\n",
        "# case is three columns reporting time, phi and psi actions that are defined\n",
        "# in your plumed-cv.dat input file\n",
        "# then it tells you that phi and psi are defined in some range of values\n",
        "# then you have the actual data (angles are in radians here)"
      ],
      "metadata": {
        "colab": {
          "base_uri": "https://localhost:8080/"
        },
        "id": "LmJjQf2oTMmu",
        "outputId": "3390007f-78c2-4806-8b39-cce7941dbb0a"
      },
      "execution_count": 30,
      "outputs": [
        {
          "output_type": "stream",
          "name": "stdout",
          "text": [
            "#! FIELDS time phi psi\n",
            "#! SET min_phi -pi\n",
            "#! SET max_phi pi\n",
            "#! SET min_psi -pi\n",
            "#! SET max_psi pi\n",
            " 0.000000 -2.435417 2.364389\n",
            " 1.000000 -2.738451 2.378010\n",
            " 2.000000 -1.555183 2.742969\n",
            " 3.000000 -2.806969 -3.080113\n",
            " 4.000000 -1.124978 0.287796\n"
          ]
        }
      ]
    },
    {
      "cell_type": "code",
      "source": [],
      "metadata": {
        "id": "QAY-2w7NTo6v"
      },
      "execution_count": null,
      "outputs": []
    }
  ]
}