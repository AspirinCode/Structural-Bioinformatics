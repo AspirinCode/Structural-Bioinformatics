{
  "nbformat": 4,
  "nbformat_minor": 0,
  "metadata": {
    "colab": {
      "name": "report_7_StructurePred.ipynb",
      "provenance": [],
      "mount_file_id": "1VcO2kCOjUBrF6i37C0C1tTlDv7lYIN99",
      "authorship_tag": "ABX9TyOiKEPRSUMO6ehlGnUoJVBY",
      "include_colab_link": true
    },
    "kernelspec": {
      "name": "python3",
      "display_name": "Python 3"
    },
    "language_info": {
      "name": "python"
    }
  },
  "cells": [
    {
      "cell_type": "markdown",
      "metadata": {
        "id": "view-in-github",
        "colab_type": "text"
      },
      "source": [
        "<a href=\"https://colab.research.google.com/github/carlocamilloni/Structural-Bioinformatics/blob/main/Notebooks/report_7_StructurePred.ipynb\" target=\"_parent\"><img src=\"https://colab.research.google.com/assets/colab-badge.svg\" alt=\"Open In Colab\"/></a>"
      ]
    },
    {
      "cell_type": "markdown",
      "source": [
        "# Protein Structure Prediction"
      ],
      "metadata": {
        "id": "8igaJRlJUlfF"
      }
    },
    {
      "cell_type": "markdown",
      "source": [
        "your name"
      ],
      "metadata": {
        "id": "3mA7dcAEUYeR"
      }
    },
    {
      "cell_type": "code",
      "source": [
        "\n",
        "from datetime import date\n",
        "\n",
        "today = date.today()\n",
        "print(today)\n",
        ""
      ],
      "metadata": {
        "id": "l6etJm6UUUmO"
      },
      "execution_count": null,
      "outputs": []
    },
    {
      "cell_type": "markdown",
      "source": [
        "## Primary Structure"
      ],
      "metadata": {
        "id": "Lj5C6kerUrp6"
      }
    },
    {
      "cell_type": "markdown",
      "source": [
        "Describe here what you know about your protein and show your sequence"
      ],
      "metadata": {
        "id": "HqtYmorqUuCx"
      }
    },
    {
      "cell_type": "markdown",
      "source": [
        "..."
      ],
      "metadata": {
        "id": "5E8253U-U5Mh"
      }
    },
    {
      "cell_type": "markdown",
      "source": [
        "## Secondary Structure"
      ],
      "metadata": {
        "id": "opdEJ-fFU8sP"
      }
    },
    {
      "cell_type": "markdown",
      "source": [
        "Add the plot about the secondary struture prediction and briefly describe it"
      ],
      "metadata": {
        "id": "ISO5oddNU-7O"
      }
    },
    {
      "cell_type": "markdown",
      "source": [
        "## Tertiary Structure"
      ],
      "metadata": {
        "id": "tPjOGztzVEnA"
      }
    },
    {
      "cell_type": "markdown",
      "source": [
        "Upload your predicted PDB structure in your TASK5 folder so that you can display interactively here:"
      ],
      "metadata": {
        "id": "LI3ZOofvVKn2"
      }
    },
    {
      "cell_type": "code",
      "source": [
        "!pip install py3Dmol"
      ],
      "metadata": {
        "id": "25fHlz82YTw_"
      },
      "execution_count": null,
      "outputs": []
    },
    {
      "cell_type": "code",
      "source": [
        "#@title Display 3D structure {run: \"auto\"}\n",
        "import py3Dmol\n",
        "import glob\n",
        "import matplotlib.pyplot as plt\n",
        "# number of models to use\n",
        "rank_num = 2 #@param [\"1\", \"2\", \"3\", \"4\", \"5\"] {type:\"raw\"}\n",
        "show_sidechains = False #@param {type:\"boolean\"}\n",
        "show_mainchains = False #@param {type:\"boolean\"}\n",
        "\n",
        "pdb_filename = f\"*_rank_{rank_num}_*.pdb\"\n",
        "\n",
        "pdb_file = glob.glob(pdb_filename)\n",
        "\n",
        "def show_pdb(rank_num=1, show_sidechains=False, show_mainchains=False, color=\"lDDT\"):\n",
        "  model_name = f\"rank_{rank_num}\"\n",
        "  view = py3Dmol.view(js='https://3dmol.org/build/3Dmol.js',)\n",
        "  view.addModel(open(pdb_file[0],'r').read(),'pdb')\n",
        "\n",
        "\n",
        "  view.setStyle({'cartoon': {'color':'spectrum'}})\n",
        "  if show_sidechains:\n",
        "    BB = ['C','O','N']\n",
        "    view.addStyle({'and':[{'resn':[\"GLY\",\"PRO\"],'invert':True},{'atom':BB,'invert':True}]},\n",
        "                        {'stick':{'colorscheme':f\"WhiteCarbon\",'radius':0.3}})\n",
        "    view.addStyle({'and':[{'resn':\"GLY\"},{'atom':'CA'}]},\n",
        "                        {'sphere':{'colorscheme':f\"WhiteCarbon\",'radius':0.3}})\n",
        "    view.addStyle({'and':[{'resn':\"PRO\"},{'atom':['C','O'],'invert':True}]},\n",
        "                        {'stick':{'colorscheme':f\"WhiteCarbon\",'radius':0.3}})\n",
        "  if show_mainchains:\n",
        "    BB = ['C','O','N','CA']\n",
        "    view.addStyle({'atom':BB},{'stick':{'colorscheme':f\"WhiteCarbon\",'radius':0.3}})\n",
        "\n",
        "  view.zoomTo()\n",
        "  return view\n",
        "\n",
        "\n",
        "show_pdb(rank_num,show_sidechains, show_mainchains).show()"
      ],
      "metadata": {
        "cellView": "form",
        "id": "JnxJhxLiU-Gk"
      },
      "execution_count": null,
      "outputs": []
    },
    {
      "cell_type": "markdown",
      "source": [
        "Describe the results of your prediction: do they agree with the secondary structure prediction? Can you evaluate the quality of the prediction looking at the plots resulting from ColabFOLD?\n",
        "\n"
      ],
      "metadata": {
        "id": "xruilqLjap_m"
      }
    },
    {
      "cell_type": "code",
      "source": [],
      "metadata": {
        "id": "VJuJIWGKa32O"
      },
      "execution_count": null,
      "outputs": []
    }
  ]
}