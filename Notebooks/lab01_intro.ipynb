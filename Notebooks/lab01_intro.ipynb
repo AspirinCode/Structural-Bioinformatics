{
  "nbformat": 4,
  "nbformat_minor": 0,
  "metadata": {
    "colab": {
      "name": "lab01_intro.ipynb",
      "provenance": [],
      "collapsed_sections": [
        "UFymope2e12l",
        "15uaj6r3iMiS",
        "1TgGQL3K2RRE",
        "xpQtmCkOpq2_",
        "dPnY__n_n98v",
        "LW6uLL-Zn98w",
        "HoD4UmzRn98y",
        "iG0e--lNvLBQ",
        "Ge0mpLr0HI3o",
        "KjY0f0PZFPrQ",
        "_Twcsx45vjn1",
        "TYTtnqKykHoh",
        "mJ5N9k2Uh-Km",
        "Sngj5A18lXkc",
        "PuRyHnXVh-L1",
        "avMpCAihh-L1",
        "yDojx1I6h-L1",
        "Vx58xIUch-L2",
        "Bw7U08o5h-L2",
        "wCeZpa40h-L2",
        "O8pcyPz1h-L2",
        "4chLU4Uclr-F",
        "BDdkXICKh-LY",
        "JNQV86LYh-Kz",
        "sPInh2E_h-LB",
        "9SNVANvoh-LF",
        "00AvEQZch-LK",
        "XbKvjZF5h-LN",
        "zaOIoAzfh-LU",
        "kRcCCmnbh-LW",
        "AMRn-yH-h-LY",
        "O4h2Ne2th-LZ",
        "tybiSZtlh-Lc",
        "LW8dk0jqh-Lk",
        "H7QoSWk-h-Lf",
        "A-E1DJY9h-Kb"
      ],
      "include_colab_link": true
    },
    "kernelspec": {
      "name": "python3",
      "display_name": "Python 3"
    }
  },
  "cells": [
    {
      "cell_type": "markdown",
      "metadata": {
        "id": "view-in-github",
        "colab_type": "text"
      },
      "source": [
        "<a href=\"https://colab.research.google.com/github/carlocamilloni/Structural-Bioinformatics/blob/main/Notebooks/lab01_intro.ipynb\" target=\"_parent\"><img src=\"https://colab.research.google.com/assets/colab-badge.svg\" alt=\"Open In Colab\"/></a>"
      ]
    },
    {
      "cell_type": "markdown",
      "metadata": {
        "id": "chR3tGSn-Cev"
      },
      "source": [
        "#Lab.01 / Warm up on Colab"
      ]
    },
    {
      "cell_type": "markdown",
      "source": [
        "## Part I. Introduction"
      ],
      "metadata": {
        "id": "plZ_3GIgUcfe"
      }
    },
    {
      "cell_type": "markdown",
      "metadata": {
        "id": "E4jk60i2sCI0"
      },
      "source": [
        "\n",
        "\n",
        "Colaboratory, or \"Colab\" for short, allows you to write and execute Python in your browser, with \n",
        "- Zero configuration required\n",
        "- Free access to GPUs\n",
        "- Easy sharing\n",
        "\n",
        "You can watch the [Introduction to Colab](https://www.youtube.com/watch?v=inN8seMm7UI) video recommended by Google Colab to learn more, or just get started below!\n"
      ]
    },
    {
      "cell_type": "markdown",
      "metadata": {
        "id": "Y1Smc5Rluoii"
      },
      "source": [
        "Note that at your left you have three icons. The first one looks like this:\n",
        "\n",
        "><img src=\"https://upload.wikimedia.org/wikipedia/commons/b/bb/Summary_icon.svg\" width=\"100\">\n",
        "\n",
        "and corresponds to the Table of Contents of this tutorial.\n",
        "\n",
        "**The last folder icon corresponds to the File Explorer of the virtual machine hosted in Google Cloud assigned to your session.** This is very important because allows you to move files, make new folders, change files/folders names if needed and to copy the \"path\" by right clicking on a file/folder. "
      ]
    },
    {
      "cell_type": "markdown",
      "metadata": {
        "id": "ctRJx3itzj6Y"
      },
      "source": [
        "### The central concept of Google Colab Notebook: Cells\n",
        "\n",
        "A notebook is a list of cells. Cells contain either explanatory text or executable code and its output. Click a cell to select it.\n",
        "\n"
      ]
    },
    {
      "cell_type": "markdown",
      "metadata": {
        "id": "HiEcQ-r02XO_"
      },
      "source": [
        "**Adding and moving cells**\n",
        "\n",
        "You can add new cells by using the **+ CODE** and **+ TEXT** buttons that show when you hover between cells. These buttons are also in the toolbar above the notebook, and they can be used to add a cell below the currently selected cell.\n",
        "\n",
        "You can move a cell by selecting it and clicking **Cell Up** or **Cell Down** in the top toolbar. \n",
        "\n",
        "Consecutive cells can be selected by \"lasso selection\", i.e. by dragging from outside one cell and through the group.  Non-adjacent cells can be selected concurrently by clicking one and then holding down **Ctrl** while clicking another.  Similarly, using **Shift** instead of Ctrl will select all cells between two non-adjacent selections."
      ]
    },
    {
      "cell_type": "markdown",
      "metadata": {
        "id": "EvuQ1OQO1ycx"
      },
      "source": [
        "### Text cells\n"
      ]
    },
    {
      "cell_type": "markdown",
      "metadata": {
        "id": "OkRTAVuqhFjB"
      },
      "source": [
        "Colaboratory has two types of cells: text and code. The text cells are formatted using a simple markup language called **markdown**, based on [the original](https://daringfireball.net/projects/markdown/syntax) markdown project. \n",
        "This is a **text cell**. You can **double-click** to edit this cell. Text cells\n",
        "use markdown syntax. To learn more, see the [markdown\n",
        "guide](/notebooks/markdown_guide.ipynb) recommended by Google Colab."
      ]
    },
    {
      "cell_type": "markdown",
      "metadata": {
        "id": "4kcegGIpe8lS"
      },
      "source": [
        "### Markdown ⌨️\n",
        "\n",
        "\n"
      ]
    },
    {
      "cell_type": "markdown",
      "metadata": {
        "id": "kI15tSdTfGWR"
      },
      "source": [
        "To see the markdown source, double-click a text cell, showing both the markdown source (left) and the rendered version (right). Above the markdown source there is a toolbar to assist editing.\n",
        "\n"
      ]
    },
    {
      "cell_type": "markdown",
      "metadata": {
        "id": "kZrt46FefdrP"
      },
      "source": [
        "You can also use tags to format your text. The following are examples of markdown text formats. Each word/phrase is shown in the desired format, and the tags around it are those required to achieve each specific format.\n",
        "\n",
        "**Text Formats:**\n",
        "\n",
        "\\**italics*\\* or \\__italics__\n",
        "\n",
        "**\\*\\*bold\\*\\***\n",
        "\n",
        "\\~\\~~~strikethrough~~\\~\\~\n",
        "\n",
        "\\``monospace`\\`\n",
        "\n",
        "**Indentations:**\n",
        "\n",
        "No indent\n",
        ">\\>One level of indentation\n",
        ">>\\>\\>Two levels of indentation\n",
        "\n",
        "**An ordered list:**\n",
        "1. 1\\. One\n",
        "1. 1\\. Two\n",
        "1. 1\\. Three\n",
        "\n",
        "**An unordered list:**\n",
        "* \\* One\n",
        "* \\* Two\n",
        "* \\* Three\n",
        "\n"
      ]
    },
    {
      "cell_type": "markdown",
      "metadata": {
        "id": "0TVB1lWFijmO"
      },
      "source": [
        "******If you are interested in learning more about markdown in Google Colab you can read this nice article which includes a cheat sheet [here](https://towardsdatascience.com/cheat-sheet-for-google-colab-63853778c093)**"
      ]
    },
    {
      "cell_type": "markdown",
      "metadata": {
        "id": "DlYcamFy0lTU"
      },
      "source": [
        "### Math 🧮 & Equations ✏️\n",
        "\n"
      ]
    },
    {
      "cell_type": "markdown",
      "metadata": {
        "id": "2aRIMDu4fCHq"
      },
      "source": [
        "You can also add math to text cells using [$\\LaTeX$](http://www.latex-project.org/)\n",
        "to be rendered by [MathJax](https://www.mathjax.org). Just place the statement\n",
        "within a pair of **`$`** signs. For example `$\\sqrt{3x-1}+(1+x)^2$` becomes\n",
        "$\\sqrt{3x-1}+(1+x)^2.$"
      ]
    },
    {
      "cell_type": "markdown",
      "metadata": {
        "id": "zswE9sBJfOTQ"
      },
      "source": [
        "Also, if you double the **`$`** tags in your $\\LaTeX$ equations, you can set the contents off on its own centered line. For example, `$$y = 0.1 x$$` renders the following equation: $$y = 0.1 x$$"
      ]
    },
    {
      "cell_type": "markdown",
      "metadata": {
        "id": "UFymope2e12l"
      },
      "source": [
        "### Tables 📍\n",
        "\n"
      ]
    },
    {
      "cell_type": "markdown",
      "metadata": {
        "id": "mYmHSFwJfWe6"
      },
      "source": [
        "Tables:\n",
        "```\n",
        "First column name | Second column name\n",
        "--- | ---\n",
        "Row 1, Col 1 | Row 1, Col 2\n",
        "Row 2, Col 1 | Row 2, Col 2\n",
        "```\n",
        "\n",
        "becomes:\n",
        "\n",
        ">First column name | Second column name\n",
        ">--- | ---\n",
        ">Row 1, Col 1 | Row 1, Col 2\n",
        ">Row 2, Col 1 | Row 2, Col 2\n",
        "\n",
        "Horizontal rule done with three dashes (\\-\\-\\-):\n",
        "\n",
        "---\n"
      ]
    },
    {
      "cell_type": "markdown",
      "metadata": {
        "id": "15uaj6r3iMiS"
      },
      "source": [
        "### Gifs 😱"
      ]
    },
    {
      "cell_type": "markdown",
      "metadata": {
        "id": "sgxS2B2XiO3s"
      },
      "source": [
        "YES! you can add animated gifs\n",
        "\n",
        "<img src='https://media.giphy.com/media/3o72F8t9TDi2xVnxOE/giphy.gif'/>\n"
      ]
    },
    {
      "cell_type": "markdown",
      "metadata": {
        "id": "1TgGQL3K2RRE"
      },
      "source": [
        "### Code cells\n",
        "\n",
        "\n",
        "Below is a **code cell**. To execute the contents of a code cell, you first must connect to a hosted runtime by clicking on the **Connect** button located in the toolbar menu.\n",
        "\n",
        " <img src='https://media.giphy.com/media/lRLBURv0hpcHqiraBI/giphy.gif'/> \n",
        "\n",
        "Once the toolbar button changes to **'Connected'**, click in the code cell below to select it and execute the contents in the following ways:\n"
      ]
    },
    {
      "cell_type": "markdown",
      "metadata": {
        "id": "0GPMDXfH0uDb"
      },
      "source": [
        "\n",
        "\n",
        "* Click the **Play icon** in the left gutter of the cell;\n",
        "* Type **Cmd/Ctrl+Enter** to run the cell in place;\n",
        "* Type **Shift+Enter** to run the cell and move focus to the next cell (adding one if none exists); or\n",
        "* Type **Alt+Enter** to run the cell and insert a new code cell immediately below it.\n",
        "\n",
        "There are additional options for running some or all cells in the **Runtime** menu.\n"
      ]
    },
    {
      "cell_type": "code",
      "metadata": {
        "id": "M0wncmN0q97L"
      },
      "source": [
        "W = 'Tryptophan'\n",
        "C = 'Cysteine'\n",
        "W,C"
      ],
      "execution_count": null,
      "outputs": []
    },
    {
      "cell_type": "markdown",
      "source": [
        "## Part II. Files, Folder and Images"
      ],
      "metadata": {
        "id": "0wfzPeqOVeff"
      }
    },
    {
      "cell_type": "markdown",
      "metadata": {
        "id": "PvbV-LeUpHJS"
      },
      "source": [
        "### Mount your google drive disk\n",
        "By running the code in the next cell you will be able to access your google drive folders from colab, see the side bar"
      ]
    },
    {
      "cell_type": "code",
      "metadata": {
        "id": "QCC-s3vnDKlq"
      },
      "source": [
        "from google.colab import drive\n",
        "drive.mount('/content/drive')"
      ],
      "execution_count": null,
      "outputs": []
    },
    {
      "cell_type": "markdown",
      "source": [
        "Now you can **make a folder Structural_Bioinformatics** in your google drive by using the menu on the left side of the browser, into this folder make a folder **Task1**.\n",
        "\n",
        "**Then upload all the images you made with VMD in the folder Task1.** To upload an image you can right click on the folder name, again here on the left and chose upload, then you can search on your PC for what to upload."
      ],
      "metadata": {
        "id": "9_5PxCrpVpLG"
      }
    },
    {
      "cell_type": "markdown",
      "metadata": {
        "id": "xpQtmCkOpq2_"
      },
      "source": [
        "### Images\n",
        "\n",
        "Once an image is uploaded somewhere in your Google Drive you can load it using the code in the next cell. There you need to correctly set the **PATH** to the file you want to show. To do this you can find the file in the navigation tab on the left, right click on the file and copy path. Then paste the path inside **imread(\"\")**"
      ]
    },
    {
      "cell_type": "code",
      "metadata": {
        "id": "-Er5BSWm4EEi"
      },
      "source": [
        "import cv2\n",
        "from google.colab.patches import cv2_imshow\n",
        "img = cv2.imread(\"/content/drive/MyDrive/Structural_Bioinformatics/Task1/Screenshot 2022-10-10 at 16.53.10.png\")\n",
        "cv2_imshow(img)"
      ],
      "execution_count": null,
      "outputs": []
    },
    {
      "cell_type": "markdown",
      "source": [
        "### Set the working folder"
      ],
      "metadata": {
        "id": "MpP_76HkaGBt"
      }
    },
    {
      "cell_type": "markdown",
      "source": [
        "In general one problem of using Colab notebooks is that you do not know where they are run. If you open a notebook from one of your google drive folder, then this is the folder where everything happen. But if you are opening a notebook from the web then this is run on the google virtual machine. **To check the folder and change it you can use simple Linux shell commands**:"
      ],
      "metadata": {
        "id": "8J0pNRHLaL_u"
      }
    },
    {
      "cell_type": "code",
      "source": [
        "#check the local active folder:\n",
        "%pwd"
      ],
      "metadata": {
        "id": "agJrUUMiauDa"
      },
      "execution_count": null,
      "outputs": []
    },
    {
      "cell_type": "code",
      "source": [
        "#change the local active folder (paste in the following line that path to your Task1 folder)\n",
        "%cd \"/content/drive/MyDrive/Structural_Bioinformatics/Task1\""
      ],
      "metadata": {
        "id": "uQ8nDvehav4X"
      },
      "execution_count": null,
      "outputs": []
    },
    {
      "cell_type": "code",
      "source": [
        "#check the local active folder:\n",
        "%pwd"
      ],
      "metadata": {
        "id": "4cc_dnSIa79i"
      },
      "execution_count": null,
      "outputs": []
    },
    {
      "cell_type": "code",
      "source": [
        "#show the files in the local folder:\n",
        "%ls"
      ],
      "metadata": {
        "id": "HAEdsmzwbeW2"
      },
      "execution_count": null,
      "outputs": []
    },
    {
      "cell_type": "markdown",
      "source": [
        "### Simple data extraction from files"
      ],
      "metadata": {
        "id": "cEvXX2BSn9dN"
      }
    },
    {
      "cell_type": "code",
      "source": [
        "#Download a structure from the PDB:\n",
        "import urllib.request \n",
        "urllib.request.urlretrieve('http://files.rcsb.org/download/7tjh.pdb', '7tjh.txt')\n",
        "# here we change the extension of the file from .pdb to .txt so that the computer immediately understand that is a text file"
      ],
      "metadata": {
        "id": "AZjbJTlXbvOh"
      },
      "execution_count": null,
      "outputs": []
    },
    {
      "cell_type": "code",
      "source": [
        "#check again the files:\n",
        "%ls"
      ],
      "metadata": {
        "id": "_sENxk2IcIpr"
      },
      "execution_count": null,
      "outputs": []
    },
    {
      "cell_type": "code",
      "source": [
        "#show the file content here:\n",
        "%cat 7tjh.txt"
      ],
      "metadata": {
        "id": "FSc8usg8cPjE"
      },
      "execution_count": null,
      "outputs": []
    },
    {
      "cell_type": "markdown",
      "source": [
        "**To see a file you can actually double click on it from the menu on the left**\n",
        "\n"
      ],
      "metadata": {
        "id": "3i_o_4o2cbFl"
      }
    },
    {
      "cell_type": "markdown",
      "source": [
        "Now lets take some data from the PDB file using simple Linux commands, for example we would like to count all the different amino acids in the protein:"
      ],
      "metadata": {
        "id": "qPO_hZH2oHpi"
      }
    },
    {
      "cell_type": "code",
      "source": [
        "# show from the file the lines inlcuding ALA (all ALANINE atoms)\n",
        "%%bash\n",
        "grep ALA 7tjh.txt"
      ],
      "metadata": {
        "id": "rGSpgezSoNVn"
      },
      "execution_count": null,
      "outputs": []
    },
    {
      "cell_type": "code",
      "source": [
        "# now take one single atom, the safest choice is the CA carbon\n",
        "%%bash\n",
        "grep ALA 7tjh.txt | grep CA"
      ],
      "metadata": {
        "id": "k3gOBsOxpIz4"
      },
      "execution_count": null,
      "outputs": []
    },
    {
      "cell_type": "code",
      "source": [
        "# lets' count them:\n",
        "%%bash\n",
        "grep ALA 7tjh.txt | grep CA | wc -l\n",
        "# set it into a variable\n",
        "cc=`grep ALA 7tjh.txt | grep CA | wc -l`"
      ],
      "metadata": {
        "id": "FfW081adpPOR"
      },
      "execution_count": null,
      "outputs": []
    },
    {
      "cell_type": "code",
      "source": [
        "# now we put this number in an array of size 20\n",
        "import numpy as np\n",
        "# we call this array 'aa_count', of size 20 with all 0.\n",
        "aa_count=np.full(20, 0.)\n",
        "# we also set an array with amino acids names\n",
        "aa_names=np.empty(20, dtype=object)\n",
        "print(aa_names)\n",
        "print(aa_count)"
      ],
      "metadata": {
        "id": "l4JhHcyGpXSa"
      },
      "execution_count": null,
      "outputs": []
    },
    {
      "cell_type": "code",
      "source": [
        "tmp=!grep ALA 7tjh.txt | grep CA | wc -l\n",
        "aa_count[0]=tmp[0]\n",
        "aa_names[0]=\"ALA\"\n",
        "print(aa_names)\n",
        "print(aa_count)"
      ],
      "metadata": {
        "id": "orOzOXZjweM1"
      },
      "execution_count": null,
      "outputs": []
    },
    {
      "cell_type": "code",
      "source": [
        "#we can iterate this operation on all some amino acids:\n",
        "k=0\n",
        "for i in 'ALA', 'CYS', 'GLY':\n",
        "  print(i)\n",
        "  !grep $i 7tjh.txt | grep CA | wc -l\n",
        "  tmp=!grep $i 7tjh.txt | grep CA | wc -l\n",
        "  aa_names[k]=i\n",
        "  aa_count[k]=tmp[0]\n",
        "  k+=1\n",
        "\n",
        "print(aa_names)\n",
        "print(aa_count)"
      ],
      "metadata": {
        "id": "MTr0NtkQwuhX"
      },
      "execution_count": null,
      "outputs": []
    },
    {
      "cell_type": "markdown",
      "metadata": {
        "id": "4chLU4Uclr-F"
      },
      "source": [
        "## Part III. Interactive ways of representing your data 📊 📈"
      ]
    },
    {
      "cell_type": "markdown",
      "metadata": {
        "id": "dpdEhpK3HsIA"
      },
      "source": [
        "The visualization of our results is as important as the process of analysis.There are several Python libraries for data visualization, but we will focus on one of the most used and essential: *matplotlib*. [Matplotlib](https://matplotlib.org/stable/index.html) is highly customizable and is compatible with a great number of files formats as *png, tiff, jpeg, etc*. Additionally, this library is already installed in Colab, so we only need to import the module to the current document. Let's see some examples!\n",
        "\n"
      ]
    },
    {
      "cell_type": "markdown",
      "metadata": {
        "id": "jKrxMQMehgZR"
      },
      "source": [
        "First we need to import the `matplotlib.pyplot` module and the complete module with shorthands."
      ]
    },
    {
      "cell_type": "code",
      "metadata": {
        "id": "CVfUXBbwIm8F"
      },
      "source": [
        "import matplotlib.pyplot as plt\n",
        "import matplotlib as mpl"
      ],
      "execution_count": null,
      "outputs": []
    },
    {
      "cell_type": "markdown",
      "metadata": {
        "id": "BlhVMC-kickH"
      },
      "source": [
        "We'll create a simple example to illustrate how to use the `matplotlib.pyplot`."
      ]
    },
    {
      "cell_type": "code",
      "metadata": {
        "id": "P7wHq7h1iSh7"
      },
      "source": [
        "# Data\n",
        "time = [0, 10, 20, 300]\n",
        "python_level = [0, 1, 2, 30]\n",
        "\n",
        "plt.plot(time, python_level)\n",
        "plt.xlabel('Time (hr)')\n",
        "plt.ylabel('Python programming level')"
      ],
      "execution_count": null,
      "outputs": []
    },
    {
      "cell_type": "markdown",
      "metadata": {
        "id": "pY-v0rxHgCeG"
      },
      "source": [
        "We can change the style of the plots easily with the `plt.style.use` method (you can check the available styles [here](https://matplotlib.org/stable/gallery/style_sheets/style_sheets_reference.html)). Additionally, the plots can be saved to a file with the function `savefig`. The *format* will be infered from the filename and the size of the plot can be change with the *dpi*, *width* and *height* arguments. \n",
        "\n",
        "\n"
      ]
    },
    {
      "cell_type": "code",
      "metadata": {
        "id": "J-c0hfczgB1V"
      },
      "source": [
        "plt.style.use('dark_background')\n",
        "\n",
        "plt.plot(time, python_level)\n",
        "plt.xlabel('Time (hr)')\n",
        "plt.ylabel('Python programming level')\n",
        "\n",
        "plt.savefig('First_plot.png', dpi = 100)"
      ],
      "execution_count": null,
      "outputs": []
    },
    {
      "cell_type": "markdown",
      "metadata": {
        "id": "zYogqRe4h-gc"
      },
      "source": [
        "As you can see, we have added all the elements of the plot just using methods included in the `Matplotlib.pyplot` module. The `plot` function allow us to visualize the relationship of the variables with lines and markers, but there is a lot of options available (histograms, barplots, boxplots, etc). Plots are highly customizable. We can change the color, line width, transparency, line style, etc, just adding a few parameters to the function call. If you are passionate about data visualization, we recommend you to review the Matplotlib documentation (you can find it [here](https://matplotlib.org/stable/api/_as_gen/matplotlib.pyplot.plot.html)) to get the most benefit from this tool."
      ]
    },
    {
      "cell_type": "code",
      "metadata": {
        "id": "zH8QfAG8b2UZ"
      },
      "source": [
        "fig, axs = plt.subplots(2, 2, sharex=True)\n",
        "axs[0, 0].plot(time, python_level, linestyle = '--', color = 'darkred')\n",
        "axs[0, 0].set_title('Plot 1')\n",
        "axs[0, 1].plot(time, python_level, linestyle = '-', color = 'mediumaquamarine', linewidth = 2, marker = \"*\", markersize = 16)\n",
        "axs[0, 1].set_title('Plot 2')\n",
        "axs[1, 0].plot(time, python_level, linestyle = ':', color = 'darkgreen', marker = \"d\", markersize = 12, alpha = 0.5)\n",
        "axs[1, 0].set_title('Plot 3')\n",
        "axs[1, 1].plot(time, python_level, linestyle = '', color = 'olivedrab', marker = '$\\phi$', markersize = 15)\n",
        "axs[1, 1].set_title('Plot 4')\n"
      ],
      "execution_count": null,
      "outputs": []
    },
    {
      "cell_type": "markdown",
      "metadata": {
        "id": "kDxdadvRhxZ1"
      },
      "source": [
        "Matplotlib is an excellent library for static data visualization, however, Google Colab is an interactive platform with great potential, so let's take advantage of that. The **ipywidgets** library contains a set of useful tools to enchance the user experience. For example:"
      ]
    },
    {
      "cell_type": "code",
      "metadata": {
        "id": "DvkmCV6jm1_z"
      },
      "source": [
        "import ipywidgets as widgets\n",
        "\n",
        "def say_my_name(name):\n",
        "    print(f'My name is {name}')\n",
        "     \n",
        "widgets.interact(say_my_name, name=[\"Walter\", \"White\", \"Heisenberg\", \"Mr. White\"]);"
      ],
      "execution_count": null,
      "outputs": []
    },
    {
      "cell_type": "code",
      "metadata": {
        "id": "Er_-1zXZmSxV"
      },
      "source": [
        "slider = widgets.IntSlider(20, min=0, max=100)\n",
        "slider"
      ],
      "execution_count": null,
      "outputs": []
    },
    {
      "cell_type": "markdown",
      "metadata": {
        "id": "DjHU3BAdmhBf"
      },
      "source": [
        "Even better, we can use some data visualization libraries with interactive options. The syntax is highly similar to what we have seen in Matplotlib ;) "
      ]
    },
    {
      "cell_type": "code",
      "metadata": {
        "id": "g3DHQiL4nM-F"
      },
      "source": [
        "# load an example dataset\n",
        "from vega_datasets import data\n",
        "cars = data.cars()\n",
        "\n",
        "# plot the dataset, referencing dataframe column names\n",
        "import altair as alt\n",
        "alt.Chart(cars).mark_bar().encode(\n",
        "  x=alt.X('Miles_per_Gallon', bin=True),\n",
        "  y='count()',\n",
        ")"
      ],
      "execution_count": null,
      "outputs": []
    },
    {
      "cell_type": "code",
      "metadata": {
        "id": "5h7chbx2nRQK"
      },
      "source": [
        "# load an example dataset\n",
        "from vega_datasets import data\n",
        "cars = data.cars()\n",
        "\n",
        "# plot the dataset, referencing dataframe column names\n",
        "import altair as alt\n",
        "alt.Chart(cars).mark_point().encode(\n",
        "  x='Horsepower',\n",
        "  y='Miles_per_Gallon',\n",
        "  color='Origin'\n",
        ").interactive()"
      ],
      "execution_count": null,
      "outputs": []
    },
    {
      "cell_type": "code",
      "metadata": {
        "id": "K3enpVmKm1-C"
      },
      "source": [
        "import altair as alt\n",
        "import ipywidgets as widgets\n",
        "from vega_datasets import data\n",
        "\n",
        "source = data.stocks()\n",
        "\n",
        "stock_picker = widgets.SelectMultiple(\n",
        "    options=source.symbol.unique(),\n",
        "    value=list(source.symbol.unique()),\n",
        "    description='Symbols')\n",
        "\n",
        "# The value of symbols will come from the stock_picker.\n",
        "@widgets.interact(symbols=stock_picker)\n",
        "def render(symbols):\n",
        "  selected = source[source.symbol.isin(list(symbols))]\n",
        "\n",
        "  return alt.Chart(selected).mark_line().encode(\n",
        "      x='date',\n",
        "      y='price',\n",
        "      color='symbol',\n",
        "      strokeDash='symbol',\n",
        "  )"
      ],
      "execution_count": null,
      "outputs": []
    },
    {
      "cell_type": "code",
      "source": [],
      "metadata": {
        "id": "-I35dGM7eCdq"
      },
      "execution_count": null,
      "outputs": []
    },
    {
      "cell_type": "markdown",
      "source": [
        "## Part IV. Your First Report"
      ],
      "metadata": {
        "id": "e88hYCuaeG9n"
      }
    },
    {
      "cell_type": "markdown",
      "source": [
        "Start by creating a new notebook, using **File -> New Notebook**. New notebooks are created in your google drive, in a **Colab Notebooks** folder.\n",
        "\n",
        "When you are in the new notebook, generally named \"Untitled.ipynb\", select **File -> Move** and move it to your Task1 folder.\n",
        "\n",
        "Rename the notebook are Visualisation.ipynb\n",
        "\n",
        "You can then copy and paste the following cells and then modify them as appropriate."
      ],
      "metadata": {
        "id": "yOCFmnMif5Z0"
      }
    },
    {
      "cell_type": "markdown",
      "source": [
        "# Structures Visualisation\n",
        "---\n",
        "Your name"
      ],
      "metadata": {
        "id": "bcdt0KR_hxfP"
      }
    },
    {
      "cell_type": "code",
      "source": [
        "from datetime import date\n",
        "\n",
        "today = date.today()\n",
        "print(today)"
      ],
      "metadata": {
        "id": "psDToPFp0adc"
      },
      "execution_count": null,
      "outputs": []
    },
    {
      "cell_type": "markdown",
      "source": [
        "Using the information in the PDB write some information on the system you are working:\n",
        "\n",
        "PDB: 7TJH\n",
        "This structure includes XX protein molecules, YY DNA molecules, and ZZ other small molecules\n",
        "The proteins of the complex are:\n",
        "\n",
        "\n",
        "1.   ORC1: made of XX aminoacid, the structure determined includes only regions: bla bla\n",
        "2.   List item\n",
        "\n",
        "Then includes the images you have generated with VMD and briefly explain what you are showing and what you learn from it:"
      ],
      "metadata": {
        "id": "EnxI914biCpK"
      }
    },
    {
      "cell_type": "markdown",
      "source": [
        "**Figure 1: ATP/MG2+ protein interaction**"
      ],
      "metadata": {
        "id": "pRUWBWVGlv_f"
      }
    },
    {
      "cell_type": "code",
      "source": [
        "# add here the code to include the image "
      ],
      "metadata": {
        "id": "VWsqYZrigViQ"
      },
      "execution_count": null,
      "outputs": []
    },
    {
      "cell_type": "markdown",
      "source": [
        "Caption about the figure"
      ],
      "metadata": {
        "id": "PxdYBkxEmKrG"
      }
    },
    {
      "cell_type": "markdown",
      "source": [
        "**Figure 2: ORC5:DNA interaction bends the DNA**"
      ],
      "metadata": {
        "id": "BSbzEZnfmNSd"
      }
    },
    {
      "cell_type": "code",
      "source": [
        "# add here the code to include the image "
      ],
      "metadata": {
        "id": "u9UbbxrlmDh-"
      },
      "execution_count": null,
      "outputs": []
    },
    {
      "cell_type": "markdown",
      "source": [
        "Caption about the figure"
      ],
      "metadata": {
        "id": "4MqOIHyqmWMj"
      }
    },
    {
      "cell_type": "markdown",
      "source": [
        "Now add a bar plot to show the aminoacidic content of your complex, to get the number you need to complete the function below:"
      ],
      "metadata": {
        "id": "wOHWm1myx2SG"
      }
    },
    {
      "cell_type": "code",
      "source": [
        "import numpy as np\n",
        "# we call this array 'aa_count', of size 20 with all 0.\n",
        "aa_count=np.full((20,2), 0.)\n",
        "print(aa_count)\n",
        "# we also set an array with amino acids names\n",
        "aa_names=np.empty(20, dtype=object)"
      ],
      "metadata": {
        "id": "FxQd4_5DyFGi"
      },
      "execution_count": null,
      "outputs": []
    },
    {
      "cell_type": "code",
      "source": [
        "#we can iterate this operation on all some amino acids:\n",
        "k=0\n",
        "# complete the following line and then remove the #\n",
        "#for i in 'ALA', 'CYS', 'GLY', ...:\n",
        "  tmp=!grep $i 7tjh.txt | grep CA | wc -l\n",
        "  aa_names[k]=i\n",
        "  aa_count[k]=(k,tmp[0])\n",
        "  k+=1\n",
        "\n",
        "print(aa_names)\n",
        "print(aa_count)"
      ],
      "metadata": {
        "id": "a2JX53oYyNBo"
      },
      "execution_count": null,
      "outputs": []
    },
    {
      "cell_type": "code",
      "source": [
        "import matplotlib.pyplot as plt\n",
        "plt.bar(aa_count[:,0],aa_count[:,1], width=0.8, tick_label=aa_names)"
      ],
      "metadata": {
        "id": "BdIuXH_ZySy2"
      },
      "execution_count": null,
      "outputs": []
    },
    {
      "cell_type": "markdown",
      "source": [
        "And now do it again for DNA bases, in the PDB file these are indentified as DA, DT, DC, DG:"
      ],
      "metadata": {
        "id": "slRiDIQQ0EVl"
      }
    },
    {
      "cell_type": "code",
      "source": [
        "!grep DA 7tjh.txt | grep OP1"
      ],
      "metadata": {
        "id": "eJTmKkliytUV"
      },
      "execution_count": null,
      "outputs": []
    },
    {
      "cell_type": "code",
      "source": [
        "# we call this array 'dna_count', of size 4 with all 0.\n",
        "dna_count=np.full((4,2), 0.)\n",
        "# we also set an array with amino acids names\n",
        "dna_names=np.empty(4, dtype=object)"
      ],
      "metadata": {
        "id": "pNJg-_jv0RMB"
      },
      "execution_count": null,
      "outputs": []
    },
    {
      "cell_type": "code",
      "source": [
        "# go on..."
      ],
      "metadata": {
        "id": "2_oxrPY_0mHI"
      },
      "execution_count": null,
      "outputs": []
    },
    {
      "cell_type": "code",
      "source": [],
      "metadata": {
        "id": "AUlmkUbz0qXk"
      },
      "execution_count": null,
      "outputs": []
    }
  ]
}