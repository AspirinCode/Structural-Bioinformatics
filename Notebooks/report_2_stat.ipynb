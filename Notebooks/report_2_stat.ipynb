{
  "nbformat": 4,
  "nbformat_minor": 0,
  "metadata": {
    "colab": {
      "name": "report_1_vmd.ipynb",
      "provenance": [],
      "collapsed_sections": [
        "UFymope2e12l",
        "15uaj6r3iMiS",
        "1TgGQL3K2RRE",
        "xpQtmCkOpq2_",
        "dPnY__n_n98v",
        "LW6uLL-Zn98w",
        "HoD4UmzRn98y",
        "iG0e--lNvLBQ",
        "Ge0mpLr0HI3o",
        "KjY0f0PZFPrQ",
        "_Twcsx45vjn1",
        "TYTtnqKykHoh",
        "mJ5N9k2Uh-Km",
        "Sngj5A18lXkc",
        "PuRyHnXVh-L1",
        "avMpCAihh-L1",
        "yDojx1I6h-L1",
        "Vx58xIUch-L2",
        "Bw7U08o5h-L2",
        "wCeZpa40h-L2",
        "O8pcyPz1h-L2",
        "4chLU4Uclr-F",
        "BDdkXICKh-LY",
        "JNQV86LYh-Kz",
        "sPInh2E_h-LB",
        "9SNVANvoh-LF",
        "00AvEQZch-LK",
        "XbKvjZF5h-LN",
        "zaOIoAzfh-LU",
        "kRcCCmnbh-LW",
        "AMRn-yH-h-LY",
        "O4h2Ne2th-LZ",
        "tybiSZtlh-Lc",
        "LW8dk0jqh-Lk",
        "H7QoSWk-h-Lf",
        "A-E1DJY9h-Kb"
      ],
      "include_colab_link": true
    },
    "kernelspec": {
      "name": "python3",
      "display_name": "Python 3"
    }
  },
  "cells": [
    {
      "cell_type": "markdown",
      "metadata": {
        "id": "view-in-github",
        "colab_type": "text"
      },
      "source": [
        "<a href=\"https://colab.research.google.com/github/carlocamilloni/Structural-Bioinformatics/blob/main/Notebooks/report_2_stat.ipynb\" target=\"_parent\"><img src=\"https://colab.research.google.com/assets/colab-badge.svg\" alt=\"Open In Colab\"/></a>"
      ]
    },
    {
      "cell_type": "markdown",
      "source": [
        "Start by saving a copy of this **notebook** in your Google Drive.\n",
        "\n",
        "Rename the notebook as Visualisation.ipynb"
      ],
      "metadata": {
        "id": "yOCFmnMif5Z0"
      }
    },
    {
      "cell_type": "markdown",
      "source": [
        "# Basic Statistical Analysis\n",
        "---\n",
        "Your name"
      ],
      "metadata": {
        "id": "bcdt0KR_hxfP"
      }
    },
    {
      "cell_type": "code",
      "source": [
        "from datetime import date\n",
        "\n",
        "today = date.today()\n",
        "print(today)"
      ],
      "metadata": {
        "id": "psDToPFp0adc"
      },
      "execution_count": null,
      "outputs": []
    }
  ]
}