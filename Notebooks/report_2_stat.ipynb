{
  "nbformat": 4,
  "nbformat_minor": 0,
  "metadata": {
    "colab": {
      "name": "report_2_stat.ipynb",
      "provenance": [],
      "collapsed_sections": [
        "UFymope2e12l",
        "15uaj6r3iMiS",
        "1TgGQL3K2RRE",
        "xpQtmCkOpq2_",
        "dPnY__n_n98v",
        "LW6uLL-Zn98w",
        "HoD4UmzRn98y",
        "iG0e--lNvLBQ",
        "Ge0mpLr0HI3o",
        "KjY0f0PZFPrQ",
        "_Twcsx45vjn1",
        "TYTtnqKykHoh",
        "mJ5N9k2Uh-Km",
        "Sngj5A18lXkc",
        "PuRyHnXVh-L1",
        "avMpCAihh-L1",
        "yDojx1I6h-L1",
        "Vx58xIUch-L2",
        "Bw7U08o5h-L2",
        "wCeZpa40h-L2",
        "O8pcyPz1h-L2",
        "4chLU4Uclr-F",
        "BDdkXICKh-LY",
        "JNQV86LYh-Kz",
        "sPInh2E_h-LB",
        "9SNVANvoh-LF",
        "00AvEQZch-LK",
        "XbKvjZF5h-LN",
        "zaOIoAzfh-LU",
        "kRcCCmnbh-LW",
        "AMRn-yH-h-LY",
        "O4h2Ne2th-LZ",
        "tybiSZtlh-Lc",
        "LW8dk0jqh-Lk",
        "H7QoSWk-h-Lf",
        "A-E1DJY9h-Kb"
      ],
      "include_colab_link": true
    },
    "kernelspec": {
      "name": "python3",
      "display_name": "Python 3"
    }
  },
  "cells": [
    {
      "cell_type": "markdown",
      "metadata": {
        "id": "view-in-github",
        "colab_type": "text"
      },
      "source": [
        "<a href=\"https://colab.research.google.com/github/carlocamilloni/Structural-Bioinformatics/blob/main/Notebooks/report_2_stat.ipynb\" target=\"_parent\"><img src=\"https://colab.research.google.com/assets/colab-badge.svg\" alt=\"Open In Colab\"/></a>"
      ]
    },
    {
      "cell_type": "markdown",
      "source": [
        "Start by saving a copy of this **notebook** in your Google Drive.\n",
        "\n",
        "Rename the notebook as Visualisation.ipynb"
      ],
      "metadata": {
        "id": "yOCFmnMif5Z0"
      }
    },
    {
      "cell_type": "markdown",
      "source": [
        "# Basic Statistical Analysis\n",
        "---\n",
        "Your name"
      ],
      "metadata": {
        "id": "bcdt0KR_hxfP"
      }
    },
    {
      "cell_type": "code",
      "source": [
        "from datetime import date\n",
        "\n",
        "today = date.today()\n",
        "print(today)"
      ],
      "metadata": {
        "id": "psDToPFp0adc"
      },
      "execution_count": null,
      "outputs": []
    },
    {
      "cell_type": "markdown",
      "source": [
        "**Table 1.** Report the average, standard deviation and standard error of the mean for the throwing of 10, 100, 1000, and 10000 dice."
      ],
      "metadata": {
        "id": "3BUyeFTbdrzd"
      }
    },
    {
      "cell_type": "markdown",
      "source": [
        "*Remember that the number of digits to be reported should be consistent with the standard error, and that as a rule of thumb you should use no more than two non-zero digits for the error (e.g., 0.000125040 is an error of 0.00012 and consequently the other numbers should be reported for no more than 6 digits)*"
      ],
      "metadata": {
        "id": "9TaCT2VAenaI"
      }
    },
    {
      "cell_type": "markdown",
      "source": [
        "throws | average | std. dev. | std. err.\n",
        "--- | --- | --- | ---\n",
        "10 | | | |\n",
        "100 | | | |\n",
        "1000 | | | |\n",
        "10000 | | | |"
      ],
      "metadata": {
        "id": "exdwNlO7epHh"
      }
    },
    {
      "cell_type": "markdown",
      "source": [
        "**Figure 1.** Nine histograms showing the distribution of the average over different number of throwings (10, 100, 1000) and different number of trials (10, 100, 1000)."
      ],
      "metadata": {
        "id": "AGU9l9CofOuy"
      }
    },
    {
      "cell_type": "markdown",
      "source": [
        "*To show the histogram you can copy here the code from the instruction notebook or save them as images and add them here.*"
      ],
      "metadata": {
        "id": "d_SF19Hef3B0"
      }
    },
    {
      "cell_type": "markdown",
      "source": [
        "Briefly explain what you see from the histograms"
      ],
      "metadata": {
        "id": "WRrtKPesgVfG"
      }
    },
    {
      "cell_type": "code",
      "source": [],
      "metadata": {
        "id": "KAvRTbD1gkl4"
      },
      "execution_count": null,
      "outputs": []
    }
  ]
}