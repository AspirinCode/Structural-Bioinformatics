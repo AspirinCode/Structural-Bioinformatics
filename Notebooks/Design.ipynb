{
  "nbformat": 4,
  "nbformat_minor": 0,
  "metadata": {
    "colab": {
      "provenance": [],
      "authorship_tag": "ABX9TyNtU+bpjwjSknCSi8duPr35",
      "include_colab_link": true
    },
    "kernelspec": {
      "name": "python3",
      "display_name": "Python 3"
    },
    "language_info": {
      "name": "python"
    }
  },
  "cells": [
    {
      "cell_type": "markdown",
      "metadata": {
        "id": "view-in-github",
        "colab_type": "text"
      },
      "source": [
        "<a href=\"https://colab.research.google.com/github/carlocamilloni/Structural-Bioinformatics/blob/main/Notebooks/Design.ipynb\" target=\"_parent\"><img src=\"https://colab.research.google.com/assets/colab-badge.svg\" alt=\"Open In Colab\"/></a>"
      ]
    },
    {
      "cell_type": "markdown",
      "source": [
        "# PROTEIN DESIGN"
      ],
      "metadata": {
        "id": "mVRXfEzV_m6p"
      }
    },
    {
      "cell_type": "markdown",
      "source": [
        "In this task you will try some of the protein design tools available on the web. These tools are not yet refined in terms of users experience and are not the one used in the most recent design works but will be enough to start getting a feeling of their potential."
      ],
      "metadata": {
        "id": "kh-kBDhKB3tk"
      }
    },
    {
      "cell_type": "markdown",
      "source": [
        "## Exercise 1: Design a new protein at random"
      ],
      "metadata": {
        "id": "WrGX8PmCCLKN"
      }
    },
    {
      "cell_type": "markdown",
      "source": [
        "Here you will use a diffusion based model based on AlphaFold to generate one sequence/fold:\n",
        "https://colab.research.google.com/github/sokrypton/ColabDesign/blob/v1.1.1/af/examples/af_pseudo_diffusion_dgram.ipynb\n",
        "\n",
        "Before running it mount your google drive and save it so that the results will be downloaded to your drive.\n",
        "\n",
        "This uses AF to generate the backbone of a new protein and then uses ProteinMPNN to get its optimal sequence. In the option phase disable the **use_seq_noise** as well as the **use_dropout** options. Set **num_recycles** to 1 and **mpnn_mode** to sample.\n",
        "\n"
      ],
      "metadata": {
        "id": "O9ToXITiCYGQ"
      }
    },
    {
      "cell_type": "markdown",
      "source": [
        "Use VMD and show the structure of your protein, then use https://search.foldseek.com/search to search for a similar structure on the public repositories. Is your protein new? What is the closest protein in terms of sequence similarity?"
      ],
      "metadata": {
        "id": "wfskasNCC5KS"
      }
    },
    {
      "cell_type": "markdown",
      "source": [
        "ADD HERE YOUR RESULTS AND ASWERS"
      ],
      "metadata": {
        "id": "XEVUE3S0EqbM"
      }
    },
    {
      "cell_type": "markdown",
      "source": [
        "## Exercise 2: Design a peptide binder"
      ],
      "metadata": {
        "id": "_oueIGzTEmUe"
      }
    },
    {
      "cell_type": "markdown",
      "source": [
        "In this second exercise you will design a peptide binder targeting the protein you like.\n",
        "\n",
        "https://colab.research.google.com/github/sokrypton/ColabDesign/blob/v1.1.0/af/design.ipynb#scrollTo=dXfm4B8ISLuL\n",
        "\n",
        "First decide your target, if you do not know of any target use b2-microglobulin https://www.rcsb.org/structure/5CS7\n",
        "\n",
        "Once decided go to the top of the notebook, mount your google drive, save the notebook and run the setup."
      ],
      "metadata": {
        "id": "DqHoL8KAIBGA"
      }
    },
    {
      "cell_type": "markdown",
      "source": [
        "Use VMD and show the structure of your protein complex"
      ],
      "metadata": {
        "id": "XGFtPOyML7qc"
      }
    },
    {
      "cell_type": "markdown",
      "source": [
        "ADD HERE YOUR RESULTS"
      ],
      "metadata": {
        "id": "ld5A-J4eL_1C"
      }
    },
    {
      "cell_type": "markdown",
      "source": [
        "## Exercise 3: Add a scaffold to your peptide"
      ],
      "metadata": {
        "id": "txcSlJxSMAho"
      }
    },
    {
      "cell_type": "markdown",
      "source": [
        "In the third exercise you take the peptide resulting from the previous one and try to get a full scaffold around it. You can find all you need in the same notebook from above, in the section **partial hallucination + custom Radius of Gyration (rg) loss**. To give your peptide in input you need to substitute to 6MRR in the line **af_model.prep_inputs(pdb_filename=get_pdb(\"6MRR\"),** the path to your PDB structure in your google drive. In the same line of code you need also to set the correct chain for your peptide and the correct sequence range. For example\n",
        "\n",
        "                     chain=\"B\",\n",
        "                     pos=\"1-19\",\n",
        "                     length=100)      \n",
        "\n",
        "Keep the legth=100. And instead comment this line adding a # before it\n",
        "\n",
        "\\#af_model.rewire(loops=[36]) # set loop length between segments"
      ],
      "metadata": {
        "id": "uX3_4sC5MEsz"
      }
    },
    {
      "cell_type": "markdown",
      "source": [
        "Use VMD and show the structure of your protein complex\n"
      ],
      "metadata": {
        "id": "t3DiF5obM7H6"
      }
    },
    {
      "cell_type": "markdown",
      "source": [
        "ADD HERE YOUR RESULTS"
      ],
      "metadata": {
        "id": "gK0Tv2sRNAad"
      }
    },
    {
      "cell_type": "code",
      "source": [],
      "metadata": {
        "id": "MsJhgfagNEF-"
      },
      "execution_count": null,
      "outputs": []
    }
  ]
}