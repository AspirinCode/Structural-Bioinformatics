{
  "nbformat": 4,
  "nbformat_minor": 0,
  "metadata": {
    "colab": {
      "provenance": [],
      "collapsed_sections": [
        "nlzla1gtl-wT"
      ],
      "include_colab_link": true
    },
    "kernelspec": {
      "display_name": "Python 3",
      "language": "python",
      "name": "python3"
    },
    "language_info": {
      "codemirror_mode": {
        "name": "ipython",
        "version": 3
      },
      "file_extension": ".py",
      "mimetype": "text/x-python",
      "name": "python",
      "nbconvert_exporter": "python",
      "pygments_lexer": "ipython3",
      "version": "3.7.7"
    }
  },
  "cells": [
    {
      "cell_type": "markdown",
      "metadata": {
        "id": "view-in-github",
        "colab_type": "text"
      },
      "source": [
        "<a href=\"https://colab.research.google.com/github/carlocamilloni/Structural-Bioinformatics/blob/main/Notebooks/report_4_MDanalysis.ipynb\" target=\"_parent\"><img src=\"https://colab.research.google.com/assets/colab-badge.svg\" alt=\"Open In Colab\"/></a>"
      ]
    },
    {
      "cell_type": "markdown",
      "metadata": {
        "id": "zyYhjQHNLYE0"
      },
      "source": [
        "#REPORT: Trajectory Analysis using MDanalysis"
      ]
    },
    {
      "cell_type": "markdown",
      "source": [
        "## Preliminary Setup"
      ],
      "metadata": {
        "id": "6Y1N42lmgp29"
      }
    },
    {
      "cell_type": "markdown",
      "source": [
        "First save the notebook in your google drive"
      ],
      "metadata": {
        "id": "cRituXquWYa8"
      }
    },
    {
      "cell_type": "code",
      "source": [
        "# mount google drive\n",
        "from google.colab import drive\n",
        "drive.mount('/content/drive')"
      ],
      "metadata": {
        "id": "mwrhYp9WgxYc"
      },
      "execution_count": null,
      "outputs": []
    },
    {
      "cell_type": "code",
      "source": [
        "# set the path to your local task folder\n",
        "local_path='/content/drive/MyDrive/Structural_Bioinformatics/Task4'\n",
        "%cd {local_path}"
      ],
      "metadata": {
        "id": "adZeGmEpBeu3"
      },
      "execution_count": null,
      "outputs": []
    },
    {
      "cell_type": "markdown",
      "source": [
        "Your Name"
      ],
      "metadata": {
        "id": "WkMUMxiYWQ0A"
      }
    },
    {
      "cell_type": "code",
      "source": [
        "from datetime import date\n",
        "\n",
        "today = date.today()\n",
        "print(today)"
      ],
      "metadata": {
        "id": "CUHWyhL4WTY1"
      },
      "execution_count": null,
      "outputs": []
    },
    {
      "cell_type": "markdown",
      "metadata": {
        "id": "Fs9RilbxLnd-"
      },
      "source": [
        "### I.1 - RMSD\n"
      ]
    },
    {
      "cell_type": "markdown",
      "metadata": {
        "id": "stqGJXmJx-Hg"
      },
      "source": [
        "#### I.1A - Calculating $RMSD$ against a reference frame"
      ]
    },
    {
      "cell_type": "markdown",
      "metadata": {
        "id": "35YHo9oWyJOr"
      },
      "source": [
        "**QUESTION❓:** How much does the RMSD before and after alignment compare?"
      ]
    },
    {
      "cell_type": "markdown",
      "source": [
        "**ANSWER:**"
      ],
      "metadata": {
        "id": "UohpXmyNfyXs"
      }
    },
    {
      "cell_type": "markdown",
      "metadata": {
        "id": "cR3TTC3xYmN_"
      },
      "source": [
        "#### I.1B-C - RMSD of the monomer and the dimer"
      ]
    },
    {
      "cell_type": "markdown",
      "metadata": {
        "id": "m_8dXuxhmYG9"
      },
      "source": [
        "**QUESTION:** What is the range (in angstroms) of the RMSD fluctuations for the monomer and dimer simulations?"
      ]
    },
    {
      "cell_type": "markdown",
      "source": [
        "**ANSWER:**"
      ],
      "metadata": {
        "id": "GEhZoOxtfiQm"
      }
    },
    {
      "cell_type": "markdown",
      "metadata": {
        "id": "b6OY9Bo8jIfc"
      },
      "source": [
        "###I.2 - RMSF"
      ]
    },
    {
      "cell_type": "markdown",
      "metadata": {
        "id": "HPC9T4TPZokz"
      },
      "source": [
        "**QUESTIONS❓**\n",
        "\n",
        "1. Is there any difference in local fluctuations between the monomeric and dimeric states?\n",
        "\n",
        "2. Which region exhibit a high atomic fluctuation through the trajectory?\n",
        "\n",
        "3. What are the structural features of these regions?\n",
        "\n"
      ]
    },
    {
      "cell_type": "markdown",
      "source": [
        "**ANSWERS:**\n",
        "\n",
        "1.   List item\n",
        "2.   List item\n",
        "3.   List item"
      ],
      "metadata": {
        "id": "N0uwArLRf-OK"
      }
    },
    {
      "cell_type": "markdown",
      "metadata": {
        "id": "W8xZMBJeyT07"
      },
      "source": [
        "### I.3 - Pairwise RMSD"
      ]
    },
    {
      "cell_type": "markdown",
      "source": [
        "**QUESTION**: what do the dark blocks on and off diagonal means in the RMSD pairwise matrices?"
      ],
      "metadata": {
        "id": "DYKfLsnYW6US"
      }
    },
    {
      "cell_type": "markdown",
      "source": [
        "**ANSWER**:"
      ],
      "metadata": {
        "id": "5Nx0i76OXDhC"
      }
    },
    {
      "cell_type": "markdown",
      "source": [
        "##Part II – Principal Component Analysis"
      ],
      "metadata": {
        "id": "Trp2Hb8HdFW0"
      }
    },
    {
      "cell_type": "markdown",
      "source": [
        "**QUESTION**: provide a schematic representation of the motion of the protein indetified by PCA. Use VMD to represent the protien dimer and use arrows or the way you prefer to schematize the motion"
      ],
      "metadata": {
        "id": "e1Hha7RcXLBQ"
      }
    },
    {
      "cell_type": "markdown",
      "source": [],
      "metadata": {
        "id": "xNZ-P51eXYOG"
      }
    },
    {
      "cell_type": "markdown",
      "source": [
        "**QUESTION**: search information about the function of this protein and how this is performed, can you associate the function to the motion indentified by PCA?"
      ],
      "metadata": {
        "id": "wdhj3vSPXa_5"
      }
    },
    {
      "cell_type": "markdown",
      "source": [],
      "metadata": {
        "id": "pDDeCo6xXos_"
      }
    }
  ]
}