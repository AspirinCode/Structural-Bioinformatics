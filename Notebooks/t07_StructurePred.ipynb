{
  "nbformat": 4,
  "nbformat_minor": 0,
  "metadata": {
    "colab": {
      "name": "t07_StructurePred.ipynb",
      "provenance": [],
      "mount_file_id": "1VcO2kCOjUBrF6i37C0C1tTlDv7lYIN99",
      "authorship_tag": "ABX9TyMuRdvPCClCrbqFkEUlFc0Y",
      "include_colab_link": true
    },
    "kernelspec": {
      "name": "python3",
      "display_name": "Python 3"
    },
    "language_info": {
      "name": "python"
    }
  },
  "cells": [
    {
      "cell_type": "markdown",
      "metadata": {
        "id": "view-in-github",
        "colab_type": "text"
      },
      "source": [
        "<a href=\"https://colab.research.google.com/github/carlocamilloni/Structural-Bioinformatics/blob/main/Notebooks/t07_StructurePred.ipynb\" target=\"_parent\"><img src=\"https://colab.research.google.com/assets/colab-badge.svg\" alt=\"Open In Colab\"/></a>"
      ]
    },
    {
      "cell_type": "markdown",
      "metadata": {
        "id": "Mg2O2-KVId6K"
      },
      "source": [
        "# Protein Structure Prediction"
      ]
    },
    {
      "cell_type": "markdown",
      "metadata": {
        "id": "FNCmN9VGDvVu"
      },
      "source": [
        "In this notebook you will try to characterize one protein from its sequence using multiple tools. In particular we will work on proteins from the human papilloma virus (HPV). You will perform\n",
        "\n",
        "1.   Secondary structure prediction\n",
        "2.   Tertiary structure prediction"
      ]
    },
    {
      "cell_type": "code",
      "source": [
        "# mount google drive\n",
        "from google.colab import drive\n",
        "drive.mount('/content/drive')"
      ],
      "metadata": {
        "id": "3yun275w6N5H",
        "colab": {
          "base_uri": "https://localhost:8080/"
        },
        "outputId": "22d3a59b-3b56-4a20-a9c1-96bd99f2ae36"
      },
      "execution_count": 1,
      "outputs": [
        {
          "output_type": "stream",
          "name": "stdout",
          "text": [
            "Mounted at /content/drive\n"
          ]
        }
      ]
    },
    {
      "cell_type": "code",
      "metadata": {
        "id": "VgLUm3t4dp_r",
        "colab": {
          "base_uri": "https://localhost:8080/"
        },
        "outputId": "fca47fd1-1937-4e3f-f507-ba27c09f2af2"
      },
      "source": [
        "local_path='/content/drive/MyDrive/Structural_Bioinformatics/Task7'\n",
        "%cd {local_path}"
      ],
      "execution_count": 2,
      "outputs": [
        {
          "output_type": "stream",
          "name": "stdout",
          "text": [
            "/content/drive/MyDrive/Structural_Bioinformatics/Task7\n"
          ]
        }
      ]
    },
    {
      "cell_type": "markdown",
      "metadata": {
        "id": "EmRa5-2jdzKT"
      },
      "source": [
        "Now you can choose one among these sequences on which you will work. To choose it set the seq variable in the following:\n",
        "\n",
        "*   P27962\n",
        "*   P27963\n",
        "*   P27964\n",
        "*   P27965\n",
        "\n",
        "You can learn more about these proteins checking them on www.uniprot.org\n"
      ]
    },
    {
      "cell_type": "code",
      "metadata": {
        "id": "8UseZRDlY8j0"
      },
      "source": [
        "# XXX is the protein you choose\n",
        "seq='P27962.fasta'"
      ],
      "execution_count": 3,
      "outputs": []
    },
    {
      "cell_type": "code",
      "metadata": {
        "id": "cbroi5V7LjAy",
        "colab": {
          "base_uri": "https://localhost:8080/"
        },
        "outputId": "5b1cbf96-1b62-45f5-dffe-3125506d1a55"
      },
      "source": [
        "#get the sequence you choose as:\n",
        "!wget https://www.uniprot.org/uniprot/{seq}"
      ],
      "execution_count": 4,
      "outputs": [
        {
          "output_type": "stream",
          "name": "stdout",
          "text": [
            "--2023-12-04 16:44:33--  https://www.uniprot.org/uniprot/P27962.fasta\n",
            "Resolving www.uniprot.org (www.uniprot.org)... 193.62.193.81\n",
            "Connecting to www.uniprot.org (www.uniprot.org)|193.62.193.81|:443... connected.\n",
            "HTTP request sent, awaiting response... 301 Moved Permanently\n",
            "Location: https://rest.uniprot.org/uniprot/P27962.fasta [following]\n",
            "--2023-12-04 16:44:34--  https://rest.uniprot.org/uniprot/P27962.fasta\n",
            "Resolving rest.uniprot.org (rest.uniprot.org)... 193.62.193.81\n",
            "Connecting to rest.uniprot.org (rest.uniprot.org)|193.62.193.81|:443... connected.\n",
            "HTTP request sent, awaiting response... 301 Moved Permanently\n",
            "Location: https://rest.uniprot.org/uniprotkb/P27962.fasta [following]\n",
            "--2023-12-04 16:44:34--  https://rest.uniprot.org/uniprotkb/P27962.fasta\n",
            "Reusing existing connection to rest.uniprot.org:443.\n",
            "HTTP request sent, awaiting response... 200 OK\n",
            "Length: unspecified [text/plain]\n",
            "Saving to: ‘P27962.fasta’\n",
            "\n",
            "P27962.fasta            [ <=>                ]     253  --.-KB/s    in 0s      \n",
            "\n",
            "2023-12-04 16:44:34 (25.9 MB/s) - ‘P27962.fasta’ saved [253]\n",
            "\n"
          ]
        }
      ]
    },
    {
      "cell_type": "code",
      "metadata": {
        "id": "WI0LeLjnR8hw",
        "colab": {
          "base_uri": "https://localhost:8080/"
        },
        "outputId": "a26147e5-4935-4202-cdf8-56ebcbe16841"
      },
      "source": [
        "#Installing biopython using pip\n",
        "!pip install biopython"
      ],
      "execution_count": 5,
      "outputs": [
        {
          "output_type": "stream",
          "name": "stdout",
          "text": [
            "Collecting biopython\n",
            "  Downloading biopython-1.81-cp310-cp310-manylinux_2_17_x86_64.manylinux2014_x86_64.whl (3.1 MB)\n",
            "\u001b[2K     \u001b[90m━━━━━━━━━━━━━━━━━━━━━━━━━━━━━━━━━━━━━━━━\u001b[0m \u001b[32m3.1/3.1 MB\u001b[0m \u001b[31m26.9 MB/s\u001b[0m eta \u001b[36m0:00:00\u001b[0m\n",
            "\u001b[?25hRequirement already satisfied: numpy in /usr/local/lib/python3.10/dist-packages (from biopython) (1.23.5)\n",
            "Installing collected packages: biopython\n",
            "Successfully installed biopython-1.81\n"
          ]
        }
      ]
    },
    {
      "cell_type": "markdown",
      "metadata": {
        "id": "oZaTPblBRKyg"
      },
      "source": [
        "Biopython is an excellent companion for working with DNA and protein sequences and also with structures. Here, we will show how to use it for reading a protein sequence file.\n"
      ]
    },
    {
      "cell_type": "code",
      "metadata": {
        "id": "xjj84u5NLjW_"
      },
      "source": [
        "import os\n",
        "from pathlib import Path\n",
        "from Bio import SeqIO, Entrez\n",
        "# read your protein sequence\n",
        "aaseq = SeqIO.read(seq, format=\"fasta\")"
      ],
      "execution_count": 6,
      "outputs": []
    },
    {
      "cell_type": "markdown",
      "metadata": {
        "id": "PX0RXTRIRk1a"
      },
      "source": [
        "What is great about SeqIO is that you can use it to manipulate your sequence (e.g. sorting, changing formats, etc) and also to print information about your sequence, such as its description, sequence and accession ID.\n",
        "You can try these commands below by first writing \"aaseq.\" and then selecting one of the autocomplete options suggested by Google Colab. With this information, try to obtain the information requested below."
      ]
    },
    {
      "cell_type": "code",
      "metadata": {
        "id": "AFnl8Q3BRqNO",
        "colab": {
          "base_uri": "https://localhost:8080/"
        },
        "outputId": "babf4a1d-90a3-4be5-b519-7d3abf725c87"
      },
      "source": [
        "#Printing the number of amino acids as an example\n",
        "print(\"Sequence length (aa):\")\n",
        "print(len(aaseq))"
      ],
      "execution_count": 7,
      "outputs": [
        {
          "output_type": "stream",
          "name": "stdout",
          "text": [
            "Sequence length (aa):\n",
            "158\n"
          ]
        }
      ]
    },
    {
      "cell_type": "code",
      "metadata": {
        "id": "ravJglE5L3os",
        "colab": {
          "base_uri": "https://localhost:8080/"
        },
        "outputId": "ca703499-b1bc-456f-87a5-bea46883c8db"
      },
      "source": [
        "#Printing the description of the sequence\n",
        "print(\"The description of the sequence is:\")\n",
        "print(aaseq.description)\n",
        "\n",
        "#Printing the accession ID of the sequence\n",
        "print(\"The ID of the sequence is:\")\n",
        "print(aaseq.id)\n",
        "\n",
        "#Printing the sequence\n",
        "print(\"The sequence is:\")\n",
        "print(aaseq.seq)"
      ],
      "execution_count": 8,
      "outputs": [
        {
          "output_type": "stream",
          "name": "stdout",
          "text": [
            "The description of the sequence is:\n",
            "sp|P27962|VE6_HPVME Protein E6 OS=Human papillomavirus type ME180 OX=10602 GN=E6 PE=3 SV=1\n",
            "The ID of the sequence is:\n",
            "sp|P27962|VE6_HPVME\n",
            "The sequence is:\n",
            "MALFHNPEERPYKLPDLCRTLDTTLHDVTIDCVYCRRQLQRTEVYEFAFGDLNVVYRDGVPLAACQSCIKFYAKIRELRYYSESVYATTLETITNTKLYDLSIRCMCCLKPLSPAEKLRHLNSKRRFHKIAGNFTGQCRHCWTSKREDRRRTRQETQV\n"
          ]
        }
      ]
    },
    {
      "cell_type": "markdown",
      "metadata": {
        "id": "4Wl1hNU904wv"
      },
      "source": [
        "## Secondary Structure Prediction"
      ]
    },
    {
      "cell_type": "markdown",
      "metadata": {
        "id": "Lc4sHzrmSOiH"
      },
      "source": [
        "Now we can begin with a secondary structure prediction from the sequence. For this we will use S4PRED (https://github.com/psipred/s4pred)"
      ]
    },
    {
      "cell_type": "code",
      "metadata": {
        "id": "r24z3Fd2W6Wk",
        "colab": {
          "base_uri": "https://localhost:8080/"
        },
        "outputId": "0e4e626f-4fec-4743-a430-7e5ce2aa8d53"
      },
      "source": [
        "%cd {local_path}"
      ],
      "execution_count": 9,
      "outputs": [
        {
          "output_type": "stream",
          "name": "stdout",
          "text": [
            "/content/drive/MyDrive/Structural_Bioinformatics/Task7\n"
          ]
        }
      ]
    },
    {
      "cell_type": "code",
      "metadata": {
        "id": "1Qcvt620Q8V1",
        "colab": {
          "base_uri": "https://localhost:8080/"
        },
        "outputId": "fb2d3da6-bbbc-4236-f119-980946ec022e"
      },
      "source": [
        "# we need to download and install s4pred\n",
        "!git clone --depth 1 https://github.com/psipred/s4pred\n",
        "%cd s4pred\n",
        "!wget http://bioinfadmin.cs.ucl.ac.uk/downloads/s4pred/weights.tar.gz\n",
        "!tar -xvzf weights.tar.gz"
      ],
      "execution_count": 10,
      "outputs": [
        {
          "output_type": "stream",
          "name": "stdout",
          "text": [
            "Cloning into 's4pred'...\n",
            "remote: Enumerating objects: 19, done.\u001b[K\n",
            "remote: Counting objects: 100% (19/19), done.\u001b[K\n",
            "remote: Compressing objects: 100% (18/18), done.\u001b[K\n",
            "remote: Total 19 (delta 1), reused 9 (delta 1), pack-reused 0\u001b[K\n",
            "Receiving objects: 100% (19/19), 50.63 KiB | 3.62 MiB/s, done.\n",
            "Resolving deltas: 100% (1/1), done.\n",
            "/content/drive/MyDrive/Structural_Bioinformatics/Task7/s4pred\n",
            "--2023-12-04 16:44:56--  http://bioinfadmin.cs.ucl.ac.uk/downloads/s4pred/weights.tar.gz\n",
            "Resolving bioinfadmin.cs.ucl.ac.uk (bioinfadmin.cs.ucl.ac.uk)... 128.16.10.201\n",
            "Connecting to bioinfadmin.cs.ucl.ac.uk (bioinfadmin.cs.ucl.ac.uk)|128.16.10.201|:80... connected.\n",
            "HTTP request sent, awaiting response... 200 OK\n",
            "Length: 413507011 (394M) [application/x-gzip]\n",
            "Saving to: ‘weights.tar.gz’\n",
            "\n",
            "weights.tar.gz      100%[===================>] 394.35M  19.4MB/s    in 20s     \n",
            "\n",
            "2023-12-04 16:45:17 (19.5 MB/s) - ‘weights.tar.gz’ saved [413507011/413507011]\n",
            "\n",
            "weights/\n",
            "weights/weights_1.pt\n",
            "weights/weights_2.pt\n",
            "weights/weights_3.pt\n",
            "weights/weights_4.pt\n",
            "weights/weights_5.pt\n"
          ]
        }
      ]
    },
    {
      "cell_type": "code",
      "metadata": {
        "id": "Pi1le5L6S2E_",
        "colab": {
          "base_uri": "https://localhost:8080/"
        },
        "outputId": "62de603c-aa27-4cc4-dedb-dc5766aa1b6e"
      },
      "source": [
        "# Install: PyTorch\n",
        "# this can be long...\n",
        "!pip install torch==1.11.0+cu102 -f https://download.pytorch.org/whl/torch_stable.html"
      ],
      "execution_count": 11,
      "outputs": [
        {
          "output_type": "stream",
          "name": "stdout",
          "text": [
            "Looking in links: https://download.pytorch.org/whl/torch_stable.html\n",
            "Collecting torch==1.11.0+cu102\n",
            "  Downloading https://download.pytorch.org/whl/cu102/torch-1.11.0%2Bcu102-cp310-cp310-linux_x86_64.whl (750.6 MB)\n",
            "\u001b[2K     \u001b[90m━━━━━━━━━━━━━━━━━━━━━━━━━━━━━━━━━━━━━━━━\u001b[0m \u001b[32m750.6/750.6 MB\u001b[0m \u001b[31m1.6 MB/s\u001b[0m eta \u001b[36m0:00:00\u001b[0m\n",
            "\u001b[?25hRequirement already satisfied: typing-extensions in /usr/local/lib/python3.10/dist-packages (from torch==1.11.0+cu102) (4.5.0)\n",
            "Installing collected packages: torch\n",
            "  Attempting uninstall: torch\n",
            "    Found existing installation: torch 2.1.0+cu118\n",
            "    Uninstalling torch-2.1.0+cu118:\n",
            "      Successfully uninstalled torch-2.1.0+cu118\n",
            "\u001b[31mERROR: pip's dependency resolver does not currently take into account all the packages that are installed. This behaviour is the source of the following dependency conflicts.\n",
            "torchaudio 2.1.0+cu118 requires torch==2.1.0, but you have torch 1.11.0+cu102 which is incompatible.\n",
            "torchdata 0.7.0 requires torch==2.1.0, but you have torch 1.11.0+cu102 which is incompatible.\n",
            "torchtext 0.16.0 requires torch==2.1.0, but you have torch 1.11.0+cu102 which is incompatible.\n",
            "torchvision 0.16.0+cu118 requires torch==2.1.0, but you have torch 1.11.0+cu102 which is incompatible.\u001b[0m\u001b[31m\n",
            "\u001b[0mSuccessfully installed torch-1.11.0+cu102\n"
          ]
        }
      ]
    },
    {
      "cell_type": "markdown",
      "metadata": {
        "id": "2X7S-AiUYC-R"
      },
      "source": [
        "Now we can run the prediction over our fasta sequence and save it in a text file. You can then double click on the file to see the results"
      ]
    },
    {
      "cell_type": "code",
      "metadata": {
        "id": "BcM7YhlcT176",
        "colab": {
          "base_uri": "https://localhost:8080/"
        },
        "outputId": "3c79aaf3-fc10-4939-c064-605a568c1a3b"
      },
      "source": [
        "%cd {local_path}\n",
        "!python s4pred/run_model.py {seq} > ss.{seq}.txt\n",
        "%ls ss.{seq}.txt"
      ],
      "execution_count": 12,
      "outputs": [
        {
          "output_type": "stream",
          "name": "stdout",
          "text": [
            "/content/drive/MyDrive/Structural_Bioinformatics/Task7\n",
            "ss.P27962.fasta.txt\n"
          ]
        }
      ]
    },
    {
      "cell_type": "markdown",
      "metadata": {
        "id": "uj5v_x3pYVfH"
      },
      "source": [
        "The file is made of three columns that report the secondary structure prediction and are COIL/HELIX/EXTENDED, we can now load and plot the results"
      ]
    },
    {
      "cell_type": "code",
      "metadata": {
        "id": "l1E1Y9CwYhGC",
        "colab": {
          "base_uri": "https://localhost:8080/",
          "height": 430
        },
        "outputId": "a2cdd269-b27f-4761-fc99-efa48d729366"
      },
      "source": [
        "import pandas as pd\n",
        "# here we are giving the titles to the columns of the file\n",
        "header_list = [\"position\", \"sequence\", \"ss\", \"coil\", \"helix\",\"extended\"]\n",
        "# here we are reading the file skipping the first two lines\n",
        "# you need to set your file name\n",
        "data = pd.read_csv('ss.'+str(seq)+'.txt',sep='\\s+',skiprows=2,names=header_list)\n",
        "data = pd.DataFrame(data)\n",
        "\n",
        "import matplotlib.pyplot as plt\n",
        "#we are generating three plots calling each column with its name\n",
        "#and setting the properties of the plot (e.g. the color of the line)\n",
        "#plt.plot(data['position'], data['coil'], color='black')\n",
        "plt.plot(data['position'], data['helix'], color='blue')\n",
        "plt.plot(data['position'], data['extended'], color='red')\n",
        "#show the plot now\n",
        "plt.show()"
      ],
      "execution_count": 33,
      "outputs": [
        {
          "output_type": "display_data",
          "data": {
            "text/plain": [
              "<Figure size 640x480 with 1 Axes>"
            ],
            "image/png": "[encoded data removed]"
          },
          "metadata": {}
        }
      ]
    },
    {
      "cell_type": "markdown",
      "metadata": {
        "id": "vRqHj95ddNux"
      },
      "source": [
        "you can check how to improve the plot looking for matplotlib plot example. This plot can be used to describe what the secondary structure of the protein can be"
      ]
    },
    {
      "cell_type": "markdown",
      "metadata": {
        "id": "EpQHl87sW-sy"
      },
      "source": [
        "## Structure Prediction\n"
      ]
    },
    {
      "cell_type": "markdown",
      "metadata": {
        "id": "2o3Q3aW12sV2"
      },
      "source": [
        "Here you will try to predict your structure using alphafold. Prepare a folder to save your data. Open the google colab at this link\n",
        "https://colab.research.google.com/github/sokrypton/ColabFold/blob/main/AlphaFold2.ipynb\n",
        "and save it locally before moving on\n",
        "\n"
      ]
    },
    {
      "cell_type": "markdown",
      "metadata": {
        "id": "xVH6qvlu7a7l"
      },
      "source": [
        "Depending on the length of your sequence alphafold can take around 30 minutes."
      ]
    },
    {
      "cell_type": "markdown",
      "metadata": {
        "id": "FKqmn-KPBM6P"
      },
      "source": [
        "Once you have all the PDB structures you can compare them using VMD."
      ]
    }
  ]
}