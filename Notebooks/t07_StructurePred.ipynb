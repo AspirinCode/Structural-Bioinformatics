{
  "nbformat": 4,
  "nbformat_minor": 0,
  "metadata": {
    "colab": {
      "name": "t07_StructurePred.ipynb",
      "provenance": [],
      "mount_file_id": "1VcO2kCOjUBrF6i37C0C1tTlDv7lYIN99",
      "authorship_tag": "ABX9TyMostR9qTG0kUXRQTX6NSC4",
      "include_colab_link": true
    },
    "kernelspec": {
      "name": "python3",
      "display_name": "Python 3"
    },
    "language_info": {
      "name": "python"
    }
  },
  "cells": [
    {
      "cell_type": "markdown",
      "metadata": {
        "id": "view-in-github",
        "colab_type": "text"
      },
      "source": [
        "<a href=\"https://colab.research.google.com/github/carlocamilloni/Structural-Bioinformatics/blob/main/Notebooks/t07_StructurePred.ipynb\" target=\"_parent\"><img src=\"https://colab.research.google.com/assets/colab-badge.svg\" alt=\"Open In Colab\"/></a>"
      ]
    },
    {
      "cell_type": "markdown",
      "metadata": {
        "id": "Mg2O2-KVId6K"
      },
      "source": [
        "# Protein Structure Prediction"
      ]
    },
    {
      "cell_type": "markdown",
      "metadata": {
        "id": "FNCmN9VGDvVu"
      },
      "source": [
        "In this notebook you will try to characterize one protein from its sequence using multiple tools. In particular we will work on proteins from Cyprinid herpesvirus 2 that is a virus attacking gold fishes. You will perform\n",
        "\n",
        "1.   Secondary structure prediction\n",
        "2.   Tertiary structure prediction"
      ]
    },
    {
      "cell_type": "markdown",
      "metadata": {
        "id": "-emNv-19dWST"
      },
      "source": [
        "As for the last time, link your google drive, create a folder for this  task and save a copy of this notebook there\n",
        "\n",
        "Then move to your local folder:"
      ]
    },
    {
      "cell_type": "code",
      "source": [
        "# mount google drive  \n",
        "from google.colab import drive\n",
        "drive.mount('/content/drive')"
      ],
      "metadata": {
        "id": "3yun275w6N5H"
      },
      "execution_count": null,
      "outputs": []
    },
    {
      "cell_type": "code",
      "metadata": {
        "id": "VgLUm3t4dp_r"
      },
      "source": [
        "local_path='/content/drive/MyDrive/Structural_Bioinformatics/Task5'   # PASTE YOUR LOCAL PATH IN PLACE OF /content\n",
        "%cd {local_path}"
      ],
      "execution_count": null,
      "outputs": []
    },
    {
      "cell_type": "markdown",
      "metadata": {
        "id": "EmRa5-2jdzKT"
      },
      "source": [
        "Now you can choose one among these sequences on which you will work. To choose it set the seq variable in the following:\n",
        "\n",
        "*   A0A0E3XAL1: Epimerase domain-containing protein\n",
        "*   A0A0E3XA07: Uncharacterized protein\n",
        "*   A0A0E3X9M4: Deoxyuridine triphosphatase\n",
        "*   A0A0E3T6V3: FXYD domain-containing ion transport regulator\n",
        "\n",
        "You can learn more about these proteins checking them on www.uniprot.org\n"
      ]
    },
    {
      "cell_type": "code",
      "metadata": {
        "id": "8UseZRDlY8j0"
      },
      "source": [
        "# XXX is the protein you choose\n",
        "seq='XXX.fasta'"
      ],
      "execution_count": null,
      "outputs": []
    },
    {
      "cell_type": "code",
      "metadata": {
        "id": "cbroi5V7LjAy"
      },
      "source": [
        "#get the sequence you choose as:\n",
        "!wget https://www.uniprot.org/uniprot/{seq}"
      ],
      "execution_count": null,
      "outputs": []
    },
    {
      "cell_type": "code",
      "metadata": {
        "id": "WI0LeLjnR8hw"
      },
      "source": [
        "#Installing biopython using pip\n",
        "!pip install biopython"
      ],
      "execution_count": null,
      "outputs": []
    },
    {
      "cell_type": "markdown",
      "metadata": {
        "id": "oZaTPblBRKyg"
      },
      "source": [
        "Biopython is an excellent companion for working with DNA and protein sequences and also with structures. Here, we will show how to use it for reading a protein sequence file.\n"
      ]
    },
    {
      "cell_type": "code",
      "metadata": {
        "id": "xjj84u5NLjW_"
      },
      "source": [
        "import os\n",
        "from pathlib import Path \n",
        "from Bio import SeqIO, Entrez\n",
        "# read your protein sequence\n",
        "aaseq = SeqIO.read(seq, format=\"fasta\")"
      ],
      "execution_count": null,
      "outputs": []
    },
    {
      "cell_type": "markdown",
      "metadata": {
        "id": "PX0RXTRIRk1a"
      },
      "source": [
        "What is great about SeqIO is that you can use it to manipulate your sequence (e.g. sorting, changing formats, etc) and also to print information about your sequence, such as its description, sequence and accession ID.\n",
        "You can try these commands below by first writing \"aaseq.\" and then selecting one of the autocomplete options suggested by Google Colab. With this information, try to obtain the information requested below."
      ]
    },
    {
      "cell_type": "code",
      "metadata": {
        "id": "AFnl8Q3BRqNO"
      },
      "source": [
        "#Printing the number of amino acids as an example\n",
        "print(\"Sequence length (aa):\")\n",
        "print(len(aaseq))"
      ],
      "execution_count": null,
      "outputs": []
    },
    {
      "cell_type": "code",
      "metadata": {
        "id": "ravJglE5L3os"
      },
      "source": [
        "#Printing the description of the sequence\n",
        "print(\"The description of the sequence is:\")\n",
        "print(aaseq.description)\n",
        "\n",
        "#Printing the accession ID of the sequence\n",
        "print(\"The ID of the sequence is:\")\n",
        "print(aaseq.id)\n",
        "\n",
        "#Printing the sequence\n",
        "print(\"The sequence is:\")\n",
        "print(aaseq.seq)"
      ],
      "execution_count": null,
      "outputs": []
    },
    {
      "cell_type": "markdown",
      "metadata": {
        "id": "4Wl1hNU904wv"
      },
      "source": [
        "## Secondary Structure Prediction"
      ]
    },
    {
      "cell_type": "markdown",
      "metadata": {
        "id": "Lc4sHzrmSOiH"
      },
      "source": [
        "Now we can begin with a secondary structure prediction from the sequence. For this we will use S4PRED (https://github.com/psipred/s4pred)"
      ]
    },
    {
      "cell_type": "code",
      "metadata": {
        "id": "r24z3Fd2W6Wk"
      },
      "source": [
        "%cd {local_path}"
      ],
      "execution_count": null,
      "outputs": []
    },
    {
      "cell_type": "code",
      "metadata": {
        "id": "1Qcvt620Q8V1"
      },
      "source": [
        "# we need to download and install s4pred\n",
        "!git clone --depth 1 https://github.com/psipred/s4pred\n",
        "%cd s4pred\n",
        "!wget http://bioinfadmin.cs.ucl.ac.uk/downloads/s4pred/weights.tar.gz\n",
        "!tar -xvzf weights.tar.gz"
      ],
      "execution_count": null,
      "outputs": []
    },
    {
      "cell_type": "code",
      "metadata": {
        "id": "Pi1le5L6S2E_"
      },
      "source": [
        "# Install: PyTorch\n",
        "# this can be long...\n",
        "!pip install torch==1.11.0+cu102 -f https://download.pytorch.org/whl/torch_stable.html"
      ],
      "execution_count": null,
      "outputs": []
    },
    {
      "cell_type": "markdown",
      "metadata": {
        "id": "2X7S-AiUYC-R"
      },
      "source": [
        "Now we can run the prediction over our fasta sequence and save it in a text file. You can then double click on the file to see the results"
      ]
    },
    {
      "cell_type": "code",
      "metadata": {
        "id": "BcM7YhlcT176"
      },
      "source": [
        "%cd {local_path}\n",
        "!python s4pred/run_model.py {seq} > ss.{seq}.txt\n",
        "%ls ss.{seq}.txt"
      ],
      "execution_count": null,
      "outputs": []
    },
    {
      "cell_type": "markdown",
      "metadata": {
        "id": "uj5v_x3pYVfH"
      },
      "source": [
        "The file is made of three columns that report the secondary structure prediction and are COIL/HELIX/EXTENDED, we can now load and plot the results"
      ]
    },
    {
      "cell_type": "code",
      "metadata": {
        "id": "l1E1Y9CwYhGC"
      },
      "source": [
        "import pandas as pd\n",
        "# here we are giving the titles to the columns of the file\n",
        "header_list = [\"position\", \"sequence\", \"ss\", \"coil\", \"helix\",\"extended\"]\n",
        "# here we are reading the file skipping the first two lines\n",
        "# you need to set your file name\n",
        "data = pd.read_csv('ss.XXX.fasta.txt',sep='\\s+',skiprows=2,names=header_list)\n",
        "data = pd.DataFrame(data)\n",
        "\n",
        "import matplotlib.pyplot as plt\n",
        "#we are generating three plots calling each column with its name\n",
        "#and setting the properties of the plot (e.g. the color of the line)\n",
        "plt.plot(data['position'], data['coil'], color='black')\n",
        "plt.plot(data['position'], data['helix'], color='blue')\n",
        "plt.plot(data['position'], data['extended'], color='red')\n",
        "#show the plot now\n",
        "plt.show()"
      ],
      "execution_count": null,
      "outputs": []
    },
    {
      "cell_type": "markdown",
      "metadata": {
        "id": "vRqHj95ddNux"
      },
      "source": [
        "you can check how to improve the plot looking for matplotlib plot example. This plot can be used to describe what the secondary structure of the protein can be"
      ]
    },
    {
      "cell_type": "markdown",
      "metadata": {
        "id": "EpQHl87sW-sy"
      },
      "source": [
        "## Structure Prediction\n"
      ]
    },
    {
      "cell_type": "markdown",
      "metadata": {
        "id": "2o3Q3aW12sV2"
      },
      "source": [
        "Here you will try to predict your structure using alphafold. Prepare a folder to save your data. Open the google colab at this link \n",
        "https://colab.research.google.com/github/sokrypton/ColabFold/blob/main/AlphaFold2.ipynb\n",
        "and save it locally before moving on\n",
        "\n"
      ]
    },
    {
      "cell_type": "markdown",
      "metadata": {
        "id": "xVH6qvlu7a7l"
      },
      "source": [
        "Depending on the length of your sequence alphafold can take around 30 minutes. "
      ]
    },
    {
      "cell_type": "markdown",
      "metadata": {
        "id": "FKqmn-KPBM6P"
      },
      "source": [
        "Once you have all the PDB structures you can compare them using VMD."
      ]
    },
    {
      "cell_type": "markdown",
      "source": [
        "#Report"
      ],
      "metadata": {
        "id": "tlTh_fCNULuL"
      }
    },
    {
      "cell_type": "markdown",
      "source": [
        "Start by creating a new notebook, using File -> New Notebook. New notebooks are created in your google drive, in a Colab Notebooks folder.\n",
        "\n",
        "When you are in the new notebook, generally named \"Untitled.ipynb\", select File -> Move and move it to your Task5 folder.\n",
        "\n",
        "Rename the notebook as Report_Task5.ipynb\n",
        "\n",
        "You can then copy and paste the following cells and then modify them as appropriate. The resulting notebook will be your first report."
      ],
      "metadata": {
        "id": "Rrig81NjUhlE"
      }
    },
    {
      "cell_type": "markdown",
      "source": [
        "# Protein Structure Prediction"
      ],
      "metadata": {
        "id": "8igaJRlJUlfF"
      }
    },
    {
      "cell_type": "markdown",
      "source": [
        "your name"
      ],
      "metadata": {
        "id": "3mA7dcAEUYeR"
      }
    },
    {
      "cell_type": "code",
      "source": [
        "\n",
        "from datetime import date\n",
        "\n",
        "today = date.today()\n",
        "print(today)\n",
        "     "
      ],
      "metadata": {
        "id": "l6etJm6UUUmO"
      },
      "execution_count": null,
      "outputs": []
    },
    {
      "cell_type": "markdown",
      "source": [
        "## Primary Structure"
      ],
      "metadata": {
        "id": "Lj5C6kerUrp6"
      }
    },
    {
      "cell_type": "markdown",
      "source": [
        "Describe here what you know about your protein and show your sequence"
      ],
      "metadata": {
        "id": "HqtYmorqUuCx"
      }
    },
    {
      "cell_type": "markdown",
      "source": [
        "..."
      ],
      "metadata": {
        "id": "5E8253U-U5Mh"
      }
    },
    {
      "cell_type": "markdown",
      "source": [
        "## Secondary Structure"
      ],
      "metadata": {
        "id": "opdEJ-fFU8sP"
      }
    },
    {
      "cell_type": "markdown",
      "source": [
        "Add the plot about the secondary struture prediction and briefly describe it"
      ],
      "metadata": {
        "id": "ISO5oddNU-7O"
      }
    },
    {
      "cell_type": "markdown",
      "source": [
        "## Tertiary Structure"
      ],
      "metadata": {
        "id": "tPjOGztzVEnA"
      }
    },
    {
      "cell_type": "markdown",
      "source": [
        "Upload your predicted PDB structure in your TASK5 folder so that you can display interactively here:"
      ],
      "metadata": {
        "id": "LI3ZOofvVKn2"
      }
    },
    {
      "cell_type": "code",
      "source": [
        "!pip install py3Dmol"
      ],
      "metadata": {
        "id": "25fHlz82YTw_"
      },
      "execution_count": null,
      "outputs": []
    },
    {
      "cell_type": "code",
      "source": [
        "#@title Display 3D structure {run: \"auto\"}\n",
        "import py3Dmol\n",
        "import glob\n",
        "import matplotlib.pyplot as plt\n",
        "# number of models to use\n",
        "rank_num = 2 #@param [\"1\", \"2\", \"3\", \"4\", \"5\"] {type:\"raw\"}\n",
        "show_sidechains = False #@param {type:\"boolean\"}\n",
        "show_mainchains = False #@param {type:\"boolean\"}\n",
        "\n",
        "pdb_filename = f\"*_rank_{rank_num}_*.pdb\"\n",
        "\n",
        "pdb_file = glob.glob(pdb_filename)\n",
        "\n",
        "def show_pdb(rank_num=1, show_sidechains=False, show_mainchains=False, color=\"lDDT\"):\n",
        "  model_name = f\"rank_{rank_num}\"\n",
        "  view = py3Dmol.view(js='https://3dmol.org/build/3Dmol.js',)\n",
        "  view.addModel(open(pdb_file[0],'r').read(),'pdb')\n",
        "\n",
        "\n",
        "  view.setStyle({'cartoon': {'color':'spectrum'}})\n",
        "  if show_sidechains:\n",
        "    BB = ['C','O','N']\n",
        "    view.addStyle({'and':[{'resn':[\"GLY\",\"PRO\"],'invert':True},{'atom':BB,'invert':True}]},\n",
        "                        {'stick':{'colorscheme':f\"WhiteCarbon\",'radius':0.3}})\n",
        "    view.addStyle({'and':[{'resn':\"GLY\"},{'atom':'CA'}]},\n",
        "                        {'sphere':{'colorscheme':f\"WhiteCarbon\",'radius':0.3}})\n",
        "    view.addStyle({'and':[{'resn':\"PRO\"},{'atom':['C','O'],'invert':True}]},\n",
        "                        {'stick':{'colorscheme':f\"WhiteCarbon\",'radius':0.3}})  \n",
        "  if show_mainchains:\n",
        "    BB = ['C','O','N','CA']\n",
        "    view.addStyle({'atom':BB},{'stick':{'colorscheme':f\"WhiteCarbon\",'radius':0.3}})\n",
        "\n",
        "  view.zoomTo()\n",
        "  return view\n",
        "\n",
        "\n",
        "show_pdb(rank_num,show_sidechains, show_mainchains).show()"
      ],
      "metadata": {
        "cellView": "form",
        "id": "JnxJhxLiU-Gk"
      },
      "execution_count": null,
      "outputs": []
    },
    {
      "cell_type": "markdown",
      "source": [
        "Describe the results of your prediction: do they agree with the secondary structure prediction? Can you evaluate the quality of the prediction looking at the plots resulting from ColabFOLD?\n",
        "\n"
      ],
      "metadata": {
        "id": "xruilqLjap_m"
      }
    },
    {
      "cell_type": "code",
      "source": [],
      "metadata": {
        "id": "VJuJIWGKa32O"
      },
      "execution_count": null,
      "outputs": []
    }
  ]
}
