{
  "nbformat": 4,
  "nbformat_minor": 0,
  "metadata": {
    "colab": {
      "provenance": [],
      "collapsed_sections": [
        "V89XNV04n0e8",
        "cKKAau5tn60c",
        "qIsKpmjyptpV"
      ],
      "authorship_tag": "ABX9TyNI7Yolc03mDwpu7HJUPIti",
      "include_colab_link": true
    },
    "kernelspec": {
      "name": "python3",
      "display_name": "Python 3"
    },
    "language_info": {
      "name": "python"
    }
  },
  "cells": [
    {
      "cell_type": "markdown",
      "metadata": {
        "id": "view-in-github",
        "colab_type": "text"
      },
      "source": [
        "<a href=\"https://colab.research.google.com/github/carlocamilloni/Structural-Bioinformatics/blob/main/Notebooks/lab02_MD.ipynb\" target=\"_parent\"><img src=\"https://colab.research.google.com/assets/colab-badge.svg\" alt=\"Open In Colab\"/></a>"
      ]
    },
    {
      "cell_type": "markdown",
      "source": [
        "# Molecular Dynamics simulation with GROMACS"
      ],
      "metadata": {
        "id": "aqZ8keDNLwKD"
      }
    },
    {
      "cell_type": "markdown",
      "source": [
        "The goal of this experience is to run some Molecular Dynamics simulations of simple systems and analyze them, in particular we will focus on water and alanine dipeptide"
      ],
      "metadata": {
        "id": "bohgSeSVOR5G"
      }
    },
    {
      "cell_type": "markdown",
      "source": [
        "## Preliminary setup"
      ],
      "metadata": {
        "id": "fLNYe0QPOPb6"
      }
    },
    {
      "cell_type": "code",
      "execution_count": null,
      "metadata": {
        "id": "2mzzmISjKvHY"
      },
      "outputs": [],
      "source": [
        "# mount google drive  \n",
        "from google.colab import drive\n",
        "drive.mount('/content/drive')\n",
        "%cd /content/drive/MyDrive"
      ]
    },
    {
      "cell_type": "markdown",
      "source": [
        "Make a new folder for this task using the menus on the left side: for example in /drive/MyDrive/Structural_Bioinformatics make a folder named Task2. "
      ],
      "metadata": {
        "id": "oajnnDYnA4AZ"
      }
    },
    {
      "cell_type": "code",
      "source": [
        "# set the path to your local task folder\n",
        "local_path='/content/drive/MyDrive/Structural_Bioinformatics/Task2'\n",
        "%cd {local_path}"
      ],
      "metadata": {
        "id": "iERV06tGMLjh"
      },
      "execution_count": null,
      "outputs": []
    },
    {
      "cell_type": "code",
      "source": [
        "# install gromacs\n",
        "# gromacs is a molecular dynamics open source software\n",
        "!apt update\n",
        "!apt install gromacs"
      ],
      "metadata": {
        "id": "OYs9Z-usLvOL"
      },
      "execution_count": null,
      "outputs": []
    },
    {
      "cell_type": "markdown",
      "source": [
        "The next cell may take long to install, but ideally you will not need to repeat it the next time"
      ],
      "metadata": {
        "id": "aSPT1Le6KcxA"
      }
    },
    {
      "cell_type": "code",
      "source": [
        "# test the gromacs executable\n",
        "!gmx"
      ],
      "metadata": {
        "id": "Ayit5RVTMEkV"
      },
      "execution_count": null,
      "outputs": []
    },
    {
      "cell_type": "code",
      "source": [
        "# make a copy of the GitHub structural bioinformatics repository\n",
        "!git clone https://github.com/carlocamilloni/Structural-Bioinformatics.git sb --depth 1"
      ],
      "metadata": {
        "id": "8c40dtBITm23"
      },
      "execution_count": null,
      "outputs": []
    },
    {
      "cell_type": "markdown",
      "source": [
        "All GROMACS tools are modules of a binary named \"gmx\". To get help about any GROMACS module, you can invoke either of the following commands:\n",
        "\n",
        "gmx help (module)\n",
        "\n",
        "or\n",
        "\n",
        "gmx (module) -h\n",
        "\n",
        "where (module) is replaced by the actual name of the command you're trying to issue. A full list of GROMACS modules can be printed by\n",
        "\n",
        "gmx help commands\n",
        "\n",
        "###Units\n",
        "\n",
        "Basic units in GROMACS are \n",
        "\n",
        "Time: ps\n",
        "\n",
        "Space: nm\n",
        "\n",
        "Energy: kJ/mol\n"
      ],
      "metadata": {
        "id": "HWrRjAZyQLRC"
      }
    },
    {
      "cell_type": "markdown",
      "source": [
        "## Molecular Dynamics of water"
      ],
      "metadata": {
        "id": "jsdGc651RQFv"
      }
    },
    {
      "cell_type": "markdown",
      "source": [
        "In the following you will setup a MD simulation of a small water box and calculate some water property:"
      ],
      "metadata": {
        "id": "TxqqdMnORT7l"
      }
    },
    {
      "cell_type": "markdown",
      "source": [
        "### system preparation"
      ],
      "metadata": {
        "id": "-PX_FBtqTYeD"
      }
    },
    {
      "cell_type": "code",
      "source": [
        "# copy a water box file with 216 molecules in a cubic box:\n",
        "%cd {local_path}\n",
        "%mkdir water\n",
        "%cd water\n",
        "%cp /usr/share/gromacs/top/spc216.gro ."
      ],
      "metadata": {
        "id": "0UdZT-FBOJnu"
      },
      "execution_count": null,
      "outputs": []
    },
    {
      "cell_type": "markdown",
      "source": [
        "The first step is to generate the\n",
        "\n",
        "*   Starting coordinates file\n",
        "*   Topology file that includes the choice of the force field\n",
        "\n",
        "this is done in gromacs using the tool `pdb2gmx`:"
      ],
      "metadata": {
        "id": "FZ6M993XR8WC"
      }
    },
    {
      "cell_type": "code",
      "source": [
        "# here we are using amber03 as a force field and spce as the water model:\n",
        "!gmx pdb2gmx -f spc216.gro -ff amber03 -water spce"
      ],
      "metadata": {
        "id": "PU7oLKsxQuwE"
      },
      "execution_count": null,
      "outputs": []
    },
    {
      "cell_type": "code",
      "source": [
        "%ls"
      ],
      "metadata": {
        "id": "xxif0IyuRzhI"
      },
      "execution_count": null,
      "outputs": []
    },
    {
      "cell_type": "markdown",
      "source": [
        "There should be two new files: \n",
        "\n",
        "* conf.gro: starting coordinates in gromacs format\n",
        "* topol.top: topology file including relevant parameters and force-field choice.\n",
        "\n",
        "If you open topol.top (these are all text files) you can see that is very simple in this case."
      ],
      "metadata": {
        "id": "hfFK7Nc0SV4Z"
      }
    },
    {
      "cell_type": "markdown",
      "source": [
        "In principle now we should generate the box, but in this case we are already starting from a box of water molecules, you can see the box size at the bottom of the conf.gro file:"
      ],
      "metadata": {
        "id": "t1ukvjkAS54g"
      }
    },
    {
      "cell_type": "code",
      "source": [
        "!tail conf.gro"
      ],
      "metadata": {
        "id": "VNi2_Ox9SUZd"
      },
      "execution_count": null,
      "outputs": []
    },
    {
      "cell_type": "markdown",
      "source": [
        "box: 1.86206   1.86206   1.86206\n",
        "\n",
        "This means that is a cubic box of side 1.862 etc"
      ],
      "metadata": {
        "id": "JJ4pspmaTEk9"
      }
    },
    {
      "cell_type": "markdown",
      "source": [
        "### energy minimization:"
      ],
      "metadata": {
        "id": "yS5I8ie6TSgF"
      }
    },
    {
      "cell_type": "code",
      "source": [
        "# to perform simulations we also need a simulation parameter file\n",
        "%cp ../sb/Data/md/mdps/0-em-steep.mdp {local_path}/water"
      ],
      "metadata": {
        "id": "Db6pjhkjTC8M"
      },
      "execution_count": null,
      "outputs": []
    },
    {
      "cell_type": "code",
      "source": [
        "#then we need to generate a simulation package file that put togheter the starting configuration, the topology and the simulation parameter file:\n",
        "!gmx grompp -f 0-em-steep.mdp -c conf.gro -p topol.top -o em.tpr"
      ],
      "metadata": {
        "id": "ut7gIYTqTRJr"
      },
      "execution_count": null,
      "outputs": []
    },
    {
      "cell_type": "code",
      "source": [
        "#run the energy minimization:\n",
        "!gmx mdrun -s em.tpr -v"
      ],
      "metadata": {
        "id": "RNdnTSC1UUMc"
      },
      "execution_count": null,
      "outputs": []
    },
    {
      "cell_type": "markdown",
      "source": [
        "### MD"
      ],
      "metadata": {
        "id": "QUrghqx7XkYV"
      }
    },
    {
      "cell_type": "code",
      "source": [
        "#now we are ready to setup the first simple MD\n",
        "%cp ../sb/Data/md/mdps/npt-water.mdp {local_path}/water"
      ],
      "metadata": {
        "id": "2HqbuLXqWA0A"
      },
      "execution_count": null,
      "outputs": []
    },
    {
      "cell_type": "markdown",
      "source": [
        "The file you have just copied includes the specific parameter of the simulation you are going to run, like the length of the simulation, the temperature, ecc.\n",
        "\n",
        "In the left menu you can double click on the file to read it/edit it ecc. "
      ],
      "metadata": {
        "id": "TEegXHhrSt2I"
      }
    },
    {
      "cell_type": "code",
      "source": [
        "#preparation\n",
        "!gmx grompp -f npt-water -c confout -p topol -o md-water.tpr"
      ],
      "metadata": {
        "id": "loUKcSfCX4RP"
      },
      "execution_count": null,
      "outputs": []
    },
    {
      "cell_type": "code",
      "source": [
        "# run the simulation, this will take 2-3 minutes\n",
        "!gmx mdrun -v -deffnm md-water"
      ],
      "metadata": {
        "id": "tJD8Lje8YiEF"
      },
      "execution_count": null,
      "outputs": []
    },
    {
      "cell_type": "markdown",
      "source": [
        "### Visualisation"
      ],
      "metadata": {
        "id": "E4s27ud_ZEzK"
      }
    },
    {
      "cell_type": "markdown",
      "source": [
        "Once the simulation is ended you should have few more files:"
      ],
      "metadata": {
        "id": "RLI8dJPKbvnw"
      }
    },
    {
      "cell_type": "code",
      "source": [
        "%ls"
      ],
      "metadata": {
        "id": "Pi5dRF5fbw9z"
      },
      "execution_count": null,
      "outputs": []
    },
    {
      "cell_type": "markdown",
      "source": [
        "*   md-water.xtc: trajectory file\n",
        "*   md-water.edr: energy file including all the information about energy\n",
        "*   md-water.gro: last frame of the trajectory\n",
        "*   md-water.cpt: checkpoint file for exact restart\n",
        "\n",
        "You can look at the trajectory using VMD on your laptop, first load a `conf.gro` then from the menu FILE choose *Load Data Into Molecule* and select the `md-water.xtc` file, this will add all the trajectory frames. You may see something like this:"
      ],
      "metadata": {
        "id": "0ntFCYetbzpN"
      }
    },
    {
      "cell_type": "markdown",
      "source": [
        "![image.png](data:image/png;base64,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)"
      ],
      "metadata": {
        "id": "Ka9dV20VcuDd"
      }
    },
    {
      "cell_type": "markdown",
      "source": [
        "You remember the “PERIODIC BOUNDARY CONDITIONS”? A molecule of water can be cut across the sides of the box. For the purpose of visualisation, we can remove this effect:"
      ],
      "metadata": {
        "id": "BeUSIebqcwdH"
      }
    },
    {
      "cell_type": "code",
      "source": [
        "!echo -e \"0\\n\" | gmx trjconv -f md-water.xtc -s md-water.tpr -pbc mol -o md-water-nobpc.xtc"
      ],
      "metadata": {
        "id": "-b5eQzJBc0KB"
      },
      "execution_count": null,
      "outputs": []
    },
    {
      "cell_type": "markdown",
      "source": [
        "This command is a bit complicated because the notebooks are not interactive so if we need to select an option, we need to tell it to the program as above:\n",
        "\n",
        "`echo -e “0\\n” |` -> this means after the program that follow is started press “0”.\n",
        "\n",
        "Anyway, now you have one more file `md-water-nopbc.xtc` that is the trajectory with molecules that are not broken across PBC. Close VMD and reopen it. Now we can start to analyse the trajectory"
      ],
      "metadata": {
        "id": "zk2AxyJMdEGc"
      }
    },
    {
      "cell_type": "markdown",
      "source": [
        "### Analysis"
      ],
      "metadata": {
        "id": "TaY8qCQqZGuP"
      }
    },
    {
      "cell_type": "markdown",
      "source": [
        "**DENSITY**, to calculate the density and many other properties we can again use a GROMACS module:\n",
        "\n"
      ],
      "metadata": {
        "id": "FtLThtHSeJEs"
      }
    },
    {
      "cell_type": "code",
      "source": [
        "!echo -e \"5\\n15\\n16\\n18\\n\" | gmx energy -f md-water.edr -s md-water "
      ],
      "metadata": {
        "id": "qKLnJipGeQIg"
      },
      "execution_count": null,
      "outputs": []
    },
    {
      "cell_type": "markdown",
      "source": [
        "\n",
        "This will generate a file named `energy.xvg` with as many columns as the properties selected. Here:\n",
        "`-nmol 256` indicates how many molecules are in the simulations\n",
        "`-fluct_props` tell the program to calculate fluctuations (see my slides on how to calculate some of the resulting properties).\n",
        "\n",
        "This will calculate the density over time, total energy, enthalpy and temperature and derive simple properties from it (heat capacity and enthalpy of vaporisation).\n",
        "\n",
        "Try to generate the plot for all of them and compare the result with the number reported in the tables, be careful about the units.\n",
        "\n",
        "To plot more than one set in the same plot you can do something like this:"
      ],
      "metadata": {
        "id": "27tt9rtZeQ4l"
      }
    },
    {
      "cell_type": "code",
      "source": [
        "import matplotlib.pyplot as plt\n",
        "import csv\n",
        "\n",
        "x=[]\n",
        "y1=[]\n",
        "y2=[]\n",
        "y3=[]\n",
        "y4=[]\n",
        "\n",
        "with open('energy.xvg', 'r') as file:\n",
        "    for row in file:\n",
        "        if row.split()[0] == '#':\n",
        "          continue\n",
        "        if row.split()[0] == '@':\n",
        "          continue\n",
        "        if row.split()[0] == '@TYPE':\n",
        "          continue\n",
        "        x.append(float(row.split()[0]))\n",
        "        y1.append(float(row.split()[1]))\n",
        "        y2.append(float(row.split()[2]))\n",
        "        y3.append(float(row.split()[3]))\n",
        "        y4.append(float(row.split()[4]))\n",
        "\n",
        "\n",
        "# Initialise the subplot function using number of rows and columns\n",
        "figure, axis = plt.subplots(2,2)\n",
        "figure.set_size_inches(18.5, 10.5)\n",
        "\n",
        "axis[0,0].plot(x, y1)\n",
        "axis[0,0].set_title(\"Potential Energy\")\n",
        "\n",
        "axis[1,0].plot(x, y2)\n",
        "axis[1,0].set_title(\"Volume\")\n",
        "\n",
        "axis[0,1].plot(x, y3)\n",
        "axis[0,1].set_title(\"Density\")\n",
        "\n",
        "axis[1,1].plot(x, y4)\n",
        "axis[1,1].set_title(\"Entalphy\")\n",
        "\n",
        "plt.show()\n"
      ],
      "metadata": {
        "id": "gnumaEWees1u"
      },
      "execution_count": null,
      "outputs": []
    },
    {
      "cell_type": "markdown",
      "source": [
        "Now we calculate the radial distribution function"
      ],
      "metadata": {
        "id": "AdIkcS8hoKb-"
      }
    },
    {
      "cell_type": "code",
      "source": [
        "# we generate a selection of the oxygen atoms\n",
        "!echo -e 'aOW\\nq\\n' | gmx make_ndx -f md-water.tpr"
      ],
      "metadata": {
        "id": "7QEvg76tqlnC"
      },
      "execution_count": null,
      "outputs": []
    },
    {
      "cell_type": "code",
      "source": [
        "!echo -e \"3\\n3\\n\" |gmx rdf -f md-water -s md-water -n index"
      ],
      "metadata": {
        "id": "2xMIXK7woOpb"
      },
      "execution_count": null,
      "outputs": []
    },
    {
      "cell_type": "code",
      "source": [
        "import matplotlib.pyplot as plt\n",
        "import csv\n",
        "\n",
        "x=[]\n",
        "y1=[]\n",
        "\n",
        "with open('rdf.xvg', 'r') as file:\n",
        "    for row in file:\n",
        "        if row.split()[0] == '#':\n",
        "          continue\n",
        "        if row.split()[0] == '@':\n",
        "          continue\n",
        "        if row.split()[0] == '@TYPE':\n",
        "          continue\n",
        "        x.append(float(row.split()[0]))\n",
        "        y1.append(float(row.split()[1]))\n",
        "\n",
        "# Initialise the subplot function using number of rows and columns\n",
        "figure, axis = plt.subplots()\n",
        "figure.set_size_inches(18.5, 10.5)\n",
        "\n",
        "axis.plot(x, y1)\n",
        "axis.set_title(\"RDF\")\n",
        "\n",
        "plt.show()"
      ],
      "metadata": {
        "id": "CIWA6YWCo2BB"
      },
      "execution_count": null,
      "outputs": []
    },
    {
      "cell_type": "markdown",
      "source": [
        "## Molecular Dynamics of Alanine Dipeptide in vacuum"
      ],
      "metadata": {
        "id": "Wlqt9h2BjmoL"
      }
    },
    {
      "cell_type": "markdown",
      "source": [
        "This is alanine-dipeptide:"
      ],
      "metadata": {
        "id": "sSxfV8Yaj7pQ"
      }
    },
    {
      "cell_type": "markdown",
      "source": [
        "![Picture 1.jpg](data:image/jpeg;base64,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)"
      ],
      "metadata": {
        "id": "CVImKrQ9kB6P"
      }
    },
    {
      "cell_type": "markdown",
      "source": [
        "The PDB structure for this system is in MD-examples/alanine-dipeptide, first of all copy the file in your folder. \n",
        "\n"
      ],
      "metadata": {
        "id": "EdXmCjd0kVyr"
      }
    },
    {
      "cell_type": "code",
      "source": [
        "%cd {local_path}\n",
        "%mkdir aladp\n",
        "%cd aladp\n",
        "%cp ../sb/Data/md/inputs/aladp.pdb ."
      ],
      "metadata": {
        "id": "5cM9vaSul6Ky"
      },
      "execution_count": null,
      "outputs": []
    },
    {
      "cell_type": "markdown",
      "source": [
        "Now, if you remember the steps for beginning an MD simulations they were more or less:\n",
        "\n",
        "1)\tChose a force-field \n",
        "\n",
        "2)\tSetting the box and the solution conditions\n",
        "\n",
        "3)\tEnergy minimization\n",
        "\n",
        "4)\tSimulation\n",
        "\n",
        "So, from the beginning, the first step is to “translate” the PDB structure in the GROMACS format, while at the same time we set the force-field. This is done interactively using the GROMACS module `pdb2gmx`, here we chose the first force field in the list and we don’t choose any specific model of water because we will run the simulation in vacuum:"
      ],
      "metadata": {
        "id": "joLpRXTKl0_w"
      }
    },
    {
      "cell_type": "markdown",
      "source": [
        "### System preparation"
      ],
      "metadata": {
        "id": "CjEZ30V9nvh0"
      }
    },
    {
      "cell_type": "code",
      "source": [
        "!gmx pdb2gmx -f aladp.pdb -water none -ff amber03"
      ],
      "metadata": {
        "id": "8uwvrsQBk9Qj"
      },
      "execution_count": null,
      "outputs": []
    },
    {
      "cell_type": "markdown",
      "source": [
        "From the output you will see that we have selected the force field “AMBER03”, you can also see some information about the system."
      ],
      "metadata": {
        "id": "3WMEmu7jm-qa"
      }
    },
    {
      "cell_type": "markdown",
      "source": [
        "Now in the folder you have some more files:\n",
        "\n",
        "-\tconf.gro: the alanine dipeptide structure in the gromacs format\n",
        "-\ttopol.top: a topology file including all the information about the force field\n",
        "-\tposre.itp: this is a file that can be used to restrain the position of the atoms (we will not use it).\n",
        "\n",
        "Now moving to the second step we need to define the BOX of our simulation\n"
      ],
      "metadata": {
        "id": "dwARe4xhnDuz"
      }
    },
    {
      "cell_type": "code",
      "source": [
        "!gmx editconf -f conf.gro -bt cubic -d 1 -o boxed.gro"
      ],
      "metadata": {
        "id": "Jp-V_v99m8Sv"
      },
      "execution_count": null,
      "outputs": []
    },
    {
      "cell_type": "markdown",
      "source": [
        "We are putting our molecule in a cubic box whose side are at least 1 nm far from the surface of our molecule. boxed.gro is the resulting output file.\n",
        "\n",
        "At this point one would fill the box with the solution, but we are working in vacuum so we skip this step.\n",
        "\n",
        "So we prepare the system for energy minimization:\n"
      ],
      "metadata": {
        "id": "QGkuQbJ9nOFj"
      }
    },
    {
      "cell_type": "markdown",
      "source": [
        "### Energy minimisation"
      ],
      "metadata": {
        "id": "V89XNV04n0e8"
      }
    },
    {
      "cell_type": "code",
      "source": [
        "%cp ../sb/Data/md/mdps/0-em-steep.mdp em.mdp"
      ],
      "metadata": {
        "id": "aKBtEO4NnT8I"
      },
      "execution_count": null,
      "outputs": []
    },
    {
      "cell_type": "code",
      "source": [
        "!gmx grompp -f em.mdp -c boxed.gro -p topol.top -o em.tpr\n",
        "!gmx mdrun -deffnm em -v"
      ],
      "metadata": {
        "id": "lmhujnW1mNRV"
      },
      "execution_count": null,
      "outputs": []
    },
    {
      "cell_type": "markdown",
      "source": [
        "The first command merges all the information of the em.mdp, boxed.gro and topol.top files into a single file that will be used to run the simulation: em.tpr. In the file em.mdp there are all the details about the simulation algorithms.\n",
        "\n",
        "The second command executes the energy minimization, this lasts only few steps\n"
      ],
      "metadata": {
        "id": "0_RvPNBzngqT"
      }
    },
    {
      "cell_type": "markdown",
      "source": [
        "Now there is a em.gro file that is the energy minimized structure:"
      ],
      "metadata": {
        "id": "LFII35IFnlGj"
      }
    },
    {
      "cell_type": "markdown",
      "source": [
        "### Molecular dynamics"
      ],
      "metadata": {
        "id": "cKKAau5tn60c"
      }
    },
    {
      "cell_type": "code",
      "source": [
        "%cd {local_path}/aladp\n",
        "%cp ../sb/Data/md/mdps/run.mdp ."
      ],
      "metadata": {
        "id": "zVkufZ9Zn3qH"
      },
      "execution_count": null,
      "outputs": []
    },
    {
      "cell_type": "code",
      "source": [
        "!gmx grompp -f run.mdp -c em.gro -p topol.top -o run.tpr\n",
        "!gmx mdrun -deffnm run -v -nb cpu -ntmpi 1 -ntomp 1"
      ],
      "metadata": {
        "id": "DXF8TLX9nk1o"
      },
      "execution_count": null,
      "outputs": []
    },
    {
      "cell_type": "markdown",
      "source": [
        "### Visualisation"
      ],
      "metadata": {
        "id": "qIsKpmjyptpV"
      }
    },
    {
      "cell_type": "markdown",
      "source": [
        "The simulation will take around 1 minute to perform 10 ns.\n",
        "\n",
        "To visualise the simulation, you can copy the `run.xtc` and `em.gro` files on your workstation. Open the `em.gro` file with VMD and then load into the `run.xtc` file."
      ],
      "metadata": {
        "id": "VPYtJ8ACpVQ8"
      }
    },
    {
      "cell_type": "markdown",
      "source": [
        "### Analysis"
      ],
      "metadata": {
        "id": "ZHQIzoFLpwHS"
      }
    },
    {
      "cell_type": "code",
      "source": [
        "!gmx chi -f run.xtc -s run.tpr -phi -psi -rama -all"
      ],
      "metadata": {
        "id": "yB5QEOqypntM"
      },
      "execution_count": null,
      "outputs": []
    },
    {
      "cell_type": "code",
      "source": [
        "%ls"
      ],
      "metadata": {
        "id": "vA7apf-4tQMe"
      },
      "execution_count": null,
      "outputs": []
    },
    {
      "cell_type": "markdown",
      "source": [
        "This will write a `psiALA2.xvg` and `phiALA2.xvg` files that include the time evolution of the phi and psi angles:\n",
        "\n",
        "You can plot both as a function of the frame \n"
      ],
      "metadata": {
        "id": "FNo61Xjep3t_"
      }
    },
    {
      "cell_type": "code",
      "source": [
        "import matplotlib.pyplot as plt\n",
        "import csv\n",
        "\n",
        "x=[]\n",
        "y1=[]\n",
        "y2=[]\n",
        "\n",
        "with open('phiALA2.xvg', 'r') as file:\n",
        "    for row in file:\n",
        "        if row.split()[0] == '#':\n",
        "          continue\n",
        "        if row.split()[0] == '@':\n",
        "          continue\n",
        "        if row.split()[0] == '@TYPE':\n",
        "          continue\n",
        "        x.append(float(row.split()[0]))\n",
        "        y1.append(float(row.split()[1]))\n",
        "\n",
        "with open('psiALA2.xvg', 'r') as file:\n",
        "    for row in file:\n",
        "        if row.split()[0] == '#':\n",
        "          continue\n",
        "        if row.split()[0] == '@':\n",
        "          continue\n",
        "        if row.split()[0] == '@TYPE':\n",
        "          continue\n",
        "        y2.append(float(row.split()[1]))\n",
        "\n",
        "# Initialise the subplot function using number of rows and columns\n",
        "figure, axis = plt.subplots(2)\n",
        "\n",
        "axis[0].plot(y1)\n",
        "axis[0].set_ylabel(\"PHI\")\n",
        "\n",
        "axis[1].plot(y2)\n",
        "axis[1].set_ylabel(\"PSI\")\n",
        "axis[1].set_xlabel(\"Time (ps)\")\n",
        "\n",
        "plt.show()\n"
      ],
      "metadata": {
        "id": "Y6h2fdmpp951"
      },
      "execution_count": null,
      "outputs": []
    },
    {
      "cell_type": "markdown",
      "source": [
        "or one against the other as in the Ramachandran plot:"
      ],
      "metadata": {
        "id": "22LCSY6jqz34"
      }
    },
    {
      "cell_type": "code",
      "source": [
        "import matplotlib.pyplot as plt\n",
        "import csv\n",
        "\n",
        "x=[]\n",
        "y1=[]\n",
        "y2=[]\n",
        "\n",
        "with open('ramaPhiPsiALA2.xvg', 'r') as file:\n",
        "    for row in file:\n",
        "        if row.split()[0] == '#':\n",
        "          continue\n",
        "        if row.split()[0] == '@':\n",
        "          continue\n",
        "        if row.split()[0] == '@TYPE':\n",
        "          continue\n",
        "        x.append(float(row.split()[0]))\n",
        "        y1.append(float(row.split()[1]))\n",
        "\n",
        "plt.scatter(x,y1)\n",
        "\n",
        "plt.xlabel('')\n",
        "plt.ylabel('')\n",
        "\n",
        "plt.show()"
      ],
      "metadata": {
        "id": "ERYehW4tq0vn"
      },
      "execution_count": null,
      "outputs": []
    },
    {
      "cell_type": "markdown",
      "source": [
        "There are also histograms:"
      ],
      "metadata": {
        "id": "YdAKZ4Ursoc0"
      }
    },
    {
      "cell_type": "code",
      "source": [
        "import matplotlib.pyplot as plt\n",
        "import csv\n",
        "\n",
        "x=[]\n",
        "y1=[]\n",
        "y2=[]\n",
        "\n",
        "with open('histo-phiALA.xvg', 'r') as file:\n",
        "    for row in file:\n",
        "        if row.split()[0] == '#':\n",
        "          continue\n",
        "        if row.split()[0] == '@':\n",
        "          continue\n",
        "        if row.split()[0] == '&':\n",
        "          continue\n",
        "        if row.split()[0] == '@TYPE':\n",
        "          continue\n",
        "        x.append(float(row.split()[0]))\n",
        "        y1.append(float(row.split()[1]))\n",
        "\n",
        "with open('histo-psiALA.xvg', 'r') as file:\n",
        "    for row in file:\n",
        "        if row.split()[0] == '#':\n",
        "          continue\n",
        "        if row.split()[0] == '@':\n",
        "          continue\n",
        "        if row.split()[0] == '&':\n",
        "          continue\n",
        "        if row.split()[0] == '@TYPE':\n",
        "          continue\n",
        "        y2.append(float(row.split()[1]))\n",
        "\n",
        "\n",
        "figure, axis = plt.subplots(2)\n",
        "\n",
        "axis[0].plot(x,y1)\n",
        "axis[0].set_xlabel(\"PHI\")\n",
        "\n",
        "axis[1].plot(x,y2)\n",
        "axis[1].set_xlabel(\"PSI\")\n",
        "\n",
        "plt.show()"
      ],
      "metadata": {
        "id": "N8bBh_a-s52-"
      },
      "execution_count": null,
      "outputs": []
    },
    {
      "cell_type": "code",
      "source": [],
      "metadata": {
        "id": "2V5Btp_-vGbk"
      },
      "execution_count": null,
      "outputs": []
    },
    {
      "cell_type": "markdown",
      "source": [
        "# Report Template"
      ],
      "metadata": {
        "id": "5lvctOPLbVY2"
      }
    },
    {
      "cell_type": "markdown",
      "source": [
        "Start by creating a new notebook, using **File -> New Notebook**. New notebooks are created in your google drive, in a **Colab Notebooks** folder.\n",
        "\n",
        "When you are in the new notebook, generally named \"Untitled.ipynb\", select **File -> Move** and move it to your Task2 folder.\n",
        "\n",
        "Rename the notebook as Visualisation.ipynb\n",
        "\n",
        "You can then copy and paste the following cells and then modify them as appropriate. The resulting notebook will be your first report."
      ],
      "metadata": {
        "id": "9Gupoj_PmEAv"
      }
    },
    {
      "cell_type": "markdown",
      "source": [
        "# Molecular Dynamics Simulations"
      ],
      "metadata": {
        "id": "VH9e7LGCmQ34"
      }
    },
    {
      "cell_type": "markdown",
      "source": [
        "Your Name"
      ],
      "metadata": {
        "id": "nnJo1yqJmT0s"
      }
    },
    {
      "cell_type": "code",
      "source": [
        "from datetime import date\n",
        "\n",
        "today = date.today()\n",
        "print(today)"
      ],
      "metadata": {
        "id": "EDr0qhRjmVDF"
      },
      "execution_count": null,
      "outputs": []
    },
    {
      "cell_type": "markdown",
      "source": [
        "##Water"
      ],
      "metadata": {
        "id": "h_fXrKyUm6sn"
      }
    },
    {
      "cell_type": "code",
      "source": [
        "%cd {local_path}/water"
      ],
      "metadata": {
        "id": "xdNC4-jkm7ng"
      },
      "execution_count": null,
      "outputs": []
    },
    {
      "cell_type": "code",
      "source": [
        "#add a figure of the system"
      ],
      "metadata": {
        "id": "uC1HEw53wqbG"
      },
      "execution_count": null,
      "outputs": []
    },
    {
      "cell_type": "markdown",
      "source": [
        "**Figure 1**: Describe the system, Add here the details of the simulation you performed:\n",
        "\n",
        "\n",
        "*   Force Field and Water Model\n",
        "*   Box Size\n",
        "*   Number of molecules\n",
        "*   Temperature\n",
        "*   Length of the simulation"
      ],
      "metadata": {
        "id": "nNC6JnM7weeU"
      }
    },
    {
      "cell_type": "code",
      "source": [
        "import matplotlib.pyplot as plt\n",
        "import csv\n",
        "\n",
        "x=[]\n",
        "y1=[]\n",
        "y2=[]\n",
        "y3=[]\n",
        "y4=[]\n",
        "\n",
        "with open('energy.xvg', 'r') as file:\n",
        "    for row in file:\n",
        "        if row.split()[0] == '#':\n",
        "          continue\n",
        "        if row.split()[0] == '@':\n",
        "          continue\n",
        "        if row.split()[0] == '@TYPE':\n",
        "          continue\n",
        "        x.append(float(row.split()[0]))\n",
        "        y1.append(float(row.split()[1]))\n",
        "        y2.append(float(row.split()[2]))\n",
        "        y3.append(float(row.split()[3]))\n",
        "        y4.append(float(row.split()[4]))\n",
        "\n",
        "\n",
        "# Initialise the subplot function using number of rows and columns\n",
        "figure, axis = plt.subplots(2,2)\n",
        "figure.set_size_inches(18.5, 10.5)\n",
        "\n",
        "axis[0,0].plot(x, y1)\n",
        "axis[0,0].set_ylabel(\"Potential Energy\")\n",
        "\n",
        "axis[1,0].plot(x, y2)\n",
        "axis[1,0].set_ylabel(\"Volume\")\n",
        "axis[1,0].set_xlabel(\"Time (ps)\")\n",
        "\n",
        "axis[0,1].plot(x, y3)\n",
        "axis[0,1].set_ylabel(\"Density\")\n",
        "\n",
        "axis[1,1].plot(x, y4)\n",
        "axis[1,1].set_ylabel(\"Entalphy\")\n",
        "axis[1,1].set_xlabel(\"Time (ps)\")\n",
        "\n",
        "\n",
        "plt.show()"
      ],
      "metadata": {
        "id": "NNY943-Fn0tI"
      },
      "execution_count": null,
      "outputs": []
    },
    {
      "cell_type": "markdown",
      "source": [
        "**Figure 2.** Describe the content of the figure above:"
      ],
      "metadata": {
        "id": "LvwhOXddnogo"
      }
    },
    {
      "cell_type": "code",
      "source": [
        "from numpy.ma.extras import average\n",
        "#Try to calculate the enthaly of vaporisation and the specific heat using the equations in the PDF\n",
        "#You have all the needed data above:\n",
        "# y1 includes all the values for the potential energy\n",
        "# y3 those for the volume\n",
        "# y4 those for the enthalpy\n",
        "# you need to calculate properties like average and standard deviation and use the number of molecules in your system\n",
        "# the pressure is 10^5 N/m^2\n",
        "import numpy as np\n",
        "\n",
        "#for example for the enthalpy of vaporisation you can do:\n",
        "mean_U = average(y1)\n",
        "mean_Usquare = average(np.array(y1)**2) \n",
        "mean_V = average(y3)*pow(10,-27) # to transform it to m^3\n",
        "print(mean_U, mean_Usquare, mean_V)\n",
        "nmol = 216\n",
        "RT=2.45\n",
        "NA=6.022*pow(10,23)\n",
        "p=pow(10,5)\n",
        "hv = -mean_U/nmol+RT-p*mean_V\n",
        "print(\"The enthalpy of vaporisation is:\", hv, \"kJ/mol\")\n"
      ],
      "metadata": {
        "id": "DDaO10IPxQP7"
      },
      "execution_count": null,
      "outputs": []
    },
    {
      "cell_type": "code",
      "source": [
        "#try to calculate the heat capacity\n",
        "#here you need to use enthalpy that is y4\n",
        "mean_H = average(y4)\n",
        "mean_Hsquare = average(np.array(y4)**2)\n",
        "T=293\n",
        "nmol=216\n",
        "kb=0.0083\n",
        "# write the correct formula below and uncomment\n",
        "#cp=\n",
        "print(\"The heat capacity is:\", cp*1000, \"J/mol/K\")"
      ],
      "metadata": {
        "id": "5_rMgA510O7v"
      },
      "execution_count": null,
      "outputs": []
    },
    {
      "cell_type": "code",
      "source": [
        "import matplotlib.pyplot as plt\n",
        "import csv\n",
        "\n",
        "x=[]\n",
        "y1=[]\n",
        "\n",
        "with open('rdf.xvg', 'r') as file:\n",
        "    for row in file:\n",
        "        if row.split()[0] == '#':\n",
        "          continue\n",
        "        if row.split()[0] == '@':\n",
        "          continue\n",
        "        if row.split()[0] == '@TYPE':\n",
        "          continue\n",
        "        x.append(float(row.split()[0]))\n",
        "        y1.append(float(row.split()[1]))\n",
        "\n",
        "# Initialise the subplot function using number of rows and columns\n",
        "figure, axis = plt.subplots()\n",
        "figure.set_size_inches(18.5, 10.5)\n",
        "\n",
        "axis.plot(x, y1)\n",
        "axis.set_ylabel(\"RDF\")\n",
        "axis.set_xlabel(\"Radius (nm)\")\n",
        "\n",
        "plt.show()"
      ],
      "metadata": {
        "id": "QpqqZT6BnnHD"
      },
      "execution_count": null,
      "outputs": []
    },
    {
      "cell_type": "markdown",
      "source": [
        "**Figure 3.** Describe the content of the figure above:"
      ],
      "metadata": {
        "id": "vOt_uNdcsmOe"
      }
    },
    {
      "cell_type": "markdown",
      "source": [
        "## Alanine Dipeptide"
      ],
      "metadata": {
        "id": "BQ65RsrNspzH"
      }
    },
    {
      "cell_type": "code",
      "source": [
        "%cd {local_path}/aladp"
      ],
      "metadata": {
        "id": "7wR2C_rOsrR1"
      },
      "execution_count": null,
      "outputs": []
    },
    {
      "cell_type": "code",
      "source": [
        "#Add here a figure of the system"
      ],
      "metadata": {
        "id": "Cv4SyfP4s4zk"
      },
      "execution_count": null,
      "outputs": []
    },
    {
      "cell_type": "markdown",
      "source": [
        "**Figure 4.** Describe the system and add here the details of the simulation you performed:\n",
        "\n",
        "\n",
        "*   Force Field\n",
        "*   Box Size\n",
        "*   Temperature\n",
        "*   Length of the simulation"
      ],
      "metadata": {
        "id": "SFIzQr9vsscW"
      }
    },
    {
      "cell_type": "code",
      "source": [
        "import matplotlib.pyplot as plt\n",
        "import csv\n",
        "\n",
        "x=[]\n",
        "y1=[]\n",
        "y2=[]\n",
        "\n",
        "with open('ramaPhiPsiALA2.xvg', 'r') as file:\n",
        "    for row in file:\n",
        "        if row.split()[0] == '#':\n",
        "          continue\n",
        "        if row.split()[0] == '@':\n",
        "          continue\n",
        "        if row.split()[0] == '@TYPE':\n",
        "          continue\n",
        "        x.append(float(row.split()[0]))\n",
        "        y1.append(float(row.split()[1]))\n",
        "\n",
        "plt.scatter(x,y1)\n",
        "\n",
        "plt.xlabel('')\n",
        "plt.ylabel('')\n",
        "\n",
        "plt.show()"
      ],
      "metadata": {
        "id": "daafvQ-qw77Q"
      },
      "execution_count": null,
      "outputs": []
    },
    {
      "cell_type": "markdown",
      "source": [
        "**Figure 5**: describe the figure"
      ],
      "metadata": {
        "id": "rPoCnFi07Rxi"
      }
    },
    {
      "cell_type": "code",
      "source": [
        "import matplotlib.pyplot as plt\n",
        "import csv\n",
        "\n",
        "angle=[]\n",
        "c_phi=[]\n",
        "c_psi=[]\n",
        "\n",
        "with open('histo-phiALA.xvg', 'r') as file:\n",
        "    for row in file:\n",
        "        if row.split()[0] == '#':\n",
        "          continue\n",
        "        if row.split()[0] == '@':\n",
        "          continue\n",
        "        if row.split()[0] == '&':\n",
        "          continue\n",
        "        if row.split()[0] == '@TYPE':\n",
        "          continue\n",
        "        angle.append(float(row.split()[0]))\n",
        "        c_phi.append(float(row.split()[1]))\n",
        "\n",
        "with open('histo-psiALA.xvg', 'r') as file:\n",
        "    for row in file:\n",
        "        if row.split()[0] == '#':\n",
        "          continue\n",
        "        if row.split()[0] == '@':\n",
        "          continue\n",
        "        if row.split()[0] == '&':\n",
        "          continue\n",
        "        if row.split()[0] == '@TYPE':\n",
        "          continue\n",
        "        c_psi.append(float(row.split()[1]))\n",
        "\n",
        "n_phi = np.array(c_phi)\n",
        "n_psi = np.array(c_psi)\n",
        "\n",
        "\n",
        "print(angle)\n",
        "print(n_phi)\n",
        "print(n_psi)\n",
        "#angle is the information about the binning of the histograms\n",
        "#n_phi is the normalised count of frames in the corresponding bin for the phi angle\n",
        "#n_psi is the normalised count of frames in the corresponding bin for the psi angle"
      ],
      "metadata": {
        "id": "oodyuZTj7WP1"
      },
      "execution_count": null,
      "outputs": []
    },
    {
      "cell_type": "code",
      "source": [
        "# Now how can you get Free Energy profiles from the above 1D histograms?\n",
        "# complete and uncomment the following lines\n",
        "# you can calculate the log of a list as np.log()\n",
        "kbT = 0.0083*293\n",
        "#f_phi = \n",
        "#f_psi = "
      ],
      "metadata": {
        "id": "cUq6Gvep7opF"
      },
      "execution_count": null,
      "outputs": []
    },
    {
      "cell_type": "code",
      "source": [
        "figure, axis = plt.subplots(2)\n",
        "\n",
        "axis[0].plot(angle,f_phi)\n",
        "axis[0].set_xlabel(\"Phi\")\n",
        "axis[0].set_ylabel(\"Free Energy (kJ/mol)\")\n",
        "\n",
        "axis[1].plot(angle,f_psi)\n",
        "axis[1].set_xlabel(\"Psi\")\n",
        "axis[1].set_ylabel(\"Free Energy (kJ/mol)\")\n",
        "\n",
        "plt.show()"
      ],
      "metadata": {
        "id": "8r6HlKZV8hVW"
      },
      "execution_count": null,
      "outputs": []
    },
    {
      "cell_type": "markdown",
      "source": [
        "**Figure 6**: describe the figure"
      ],
      "metadata": {
        "id": "CX6lLdO89fvy"
      }
    }
  ]
}