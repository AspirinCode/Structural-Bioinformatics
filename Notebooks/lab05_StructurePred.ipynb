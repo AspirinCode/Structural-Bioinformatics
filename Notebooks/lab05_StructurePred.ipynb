{
  "nbformat": 4,
  "nbformat_minor": 0,
  "metadata": {
    "colab": {
      "name": "StructurePred.ipynb",
      "provenance": [],
      "mount_file_id": "1VcO2kCOjUBrF6i37C0C1tTlDv7lYIN99",
      "authorship_tag": "ABX9TyNCt5RAC/ocqcbTpgt1OZpn",
      "include_colab_link": true
    },
    "kernelspec": {
      "name": "python3",
      "display_name": "Python 3"
    },
    "language_info": {
      "name": "python"
    }
  },
  "cells": [
    {
      "cell_type": "markdown",
      "metadata": {
        "id": "view-in-github",
        "colab_type": "text"
      },
      "source": [
        "<a href=\"https://colab.research.google.com/github/carlocamilloni/Structural-Bioinformatics/blob/main/StructurePred.ipynb\" target=\"_parent\"><img src=\"https://colab.research.google.com/assets/colab-badge.svg\" alt=\"Open In Colab\"/></a>"
      ]
    },
    {
      "cell_type": "markdown",
      "metadata": {
        "id": "Mg2O2-KVId6K"
      },
      "source": [
        "# TASK2: Protein Structure Prediction"
      ]
    },
    {
      "cell_type": "code",
      "metadata": {
        "id": "E9foDIOnwA4r"
      },
      "source": [
        "#Install conda using the new conda-colab library\n",
        "!pip install -q condacolab\n",
        "import condacolab\n",
        "condacolab.install_miniconda()"
      ],
      "execution_count": null,
      "outputs": []
    },
    {
      "cell_type": "markdown",
      "metadata": {
        "id": "FNCmN9VGDvVu"
      },
      "source": [
        "In this notebook you will try to characterize one protein from its sequence using multiple tools. In particular we will work on proteins from Salmonella Arizonae that is a Gram Negative bacterium. We will perform\n",
        "\n",
        "1.   Secondary Structure prediction\n",
        "2.   Homology modelling\n",
        "3.   Coevolution analysis\n",
        "4.   Ab initio structure prediction\n",
        "\n",
        "You should write a report including the obtained results also using what you learned about structure visualisation using VMD.\n",
        "\n",
        "Here you can find a very comprehensive paper about the evolution of structure predicition techniques\n",
        "\n",
        "https://www.dropbox.com/s/l7roge3y8acxxmp/PIIS0021925821006700.pdf?dl=0\n",
        "\n",
        "\n"
      ]
    },
    {
      "cell_type": "markdown",
      "metadata": {
        "id": "-emNv-19dWST"
      },
      "source": [
        "As for the last time, link your google drive, create a folder for this second task and save a copy of this notebook there\n",
        "\n",
        "Then move to your local folder:"
      ]
    },
    {
      "cell_type": "code",
      "metadata": {
        "id": "VgLUm3t4dp_r"
      },
      "source": [
        "local_path='/content/drive/MyDrive/Task2'   # PASTE YOUR LOCAL PATH IN PLACE OF /content\n",
        "%cd {local_path}"
      ],
      "execution_count": null,
      "outputs": []
    },
    {
      "cell_type": "markdown",
      "metadata": {
        "id": "EmRa5-2jdzKT"
      },
      "source": [
        "Now you can choose one among these sequences on which you will work. To choose it set the seq variable in the following:\n",
        "\n",
        "*   A9MHP5: Beta-barrel assembly-enhancing protease\n",
        "*   A9MI44: Uncharacterized protein\n",
        "*   A9MJ84: Uncharacterized protein\n",
        "*   A9MG92: ABC transmembrane type-1 domain-containing protein\n",
        "\n",
        "You can learn more about these proteins checking them on www.uniprot.org\n"
      ]
    },
    {
      "cell_type": "code",
      "metadata": {
        "id": "8UseZRDlY8j0"
      },
      "source": [
        "# XXX is the protein you choose\n",
        "seq='XXXX.fasta'"
      ],
      "execution_count": null,
      "outputs": []
    },
    {
      "cell_type": "code",
      "metadata": {
        "id": "cbroi5V7LjAy"
      },
      "source": [
        "#get the sequence you choose as:\n",
        "!wget https://www.uniprot.org/uniprot/{seq}"
      ],
      "execution_count": null,
      "outputs": []
    },
    {
      "cell_type": "code",
      "metadata": {
        "id": "WI0LeLjnR8hw"
      },
      "source": [
        "#Installing biopython using pip\n",
        "!pip install biopython"
      ],
      "execution_count": null,
      "outputs": []
    },
    {
      "cell_type": "markdown",
      "metadata": {
        "id": "oZaTPblBRKyg"
      },
      "source": [
        "Biopython is an excellent companion for working with DNA and protein sequences and also with structures. Here, we will show how to use it for reading a protein sequence file.\n"
      ]
    },
    {
      "cell_type": "code",
      "metadata": {
        "id": "xjj84u5NLjW_"
      },
      "source": [
        "import os\n",
        "from pathlib import Path \n",
        "from Bio import SeqIO, Entrez\n",
        "# read your protein sequence\n",
        "aaseq = SeqIO.read(seq, format=\"fasta\")"
      ],
      "execution_count": null,
      "outputs": []
    },
    {
      "cell_type": "markdown",
      "metadata": {
        "id": "PX0RXTRIRk1a"
      },
      "source": [
        "What is great about SeqIO is that you can use it to manipulate your sequence (e.g. sorting, changing formats, etc) and also to print information about your sequence, such as its description, sequence and accession ID.\n",
        "You can try these commands below by first writing \"aaseq.\" and then selecting one of the autocomplete options suggested by Google Colab. With this information, try to obtain the information requested below."
      ]
    },
    {
      "cell_type": "code",
      "metadata": {
        "id": "AFnl8Q3BRqNO"
      },
      "source": [
        "#Printing the number of amino acids as an example\n",
        "print(\"Sequence length (aa):\")\n",
        "print(len(aaseq))"
      ],
      "execution_count": null,
      "outputs": []
    },
    {
      "cell_type": "code",
      "metadata": {
        "id": "ravJglE5L3os"
      },
      "source": [
        "#Printing the description of the sequence\n",
        "print(\"The description of the sequence is:\")\n",
        "#INSERT YOUR OWN COMMAND BELOW (aaseq.xxx)\n",
        "print()\n",
        "\n",
        "#Printing the accession ID of the sequence\n",
        "print(\"The ID of the sequence is:\")\n",
        "#INSERT YOUR OWN COMMAND BELOW\n",
        "print()\n",
        "\n",
        "#Printing the sequence\n",
        "print(\"The sequence is:\")\n",
        "#INSERT YOUR OWN COMMAND BELOW\n",
        "print()"
      ],
      "execution_count": null,
      "outputs": []
    },
    {
      "cell_type": "markdown",
      "metadata": {
        "id": "4Wl1hNU904wv"
      },
      "source": [
        "# Secondary Structure Prediction"
      ]
    },
    {
      "cell_type": "markdown",
      "metadata": {
        "id": "Lc4sHzrmSOiH"
      },
      "source": [
        "Now we can begin with a secondary structure prediction from the sequence. For this we will use S4PRED (https://github.com/psipred/s4pred)"
      ]
    },
    {
      "cell_type": "code",
      "metadata": {
        "id": "r24z3Fd2W6Wk"
      },
      "source": [
        "%cd {local_path}"
      ],
      "execution_count": null,
      "outputs": []
    },
    {
      "cell_type": "code",
      "metadata": {
        "id": "1Qcvt620Q8V1"
      },
      "source": [
        "# we need to download and install s4pred\n",
        "!git clone --depth 1 https://github.com/psipred/s4pred\n",
        "%cd s4pred\n",
        "%mkdir weights\n",
        "%cd weights\n",
        "!wget http://bioinfadmin.cs.ucl.ac.uk/downloads/s4pred/weights_1.pt\n",
        "!wget http://bioinfadmin.cs.ucl.ac.uk/downloads/s4pred/weights_2.pt\n",
        "!wget http://bioinfadmin.cs.ucl.ac.uk/downloads/s4pred/weights_3.pt\n",
        "!wget http://bioinfadmin.cs.ucl.ac.uk/downloads/s4pred/weights_4.pt\n",
        "!wget http://bioinfadmin.cs.ucl.ac.uk/downloads/s4pred/weights_5.pt"
      ],
      "execution_count": null,
      "outputs": []
    },
    {
      "cell_type": "code",
      "metadata": {
        "id": "Pi1le5L6S2E_"
      },
      "source": [
        "# Install: PyTorch\n",
        "# this can be long...\n",
        "!pip install torch==1.5.1+cu101 -f https://download.pytorch.org/whl/torch_stable.html"
      ],
      "execution_count": null,
      "outputs": []
    },
    {
      "cell_type": "markdown",
      "metadata": {
        "id": "2X7S-AiUYC-R"
      },
      "source": [
        "Now we can run the prediction over our fasta sequence and save it in a text file. You can then double click on the file to see the results"
      ]
    },
    {
      "cell_type": "code",
      "metadata": {
        "id": "BcM7YhlcT176"
      },
      "source": [
        "%cd {local_path}\n",
        "!python s4pred/run_model.py {seq} > ss.{seq}.txt\n",
        "%ls ss.{seq}.txt"
      ],
      "execution_count": null,
      "outputs": []
    },
    {
      "cell_type": "markdown",
      "metadata": {
        "id": "uj5v_x3pYVfH"
      },
      "source": [
        "The file is made of three columns that report the secondary structure prediction and are COIL/HELIX/EXTENDED, we can now load and plot the results"
      ]
    },
    {
      "cell_type": "code",
      "metadata": {
        "id": "l1E1Y9CwYhGC"
      },
      "source": [
        "import pandas as pd\n",
        "# here we are giving the titles to the columns of the file\n",
        "header_list = [\"position\", \"sequence\", \"ss\", \"coil\", \"helix\",\"extended\"]\n",
        "# here we are reading the file skipping the first two lines\n",
        "# you need to set your path to your file\n",
        "data = pd.read_csv('/content/drive/MyDrive/Task2/ss.A9MHP5.fasta.txt',sep='\\s+',skiprows=2,names=header_list)\n",
        "data = pd.DataFrame(data)\n",
        "\n",
        "import matplotlib.pyplot as plt\n",
        "#we are generating three plots calling each column with its name\n",
        "#and setting the properties of the plot (e.g. the color of the line)\n",
        "plt.plot(data['position'], data['coil'], color='black')\n",
        "plt.plot(data['position'], data['helix'], color='blue')\n",
        "plt.plot(data['position'], data['extended'], color='red')\n",
        "#show the plot now\n",
        "plt.show()"
      ],
      "execution_count": null,
      "outputs": []
    },
    {
      "cell_type": "markdown",
      "metadata": {
        "id": "vRqHj95ddNux"
      },
      "source": [
        "you can check how to improve the plot looking for matplotlib plot example. This plot can be used to describe what the secondary structure of the protein can be"
      ]
    },
    {
      "cell_type": "markdown",
      "metadata": {
        "id": "Exu9Cw8qgPzb"
      },
      "source": [
        "#HOMOLOGY MODELLING USING MODELLER"
      ]
    },
    {
      "cell_type": "markdown",
      "metadata": {
        "id": "Ql0ZTQQNgfXm"
      },
      "source": [
        "Then, we must install several pieces of software to perform this tutorial. Namely:\n",
        "- **MODELLER**, a famous software for template-based modelling.\n",
        "- **py3Dmol**, for visualization of the template and modelled protein structures.\n",
        "- **biopython**, for manipulation and retrieval of protein structures and sequences.\n",
        "\n",
        "After several tests, the following installation instructions are the best way of setting up **Google Colab** for this laboratory session.\n",
        "\n",
        "1. We will first install MODELLER as follows:\n",
        "\n",
        "⚠️**WARNING!:** In order to use MODELLER, you will need to obtain an Academic License by registering **[in this website](https://salilab.org/modeller/registration.html)**. The license key will be immediately sent to your email address."
      ]
    },
    {
      "cell_type": "code",
      "metadata": {
        "id": "GkZFHwD04XjH"
      },
      "source": [
        "#ADD YOUR LICENSE KEY HERE!\n",
        "%env KEY_MODELLER=MODELIRANJE"
      ],
      "execution_count": null,
      "outputs": []
    },
    {
      "cell_type": "code",
      "metadata": {
        "id": "ptLbI9SS2Oe-"
      },
      "source": [
        "!conda config --add channels salilab\n",
        "!conda install modeller"
      ],
      "execution_count": null,
      "outputs": []
    },
    {
      "cell_type": "code",
      "metadata": {
        "id": "qJJSzqw9h2hi"
      },
      "source": [
        "#Installing py3Dmol using pip\n",
        "!pip install py3Dmol\n",
        "#And importing the py3Dmol module\n",
        "import py3Dmol"
      ],
      "execution_count": null,
      "outputs": []
    },
    {
      "cell_type": "code",
      "metadata": {
        "id": "ZbsG94gBh_Q0"
      },
      "source": [
        "%cd {local_path}\n",
        "%mkdir homology\n",
        "%cd homology"
      ],
      "execution_count": null,
      "outputs": []
    },
    {
      "cell_type": "code",
      "metadata": {
        "id": "wV0u9m0HiJCJ"
      },
      "source": [
        "#Downloading pdb_95.pir\n",
        "!wget https://salilab.org/modeller/downloads/pdb_95.pir.gz\n",
        "!gunzip pdb_95.pir.gz\n",
        "#Downloading the build_profile.py script from GitHub\n",
        "!wget https://raw.githubusercontent.com/pb3lab/ibm3202/master/scripts/build_profile.py"
      ],
      "execution_count": null,
      "outputs": []
    },
    {
      "cell_type": "code",
      "metadata": {
        "id": "E_aByi8ciMqK"
      },
      "source": [
        "#copy the fasta file\n",
        "%cp ../{seq} target.fasta\n",
        "#Running the build_profile script\n",
        "!mod10.1 build_profile.py\n",
        "#Printing only the list of potential templates\n",
        "!sed -n '/HITS FOUND IN ITERATION:     1/,/Weight Matrix/p;/Weight Matrix/q' build_profile.log"
      ],
      "execution_count": null,
      "outputs": []
    },
    {
      "cell_type": "markdown",
      "metadata": {
        "id": "azJtWnxnna30"
      },
      "source": [
        "As a result you should see something like\n",
        "> 6sarA                      1   39316   \n",
        "\n",
        "this is > pdbCHAIN and properties.\n",
        "**The important columns to determine the best templates from this analysis are the fifth, seventh and eight columns, which correspond to the sequence length of the target protein, the sequence identity and the e-value, respectively.**"
      ]
    },
    {
      "cell_type": "markdown",
      "metadata": {
        "id": "mflZ1E9_jAuh"
      },
      "source": [
        "In this particular example, a BLOSUM62 similarity matrix is being used for determining the sequence identity between target and potential templates. Also, we are employing only one search iteration and the parameter max_aln_evalue is set to 0.01, indicating that only sequences with e-values smaller than or equal to 0.01 will be included in the final profile.\n",
        "\n",
        "For simplicity, we just printed out the PDB table from the resulting log file generated during this analysis.\n",
        "As you can see, several PDB files are indicated.\n",
        "\n",
        "QUESTION: From this analysis, which template would be better for modeling the structure of our target sequence?"
      ]
    },
    {
      "cell_type": "markdown",
      "metadata": {
        "id": "dGx5nzJpjBt7"
      },
      "source": [
        "We will choose five PDB structures based on the sequence identity and e-value and select the most appropriate template for our target sequence among them. For this, we will first download these structures using the Bio.PDB command from biopython, and then use the alignment.compare_structures() command to assess the structural and sequence similarity between the possible templates through the compare.py script.\n",
        "Please take a few minutes to examine the content of this script, particularly i) how are the different protein structures included within the script; and ii) which chain is being used from each structure. This is important for cases where only one of many chains in the PDB corresponds to the protein. Also, please note that there are two alignment steps: first, a sequence alignment; second, a structural alignment."
      ]
    },
    {
      "cell_type": "code",
      "metadata": {
        "id": "UHBJyVUojF5k"
      },
      "source": [
        "import os\n",
        "#Downloading the PDB files using biopython\n",
        "from Bio.PDB import *\n",
        "#add here the list of PDB codes above (4 or 5) withouth chain\n",
        "templates = ['6sar','5xi8','6ait','3c37']\n",
        "pdbl = PDBList()\n",
        "for s in templates:\n",
        "  pdbl.retrieve_pdb_file(s, pdir='.', file_format =\"pdb\", overwrite=True)\n",
        "  os.rename(\"pdb\"+s+\".ent\", s+\".pdb\")"
      ],
      "execution_count": null,
      "outputs": []
    },
    {
      "cell_type": "code",
      "metadata": {
        "id": "CDPUsxmckPYm"
      },
      "source": [
        "#Downloading the build_profile.py script from GitHub\n",
        "!wget https://raw.githubusercontent.com/pb3lab/ibm3202/master/scripts/compare.py\n",
        "#Check this script and change the names of the PDB files if required"
      ],
      "execution_count": null,
      "outputs": []
    },
    {
      "cell_type": "code",
      "metadata": {
        "id": "z2TBqruXkUOw"
      },
      "source": [
        "from modeller import *\n",
        "\n",
        "env = environ()\n",
        "aln = alignment(env)\n",
        "for (pdb, chain) in (('6sar', 'A'), ('5xi8', 'A'), ('6ait', 'A'),\n",
        "                     ('6ait', 'F'), ('3c37', 'A'),):\n",
        "    m = model(env, file=pdb, model_segment=('FIRST:'+chain, 'LAST:'+chain))\n",
        "    aln.append_model(m, atom_files=pdb, align_codes=pdb+chain)\n",
        "aln.malign()\n",
        "aln.malign3d()\n",
        "aln.compare_structures()\n",
        "aln.id_table(matrix_file='family.mat')\n",
        "env.dendrogram(matrix_file='family.mat', cluster_cut=-1.0)"
      ],
      "execution_count": null,
      "outputs": []
    },
    {
      "cell_type": "markdown",
      "metadata": {
        "id": "rvtIeiHr_scm"
      },
      "source": [
        "Towards the end you should see something about\n",
        "**Sequence identity comparison (ID_TABLE):**. This table report about the similarity among the templates. This allows you to understand wheter the suggested templates are redundant or not. The number @xx is the resolution of the experimental structure. In practice one would like the highest coverage, highest sequence similarity and best resolution."
      ]
    },
    {
      "cell_type": "markdown",
      "metadata": {
        "id": "g0dWwPR1A1Nv"
      },
      "source": [
        "Now, we will align the sequence of our template protein with the sequence of our target protein, such that we can model the structure.\n",
        "How hard is it? Not at all! Just download the align2d.py script into your working folder, check the script to verify how the sequence of the target and the protein structure are evoked, and execute the script as we have done before"
      ]
    },
    {
      "cell_type": "code",
      "metadata": {
        "id": "jnWWbP452qfk"
      },
      "source": [
        "%cd {local_path}/homology\n",
        "from modeller import *\n",
        "\n",
        "env = environ()\n",
        "aln = alignment(env)\n",
        "# pdb file and FIRST:CHAIN, LAST:CHAIN this is important for multi-chains\n",
        "mdl = model(env, file='6ait', model_segment=('FIRST:A','LAST:A'))\n",
        "aln.append_model(mdl, align_codes='6aitA', atom_files='6ait.pdb')\n",
        "aln.append(file='target.fasta', align_codes='tr|A9MHP5|A9MHP5_SALAR', alignment_format='FASTA')\n",
        "aln.align2d()\n",
        "aln.write(file='aligned.fasta', alignment_format='FASTA')\n",
        "aln.write(file='aligned.ali', alignment_format='PIR')\n",
        "aln.write(file='aligned.pap', alignment_format='PAP')"
      ],
      "execution_count": null,
      "outputs": []
    },
    {
      "cell_type": "markdown",
      "metadata": {
        "id": "0UjTXtoFE48y"
      },
      "source": [
        "You will end up with two new files (aligned.ali and aligned.fasta) that contain the pairwise alignment of the target and template sequences. Load the FASTA file into Alignment Viewer 2.0. You can also use our Colab-mounted MSA viewer below:"
      ]
    },
    {
      "cell_type": "code",
      "metadata": {
        "cellView": "form",
        "id": "hKz8AwABBMph"
      },
      "source": [
        "#@title Protein MSA Viewer in Google Colab\n",
        "#The following code is modified from the wonderful viewer developed by Damien Farrell\n",
        "#https://dmnfarrell.github.io/bioinformatics/bokeh-sequence-aligner\n",
        "\n",
        "#Importing all modules first\n",
        "import os, io, random\n",
        "import string\n",
        "import numpy as np\n",
        "\n",
        "from Bio.Seq import Seq\n",
        "from Bio.Align import MultipleSeqAlignment\n",
        "from Bio import AlignIO, SeqIO\n",
        "\n",
        "import panel as pn\n",
        "import panel.widgets as pnw\n",
        "pn.extension()\n",
        "\n",
        "from bokeh.plotting import figure\n",
        "from bokeh.models import ColumnDataSource, Plot, Grid, Range1d\n",
        "from bokeh.models.glyphs import Text, Rect\n",
        "from bokeh.layouts import gridplot\n",
        "\n",
        "#Setting up the amino color code according to Zappo color scheme\n",
        "def get_colors(seqs):\n",
        "    #make colors for bases in sequence\n",
        "    text = [i for s in list(seqs) for i in s]\n",
        "    #Use Zappo color scheme\n",
        "    clrs =  {'K':'red',\n",
        "             'R':'red',\n",
        "             'H':'red',             \n",
        "             'D':'green',\n",
        "             'E':'green',\n",
        "             'Q':'blue',\n",
        "             'N':'blue',\n",
        "             'S':'blue',\n",
        "             'T':'blue',\n",
        "             'A':'blue',\n",
        "             'I':'blue',\n",
        "             'L':'blue',\n",
        "             'M':'blue',\n",
        "             'V':'blue',\n",
        "             'F':'orange',\n",
        "             'Y':'orange',\n",
        "             'W':'orange',\n",
        "             'C':'blue',\n",
        "             'P':'yellow',\n",
        "             'G':'orange',\n",
        "             '-':'white'}\n",
        "    colors = [clrs[i] for i in text]\n",
        "    return colors\n",
        "\n",
        "#Setting up the MSA viewer\n",
        "def view_alignment(aln, fontsize=\"9pt\", plot_width=800):\n",
        "    \"\"\"Bokeh sequence alignment view\"\"\"\n",
        "\n",
        "    #make sequence and id lists from the aln object\n",
        "    seqs = [rec.seq for rec in (aln)]\n",
        "    ids = [rec.id for rec in aln]    \n",
        "    text = [i for s in list(seqs) for i in s]\n",
        "    colors = get_colors(seqs)    \n",
        "    N = len(seqs[0])\n",
        "    S = len(seqs)    \n",
        "    width = .4\n",
        "\n",
        "    x = np.arange(1,N+1)\n",
        "    y = np.arange(0,S,1)\n",
        "    #creates a 2D grid of coords from the 1D arrays\n",
        "    xx, yy = np.meshgrid(x, y)\n",
        "    #flattens the arrays\n",
        "    gx = xx.ravel()\n",
        "    gy = yy.flatten()\n",
        "    #use recty for rect coords with an offset\n",
        "    recty = gy+.5\n",
        "    h= 1/S\n",
        "    #now we can create the ColumnDataSource with all the arrays\n",
        "    source = ColumnDataSource(dict(x=gx, y=gy, recty=recty, text=text, colors=colors))\n",
        "    plot_height = len(seqs)*15+50\n",
        "    x_range = Range1d(0,N+1, bounds='auto')\n",
        "    if N>100:\n",
        "        viewlen=100\n",
        "    else:\n",
        "        viewlen=N\n",
        "    #view_range is for the close up view\n",
        "    view_range = (0,viewlen)\n",
        "    tools=\"xpan, xwheel_zoom, reset, save\"\n",
        "\n",
        "    #entire sequence view (no text, with zoom)\n",
        "    p = figure(title=None, plot_width= plot_width, plot_height=50,\n",
        "               x_range=x_range, y_range=(0,S), tools=tools,\n",
        "               min_border=0, toolbar_location='below')\n",
        "    rects = Rect(x=\"x\", y=\"recty\",  width=1, height=1, fill_color=\"colors\",\n",
        "                 line_color=None, fill_alpha=0.6)\n",
        "    p.add_glyph(source, rects)\n",
        "    p.yaxis.visible = False\n",
        "    p.grid.visible = False  \n",
        "\n",
        "    #sequence text view with ability to scroll along x axis\n",
        "    p1 = figure(title=None, plot_width=plot_width, plot_height=plot_height,\n",
        "                x_range=view_range, y_range=ids, tools=\"xpan,reset\",\n",
        "                min_border=0, toolbar_location='below')#, lod_factor=1)          \n",
        "    glyph = Text(x=\"x\", y=\"y\", text=\"text\", text_align='center',text_color=\"black\",\n",
        "                text_font=\"monospace\",text_font_size=fontsize)\n",
        "    rects = Rect(x=\"x\", y=\"recty\",  width=1, height=1, fill_color=\"colors\",\n",
        "                line_color=None, fill_alpha=0.4)\n",
        "    p1.add_glyph(source, glyph)\n",
        "    p1.add_glyph(source, rects)\n",
        "\n",
        "    p1.grid.visible = False\n",
        "    p1.xaxis.major_label_text_font_style = \"bold\"\n",
        "    p1.yaxis.minor_tick_line_width = 0\n",
        "    p1.yaxis.major_tick_line_width = 0\n",
        "\n",
        "    p = gridplot([[p],[p1]], toolbar_location='below')\n",
        "    return p\n",
        "\n",
        "#Loading the viewer by indicating the MSA file and format to read\n",
        "#@markdown Name of the MSA file (including the filetype)\n",
        "MSAfile = 'aligned.fasta' #@param {type:\"string\"}\n",
        "MSAformat = 'fasta' #@param {type:\"string\"}\n",
        "aln = AlignIO.read(MSAfile,MSAformat)\n",
        "p = view_alignment(aln, plot_width=900)\n",
        "pn.pane.Bokeh(p)"
      ],
      "execution_count": null,
      "outputs": []
    },
    {
      "cell_type": "markdown",
      "metadata": {
        "id": "aQlNgtNiF3J4"
      },
      "source": [
        "Once your target and template sequences are aligned, we can finally obtain a structure of your target through comparative modeling. Again, read the script and check how the sequences and structures are called in MODELLER through these scripts. In this case, we are also performing this step on a separate folder.\n",
        "Please note that 1 model is not enough, as there is an energy function defining the optimal position of atomic coordinates, thus different models will have different energies. Generally, between 50-100 are generated for sufficient evaluation.\n",
        "💡 HINT: For our example, the generation of 50 models takes around 15 min on Google Colab, whereas 10 models are generated in about 3 min. You can edit the number of models to generate on the model-single.py script."
      ]
    },
    {
      "cell_type": "code",
      "metadata": {
        "id": "0ybTw5LiGBKz"
      },
      "source": [
        "#Creating a new folder and copying the required files for MODELLER\n",
        "%cd {local_path}/homology\n",
        "%mkdir model-single\n",
        "%cd model-single\n",
        "%cp ../6ait.pdb .\n",
        "%cp ../aligned.ali ."
      ],
      "execution_count": null,
      "outputs": []
    },
    {
      "cell_type": "code",
      "metadata": {
        "id": "mxuXt83MGHlP"
      },
      "source": [
        "from modeller import *\n",
        "from modeller.automodel import *\n",
        "#from modeller import soap_protein_od\n",
        "\n",
        "env = environ()\n",
        "a = automodel(env, alnfile='aligned.ali',\n",
        "              knowns='6aitA', sequence='tr|A9MHP5|A9MHP5_SALAR',\n",
        "              assess_methods=(assess.DOPE,\n",
        "                              #soap_protein_od.Scorer(),\n",
        "                              assess.GA341))\n",
        "a.starting_model = 1\n",
        "# this is the number of model you will generate (the more the better, but also more time consuming)\n",
        "a.ending_model = 2\n",
        "a.make()\n",
        "# at the end you will have a list of models and scores"
      ],
      "execution_count": null,
      "outputs": []
    },
    {
      "cell_type": "markdown",
      "metadata": {
        "id": "I-UV8p5gGljQ"
      },
      "source": [
        "The output from this process is a bunch of PDB files, each one of them corresponding to a comparative model of our target protein, that are numbered from 1 up to the total number of models requested during comparative modeling.\n",
        "Also, the log output has the total potential energy for each structure,according to MODELLER’s DOPE (discrete optimized protein energy) score. For simplicity, this script was modified to indicate the model with the best DOPE score. We will be working only with the model with the best score for the remainder of the session.\n",
        "As an example, our best model during preparation of this tutorial showed the following DOPE score:\n",
        "```\n",
        "Top model: target.B99990025.pdb (DOPE score -28735.180)\n",
        "```"
      ]
    },
    {
      "cell_type": "code",
      "metadata": {
        "id": "GM_pEtC_GTEl"
      },
      "source": [
        "%cd {local_path}/homology/model-single\n",
        "#Copying our best model with a new chain id\n",
        "!sed \"s/ A / B /g\" tr\\|A9MHP5\\|A9MHP5_SALAR.B99990001.pdb > bestmodel.pdb\n",
        "\n",
        "#Setting up py3Dmol for visualization\n",
        "view=py3Dmol.view()\n",
        "#Loading template\n",
        "view.addModel(open('6ait.pdb', 'r').read(),'pdb')\n",
        "#Loading best DOPE score model\n",
        "view.addModel(open('bestmodel.pdb', 'r').read(),'pdb')\n",
        "#Coloring the structures by chain id\n",
        "view.setStyle({'cartoon': {'colorscheme':'chain'}})\n",
        "view.zoomTo()\n",
        "view.setBackgroundColor('white')\n",
        "view.show()"
      ],
      "execution_count": null,
      "outputs": []
    },
    {
      "cell_type": "markdown",
      "metadata": {
        "id": "ZRFlgakATBBJ"
      },
      "source": [
        "4. Finally, to check the stereochemical quality of the model and its comparison to experimentally solved structures, we will use the [SAVES server](https://saves.mbi.ucla.edu), which employs several structure-based scoring strategies:\n",
        "\n",
        "* **VERIFY3D** (i.e. compatibility of an atomic 3D model to its 1D sequence when compared tothe energetics of good structures from the PDB).\n",
        "* **ERRAT** (i.e. quality of non-bonded interactions of a region when compared to similar regions from highly refined structures).\n",
        "* **PROCHECK** (stereochemical and geometrical quality of the model, via Ramachandran plots, sidechain rotamers, etc)."
      ]
    },
    {
      "cell_type": "markdown",
      "metadata": {
        "id": "_l6fVQeFTCGP"
      },
      "source": [
        "5. Download your best model, upload it to SAVES and wait for the results. Briefly:\n",
        "- **Check the VERIFY3D results:** >80% of the residues should have an average score ≥ 0.2, whereas the score profile allows you to identify conflicting regions.\n",
        "- **Check the Ramachandran plot:** Are there any residues outside the allowed regions? What types of residues are found within those regions? (Check it by clicking on each dot in the plot)\n",
        "- **Check the errors in PROCHECK:** are the errors located within the loop regions?"
      ]
    },
    {
      "cell_type": "markdown",
      "metadata": {
        "id": "EzfW19GqTFsE"
      },
      "source": [
        "you can also read [this article](https://journals.plos.org/ploscompbiol/article?id=10.1371/journal.pcbi.1007449), which contains more recommendations on comparative modelling of protein structures."
      ]
    },
    {
      "cell_type": "markdown",
      "metadata": {
        "id": "dEr32uZVTUK-"
      },
      "source": [
        "#COEVOLUTION ANALYSIS"
      ]
    },
    {
      "cell_type": "markdown",
      "metadata": {
        "id": "tAv2spFJUfdp"
      },
      "source": [
        "To run a coevolution analysis of your selected sequence the easiest option is to paste it https://v2.evcouplings.org\n",
        "\n",
        "This will take some time (even 1 or more days sometimes) and will then send you an email with the link to see and download your results."
      ]
    },
    {
      "cell_type": "markdown",
      "metadata": {
        "id": "EpQHl87sW-sy"
      },
      "source": [
        "#AB INITIO STRUCTURE PREDICTION\n"
      ]
    },
    {
      "cell_type": "markdown",
      "metadata": {
        "id": "2o3Q3aW12sV2"
      },
      "source": [
        "Here you will try to predict your structure using alphafold. Prepare a folder to save your data. Open the google colab at this link \n",
        "https://colab.research.google.com/github/sokrypton/ColabFold/blob/main/AlphaFold2.ipynb\n",
        "and save it locally before moving on\n",
        "\n"
      ]
    },
    {
      "cell_type": "markdown",
      "metadata": {
        "id": "xVH6qvlu7a7l"
      },
      "source": [
        "Depending on the length of your sequence alphafold can take from 30 minutes to a few hours, be carefull to not close the webpage to avoid to lose the calculation."
      ]
    },
    {
      "cell_type": "markdown",
      "metadata": {
        "id": "p6z3ziXF-sXr"
      },
      "source": [
        "#More analysis"
      ]
    },
    {
      "cell_type": "markdown",
      "metadata": {
        "id": "FKqmn-KPBM6P"
      },
      "source": [
        "Once you have all the PDB structures obtained using different techniques you can compare them using VMD.\n",
        "In addition to VMD you can also visualise them directly inside the notebook as in the following example:"
      ]
    },
    {
      "cell_type": "markdown",
      "metadata": {
        "id": "k4GSwVw8D05o"
      },
      "source": [
        "Let's visualize some PDBs!\n",
        "\n",
        "In the following code cell we take a line by line look to the different commands needed to visualize two of the chains that you extracted from 6ANE. Please note that the text inside each parenthesis follows the structure of a JSON data structure which is reviewed in detail here.\n",
        "Pay special attention to the following py3Dmol classes and what they do: addmodel, setBackground and setStyle.\n",
        "💡 HINT: The syntax for loading different structures and properties is really straightforward and self explanatory. Even so, remember to be carefull when opening and closing {} and () and using quotes when needed."
      ]
    },
    {
      "cell_type": "code",
      "metadata": {
        "id": "Z_if6-LdBNdN"
      },
      "source": [
        "#First we assign the py3Dmol.view as view\n",
        "view=py3Dmol.view()\n",
        "#The following lines are used to add the addModel class\n",
        "#to read multiple PDB files \n",
        "view.addModel(open('.pdb', 'r').read(),'pdb')\n",
        "view.addModel(open('.pdb', 'r').read(),'pdb')\n",
        "#Zooming into all visualized structures \n",
        "view.zoomTo()\n",
        "#Here we set the background color as white\n",
        "view.setBackgroundColor('white')\n",
        "#Here we set the visualization style for chain A and B\n",
        "view.setStyle({'chain':'B'},{'cartoon': {'color':'purple'}})\n",
        "view.setStyle({'chain':'C'},{'cartoon': {'color':'yellow'}})\n",
        "#And we finally visualize the structures using the command below\n",
        "view.show()"
      ],
      "execution_count": null,
      "outputs": []
    },
    {
      "cell_type": "markdown",
      "metadata": {
        "id": "2_3jpratERem"
      },
      "source": [
        "If the structures are not overlapped you can use biopython to overlap them"
      ]
    },
    {
      "cell_type": "code",
      "metadata": {
        "id": "qDqPC5DEEX3o"
      },
      "source": [
        "#The following code was created by Anders Steen Christensen\n",
        "#from the University of Basel and is available at\n",
        "#https://gist.github.com/andersx/6354971\n",
        "\n",
        "import Bio.PDB\n",
        "import os\n",
        "\n",
        "# Select what residue numbers you wish to align\n",
        "# and put them in a list\n",
        "start_id =  # first res\n",
        "end_id   =  # last res to be aligned\n",
        "atoms_to_be_aligned = range(start_id, end_id + 1)\n",
        "\n",
        "# Start the parser\n",
        "pdb_parser = Bio.PDB.PDBParser(QUIET = True)\n",
        "\n",
        "# Get the structures\n",
        "ref_structure = pdb_parser.get_structure(\"reference\", \".pdb\")\n",
        "sample_structure = pdb_parser.get_structure(\"sample\", \".pdb\")\n",
        "\n",
        "# Use the first model in the pdb-files for alignment\n",
        "# Change the number 0 if you want to align to another structure\n",
        "ref_model    = ref_structure[0]\n",
        "sample_model = sample_structure[0]\n",
        "\n",
        "# Make a list of the atoms (in the structures) you wish to align.\n",
        "# In this case we use CA atoms whose index is in the specified range\n",
        "ref_atoms = []\n",
        "sample_atoms = []\n",
        "\n",
        "# Iterate of all chains in the model in order to find all residues\n",
        "for ref_chain in ref_model:\n",
        "  # Iterate of all residues in each model in order to find proper atoms\n",
        "  for ref_res in ref_chain:\n",
        "    # Check if residue number ( .get_id() ) is in the list\n",
        "    if ref_res.get_id()[1] in atoms_to_be_aligned:\n",
        "      # Append CA atom to list\n",
        "      ref_atoms.append(ref_res['CA'])\n",
        "\n",
        "# Do the same for the sample structure\n",
        "for sample_chain in sample_model:\n",
        "  for sample_res in sample_chain:\n",
        "    if sample_res.get_id()[1] in atoms_to_be_aligned:\n",
        "      sample_atoms.append(sample_res['CA'])\n",
        "\n",
        "# Now we initiate the superimposer:\n",
        "super_imposer = Bio.PDB.Superimposer()\n",
        "super_imposer.set_atoms(ref_atoms, sample_atoms)\n",
        "super_imposer.apply(sample_model.get_atoms())\n",
        "\n",
        "# Print RMSD:\n",
        "print('The calculated RMSD is:')\n",
        "print (str(super_imposer.rms) + ' Å')\n",
        "\n",
        "# Save the aligned version of one of the chains of 6ANE\n",
        "io = Bio.PDB.PDBIO()\n",
        "io.set_structure(sample_structure) \n",
        "io.save(\"_aligned.pdb\")"
      ],
      "execution_count": null,
      "outputs": []
    },
    {
      "cell_type": "markdown",
      "metadata": {
        "id": "nca8eVGvGMBh"
      },
      "source": [
        "After aligment you can reuse the code above for visualisation."
      ]
    },
    {
      "cell_type": "markdown",
      "metadata": {
        "id": "ZGA4G3Kw2mU8"
      },
      "source": [
        "# TEST STUFF (this is not working yet so ignore it)"
      ]
    },
    {
      "cell_type": "code",
      "metadata": {
        "id": "IW23E-LjFZum"
      },
      "source": [
        "pip install tmscoring 'iminuit<2'"
      ],
      "execution_count": null,
      "outputs": []
    },
    {
      "cell_type": "code",
      "metadata": {
        "id": "QF3ewINlGoMC"
      },
      "source": [
        "import tmscoring\n",
        "alignment = tmscoring.TMscoring('/content/drive/MyDrive/Task2/homology/model-single/6ait.pdb', '/content/drive/MyDrive/Task2/homology/model-single/bestmodel.pdb', mode='align', chain_1='A', chain_2='B')\n",
        "\n",
        "# Find the optimal alignment\n",
        "alignment.optimise()\n",
        "\n",
        "# Get the TM score:\n",
        "alignment.tmscore(**alignment.get_current_values())\n",
        "\n",
        "# Get the TM local scores:\n",
        "alignment.tmscore_samples(**alignment.get_current_values())\n",
        "\n",
        "# RMSD of the protein aligned according to TM score\n",
        "alignment.rmsd(**alignment.get_current_values())\n",
        "\n",
        "# Returns the transformation matrix between both structures:\n",
        "alignment.get_matrix(**alignment.get_current_values())\n",
        "\n",
        "# Save the aligned files:\n",
        "alignment.write(outputfile='aligned.pdb', append=True)"
      ],
      "execution_count": null,
      "outputs": []
    },
    {
      "cell_type": "code",
      "metadata": {
        "id": "TD3Nf3V-PsqS"
      },
      "source": [
        ""
      ],
      "execution_count": null,
      "outputs": []
    }
  ]
}