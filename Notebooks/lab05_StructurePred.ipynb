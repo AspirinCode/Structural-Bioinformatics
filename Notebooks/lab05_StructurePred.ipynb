{
  "nbformat": 4,
  "nbformat_minor": 0,
  "metadata": {
    "colab": {
      "name": "StructurePred.ipynb",
      "provenance": [],
      "mount_file_id": "1VcO2kCOjUBrF6i37C0C1tTlDv7lYIN99",
      "authorship_tag": "ABX9TyPeehmkagh+NR+BYPbz6IOT",
      "include_colab_link": true
    },
    "kernelspec": {
      "name": "python3",
      "display_name": "Python 3"
    },
    "language_info": {
      "name": "python"
    }
  },
  "cells": [
    {
      "cell_type": "markdown",
      "metadata": {
        "id": "view-in-github",
        "colab_type": "text"
      },
      "source": [
        "<a href=\"https://colab.research.google.com/github/carlocamilloni/Structural-Bioinformatics/blob/main/Notebooks/lab05_StructurePred.ipynb\" target=\"_parent\"><img src=\"https://colab.research.google.com/assets/colab-badge.svg\" alt=\"Open In Colab\"/></a>"
      ]
    },
    {
      "cell_type": "markdown",
      "metadata": {
        "id": "Mg2O2-KVId6K"
      },
      "source": [
        "# Protein Structure Prediction"
      ]
    },
    {
      "cell_type": "markdown",
      "metadata": {
        "id": "FNCmN9VGDvVu"
      },
      "source": [
        "In this notebook you will try to characterize one protein from its sequence using multiple tools. In particular we will work on proteins from Cyprinid herpesvirus 2 that is a virus attacking gold fishes. You will perform\n",
        "\n",
        "1.   Secondary structure prediction\n",
        "2.   Tertiary structure prediction"
      ]
    },
    {
      "cell_type": "markdown",
      "metadata": {
        "id": "-emNv-19dWST"
      },
      "source": [
        "As for the last time, link your google drive, create a folder for this  task and save a copy of this notebook there\n",
        "\n",
        "Then move to your local folder:"
      ]
    },
    {
      "cell_type": "code",
      "source": [
        "# mount google drive  \n",
        "from google.colab import drive\n",
        "drive.mount('/content/drive')"
      ],
      "metadata": {
        "colab": {
          "base_uri": "https://localhost:8080/"
        },
        "id": "3yun275w6N5H",
        "outputId": "7f1413bc-4498-4b60-b92b-735fae92c1ea"
      },
      "execution_count": null,
      "outputs": [
        {
          "output_type": "stream",
          "name": "stdout",
          "text": [
            "Mounted at /content/drive\n"
          ]
        }
      ]
    },
    {
      "cell_type": "code",
      "metadata": {
        "id": "VgLUm3t4dp_r",
        "colab": {
          "base_uri": "https://localhost:8080/"
        },
        "outputId": "b44e3386-0aa8-41ec-caec-da3adcdf2579"
      },
      "source": [
        "local_path='/content/drive/MyDrive/Structural_Bioinformatics/Task5'   # PASTE YOUR LOCAL PATH IN PLACE OF /content\n",
        "%cd {local_path}"
      ],
      "execution_count": null,
      "outputs": [
        {
          "output_type": "stream",
          "name": "stdout",
          "text": [
            "/content/drive/MyDrive/Structural_Bioinformatics/Task5\n"
          ]
        }
      ]
    },
    {
      "cell_type": "markdown",
      "metadata": {
        "id": "EmRa5-2jdzKT"
      },
      "source": [
        "Now you can choose one among these sequences on which you will work. To choose it set the seq variable in the following:\n",
        "\n",
        "*   A0A0E3XAL1: Epimerase domain-containing protein\n",
        "*   A0A0E3XA07: Uncharacterized protein\n",
        "*   A0A0E3X9M4: Deoxyuridine triphosphatase\n",
        "*   A0A0E3T6V3: FXYD domain-containing ion transport regulator\n",
        "\n",
        "You can learn more about these proteins checking them on www.uniprot.org\n"
      ]
    },
    {
      "cell_type": "code",
      "metadata": {
        "id": "8UseZRDlY8j0"
      },
      "source": [
        "# XXX is the protein you choose\n",
        "seq='XXX.fasta'"
      ],
      "execution_count": null,
      "outputs": []
    },
    {
      "cell_type": "code",
      "metadata": {
        "id": "cbroi5V7LjAy",
        "colab": {
          "base_uri": "https://localhost:8080/"
        },
        "outputId": "930d348e-2770-4eef-b97b-ffad53f9660a"
      },
      "source": [
        "#get the sequence you choose as:\n",
        "!wget https://www.uniprot.org/uniprot/{seq}"
      ],
      "execution_count": null,
      "outputs": [
        {
          "output_type": "stream",
          "name": "stdout",
          "text": [
            "--2022-12-05 10:58:51--  https://www.uniprot.org/uniprot/A0A0E3XA07.fasta\n",
            "Resolving www.uniprot.org (www.uniprot.org)... 193.62.193.81\n",
            "Connecting to www.uniprot.org (www.uniprot.org)|193.62.193.81|:443... connected.\n",
            "HTTP request sent, awaiting response... 301 Moved Permanently\n",
            "Location: https://rest.uniprot.org/uniprot/A0A0E3XA07.fasta [following]\n",
            "--2022-12-05 10:58:52--  https://rest.uniprot.org/uniprot/A0A0E3XA07.fasta\n",
            "Resolving rest.uniprot.org (rest.uniprot.org)... 193.62.193.81\n",
            "Connecting to rest.uniprot.org (rest.uniprot.org)|193.62.193.81|:443... connected.\n",
            "HTTP request sent, awaiting response... 301 Moved Permanently\n",
            "Location: https://rest.uniprot.org/uniprotkb/A0A0E3XA07.fasta [following]\n",
            "--2022-12-05 10:58:52--  https://rest.uniprot.org/uniprotkb/A0A0E3XA07.fasta\n",
            "Reusing existing connection to rest.uniprot.org:443.\n",
            "HTTP request sent, awaiting response... 200 OK\n",
            "Length: unspecified [text/plain]\n",
            "Saving to: ‘A0A0E3XA07.fasta’\n",
            "\n",
            "A0A0E3XA07.fasta        [ <=>                ]     394  --.-KB/s    in 0s      \n",
            "\n",
            "2022-12-05 10:58:52 (23.0 MB/s) - ‘A0A0E3XA07.fasta’ saved [394]\n",
            "\n"
          ]
        }
      ]
    },
    {
      "cell_type": "code",
      "metadata": {
        "id": "WI0LeLjnR8hw",
        "colab": {
          "base_uri": "https://localhost:8080/"
        },
        "outputId": "e7f36723-056e-407b-e8cb-1e77db2a912b"
      },
      "source": [
        "#Installing biopython using pip\n",
        "!pip install biopython"
      ],
      "execution_count": null,
      "outputs": [
        {
          "output_type": "stream",
          "name": "stdout",
          "text": [
            "Looking in indexes: https://pypi.org/simple, https://us-python.pkg.dev/colab-wheels/public/simple/\n",
            "Collecting biopython\n",
            "  Downloading biopython-1.80-cp38-cp38-manylinux_2_17_x86_64.manylinux2014_x86_64.whl (3.1 MB)\n",
            "\u001b[K     |████████████████████████████████| 3.1 MB 5.3 MB/s \n",
            "\u001b[?25hRequirement already satisfied: numpy in /usr/local/lib/python3.8/dist-packages (from biopython) (1.21.6)\n",
            "Installing collected packages: biopython\n",
            "Successfully installed biopython-1.80\n"
          ]
        }
      ]
    },
    {
      "cell_type": "markdown",
      "metadata": {
        "id": "oZaTPblBRKyg"
      },
      "source": [
        "Biopython is an excellent companion for working with DNA and protein sequences and also with structures. Here, we will show how to use it for reading a protein sequence file.\n"
      ]
    },
    {
      "cell_type": "code",
      "metadata": {
        "id": "xjj84u5NLjW_"
      },
      "source": [
        "import os\n",
        "from pathlib import Path \n",
        "from Bio import SeqIO, Entrez\n",
        "# read your protein sequence\n",
        "aaseq = SeqIO.read(seq, format=\"fasta\")"
      ],
      "execution_count": null,
      "outputs": []
    },
    {
      "cell_type": "markdown",
      "metadata": {
        "id": "PX0RXTRIRk1a"
      },
      "source": [
        "What is great about SeqIO is that you can use it to manipulate your sequence (e.g. sorting, changing formats, etc) and also to print information about your sequence, such as its description, sequence and accession ID.\n",
        "You can try these commands below by first writing \"aaseq.\" and then selecting one of the autocomplete options suggested by Google Colab. With this information, try to obtain the information requested below."
      ]
    },
    {
      "cell_type": "code",
      "metadata": {
        "id": "AFnl8Q3BRqNO",
        "colab": {
          "base_uri": "https://localhost:8080/"
        },
        "outputId": "f55a72f9-6e70-4075-9178-efadaeb4e3a0"
      },
      "source": [
        "#Printing the number of amino acids as an example\n",
        "print(\"Sequence length (aa):\")\n",
        "print(len(aaseq))"
      ],
      "execution_count": null,
      "outputs": [
        {
          "output_type": "stream",
          "name": "stdout",
          "text": [
            "Sequence length (aa):\n",
            "287\n"
          ]
        }
      ]
    },
    {
      "cell_type": "code",
      "metadata": {
        "id": "ravJglE5L3os",
        "colab": {
          "base_uri": "https://localhost:8080/"
        },
        "outputId": "ed0abbbb-fdde-4116-ea57-44913d2943c4"
      },
      "source": [
        "#Printing the description of the sequence\n",
        "print(\"The description of the sequence is:\")\n",
        "print(aaseq.description)\n",
        "\n",
        "#Printing the accession ID of the sequence\n",
        "print(\"The ID of the sequence is:\")\n",
        "print(aaseq.id)\n",
        "\n",
        "#Printing the sequence\n",
        "print(\"The sequence is:\")\n",
        "print(aaseq.seq)"
      ],
      "execution_count": null,
      "outputs": [
        {
          "output_type": "stream",
          "name": "stdout",
          "text": [
            "The description of the sequence is:\n",
            "tr|A0A0E3XA07|A0A0E3XA07_9VIRU Uncharacterized protein OS=Cyprinid herpesvirus 2 OX=317878 PE=4 SV=1\n",
            "The ID of the sequence is:\n",
            "tr|A0A0E3XA07|A0A0E3XA07_9VIRU\n",
            "The sequence is:\n",
            "MFQPAEEGDEEEALLDSMDQEFIRLQDESDDREGFRLSASSSFLNDDMSVTRRDSMAVAGGGSEQNEDELPNFQRQYTASALETSGALSTRVSNPIKTGYCPLCAAHCMPQETVHRRLEEALLMLKNDIKGAWSIFQTTRRSLGTGDDNIFRNVKLVELKRHLLYHSIAQTQDLAEETVARQLISEMVAESDALRTHMVRTFKLPNNKTVRVLNKDICAQLNTNRKLILDSLKLSSNARARKNTTRMQLQIPSTILSIQQSSGSTSASASSSGGSQGTPRIRELPST\n"
          ]
        }
      ]
    },
    {
      "cell_type": "markdown",
      "metadata": {
        "id": "4Wl1hNU904wv"
      },
      "source": [
        "## Secondary Structure Prediction"
      ]
    },
    {
      "cell_type": "markdown",
      "metadata": {
        "id": "Lc4sHzrmSOiH"
      },
      "source": [
        "Now we can begin with a secondary structure prediction from the sequence. For this we will use S4PRED (https://github.com/psipred/s4pred)"
      ]
    },
    {
      "cell_type": "code",
      "metadata": {
        "id": "r24z3Fd2W6Wk",
        "colab": {
          "base_uri": "https://localhost:8080/"
        },
        "outputId": "93e0293b-238b-4e1b-e9c4-8fd8cb86ea5a"
      },
      "source": [
        "%cd {local_path}"
      ],
      "execution_count": null,
      "outputs": [
        {
          "output_type": "stream",
          "name": "stdout",
          "text": [
            "/content/drive/MyDrive/Structural_Bioinformatics/Task5\n"
          ]
        }
      ]
    },
    {
      "cell_type": "code",
      "metadata": {
        "id": "1Qcvt620Q8V1",
        "colab": {
          "base_uri": "https://localhost:8080/"
        },
        "outputId": "5979e2e2-6e49-4f71-9228-2b70bb50b549"
      },
      "source": [
        "# we need to download and install s4pred\n",
        "!git clone --depth 1 https://github.com/psipred/s4pred\n",
        "%cd s4pred\n",
        "!wget http://bioinfadmin.cs.ucl.ac.uk/downloads/s4pred/weights.tar.gz\n",
        "!tar -xvzf weights.tar.gz"
      ],
      "execution_count": null,
      "outputs": [
        {
          "output_type": "stream",
          "name": "stdout",
          "text": [
            "Cloning into 's4pred'...\n",
            "remote: Enumerating objects: 15, done.\u001b[K\n",
            "remote: Counting objects: 100% (15/15), done.\u001b[K\n",
            "remote: Compressing objects: 100% (15/15), done.\u001b[K\n",
            "remote: Total 15 (delta 0), reused 9 (delta 0), pack-reused 0\u001b[K\n",
            "Unpacking objects: 100% (15/15), done.\n",
            "/content/drive/MyDrive/Structural_Bioinformatics/Task5/s4pred\n",
            "--2022-12-05 11:05:59--  http://bioinfadmin.cs.ucl.ac.uk/downloads/s4pred/weights.tar.gz\n",
            "Resolving bioinfadmin.cs.ucl.ac.uk (bioinfadmin.cs.ucl.ac.uk)... 128.16.10.201\n",
            "Connecting to bioinfadmin.cs.ucl.ac.uk (bioinfadmin.cs.ucl.ac.uk)|128.16.10.201|:80... connected.\n",
            "HTTP request sent, awaiting response... 200 OK\n",
            "Length: 413507011 (394M) [application/x-gzip]\n",
            "Saving to: ‘weights.tar.gz’\n",
            "\n",
            "weights.tar.gz      100%[===================>] 394.35M  30.1MB/s    in 15s     \n",
            "\n",
            "2022-12-05 11:06:14 (26.5 MB/s) - ‘weights.tar.gz’ saved [413507011/413507011]\n",
            "\n",
            "weights/\n",
            "weights/weights_1.pt\n",
            "weights/weights_2.pt\n",
            "weights/weights_3.pt\n",
            "weights/weights_4.pt\n",
            "weights/weights_5.pt\n"
          ]
        }
      ]
    },
    {
      "cell_type": "code",
      "metadata": {
        "id": "Pi1le5L6S2E_",
        "colab": {
          "base_uri": "https://localhost:8080/"
        },
        "outputId": "cfefa9c2-6379-4efd-8966-eba20aa6d833"
      },
      "source": [
        "# Install: PyTorch\n",
        "# this can be long...\n",
        "!pip install torch==1.5.1+cu101 -f https://download.pytorch.org/whl/torch_stable.html"
      ],
      "execution_count": null,
      "outputs": [
        {
          "output_type": "stream",
          "name": "stdout",
          "text": [
            "Looking in indexes: https://pypi.org/simple, https://us-python.pkg.dev/colab-wheels/public/simple/\n",
            "Looking in links: https://download.pytorch.org/whl/torch_stable.html\n",
            "Collecting torch==1.5.1+cu101\n",
            "  Downloading https://download.pytorch.org/whl/cu101/torch-1.5.1%2Bcu101-cp38-cp38-linux_x86_64.whl (704.4 MB)\n",
            "\u001b[K     |████████████████████████████████| 704.4 MB 19 kB/s \n",
            "\u001b[?25hRequirement already satisfied: numpy in /usr/local/lib/python3.8/dist-packages (from torch==1.5.1+cu101) (1.21.6)\n",
            "Requirement already satisfied: future in /usr/local/lib/python3.8/dist-packages (from torch==1.5.1+cu101) (0.16.0)\n",
            "Installing collected packages: torch\n",
            "  Attempting uninstall: torch\n",
            "    Found existing installation: torch 1.12.1+cu113\n",
            "    Uninstalling torch-1.12.1+cu113:\n",
            "      Successfully uninstalled torch-1.12.1+cu113\n",
            "\u001b[31mERROR: pip's dependency resolver does not currently take into account all the packages that are installed. This behaviour is the source of the following dependency conflicts.\n",
            "torchvision 0.13.1+cu113 requires torch==1.12.1, but you have torch 1.5.1+cu101 which is incompatible.\n",
            "torchtext 0.13.1 requires torch==1.12.1, but you have torch 1.5.1+cu101 which is incompatible.\n",
            "torchaudio 0.12.1+cu113 requires torch==1.12.1, but you have torch 1.5.1+cu101 which is incompatible.\n",
            "fastai 2.7.10 requires torch<1.14,>=1.7, but you have torch 1.5.1+cu101 which is incompatible.\u001b[0m\n",
            "Successfully installed torch-1.5.1+cu101\n"
          ]
        }
      ]
    },
    {
      "cell_type": "markdown",
      "metadata": {
        "id": "2X7S-AiUYC-R"
      },
      "source": [
        "Now we can run the prediction over our fasta sequence and save it in a text file. You can then double click on the file to see the results"
      ]
    },
    {
      "cell_type": "code",
      "metadata": {
        "id": "BcM7YhlcT176",
        "colab": {
          "base_uri": "https://localhost:8080/"
        },
        "outputId": "c5d3009c-b484-42a4-cc26-c34cf4ac0430"
      },
      "source": [
        "%cd {local_path}\n",
        "!python s4pred/run_model.py {seq} > ss.{seq}.txt\n",
        "%ls ss.{seq}.txt"
      ],
      "execution_count": null,
      "outputs": [
        {
          "output_type": "stream",
          "name": "stdout",
          "text": [
            "/content/drive/MyDrive/Structural_Bioinformatics/Task5\n",
            "ss.A0A0E3XA07.fasta.txt\n"
          ]
        }
      ]
    },
    {
      "cell_type": "markdown",
      "metadata": {
        "id": "uj5v_x3pYVfH"
      },
      "source": [
        "The file is made of three columns that report the secondary structure prediction and are COIL/HELIX/EXTENDED, we can now load and plot the results"
      ]
    },
    {
      "cell_type": "code",
      "metadata": {
        "id": "l1E1Y9CwYhGC",
        "colab": {
          "base_uri": "https://localhost:8080/",
          "height": 265
        },
        "outputId": "2bf73075-8da4-4551-efac-ff57655ffa19"
      },
      "source": [
        "import pandas as pd\n",
        "# here we are giving the titles to the columns of the file\n",
        "header_list = [\"position\", \"sequence\", \"ss\", \"coil\", \"helix\",\"extended\"]\n",
        "# here we are reading the file skipping the first two lines\n",
        "# you need to set your file name\n",
        "data = pd.read_csv('ss.XXX.fasta.txt',sep='\\s+',skiprows=2,names=header_list)\n",
        "data = pd.DataFrame(data)\n",
        "\n",
        "import matplotlib.pyplot as plt\n",
        "#we are generating three plots calling each column with its name\n",
        "#and setting the properties of the plot (e.g. the color of the line)\n",
        "plt.plot(data['position'], data['coil'], color='black')\n",
        "plt.plot(data['position'], data['helix'], color='blue')\n",
        "plt.plot(data['position'], data['extended'], color='red')\n",
        "#show the plot now\n",
        "plt.show()"
      ],
      "execution_count": null,
      "outputs": [
        {
          "output_type": "display_data",
          "data": {
            "text/plain": [
              "<Figure size 432x288 with 1 Axes>"
            ],
            "image/png": "[encoded data removed]"
          },
          "metadata": {
            "needs_background": "light"
          }
        }
      ]
    },
    {
      "cell_type": "markdown",
      "metadata": {
        "id": "vRqHj95ddNux"
      },
      "source": [
        "you can check how to improve the plot looking for matplotlib plot example. This plot can be used to describe what the secondary structure of the protein can be"
      ]
    },
    {
      "cell_type": "markdown",
      "metadata": {
        "id": "EpQHl87sW-sy"
      },
      "source": [
        "## Structure Prediction\n"
      ]
    },
    {
      "cell_type": "markdown",
      "metadata": {
        "id": "2o3Q3aW12sV2"
      },
      "source": [
        "Here you will try to predict your structure using alphafold. Prepare a folder to save your data. Open the google colab at this link \n",
        "https://colab.research.google.com/github/sokrypton/ColabFold/blob/main/AlphaFold2.ipynb\n",
        "and save it locally before moving on\n",
        "\n"
      ]
    },
    {
      "cell_type": "markdown",
      "metadata": {
        "id": "xVH6qvlu7a7l"
      },
      "source": [
        "Depending on the length of your sequence alphafold can take around 30 minutes. "
      ]
    },
    {
      "cell_type": "markdown",
      "metadata": {
        "id": "FKqmn-KPBM6P"
      },
      "source": [
        "Once you have all the PDB structures you can compare them using VMD."
      ]
    },
    {
      "cell_type": "markdown",
      "source": [
        "#Report"
      ],
      "metadata": {
        "id": "tlTh_fCNULuL"
      }
    },
    {
      "cell_type": "markdown",
      "source": [
        "Start by creating a new notebook, using File -> New Notebook. New notebooks are created in your google drive, in a Colab Notebooks folder.\n",
        "\n",
        "When you are in the new notebook, generally named \"Untitled.ipynb\", select File -> Move and move it to your Task5 folder.\n",
        "\n",
        "Rename the notebook as Report_Task5.ipynb\n",
        "\n",
        "You can then copy and paste the following cells and then modify them as appropriate. The resulting notebook will be your first report."
      ],
      "metadata": {
        "id": "Rrig81NjUhlE"
      }
    },
    {
      "cell_type": "markdown",
      "source": [
        "# Protein Structure Prediction"
      ],
      "metadata": {
        "id": "8igaJRlJUlfF"
      }
    },
    {
      "cell_type": "markdown",
      "source": [
        "your name"
      ],
      "metadata": {
        "id": "3mA7dcAEUYeR"
      }
    },
    {
      "cell_type": "code",
      "source": [
        "\n",
        "from datetime import date\n",
        "\n",
        "today = date.today()\n",
        "print(today)\n",
        "     "
      ],
      "metadata": {
        "id": "l6etJm6UUUmO",
        "outputId": "5bf2b550-32da-40d5-dbf8-e5ad404d4f9c",
        "colab": {
          "base_uri": "https://localhost:8080/"
        }
      },
      "execution_count": 20,
      "outputs": [
        {
          "output_type": "stream",
          "name": "stdout",
          "text": [
            "2022-12-05\n"
          ]
        }
      ]
    },
    {
      "cell_type": "markdown",
      "source": [
        "## Primary Structure"
      ],
      "metadata": {
        "id": "Lj5C6kerUrp6"
      }
    },
    {
      "cell_type": "markdown",
      "source": [
        "Describe here what you know about your protein and show your sequence"
      ],
      "metadata": {
        "id": "HqtYmorqUuCx"
      }
    },
    {
      "cell_type": "markdown",
      "source": [
        "..."
      ],
      "metadata": {
        "id": "5E8253U-U5Mh"
      }
    },
    {
      "cell_type": "markdown",
      "source": [
        "## Secondary Structure"
      ],
      "metadata": {
        "id": "opdEJ-fFU8sP"
      }
    },
    {
      "cell_type": "markdown",
      "source": [
        "Add the plot about the secondary struture prediction and briefly describe it"
      ],
      "metadata": {
        "id": "ISO5oddNU-7O"
      }
    },
    {
      "cell_type": "markdown",
      "source": [
        "## Tertiary Structure"
      ],
      "metadata": {
        "id": "tPjOGztzVEnA"
      }
    },
    {
      "cell_type": "markdown",
      "source": [],
      "metadata": {
        "id": "LI3ZOofvVKn2"
      }
    },
    {
      "cell_type": "code",
      "source": [],
      "metadata": {
        "id": "JnxJhxLiU-Gk"
      },
      "execution_count": null,
      "outputs": []
    }
  ]
}