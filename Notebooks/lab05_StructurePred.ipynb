{
  "nbformat": 4,
  "nbformat_minor": 0,
  "metadata": {
    "colab": {
      "name": "StructurePred.ipynb",
      "provenance": [],
      "mount_file_id": "1VcO2kCOjUBrF6i37C0C1tTlDv7lYIN99",
      "authorship_tag": "ABX9TyMtik6h3XRrONl8+xtgVJ4b",
      "include_colab_link": true
    },
    "kernelspec": {
      "name": "python3",
      "display_name": "Python 3"
    },
    "language_info": {
      "name": "python"
    }
  },
  "cells": [
    {
      "cell_type": "markdown",
      "metadata": {
        "id": "view-in-github",
        "colab_type": "text"
      },
      "source": [
        "<a href=\"https://colab.research.google.com/github/carlocamilloni/Structural-Bioinformatics/blob/main/Notebooks/lab05_StructurePred.ipynb\" target=\"_parent\"><img src=\"https://colab.research.google.com/assets/colab-badge.svg\" alt=\"Open In Colab\"/></a>"
      ]
    },
    {
      "cell_type": "markdown",
      "metadata": {
        "id": "Mg2O2-KVId6K"
      },
      "source": [
        "# Protein Structure Prediction"
      ]
    },
    {
      "cell_type": "code",
      "metadata": {
        "id": "E9foDIOnwA4r"
      },
      "source": [
        "#Install conda using the new conda-colab library\n",
        "!pip install -q condacolab\n",
        "import condacolab\n",
        "condacolab.install_miniconda()"
      ],
      "execution_count": null,
      "outputs": []
    },
    {
      "cell_type": "markdown",
      "metadata": {
        "id": "FNCmN9VGDvVu"
      },
      "source": [
        "In this notebook you will try to characterize one protein from its sequence using multiple tools. In particular we will work on proteins from Cyprinid herpesvirus 2 that is a virus attacking gold fishes. You will perform\n",
        "\n",
        "1.   Secondary structure prediction\n",
        "2.   Tertiary structure prediction"
      ]
    },
    {
      "cell_type": "markdown",
      "metadata": {
        "id": "-emNv-19dWST"
      },
      "source": [
        "As for the last time, link your google drive, create a folder for this  task and save a copy of this notebook there\n",
        "\n",
        "Then move to your local folder:"
      ]
    },
    {
      "cell_type": "code",
      "source": [
        "# mount google drive  \n",
        "from google.colab import drive\n",
        "drive.mount('/content/drive')"
      ],
      "metadata": {
        "id": "3yun275w6N5H",
        "outputId": "7f1413bc-4498-4b60-b92b-735fae92c1ea",
        "colab": {
          "base_uri": "https://localhost:8080/"
        }
      },
      "execution_count": 1,
      "outputs": [
        {
          "output_type": "stream",
          "name": "stdout",
          "text": [
            "Mounted at /content/drive\n"
          ]
        }
      ]
    },
    {
      "cell_type": "code",
      "metadata": {
        "id": "VgLUm3t4dp_r",
        "outputId": "b44e3386-0aa8-41ec-caec-da3adcdf2579",
        "colab": {
          "base_uri": "https://localhost:8080/"
        }
      },
      "source": [
        "local_path='/content/drive/MyDrive/Structural_Bioinformatics/Task5'   # PASTE YOUR LOCAL PATH IN PLACE OF /content\n",
        "%cd {local_path}"
      ],
      "execution_count": 3,
      "outputs": [
        {
          "output_type": "stream",
          "name": "stdout",
          "text": [
            "/content/drive/MyDrive/Structural_Bioinformatics/Task5\n"
          ]
        }
      ]
    },
    {
      "cell_type": "markdown",
      "metadata": {
        "id": "EmRa5-2jdzKT"
      },
      "source": [
        "Now you can choose one among these sequences on which you will work. To choose it set the seq variable in the following:\n",
        "\n",
        "*   A9MHP5: Beta-barrel assembly-enhancing protease\n",
        "*   A9MI44: Uncharacterized protein\n",
        "*   A9MJ84: Uncharacterized protein\n",
        "*   A9MG92: ABC transmembrane type-1 domain-containing protein\n",
        "\n",
        "You can learn more about these proteins checking them on www.uniprot.org\n"
      ]
    },
    {
      "cell_type": "code",
      "metadata": {
        "id": "8UseZRDlY8j0"
      },
      "source": [
        "# XXX is the protein you choose\n",
        "seq='XXXX.fasta'"
      ],
      "execution_count": null,
      "outputs": []
    },
    {
      "cell_type": "code",
      "metadata": {
        "id": "cbroi5V7LjAy"
      },
      "source": [
        "#get the sequence you choose as:\n",
        "!wget https://www.uniprot.org/uniprot/{seq}"
      ],
      "execution_count": null,
      "outputs": []
    },
    {
      "cell_type": "code",
      "metadata": {
        "id": "WI0LeLjnR8hw"
      },
      "source": [
        "#Installing biopython using pip\n",
        "!pip install biopython"
      ],
      "execution_count": null,
      "outputs": []
    },
    {
      "cell_type": "markdown",
      "metadata": {
        "id": "oZaTPblBRKyg"
      },
      "source": [
        "Biopython is an excellent companion for working with DNA and protein sequences and also with structures. Here, we will show how to use it for reading a protein sequence file.\n"
      ]
    },
    {
      "cell_type": "code",
      "metadata": {
        "id": "xjj84u5NLjW_"
      },
      "source": [
        "import os\n",
        "from pathlib import Path \n",
        "from Bio import SeqIO, Entrez\n",
        "# read your protein sequence\n",
        "aaseq = SeqIO.read(seq, format=\"fasta\")"
      ],
      "execution_count": null,
      "outputs": []
    },
    {
      "cell_type": "markdown",
      "metadata": {
        "id": "PX0RXTRIRk1a"
      },
      "source": [
        "What is great about SeqIO is that you can use it to manipulate your sequence (e.g. sorting, changing formats, etc) and also to print information about your sequence, such as its description, sequence and accession ID.\n",
        "You can try these commands below by first writing \"aaseq.\" and then selecting one of the autocomplete options suggested by Google Colab. With this information, try to obtain the information requested below."
      ]
    },
    {
      "cell_type": "code",
      "metadata": {
        "id": "AFnl8Q3BRqNO"
      },
      "source": [
        "#Printing the number of amino acids as an example\n",
        "print(\"Sequence length (aa):\")\n",
        "print(len(aaseq))"
      ],
      "execution_count": null,
      "outputs": []
    },
    {
      "cell_type": "code",
      "metadata": {
        "id": "ravJglE5L3os"
      },
      "source": [
        "#Printing the description of the sequence\n",
        "print(\"The description of the sequence is:\")\n",
        "#INSERT YOUR OWN COMMAND BELOW (aaseq.xxx)\n",
        "print()\n",
        "\n",
        "#Printing the accession ID of the sequence\n",
        "print(\"The ID of the sequence is:\")\n",
        "#INSERT YOUR OWN COMMAND BELOW\n",
        "print()\n",
        "\n",
        "#Printing the sequence\n",
        "print(\"The sequence is:\")\n",
        "#INSERT YOUR OWN COMMAND BELOW\n",
        "print()"
      ],
      "execution_count": null,
      "outputs": []
    },
    {
      "cell_type": "markdown",
      "metadata": {
        "id": "4Wl1hNU904wv"
      },
      "source": [
        "# Secondary Structure Prediction"
      ]
    },
    {
      "cell_type": "markdown",
      "metadata": {
        "id": "Lc4sHzrmSOiH"
      },
      "source": [
        "Now we can begin with a secondary structure prediction from the sequence. For this we will use S4PRED (https://github.com/psipred/s4pred)"
      ]
    },
    {
      "cell_type": "code",
      "metadata": {
        "id": "r24z3Fd2W6Wk"
      },
      "source": [
        "%cd {local_path}"
      ],
      "execution_count": null,
      "outputs": []
    },
    {
      "cell_type": "code",
      "metadata": {
        "id": "1Qcvt620Q8V1"
      },
      "source": [
        "# we need to download and install s4pred\n",
        "!git clone --depth 1 https://github.com/psipred/s4pred\n",
        "%cd s4pred\n",
        "%mkdir weights\n",
        "%cd weights\n",
        "!wget http://bioinfadmin.cs.ucl.ac.uk/downloads/s4pred/weights_1.pt\n",
        "!wget http://bioinfadmin.cs.ucl.ac.uk/downloads/s4pred/weights_2.pt\n",
        "!wget http://bioinfadmin.cs.ucl.ac.uk/downloads/s4pred/weights_3.pt\n",
        "!wget http://bioinfadmin.cs.ucl.ac.uk/downloads/s4pred/weights_4.pt\n",
        "!wget http://bioinfadmin.cs.ucl.ac.uk/downloads/s4pred/weights_5.pt"
      ],
      "execution_count": null,
      "outputs": []
    },
    {
      "cell_type": "code",
      "metadata": {
        "id": "Pi1le5L6S2E_"
      },
      "source": [
        "# Install: PyTorch\n",
        "# this can be long...\n",
        "!pip install torch==1.5.1+cu101 -f https://download.pytorch.org/whl/torch_stable.html"
      ],
      "execution_count": null,
      "outputs": []
    },
    {
      "cell_type": "markdown",
      "metadata": {
        "id": "2X7S-AiUYC-R"
      },
      "source": [
        "Now we can run the prediction over our fasta sequence and save it in a text file. You can then double click on the file to see the results"
      ]
    },
    {
      "cell_type": "code",
      "metadata": {
        "id": "BcM7YhlcT176"
      },
      "source": [
        "%cd {local_path}\n",
        "!python s4pred/run_model.py {seq} > ss.{seq}.txt\n",
        "%ls ss.{seq}.txt"
      ],
      "execution_count": null,
      "outputs": []
    },
    {
      "cell_type": "markdown",
      "metadata": {
        "id": "uj5v_x3pYVfH"
      },
      "source": [
        "The file is made of three columns that report the secondary structure prediction and are COIL/HELIX/EXTENDED, we can now load and plot the results"
      ]
    },
    {
      "cell_type": "code",
      "metadata": {
        "id": "l1E1Y9CwYhGC"
      },
      "source": [
        "import pandas as pd\n",
        "# here we are giving the titles to the columns of the file\n",
        "header_list = [\"position\", \"sequence\", \"ss\", \"coil\", \"helix\",\"extended\"]\n",
        "# here we are reading the file skipping the first two lines\n",
        "# you need to set your path to your file\n",
        "data = pd.read_csv('/content/drive/MyDrive/Task2/ss.A9MHP5.fasta.txt',sep='\\s+',skiprows=2,names=header_list)\n",
        "data = pd.DataFrame(data)\n",
        "\n",
        "import matplotlib.pyplot as plt\n",
        "#we are generating three plots calling each column with its name\n",
        "#and setting the properties of the plot (e.g. the color of the line)\n",
        "plt.plot(data['position'], data['coil'], color='black')\n",
        "plt.plot(data['position'], data['helix'], color='blue')\n",
        "plt.plot(data['position'], data['extended'], color='red')\n",
        "#show the plot now\n",
        "plt.show()"
      ],
      "execution_count": null,
      "outputs": []
    },
    {
      "cell_type": "markdown",
      "metadata": {
        "id": "vRqHj95ddNux"
      },
      "source": [
        "you can check how to improve the plot looking for matplotlib plot example. This plot can be used to describe what the secondary structure of the protein can be"
      ]
    },
    {
      "cell_type": "markdown",
      "metadata": {
        "id": "EpQHl87sW-sy"
      },
      "source": [
        "#AB INITIO STRUCTURE PREDICTION\n"
      ]
    },
    {
      "cell_type": "markdown",
      "metadata": {
        "id": "2o3Q3aW12sV2"
      },
      "source": [
        "Here you will try to predict your structure using alphafold. Prepare a folder to save your data. Open the google colab at this link \n",
        "https://colab.research.google.com/github/sokrypton/ColabFold/blob/main/AlphaFold2.ipynb\n",
        "and save it locally before moving on\n",
        "\n"
      ]
    },
    {
      "cell_type": "markdown",
      "metadata": {
        "id": "xVH6qvlu7a7l"
      },
      "source": [
        "Depending on the length of your sequence alphafold can take from 30 minutes to a few hours, be carefull to not close the webpage to avoid to lose the calculation."
      ]
    },
    {
      "cell_type": "markdown",
      "metadata": {
        "id": "p6z3ziXF-sXr"
      },
      "source": [
        "#More analysis"
      ]
    },
    {
      "cell_type": "markdown",
      "metadata": {
        "id": "FKqmn-KPBM6P"
      },
      "source": [
        "Once you have all the PDB structures obtained using different techniques you can compare them using VMD.\n",
        "In addition to VMD you can also visualise them directly inside the notebook as in the following example:"
      ]
    },
    {
      "cell_type": "markdown",
      "metadata": {
        "id": "k4GSwVw8D05o"
      },
      "source": [
        "Let's visualize some PDBs!\n",
        "\n",
        "In the following code cell we take a line by line look to the different commands needed to visualize two of the chains that you extracted from 6ANE. Please note that the text inside each parenthesis follows the structure of a JSON data structure which is reviewed in detail here.\n",
        "Pay special attention to the following py3Dmol classes and what they do: addmodel, setBackground and setStyle.\n",
        "💡 HINT: The syntax for loading different structures and properties is really straightforward and self explanatory. Even so, remember to be carefull when opening and closing {} and () and using quotes when needed."
      ]
    },
    {
      "cell_type": "code",
      "metadata": {
        "id": "Z_if6-LdBNdN"
      },
      "source": [
        "#First we assign the py3Dmol.view as view\n",
        "view=py3Dmol.view()\n",
        "#The following lines are used to add the addModel class\n",
        "#to read multiple PDB files \n",
        "view.addModel(open('.pdb', 'r').read(),'pdb')\n",
        "view.addModel(open('.pdb', 'r').read(),'pdb')\n",
        "#Zooming into all visualized structures \n",
        "view.zoomTo()\n",
        "#Here we set the background color as white\n",
        "view.setBackgroundColor('white')\n",
        "#Here we set the visualization style for chain A and B\n",
        "view.setStyle({'chain':'B'},{'cartoon': {'color':'purple'}})\n",
        "view.setStyle({'chain':'C'},{'cartoon': {'color':'yellow'}})\n",
        "#And we finally visualize the structures using the command below\n",
        "view.show()"
      ],
      "execution_count": null,
      "outputs": []
    },
    {
      "cell_type": "markdown",
      "metadata": {
        "id": "2_3jpratERem"
      },
      "source": [
        "If the structures are not overlapped you can use biopython to overlap them"
      ]
    },
    {
      "cell_type": "code",
      "metadata": {
        "id": "qDqPC5DEEX3o"
      },
      "source": [
        "#The following code was created by Anders Steen Christensen\n",
        "#from the University of Basel and is available at\n",
        "#https://gist.github.com/andersx/6354971\n",
        "\n",
        "import Bio.PDB\n",
        "import os\n",
        "\n",
        "# Select what residue numbers you wish to align\n",
        "# and put them in a list\n",
        "start_id =  # first res\n",
        "end_id   =  # last res to be aligned\n",
        "atoms_to_be_aligned = range(start_id, end_id + 1)\n",
        "\n",
        "# Start the parser\n",
        "pdb_parser = Bio.PDB.PDBParser(QUIET = True)\n",
        "\n",
        "# Get the structures\n",
        "ref_structure = pdb_parser.get_structure(\"reference\", \".pdb\")\n",
        "sample_structure = pdb_parser.get_structure(\"sample\", \".pdb\")\n",
        "\n",
        "# Use the first model in the pdb-files for alignment\n",
        "# Change the number 0 if you want to align to another structure\n",
        "ref_model    = ref_structure[0]\n",
        "sample_model = sample_structure[0]\n",
        "\n",
        "# Make a list of the atoms (in the structures) you wish to align.\n",
        "# In this case we use CA atoms whose index is in the specified range\n",
        "ref_atoms = []\n",
        "sample_atoms = []\n",
        "\n",
        "# Iterate of all chains in the model in order to find all residues\n",
        "for ref_chain in ref_model:\n",
        "  # Iterate of all residues in each model in order to find proper atoms\n",
        "  for ref_res in ref_chain:\n",
        "    # Check if residue number ( .get_id() ) is in the list\n",
        "    if ref_res.get_id()[1] in atoms_to_be_aligned:\n",
        "      # Append CA atom to list\n",
        "      ref_atoms.append(ref_res['CA'])\n",
        "\n",
        "# Do the same for the sample structure\n",
        "for sample_chain in sample_model:\n",
        "  for sample_res in sample_chain:\n",
        "    if sample_res.get_id()[1] in atoms_to_be_aligned:\n",
        "      sample_atoms.append(sample_res['CA'])\n",
        "\n",
        "# Now we initiate the superimposer:\n",
        "super_imposer = Bio.PDB.Superimposer()\n",
        "super_imposer.set_atoms(ref_atoms, sample_atoms)\n",
        "super_imposer.apply(sample_model.get_atoms())\n",
        "\n",
        "# Print RMSD:\n",
        "print('The calculated RMSD is:')\n",
        "print (str(super_imposer.rms) + ' Å')\n",
        "\n",
        "# Save the aligned version of one of the chains of 6ANE\n",
        "io = Bio.PDB.PDBIO()\n",
        "io.set_structure(sample_structure) \n",
        "io.save(\"_aligned.pdb\")"
      ],
      "execution_count": null,
      "outputs": []
    },
    {
      "cell_type": "markdown",
      "metadata": {
        "id": "nca8eVGvGMBh"
      },
      "source": [
        "After aligment you can reuse the code above for visualisation."
      ]
    }
  ]
}