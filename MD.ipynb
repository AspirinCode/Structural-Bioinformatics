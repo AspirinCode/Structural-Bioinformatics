{
  "nbformat": 4,
  "nbformat_minor": 0,
  "metadata": {
    "colab": {
      "name": "Untitled2.ipynb",
      "provenance": [],
      "collapsed_sections": [
        "-PX_FBtqTYeD",
        "yS5I8ie6TSgF"
      ],
      "authorship_tag": "ABX9TyOYOq/Wl8uKiygTuoPvztQW",
      "include_colab_link": true
    },
    "kernelspec": {
      "name": "python3",
      "display_name": "Python 3"
    },
    "language_info": {
      "name": "python"
    }
  },
  "cells": [
    {
      "cell_type": "markdown",
      "metadata": {
        "id": "view-in-github",
        "colab_type": "text"
      },
      "source": [
        "<a href=\"https://colab.research.google.com/github/carlocamilloni/Structural-Bioinformatics/blob/main/MD.ipynb\" target=\"_parent\"><img src=\"https://colab.research.google.com/assets/colab-badge.svg\" alt=\"Open In Colab\"/></a>"
      ]
    },
    {
      "cell_type": "markdown",
      "source": [
        "# Molecular Dynamics simulation with GROMACS"
      ],
      "metadata": {
        "id": "aqZ8keDNLwKD"
      }
    },
    {
      "cell_type": "markdown",
      "source": [
        "The goal of this experience is to run some Molecular Dynamics simulations of simple system and analyze them, in particular we will focus on water and alanine dipeptide"
      ],
      "metadata": {
        "id": "bohgSeSVOR5G"
      }
    },
    {
      "cell_type": "markdown",
      "source": [
        "## Preliminary setup stuff"
      ],
      "metadata": {
        "id": "fLNYe0QPOPb6"
      }
    },
    {
      "cell_type": "code",
      "execution_count": 2,
      "metadata": {
        "colab": {
          "base_uri": "https://localhost:8080/"
        },
        "id": "2mzzmISjKvHY",
        "outputId": "95a07c7d-13bf-44f5-94ac-364111bda95f"
      },
      "outputs": [
        {
          "output_type": "stream",
          "name": "stdout",
          "text": [
            "Mounted at /content/drive\n"
          ]
        }
      ],
      "source": [
        "# mount google drive  \n",
        "from google.colab import drive\n",
        "drive.mount('/content/drive')"
      ]
    },
    {
      "cell_type": "code",
      "source": [
        "# install gromacs\n",
        "!apt update\n",
        "!apt-get install gromacs"
      ],
      "metadata": {
        "colab": {
          "base_uri": "https://localhost:8080/"
        },
        "id": "OYs9Z-usLvOL",
        "outputId": "52170d90-1a2a-4a86-ce7a-7fc854aa74e0"
      },
      "execution_count": 3,
      "outputs": [
        {
          "output_type": "stream",
          "name": "stdout",
          "text": [
            "\u001b[33m\r0% [Working]\u001b[0m\r            \rGet:1 https://cloud.r-project.org/bin/linux/ubuntu bionic-cran40/ InRelease [3,626 B]\n",
            "\u001b[33m\r0% [Connecting to archive.ubuntu.com (91.189.88.142)] [Connecting to security.u\u001b[0m\u001b[33m\r0% [Connecting to archive.ubuntu.com (91.189.88.142)] [Connecting to security.u\u001b[0m\u001b[33m\r0% [1 InRelease gpgv 3,626 B] [Connecting to archive.ubuntu.com (91.189.88.142)\u001b[0m\r                                                                               \rIgn:2 https://developer.download.nvidia.com/compute/cuda/repos/ubuntu1804/x86_64  InRelease\n",
            "\u001b[33m\r0% [1 InRelease gpgv 3,626 B] [Waiting for headers] [Waiting for headers] [Wait\u001b[0m\r                                                                               \rHit:3 http://archive.ubuntu.com/ubuntu bionic InRelease\n",
            "Get:4 http://ppa.launchpad.net/c2d4u.team/c2d4u4.0+/ubuntu bionic InRelease [15.9 kB]\n",
            "Get:5 http://security.ubuntu.com/ubuntu bionic-security InRelease [88.7 kB]\n",
            "Ign:6 https://developer.download.nvidia.com/compute/machine-learning/repos/ubuntu1804/x86_64  InRelease\n",
            "Get:7 https://developer.download.nvidia.com/compute/cuda/repos/ubuntu1804/x86_64  Release [696 B]\n",
            "Hit:8 https://developer.download.nvidia.com/compute/machine-learning/repos/ubuntu1804/x86_64  Release\n",
            "Get:9 http://archive.ubuntu.com/ubuntu bionic-updates InRelease [88.7 kB]\n",
            "Get:10 https://developer.download.nvidia.com/compute/cuda/repos/ubuntu1804/x86_64  Release.gpg [836 B]\n",
            "Get:11 https://cloud.r-project.org/bin/linux/ubuntu bionic-cran40/ Packages [73.9 kB]\n",
            "Hit:12 http://ppa.launchpad.net/cran/libgit2/ubuntu bionic InRelease\n",
            "Get:13 http://archive.ubuntu.com/ubuntu bionic-backports InRelease [74.6 kB]\n",
            "Get:14 http://ppa.launchpad.net/deadsnakes/ppa/ubuntu bionic InRelease [15.9 kB]\n",
            "Hit:16 http://ppa.launchpad.net/graphics-drivers/ppa/ubuntu bionic InRelease\n",
            "Get:17 http://ppa.launchpad.net/c2d4u.team/c2d4u4.0+/ubuntu bionic/main Sources [1,821 kB]\n",
            "Get:18 https://developer.download.nvidia.com/compute/cuda/repos/ubuntu1804/x86_64  Packages [833 kB]\n",
            "Get:19 http://security.ubuntu.com/ubuntu bionic-security/restricted amd64 Packages [691 kB]\n",
            "Get:20 http://security.ubuntu.com/ubuntu bionic-security/main amd64 Packages [2,461 kB]\n",
            "Get:21 http://ppa.launchpad.net/c2d4u.team/c2d4u4.0+/ubuntu bionic/main amd64 Packages [934 kB]\n",
            "Get:22 http://security.ubuntu.com/ubuntu bionic-security/universe amd64 Packages [1,452 kB]\n",
            "Get:23 http://archive.ubuntu.com/ubuntu bionic-updates/universe amd64 Packages [2,230 kB]\n",
            "Get:24 http://archive.ubuntu.com/ubuntu bionic-updates/main amd64 Packages [2,898 kB]\n",
            "Get:25 http://archive.ubuntu.com/ubuntu bionic-backports/universe amd64 Packages [12.6 kB]\n",
            "Get:26 http://archive.ubuntu.com/ubuntu bionic-backports/main amd64 Packages [11.6 kB]\n",
            "Get:27 http://ppa.launchpad.net/deadsnakes/ppa/ubuntu bionic/main amd64 Packages [45.3 kB]\n",
            "Fetched 13.8 MB in 3s (4,334 kB/s)\n",
            "Reading package lists... Done\n",
            "Building dependency tree       \n",
            "Reading state information... Done\n",
            "82 packages can be upgraded. Run 'apt list --upgradable' to see them.\n",
            "Reading package lists... Done\n",
            "Building dependency tree       \n",
            "Reading state information... Done\n",
            "The following additional packages will be installed:\n",
            "  gromacs-data libfftw3-single3 libgromacs3\n",
            "Suggested packages:\n",
            "  pymol tcsh | c-shell libfftw3-bin libfftw3-dev\n",
            "The following NEW packages will be installed:\n",
            "  gromacs gromacs-data libfftw3-single3 libgromacs3\n",
            "0 upgraded, 4 newly installed, 0 to remove and 82 not upgraded.\n",
            "Need to get 38.4 MB of archives.\n",
            "After this operation, 178 MB of additional disk space will be used.\n",
            "Get:1 http://archive.ubuntu.com/ubuntu bionic/main amd64 libfftw3-single3 amd64 3.3.7-1 [764 kB]\n",
            "Get:2 http://archive.ubuntu.com/ubuntu bionic/universe amd64 libgromacs3 amd64 2018.1-1 [12.0 MB]\n",
            "Get:3 http://archive.ubuntu.com/ubuntu bionic/universe amd64 gromacs-data all 2018.1-1 [25.4 MB]\n",
            "Get:4 http://archive.ubuntu.com/ubuntu bionic/universe amd64 gromacs amd64 2018.1-1 [226 kB]\n",
            "Fetched 38.4 MB in 2s (21.6 MB/s)\n",
            "Selecting previously unselected package libfftw3-single3:amd64.\n",
            "(Reading database ... 155222 files and directories currently installed.)\n",
            "Preparing to unpack .../libfftw3-single3_3.3.7-1_amd64.deb ...\n",
            "Unpacking libfftw3-single3:amd64 (3.3.7-1) ...\n",
            "Selecting previously unselected package libgromacs3:amd64.\n",
            "Preparing to unpack .../libgromacs3_2018.1-1_amd64.deb ...\n",
            "Unpacking libgromacs3:amd64 (2018.1-1) ...\n",
            "Selecting previously unselected package gromacs-data.\n",
            "Preparing to unpack .../gromacs-data_2018.1-1_all.deb ...\n",
            "Unpacking gromacs-data (2018.1-1) ...\n",
            "Selecting previously unselected package gromacs.\n",
            "Preparing to unpack .../gromacs_2018.1-1_amd64.deb ...\n",
            "Unpacking gromacs (2018.1-1) ...\n",
            "Setting up gromacs-data (2018.1-1) ...\n",
            "Setting up libfftw3-single3:amd64 (3.3.7-1) ...\n",
            "Setting up libgromacs3:amd64 (2018.1-1) ...\n",
            "Setting up gromacs (2018.1-1) ...\n",
            "Processing triggers for man-db (2.8.3-2ubuntu0.1) ...\n",
            "Processing triggers for libc-bin (2.27-3ubuntu1.3) ...\n",
            "/sbin/ldconfig.real: /usr/local/lib/python3.7/dist-packages/ideep4py/lib/libmkldnn.so.0 is not a symbolic link\n",
            "\n"
          ]
        }
      ]
    },
    {
      "cell_type": "code",
      "source": [
        "# test the gromacs executable\n",
        "!gmx"
      ],
      "metadata": {
        "colab": {
          "base_uri": "https://localhost:8080/"
        },
        "id": "Ayit5RVTMEkV",
        "outputId": "a8a9a81d-5ecb-4fba-e146-cba1bb55994d"
      },
      "execution_count": 5,
      "outputs": [
        {
          "output_type": "stream",
          "name": "stdout",
          "text": [
            "                         :-) GROMACS - gmx, 2018.1 (-:\n",
            "\n",
            "                            GROMACS is written by:\n",
            "     Emile Apol      Rossen Apostolov      Paul Bauer     Herman J.C. Berendsen\n",
            "    Par Bjelkmar    Aldert van Buuren   Rudi van Drunen     Anton Feenstra  \n",
            "  Gerrit Groenhof    Aleksei Iupinov   Christoph Junghans   Anca Hamuraru   \n",
            " Vincent Hindriksen Dimitrios Karkoulis    Peter Kasson        Jiri Kraus    \n",
            "  Carsten Kutzner      Per Larsson      Justin A. Lemkul    Viveca Lindahl  \n",
            "  Magnus Lundborg   Pieter Meulenhoff    Erik Marklund      Teemu Murtola   \n",
            "    Szilard Pall       Sander Pronk      Roland Schulz     Alexey Shvetsov  \n",
            "   Michael Shirts     Alfons Sijbers     Peter Tieleman    Teemu Virolainen \n",
            " Christian Wennberg    Maarten Wolf   \n",
            "                           and the project leaders:\n",
            "        Mark Abraham, Berk Hess, Erik Lindahl, and David van der Spoel\n",
            "\n",
            "Copyright (c) 1991-2000, University of Groningen, The Netherlands.\n",
            "Copyright (c) 2001-2017, The GROMACS development team at\n",
            "Uppsala University, Stockholm University and\n",
            "the Royal Institute of Technology, Sweden.\n",
            "check out http://www.gromacs.org for more information.\n",
            "\n",
            "GROMACS is free software; you can redistribute it and/or modify it\n",
            "under the terms of the GNU Lesser General Public License\n",
            "as published by the Free Software Foundation; either version 2.1\n",
            "of the License, or (at your option) any later version.\n",
            "\n",
            "GROMACS:      gmx, version 2018.1\n",
            "Executable:   /usr/bin/gmx\n",
            "Data prefix:  /usr\n",
            "Working dir:  /content\n",
            "Command line:\n",
            "  gmx\n",
            "\n",
            "SYNOPSIS\n",
            "\n",
            "gmx [-[no]h] [-[no]quiet] [-[no]version] [-[no]copyright] [-nice <int>]\n",
            "    [-[no]backup]\n",
            "\n",
            "OPTIONS\n",
            "\n",
            "Other options:\n",
            "\n",
            " -[no]h                     (no)\n",
            "           Print help and quit\n",
            " -[no]quiet                 (no)\n",
            "           Do not print common startup info or quotes\n",
            " -[no]version               (no)\n",
            "           Print extended version information and quit\n",
            " -[no]copyright             (yes)\n",
            "           Print copyright information on startup\n",
            " -nice   <int>              (19)\n",
            "           Set the nicelevel (default depends on command)\n",
            " -[no]backup                (yes)\n",
            "           Write backups if output files exist\n",
            "\n",
            "Additional help is available on the following topics:\n",
            "    commands    List of available commands\n",
            "    selections  Selection syntax and usage\n",
            "To access the help, use 'gmx help <topic>'.\n",
            "For help on a command, use 'gmx help <command>'.\n",
            "\n",
            "GROMACS reminds you: \"You're About to Hurt Somebody\" (Jazzy Jeff)\n",
            "\n"
          ]
        }
      ]
    },
    {
      "cell_type": "code",
      "source": [
        "!git clone https://github.com/carlocamilloni/Structural-Bioinformatics.git"
      ],
      "metadata": {
        "colab": {
          "base_uri": "https://localhost:8080/"
        },
        "id": "8c40dtBITm23",
        "outputId": "4df86ea5-5c3c-4bb4-feb8-ac291a61482d"
      },
      "execution_count": 29,
      "outputs": [
        {
          "output_type": "stream",
          "name": "stdout",
          "text": [
            "Cloning into 'Structural-Bioinformatics'...\n",
            "remote: Enumerating objects: 64, done.\u001b[K\n",
            "remote: Counting objects: 100% (64/64), done.\u001b[K\n",
            "remote: Compressing objects: 100% (60/60), done.\u001b[K\n",
            "remote: Total 64 (delta 26), reused 6 (delta 1), pack-reused 0\u001b[K\n",
            "Unpacking objects: 100% (64/64), done.\n"
          ]
        }
      ]
    },
    {
      "cell_type": "code",
      "source": [
        "# set the path to your local task folder\n",
        "local_path='/content/drive/MyDrive/Task5'\n",
        "%cd {local_path}"
      ],
      "metadata": {
        "colab": {
          "base_uri": "https://localhost:8080/"
        },
        "id": "iERV06tGMLjh",
        "outputId": "9dbb7e99-1682-4d73-970e-7fb185ac5497"
      },
      "execution_count": 7,
      "outputs": [
        {
          "output_type": "stream",
          "name": "stdout",
          "text": [
            "/content/drive/MyDrive/Task5\n"
          ]
        }
      ]
    },
    {
      "cell_type": "markdown",
      "source": [
        "All GROMACS tools are modules of a binary named \"gmx\". To get help about any GROMACS module, you can invoke either of the following commands:\n",
        "\n",
        "gmx help (module)\n",
        "\n",
        "or\n",
        "\n",
        "gmx (module) -h\n",
        "\n",
        "where (module) is replaced by the actual name of the command you're trying to issue. A full list of GROMACS modules can be printed by\n",
        "\n",
        "gmx help commands\n",
        "\n",
        "###Units\n",
        "\n",
        "Basic units in GROMACS are \n",
        "\n",
        "Time: ps\n",
        "\n",
        "Space: nm\n",
        "\n",
        "Energy: kJ/mol\n"
      ],
      "metadata": {
        "id": "HWrRjAZyQLRC"
      }
    },
    {
      "cell_type": "markdown",
      "source": [
        "## Molecular Dynamics of a water box"
      ],
      "metadata": {
        "id": "jsdGc651RQFv"
      }
    },
    {
      "cell_type": "markdown",
      "source": [
        "In the following you will setup a MD simulation of a small water box and calculate some water property:"
      ],
      "metadata": {
        "id": "TxqqdMnORT7l"
      }
    },
    {
      "cell_type": "markdown",
      "source": [
        "### system preparation"
      ],
      "metadata": {
        "id": "-PX_FBtqTYeD"
      }
    },
    {
      "cell_type": "code",
      "source": [
        "# copy a water box file with 216 molecules in a cubic box:\n",
        "%cp /usr/share/gromacs/top/spc216.gro {local_path}"
      ],
      "metadata": {
        "id": "0UdZT-FBOJnu"
      },
      "execution_count": 14,
      "outputs": []
    },
    {
      "cell_type": "markdown",
      "source": [
        "The first step is to generate the\n",
        "\n",
        "*   Starting coordinates file\n",
        "*   Topology file that includes the choice of the force field\n",
        "\n",
        "this is done in gromacs using the tool `pdb2gmx`:"
      ],
      "metadata": {
        "id": "FZ6M993XR8WC"
      }
    },
    {
      "cell_type": "code",
      "source": [
        "# here we are using amber03 as a force field and spce as the water model:\n",
        "!gmx pdb2gmx -f spc216.gro -ff amber03 -water spce"
      ],
      "metadata": {
        "colab": {
          "base_uri": "https://localhost:8080/"
        },
        "id": "PU7oLKsxQuwE",
        "outputId": "4cbf673f-76ea-47ed-a6b2-85240560b5c8"
      },
      "execution_count": 17,
      "outputs": [
        {
          "output_type": "stream",
          "name": "stdout",
          "text": [
            "                     :-) GROMACS - gmx pdb2gmx, 2018.1 (-:\n",
            "\n",
            "                            GROMACS is written by:\n",
            "     Emile Apol      Rossen Apostolov      Paul Bauer     Herman J.C. Berendsen\n",
            "    Par Bjelkmar    Aldert van Buuren   Rudi van Drunen     Anton Feenstra  \n",
            "  Gerrit Groenhof    Aleksei Iupinov   Christoph Junghans   Anca Hamuraru   \n",
            " Vincent Hindriksen Dimitrios Karkoulis    Peter Kasson        Jiri Kraus    \n",
            "  Carsten Kutzner      Per Larsson      Justin A. Lemkul    Viveca Lindahl  \n",
            "  Magnus Lundborg   Pieter Meulenhoff    Erik Marklund      Teemu Murtola   \n",
            "    Szilard Pall       Sander Pronk      Roland Schulz     Alexey Shvetsov  \n",
            "   Michael Shirts     Alfons Sijbers     Peter Tieleman    Teemu Virolainen \n",
            " Christian Wennberg    Maarten Wolf   \n",
            "                           and the project leaders:\n",
            "        Mark Abraham, Berk Hess, Erik Lindahl, and David van der Spoel\n",
            "\n",
            "Copyright (c) 1991-2000, University of Groningen, The Netherlands.\n",
            "Copyright (c) 2001-2017, The GROMACS development team at\n",
            "Uppsala University, Stockholm University and\n",
            "the Royal Institute of Technology, Sweden.\n",
            "check out http://www.gromacs.org for more information.\n",
            "\n",
            "GROMACS is free software; you can redistribute it and/or modify it\n",
            "under the terms of the GNU Lesser General Public License\n",
            "as published by the Free Software Foundation; either version 2.1\n",
            "of the License, or (at your option) any later version.\n",
            "\n",
            "GROMACS:      gmx pdb2gmx, version 2018.1\n",
            "Executable:   /usr/bin/gmx\n",
            "Data prefix:  /usr\n",
            "Working dir:  /content/drive/My Drive/Task5\n",
            "Command line:\n",
            "  gmx pdb2gmx -f spc216.gro -ff amber03 -water spce\n",
            "\n",
            "\n",
            "Using the Amber03 force field in directory amber03.ff\n",
            "\n",
            "Opening force field file /usr/share/gromacs/top/amber03.ff/aminoacids.r2b\n",
            "Opening force field file /usr/share/gromacs/top/amber03.ff/dna.r2b\n",
            "Opening force field file /usr/share/gromacs/top/amber03.ff/rna.r2b\n",
            "Reading spc216.gro...\n",
            "Read '216H2O,WATJP01,SPC216,SPC-MODEL,300K,BOX(M)=1.86206NM,WFVG,MAR. 1984', 648 atoms\n",
            "Analyzing pdb file\n",
            "Splitting chemical chains based on TER records or chain id changing.\n",
            "There are 0 chains and 1 blocks of water and 216 residues with 648 atoms\n",
            "\n",
            "  chain  #res #atoms\n",
            "  1 ' '   216    648  (only water)\n",
            "\n",
            "No occupancies in spc216.gro\n",
            "Opening force field file /usr/share/gromacs/top/amber03.ff/atomtypes.atp\n",
            "\rAtomtype 1\rAtomtype 2\rAtomtype 3\rAtomtype 4\rAtomtype 5\rAtomtype 6\rAtomtype 7\rAtomtype 8\rAtomtype 9\rAtomtype 10\rAtomtype 11\rAtomtype 12\rAtomtype 13\rAtomtype 14\rAtomtype 15\rAtomtype 16\rAtomtype 17\rAtomtype 18\rAtomtype 19\rAtomtype 20\rAtomtype 21\rAtomtype 22\rAtomtype 23\rAtomtype 24\rAtomtype 25\rAtomtype 26\rAtomtype 27\rAtomtype 28\rAtomtype 29\rAtomtype 30\rAtomtype 31\rAtomtype 32\rAtomtype 33\rAtomtype 34\rAtomtype 35\rAtomtype 36\rAtomtype 37\rAtomtype 38\rAtomtype 39\rAtomtype 40\rAtomtype 41\rAtomtype 42\rAtomtype 43\rAtomtype 44\rAtomtype 45\rAtomtype 46\rAtomtype 47\rAtomtype 48\rAtomtype 49\rAtomtype 50\rAtomtype 51\rAtomtype 52\rAtomtype 53\rAtomtype 54\rAtomtype 55\rAtomtype 56\rAtomtype 57\rAtomtype 58\rAtomtype 59\rAtomtype 60\rAtomtype 61\rAtomtype 62\rAtomtype 63\rAtomtype 64\rAtomtype 65\rAtomtype 66\rAtomtype 67\rAtomtype 68\n",
            "Reading residue database... (amber03)\n",
            "Opening force field file /usr/share/gromacs/top/amber03.ff/aminoacids.rtp\n",
            "\rResidue 1\rResidue 2\rResidue 3\rResidue 4\rResidue 5\rResidue 6\rResidue 7\rResidue 8\rResidue 9\rResidue 10\rResidue 11\rResidue 12\rResidue 13\rResidue 14\rResidue 15\rResidue 16\rResidue 17\rResidue 18\rResidue 19\rResidue 20\rResidue 21\rResidue 22\rResidue 23\rResidue 24\rResidue 25\rResidue 26\rResidue 27\rResidue 28\rResidue 29\rResidue 30\rResidue 31\rResidue 32\rResidue 33\rResidue 34\rResidue 35\rResidue 36\rResidue 37\rResidue 38\rResidue 39\rResidue 40\rResidue 41\rResidue 42\rResidue 43\rResidue 44\rResidue 45\rResidue 46\rResidue 47\rResidue 48\rResidue 49\rResidue 50\rResidue 51\rResidue 52\rResidue 53\rResidue 54\rResidue 55\rResidue 56\rResidue 57\rResidue 58\rResidue 59\rResidue 60\rResidue 61\rResidue 62\rResidue 63\rResidue 64\rResidue 65\rResidue 66\rResidue 67\rResidue 68\rResidue 69\rResidue 70\rResidue 71\rResidue 72\rResidue 73\rResidue 74\rResidue 75\rResidue 76\rResidue 77\rResidue 78\rResidue 79\rResidue 80\rResidue 81\rResidue 82\rResidue 83\rResidue 84\rResidue 85\rResidue 86\rResidue 87\rResidue 88\rResidue 89\rResidue 90\rResidue 91\rResidue 92\rResidue 93\n",
            "Sorting it all out...\n",
            "Opening force field file /usr/share/gromacs/top/amber03.ff/dna.rtp\n",
            "\rResidue 94\rResidue 95\rResidue 96\rResidue 97\rResidue 98\rResidue 99\rResidue 100\rResidue 101\rResidue 102\rResidue 103\rResidue 104\rResidue 105\rResidue 106\rResidue 107\rResidue 108\rResidue 109\n",
            "Sorting it all out...\n",
            "Opening force field file /usr/share/gromacs/top/amber03.ff/rna.rtp\n",
            "\rResidue 110\rResidue 111\rResidue 112\rResidue 113\rResidue 114\rResidue 115\rResidue 116\rResidue 117\rResidue 118\rResidue 119\rResidue 120\rResidue 121\rResidue 122\rResidue 123\rResidue 124\rResidue 125\n",
            "Sorting it all out...\n",
            "Opening force field file /usr/share/gromacs/top/amber03.ff/aminoacids.hdb\n",
            "Opening force field file /usr/share/gromacs/top/amber03.ff/dna.hdb\n",
            "Opening force field file /usr/share/gromacs/top/amber03.ff/rna.hdb\n",
            "Opening force field file /usr/share/gromacs/top/amber03.ff/aminoacids.n.tdb\n",
            "Opening force field file /usr/share/gromacs/top/amber03.ff/aminoacids.c.tdb\n",
            "Processing chain 1 (648 atoms, 216 residues)\n",
            "Problem with chain definition, or missing terminal residues.\n",
            "This chain does not appear to contain a recognized chain molecule.\n",
            "If this is incorrect, you can edit residuetypes.dat to modify the behavior.\n",
            "8 out of 8 lines of specbond.dat converted successfully\n",
            "Opening force field file /usr/share/gromacs/top/amber03.ff/aminoacids.arn\n",
            "Opening force field file /usr/share/gromacs/top/amber03.ff/dna.arn\n",
            "Opening force field file /usr/share/gromacs/top/amber03.ff/rna.arn\n",
            "Checking for duplicate atoms....\n",
            "Generating any missing hydrogen atoms and/or adding termini.\n",
            "Now there are 216 residues with 648 atoms\n",
            "Making bonds...\n",
            "Number of bonds was 432, now 432\n",
            "Generating angles, dihedrals and pairs...\n",
            "Making cmap torsions...\n",
            "There are    0 dihedrals,    0 impropers,  216 angles\n",
            "             0 pairs,      432 bonds and     0 virtual sites\n",
            "Total mass 3891.456 a.m.u.\n",
            "Total charge 0.000 e\n",
            "\n",
            "Writing coordinate file...\n",
            "\t\t--------- PLEASE NOTE ------------\n",
            "You have successfully generated a topology from: spc216.gro.\n",
            "The Amber03 force field and the spce water model are used.\n",
            "\t\t--------- ETON ESAELP ------------\n",
            "\n",
            "GROMACS reminds you: \"Hey Man You Know, I'm Really OK\" (Offspring)\n",
            "\n"
          ]
        }
      ]
    },
    {
      "cell_type": "code",
      "source": [
        "ls"
      ],
      "metadata": {
        "colab": {
          "base_uri": "https://localhost:8080/"
        },
        "id": "xxif0IyuRzhI",
        "outputId": "c3536b80-f64f-4437-b406-1910a6e8f2e5"
      },
      "execution_count": 18,
      "outputs": [
        {
          "output_type": "stream",
          "name": "stdout",
          "text": [
            "conf.gro  spc216.gro  topol.top\n"
          ]
        }
      ]
    },
    {
      "cell_type": "markdown",
      "source": [
        "There should be two new files: \n",
        "\n",
        "* conf.gro: starting coordinates in gromacs format\n",
        "* topol.top: topology file including relevant parameters and force-field choice.\n",
        "\n",
        "If you open topol.top (these are all text files) you can see that is very simple in this case."
      ],
      "metadata": {
        "id": "hfFK7Nc0SV4Z"
      }
    },
    {
      "cell_type": "markdown",
      "source": [
        "In principle now we should generate the box, but in this case we are already starting from a box of water molecules, you can see the box size at the bottom of the conf.gro file:"
      ],
      "metadata": {
        "id": "t1ukvjkAS54g"
      }
    },
    {
      "cell_type": "code",
      "source": [
        "!tail conf.gro"
      ],
      "metadata": {
        "colab": {
          "base_uri": "https://localhost:8080/"
        },
        "id": "VNi2_Ox9SUZd",
        "outputId": "c9c5f1f2-fe14-49f9-8c9b-db6710108555"
      },
      "execution_count": 19,
      "outputs": [
        {
          "output_type": "stream",
          "name": "stdout",
          "text": [
            "  214HOH     OW  640  -0.269   0.221   0.882\n",
            "  214HOH    HW1  641  -0.353   0.220   0.936\n",
            "  214HOH    HW2  642  -0.267   0.304   0.826\n",
            "  215HOH     OW  643   0.039  -0.785   0.300\n",
            "  215HOH    HW1  644   0.138  -0.796   0.291\n",
            "  215HOH    HW2  645  -0.001  -0.871   0.332\n",
            "  216HOH     OW  646   0.875  -0.216   0.337\n",
            "  216HOH    HW1  647   0.798  -0.251   0.283\n",
            "  216HOH    HW2  648   0.843  -0.145   0.399\n",
            "   1.86206   1.86206   1.86206\n"
          ]
        }
      ]
    },
    {
      "cell_type": "markdown",
      "source": [
        "box: 1.86206   1.86206   1.86206\n",
        "\n",
        "This means that is a cubic box of side 1.862 etc"
      ],
      "metadata": {
        "id": "JJ4pspmaTEk9"
      }
    },
    {
      "cell_type": "markdown",
      "source": [
        "### energy minimization:"
      ],
      "metadata": {
        "id": "yS5I8ie6TSgF"
      }
    },
    {
      "cell_type": "code",
      "source": [
        "# to perform simulations we also need a simulation parameter file\n",
        "!cp /content/drive/MyDrive/Structural-Bioinformatics/md/mdps/0-em-steep.mdp {local_path}"
      ],
      "metadata": {
        "id": "Db6pjhkjTC8M"
      },
      "execution_count": 30,
      "outputs": []
    },
    {
      "cell_type": "code",
      "source": [
        "#then we need to generate a simulation package file that put togheter the starting configuration, the topology and the simulation parameter file:\n",
        "!gmx grompp -f 0-em-steep.mdp -c conf.gro -p topol.top -o em.tpr"
      ],
      "metadata": {
        "colab": {
          "base_uri": "https://localhost:8080/"
        },
        "id": "ut7gIYTqTRJr",
        "outputId": "3c04b0ad-b570-4bda-d141-b9bac7e77b19"
      },
      "execution_count": 31,
      "outputs": [
        {
          "output_type": "stream",
          "name": "stdout",
          "text": [
            "                      :-) GROMACS - gmx grompp, 2018.1 (-:\n",
            "\n",
            "                            GROMACS is written by:\n",
            "     Emile Apol      Rossen Apostolov      Paul Bauer     Herman J.C. Berendsen\n",
            "    Par Bjelkmar    Aldert van Buuren   Rudi van Drunen     Anton Feenstra  \n",
            "  Gerrit Groenhof    Aleksei Iupinov   Christoph Junghans   Anca Hamuraru   \n",
            " Vincent Hindriksen Dimitrios Karkoulis    Peter Kasson        Jiri Kraus    \n",
            "  Carsten Kutzner      Per Larsson      Justin A. Lemkul    Viveca Lindahl  \n",
            "  Magnus Lundborg   Pieter Meulenhoff    Erik Marklund      Teemu Murtola   \n",
            "    Szilard Pall       Sander Pronk      Roland Schulz     Alexey Shvetsov  \n",
            "   Michael Shirts     Alfons Sijbers     Peter Tieleman    Teemu Virolainen \n",
            " Christian Wennberg    Maarten Wolf   \n",
            "                           and the project leaders:\n",
            "        Mark Abraham, Berk Hess, Erik Lindahl, and David van der Spoel\n",
            "\n",
            "Copyright (c) 1991-2000, University of Groningen, The Netherlands.\n",
            "Copyright (c) 2001-2017, The GROMACS development team at\n",
            "Uppsala University, Stockholm University and\n",
            "the Royal Institute of Technology, Sweden.\n",
            "check out http://www.gromacs.org for more information.\n",
            "\n",
            "GROMACS is free software; you can redistribute it and/or modify it\n",
            "under the terms of the GNU Lesser General Public License\n",
            "as published by the Free Software Foundation; either version 2.1\n",
            "of the License, or (at your option) any later version.\n",
            "\n",
            "GROMACS:      gmx grompp, version 2018.1\n",
            "Executable:   /usr/bin/gmx\n",
            "Data prefix:  /usr\n",
            "Working dir:  /content/drive/My Drive/Task5\n",
            "Command line:\n",
            "  gmx grompp -f 0-em-steep.mdp -c conf.gro -p topol.top -o em.tpr\n",
            "\n",
            "\n",
            "NOTE 1 [file 0-em-steep.mdp]:\n",
            "  With Verlet lists the optimal nstlist is >= 10, with GPUs >= 20. Note\n",
            "  that with the Verlet scheme, nstlist has no effect on the accuracy of\n",
            "  your simulation.\n",
            "\n",
            "Setting the LD random seed to 852293659\n",
            "Generated 2278 of the 2278 non-bonded parameter combinations\n",
            "Generating 1-4 interactions: fudge = 0.5\n",
            "Generated 2278 of the 2278 1-4 parameter combinations\n",
            "Excluding 2 bonded neighbours molecule type 'SOL'\n",
            "Removing all charge groups because cutoff-scheme=Verlet\n",
            "Analysing residue names:\n",
            "There are:   216      Water residues\n",
            "Number of degrees of freedom in T-Coupling group rest is 1941.00\n",
            "Calculating fourier grid dimensions for X Y Z\n",
            "Using a fourier grid of 16x16x16, spacing 0.116 0.116 0.116\n",
            "Estimate for the relative computational load of the PME mesh part: 0.20\n",
            "This run will generate roughly 0 Mb of data\n",
            "\n",
            "There was 1 note\n",
            "\n",
            "GROMACS reminds you: \"Hold On Like Cliffhanger\" (Urban Dance Squad)\n",
            "\n"
          ]
        }
      ]
    },
    {
      "cell_type": "code",
      "source": [
        "#run the energy minimization:\n",
        "!gmx mdrun -s em.tpr -v"
      ],
      "metadata": {
        "colab": {
          "base_uri": "https://localhost:8080/"
        },
        "id": "RNdnTSC1UUMc",
        "outputId": "de0ec469-5840-4c8c-9aee-e201660ff184"
      },
      "execution_count": 33,
      "outputs": [
        {
          "output_type": "stream",
          "name": "stdout",
          "text": [
            "                      :-) GROMACS - gmx mdrun, 2018.1 (-:\n",
            "\n",
            "                            GROMACS is written by:\n",
            "     Emile Apol      Rossen Apostolov      Paul Bauer     Herman J.C. Berendsen\n",
            "    Par Bjelkmar    Aldert van Buuren   Rudi van Drunen     Anton Feenstra  \n",
            "  Gerrit Groenhof    Aleksei Iupinov   Christoph Junghans   Anca Hamuraru   \n",
            " Vincent Hindriksen Dimitrios Karkoulis    Peter Kasson        Jiri Kraus    \n",
            "  Carsten Kutzner      Per Larsson      Justin A. Lemkul    Viveca Lindahl  \n",
            "  Magnus Lundborg   Pieter Meulenhoff    Erik Marklund      Teemu Murtola   \n",
            "    Szilard Pall       Sander Pronk      Roland Schulz     Alexey Shvetsov  \n",
            "   Michael Shirts     Alfons Sijbers     Peter Tieleman    Teemu Virolainen \n",
            " Christian Wennberg    Maarten Wolf   \n",
            "                           and the project leaders:\n",
            "        Mark Abraham, Berk Hess, Erik Lindahl, and David van der Spoel\n",
            "\n",
            "Copyright (c) 1991-2000, University of Groningen, The Netherlands.\n",
            "Copyright (c) 2001-2017, The GROMACS development team at\n",
            "Uppsala University, Stockholm University and\n",
            "the Royal Institute of Technology, Sweden.\n",
            "check out http://www.gromacs.org for more information.\n",
            "\n",
            "GROMACS is free software; you can redistribute it and/or modify it\n",
            "under the terms of the GNU Lesser General Public License\n",
            "as published by the Free Software Foundation; either version 2.1\n",
            "of the License, or (at your option) any later version.\n",
            "\n",
            "GROMACS:      gmx mdrun, version 2018.1\n",
            "Executable:   /usr/bin/gmx\n",
            "Data prefix:  /usr\n",
            "Working dir:  /content/drive/My Drive/Task5\n",
            "Command line:\n",
            "  gmx mdrun -s em.tpr -v\n",
            "\n",
            "Compiled SIMD: SSE2, but for this host/run AVX2_256 might be better (see log).\n",
            "The current CPU can measure timings more accurately than the code in\n",
            "gmx mdrun was configured to use. This might affect your simulation\n",
            "speed as accurate timings are needed for load-balancing.\n",
            "Please consider rebuilding gmx mdrun with the GMX_USE_RDTSCP=ON CMake option.\n",
            "Reading file em.tpr, VERSION 2018.1 (single precision)\n",
            "\n",
            "Using 1 MPI thread\n",
            "Using 2 OpenMP threads \n",
            "\n",
            "\n",
            "Steepest Descents:\n",
            "   Tolerance (Fmax)   =  1.00000e+03\n",
            "   Number of steps    =           -1\n",
            "Step=    0, Dmax= 1.0e-02 nm, Epot= -9.96479e+03 Fmax= 2.86394e+03, atom= 223\n",
            "Step=    1, Dmax= 1.0e-02 nm, Epot= -9.94208e+03 Fmax= 3.36459e+03, atom= 469\rStep=    2, Dmax= 5.0e-03 nm, Epot= -1.07295e+04 Fmax= 9.15778e+02, atom= 497\n",
            "\n",
            "writing lowest energy coordinates.\n",
            "\n",
            "Steepest Descents converged to Fmax < 1000 in 3 steps\n",
            "Potential Energy  = -1.0729543e+04\n",
            "Maximum force     =  9.1577759e+02 on atom 497\n",
            "Norm of force     =  3.3385553e+02\n",
            "\n",
            "GROMACS reminds you: \"Our struggle today is not to have a female Einstein get appointed as an assistant professor. It is for a woman schlemiel to get as quickly promoted as a male schlemiel.\" (Bella Abzug)\n",
            "\n"
          ]
        }
      ]
    },
    {
      "cell_type": "markdown",
      "source": [
        "### MD"
      ],
      "metadata": {
        "id": "QUrghqx7XkYV"
      }
    },
    {
      "cell_type": "code",
      "source": [
        "#now we are ready to setup the first simple MD\n",
        "!cp ../Structural-Bioinformatics/md/mdps/npt-water.mdp {local_path}"
      ],
      "metadata": {
        "id": "2HqbuLXqWA0A"
      },
      "execution_count": 36,
      "outputs": []
    },
    {
      "cell_type": "code",
      "source": [
        "%cd {local_path}\n",
        "#look into the paramter file, can you find \n",
        "# how long is it?\n",
        "# at which temperature and pressure we are gonna running it?\n",
        "!cat npt-water.mdp "
      ],
      "metadata": {
        "colab": {
          "base_uri": "https://localhost:8080/"
        },
        "id": "d0_wZ6lPXRfM",
        "outputId": "b160094f-9e08-4628-fe0c-c2afffedc4aa"
      },
      "execution_count": 46,
      "outputs": [
        {
          "output_type": "stream",
          "name": "stdout",
          "text": [
            "/content/drive/MyDrive/Task5\n",
            "; VARIOUS PREPROCESSING OPTIONS\n",
            "; Preprocessor information: use cpp syntax.\n",
            "; e.g.: -I/home/joe/doe -I/home/mary/roe\n",
            "include                  = \n",
            "; e.g.: -DPOSRES -DFLEXIBLE (note these variable names are case sensitive)\n",
            "define                   = \n",
            "\n",
            "; RUN CONTROL PARAMETERS\n",
            "integrator               = md\n",
            "; Start time and timestep in ps\n",
            "tinit                    = 0\n",
            "dt                       = 0.002\n",
            "nsteps                   = 250000\n",
            "; For exact run continuation or redoing part of a run\n",
            "init_step                = 0\n",
            "; Part index is updated automatically on checkpointing (keeps files separate)\n",
            "simulation_part          = 1\n",
            "; mode for center of mass motion removal\n",
            "comm-mode                = Linear\n",
            "; number of steps for center of mass motion removal\n",
            "nstcomm                  = 100\n",
            "; group(s) for center of mass motion removal\n",
            "comm-grps                = \n",
            "\n",
            "; OUTPUT CONTROL OPTIONS\n",
            "; Output frequency for coords (x), velocities (v) and forces (f)\n",
            "nstxout                  = 500000\n",
            "nstvout                  = 500000\n",
            "nstfout                  = 0\n",
            "; Output frequency for energies to log file and energy file\n",
            "nstlog                   = 500000\n",
            "nstcalcenergy            = -1\n",
            "nstenergy                = 25000\n",
            "; Output frequency and precision for .xtc file\n",
            "nstxout-compressed       = 25000\n",
            "compressed-x-precision   = 1000\n",
            "; This selects the subset of atoms for the compressed\n",
            "; trajectory file. You can select multiple groups. By\n",
            "; default, all atoms will be written.\n",
            "compressed-x-grps        = system \n",
            "; Selection of energy groups\n",
            "energygrps               = \n",
            "\n",
            "; NEIGHBORSEARCHING PARAMETERS\n",
            "; cut-off scheme (Verlet: particle based cut-offs)\n",
            "cutoff-scheme            = Verlet\n",
            "; nblist update frequency\n",
            "nstlist                  = 20\n",
            "; Periodic boundary conditions: xyz, no, xy\n",
            "pbc                      = xyz\n",
            "periodic_molecules       = no\n",
            "; Allowed energy error due to the Verlet buffer in kJ/mol/ps per atom,\n",
            "; a value of -1 means: use rlist\n",
            "verlet-buffer-tolerance  = 0.005\n",
            "; nblist cut-off        \n",
            "rlist                    = 0.8\n",
            "\n",
            "; OPTIONS FOR ELECTROSTATICS AND VDW\n",
            "; Method for doing electrostatics\n",
            "coulombtype              = pme\n",
            "coulomb-modifier         = Potential-shift\n",
            "rcoulomb-switch          = 0\n",
            "rcoulomb                 = 0.8\n",
            "; Relative dielectric constant for the medium and the reaction field\n",
            "epsilon_r                = 1\n",
            "epsilon_rf               = 1\n",
            "; Method for doing Van der Waals\n",
            "vdw-type                 = cut-off\n",
            "vdw-modifier             = Potential-shift\n",
            "; cut-off lengths       \n",
            "rvdw-switch              = 0\n",
            "rvdw                     = 0.8\n",
            "; Apply long range dispersion corrections for Energy and Pressure\n",
            "DispCorr                 = EnerPres \n",
            "; Extension of the potential lookup tables beyond the cut-off\n",
            "table-extension          = 1\n",
            "; Separate tables between energy group pairs\n",
            "energygrp-table          = \n",
            "; Spacing for the PME/PPPM FFT grid\n",
            "fourierspacing           = 0.12\n",
            "; FFT grid size, when a value is 0 fourierspacing will be used\n",
            "fourier_nx               = 0\n",
            "fourier_ny               = 0\n",
            "fourier_nz               = 0\n",
            "; EWALD/PME/PPPM parameters\n",
            "pme_order                = 4\n",
            "ewald_rtol               = 1e-05\n",
            "ewald-rtol-lj            = 0.001\n",
            "lj-pme-comb-rule         = Geometric\n",
            "ewald_geometry           = 3d\n",
            "epsilon_surface          = 0\n",
            "\n",
            "; OPTIONS FOR WEAK COUPLING ALGORITHMS\n",
            "; Temperature coupling  \n",
            "Tcoupl                   = v-rescale\n",
            "nsttcouple               = -1\n",
            "nh-chain-length          = 10\n",
            "print-nose-hoover-chain-variables = no\n",
            "; Groups to couple separately\n",
            "tc-grps                  = system\n",
            "; Time constant (ps) and reference temperature (K)\n",
            "tau_t                    = 0.2\n",
            "ref_t                    = 293 \n",
            "; pressure coupling     \n",
            "Pcoupl                   = berendsen \n",
            "Pcoupltype               = isotropic\n",
            "nstpcouple               = -1\n",
            "; Time constant (ps), compressibility (1/bar) and reference P (bar)\n",
            "tau_p                    = 1.0\n",
            "compressibility          = 4.5e-5\n",
            "ref_p                    = 1.0\n",
            "; Scaling of reference coordinates, No, All or COM\n",
            "refcoord_scaling         = No\n",
            "\n",
            "; GENERATE VELOCITIES FOR STARTUP RUN\n",
            "gen_vel                  = yes\n",
            "gen_temp                 = 293\n",
            "gen_seed                 = -1\n",
            "\n",
            "; OPTIONS FOR BONDS    \n",
            "constraints              = h-bonds\n",
            "; Type of constraint algorithm\n",
            "constraint-algorithm     = Lincs\n",
            "; Do not constrain the start configuration\n",
            "continuation             = no\n",
            "; Use successive overrelaxation to reduce the number of shake iterations\n",
            "Shake-SOR                = no\n",
            "; Relative tolerance of shake\n",
            "shake-tol                = 0.0001\n",
            "; Highest order in the expansion of the constraint coupling matrix\n",
            "lincs-order              = 6\n",
            "; Number of iterations in the final step of LINCS. 1 is fine for\n",
            "; normal simulations, but use 2 to conserve energy in NVE runs.\n",
            "; For energy minimization with constraints it should be 4 to 8.\n",
            "lincs-iter               = 2\n",
            "; Lincs will write a warning to the stderr if in one step a bond\n",
            "; rotates over more degrees than\n",
            "lincs-warnangle          = 30\n",
            "; Convert harmonic bonds to morse potentials\n",
            "morse                    = no\n",
            "\n"
          ]
        }
      ]
    },
    {
      "cell_type": "code",
      "source": [
        "#preparation\n",
        "!gmx grompp -f npt-water -c confout -p topol -o md-water.tpr"
      ],
      "metadata": {
        "colab": {
          "base_uri": "https://localhost:8080/"
        },
        "id": "loUKcSfCX4RP",
        "outputId": "48608fe2-cd14-45c9-acd2-b8ddb2668d89"
      },
      "execution_count": 47,
      "outputs": [
        {
          "output_type": "stream",
          "name": "stdout",
          "text": [
            "                      :-) GROMACS - gmx grompp, 2018.1 (-:\n",
            "\n",
            "                            GROMACS is written by:\n",
            "     Emile Apol      Rossen Apostolov      Paul Bauer     Herman J.C. Berendsen\n",
            "    Par Bjelkmar    Aldert van Buuren   Rudi van Drunen     Anton Feenstra  \n",
            "  Gerrit Groenhof    Aleksei Iupinov   Christoph Junghans   Anca Hamuraru   \n",
            " Vincent Hindriksen Dimitrios Karkoulis    Peter Kasson        Jiri Kraus    \n",
            "  Carsten Kutzner      Per Larsson      Justin A. Lemkul    Viveca Lindahl  \n",
            "  Magnus Lundborg   Pieter Meulenhoff    Erik Marklund      Teemu Murtola   \n",
            "    Szilard Pall       Sander Pronk      Roland Schulz     Alexey Shvetsov  \n",
            "   Michael Shirts     Alfons Sijbers     Peter Tieleman    Teemu Virolainen \n",
            " Christian Wennberg    Maarten Wolf   \n",
            "                           and the project leaders:\n",
            "        Mark Abraham, Berk Hess, Erik Lindahl, and David van der Spoel\n",
            "\n",
            "Copyright (c) 1991-2000, University of Groningen, The Netherlands.\n",
            "Copyright (c) 2001-2017, The GROMACS development team at\n",
            "Uppsala University, Stockholm University and\n",
            "the Royal Institute of Technology, Sweden.\n",
            "check out http://www.gromacs.org for more information.\n",
            "\n",
            "GROMACS is free software; you can redistribute it and/or modify it\n",
            "under the terms of the GNU Lesser General Public License\n",
            "as published by the Free Software Foundation; either version 2.1\n",
            "of the License, or (at your option) any later version.\n",
            "\n",
            "GROMACS:      gmx grompp, version 2018.1\n",
            "Executable:   /usr/bin/gmx\n",
            "Data prefix:  /usr\n",
            "Working dir:  /content/drive/MyDrive/Task5\n",
            "Command line:\n",
            "  gmx grompp -f npt-water -c confout -p topol -o md-water.tpr\n",
            "\n",
            "Setting the LD random seed to 2067201095\n",
            "Generated 2278 of the 2278 non-bonded parameter combinations\n",
            "Generating 1-4 interactions: fudge = 0.5\n",
            "Generated 2278 of the 2278 1-4 parameter combinations\n",
            "Excluding 2 bonded neighbours molecule type 'SOL'\n",
            "turning H bonds into constraints...\n",
            "Setting gen_seed to -1963265660\n",
            "Velocities were taken from a Maxwell distribution at 293 K\n",
            "Removing all charge groups because cutoff-scheme=Verlet\n",
            "Analysing residue names:\n",
            "There are:   216      Water residues\n",
            "Number of degrees of freedom in T-Coupling group System is 1293.00\n",
            "Determining Verlet buffer for a tolerance of 0.005 kJ/mol/ps at 293 K\n",
            "Calculated rlist for 1x1 atom pair-list as 0.904 nm, buffer size 0.104 nm\n",
            "Set rlist, assuming 4x4 atom pair-list, to 0.838 nm, buffer size 0.038 nm\n",
            "Note that mdrun will redetermine rlist based on the actual pair-list setup\n",
            "Calculating fourier grid dimensions for X Y Z\n",
            "Using a fourier grid of 16x16x16, spacing 0.116 0.116 0.116\n",
            "Estimate for the relative computational load of the PME mesh part: 0.24\n",
            "This run will generate roughly 0 Mb of data\n",
            "\n",
            "Back Off! I just backed up md-water.tpr to ./#md-water.tpr.2#\n",
            "\n",
            "GROMACS reminds you: \"Isn’t this enough? Just this world? Just this beautiful, complex wonderfully unfathomable world? How does it so fail to hold our attention that we have to diminish it with the invention of cheap, man-made myths and monsters?\" (Tim Minchin)\n",
            "\n"
          ]
        }
      ]
    },
    {
      "cell_type": "code",
      "source": [
        "!gmx mdrun -v -deffnm md-water"
      ],
      "metadata": {
        "colab": {
          "base_uri": "https://localhost:8080/"
        },
        "id": "tJD8Lje8YiEF",
        "outputId": "8d5ed8be-85f5-4c45-cc6b-96bf1cf40421"
      },
      "execution_count": 48,
      "outputs": [
        {
          "output_type": "stream",
          "name": "stdout",
          "text": [
            "                      :-) GROMACS - gmx mdrun, 2018.1 (-:\n",
            "\n",
            "                            GROMACS is written by:\n",
            "     Emile Apol      Rossen Apostolov      Paul Bauer     Herman J.C. Berendsen\n",
            "    Par Bjelkmar    Aldert van Buuren   Rudi van Drunen     Anton Feenstra  \n",
            "  Gerrit Groenhof    Aleksei Iupinov   Christoph Junghans   Anca Hamuraru   \n",
            " Vincent Hindriksen Dimitrios Karkoulis    Peter Kasson        Jiri Kraus    \n",
            "  Carsten Kutzner      Per Larsson      Justin A. Lemkul    Viveca Lindahl  \n",
            "  Magnus Lundborg   Pieter Meulenhoff    Erik Marklund      Teemu Murtola   \n",
            "    Szilard Pall       Sander Pronk      Roland Schulz     Alexey Shvetsov  \n",
            "   Michael Shirts     Alfons Sijbers     Peter Tieleman    Teemu Virolainen \n",
            " Christian Wennberg    Maarten Wolf   \n",
            "                           and the project leaders:\n",
            "        Mark Abraham, Berk Hess, Erik Lindahl, and David van der Spoel\n",
            "\n",
            "Copyright (c) 1991-2000, University of Groningen, The Netherlands.\n",
            "Copyright (c) 2001-2017, The GROMACS development team at\n",
            "Uppsala University, Stockholm University and\n",
            "the Royal Institute of Technology, Sweden.\n",
            "check out http://www.gromacs.org for more information.\n",
            "\n",
            "GROMACS is free software; you can redistribute it and/or modify it\n",
            "under the terms of the GNU Lesser General Public License\n",
            "as published by the Free Software Foundation; either version 2.1\n",
            "of the License, or (at your option) any later version.\n",
            "\n",
            "GROMACS:      gmx mdrun, version 2018.1\n",
            "Executable:   /usr/bin/gmx\n",
            "Data prefix:  /usr\n",
            "Working dir:  /content/drive/My Drive/Task5\n",
            "Command line:\n",
            "  gmx mdrun -v -deffnm md-water\n",
            "\n",
            "Compiled SIMD: SSE2, but for this host/run AVX2_256 might be better (see log).\n",
            "The current CPU can measure timings more accurately than the code in\n",
            "gmx mdrun was configured to use. This might affect your simulation\n",
            "speed as accurate timings are needed for load-balancing.\n",
            "Please consider rebuilding gmx mdrun with the GMX_USE_RDTSCP=ON CMake option.\n",
            "Reading file md-water.tpr, VERSION 2018.1 (single precision)\n",
            "Changing nstlist from 20 to 25, rlist from 0.838 to 0.858\n",
            "\n",
            "\n",
            "Using 1 MPI thread\n",
            "Using 2 OpenMP threads \n",
            "\n",
            "starting mdrun '216H2O,WATJP01,SPC216,SPC-MODEL,300K,BOX(M)=1.86206NM,WFVG,MAR. 1984'\n",
            "250000 steps,    500.0 ps.\n",
            "step 249900, remaining wall clock time:     0 s          \n",
            "Writing final coordinates.\n",
            "step 250000, remaining wall clock time:     0 s          \n",
            "               Core t (s)   Wall t (s)        (%)\n",
            "       Time:      352.758      176.379      200.0\n",
            "                 (ns/day)    (hour/ns)\n",
            "Performance:      244.928        0.098\n",
            "\n",
            "GROMACS reminds you: \"Ich war schwanger, mir gings zum kotzen\" (Nina Hagen)\n",
            "\n"
          ]
        }
      ]
    },
    {
      "cell_type": "markdown",
      "source": [
        "### Visualisation"
      ],
      "metadata": {
        "id": "E4s27ud_ZEzK"
      }
    },
    {
      "cell_type": "markdown",
      "source": [
        "### Analysis"
      ],
      "metadata": {
        "id": "TaY8qCQqZGuP"
      }
    },
    {
      "cell_type": "code",
      "source": [
        "%cd ../Structural-Bioinformatics/\n",
        "!git pull\n",
        "%cd {local_path}"
      ],
      "metadata": {
        "colab": {
          "base_uri": "https://localhost:8080/"
        },
        "id": "nKmolpZtW70n",
        "outputId": "e2d6c4d6-eaef-428f-8ada-115d7b522d49"
      },
      "execution_count": 39,
      "outputs": [
        {
          "output_type": "stream",
          "name": "stdout",
          "text": [
            "/content/drive/My Drive/Structural-Bioinformatics\n",
            "Already up to date.\n",
            "/content/drive/MyDrive/Task5\n"
          ]
        }
      ]
    },
    {
      "cell_type": "code",
      "source": [
        ""
      ],
      "metadata": {
        "id": "TXEEj9uwW-ni"
      },
      "execution_count": null,
      "outputs": []
    }
  ]
}